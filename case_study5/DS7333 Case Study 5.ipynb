{
 "cells": [
  {
   "cell_type": "markdown",
   "id": "5885e109",
   "metadata": {},
   "source": [
    "# Case Study 5: SVM and SGD On Internet Connection Requests\n",
    "\n",
    "### Team Members:\n",
    "- Benjamin Goodwin\n",
    "- Lijju Mathew\n",
    "- Pradeep Kumar\n",
    "- Sid Swarupananda"
   ]
  },
  {
   "cell_type": "markdown",
   "id": "780d8961",
   "metadata": {},
   "source": [
    "# Business Understanding\n",
    "\n",
    "We have been requested to use SVM and SGD to attempt to model and predict the class of an internet connection request.  Lets talk about this in more detail, When you type an address such as wikipedia.org into your browser, you are commanding it to open a TCP channel to the server that responds to that URL (or Uniform Resource Locator, which you can read more about on Wikipedia). A URL is like your home address or phone number because it describes how to reach you.\n",
    "\n",
    "In this situation, your computer, which is making the request, is called the client. The URL you are requesting is the address that belongs to the server.\n",
    "\n",
    "Once the TCP connection is established, the client sends a HTTP GET request to the server to retrieve the webpage it should display. After the server has sent the response, it closes the TCP connection. If you open the website in your browser again, or if your browser automatically requests something from the server, a new connection is opened which follows the same process described above. GET requests are one kind of HTTP method a client can call. You can learn more about the other common ones (POST, PUT and DELETE) in this article.\n",
    "\n",
    "(Source: https://www.codecademy.com/articles/http-requests) \n",
    "\n",
    "We are concerned with this topic, because although the example above describes a real request, what about the case where the request has malicious intent?  This is the case we are interested in, whether or not we should allow or deny a given request.  Given our large amount of data, we plan to train some models and assess legitmacy of requests. "
   ]
  },
  {
   "cell_type": "code",
   "execution_count": 63,
   "id": "ab9dcd4a",
   "metadata": {},
   "outputs": [],
   "source": [
    "############################################\n",
    "###### Import required Python packages #####\n",
    "############################################\n",
    "\n",
    "import os\n",
    "import pandas as pd\n",
    "import re\n",
    "import datetime as dt\n",
    "import numpy as np\n",
    "from ipywidgets import interact, interactive, IntSlider, Layout\n",
    "import ipywidgets as widgets\n",
    "from IPython.display import display\n",
    "import h2o\n",
    "from h2o.automl import H2OAutoML\n",
    "from sklearn.model_selection import train_test_split\n",
    "import io\n",
    "import requests\n",
    "import warnings\n",
    "import seaborn as sns\n",
    "from sklearn.preprocessing import StandardScaler\n",
    "from sklearn import metrics as mt\n",
    "from sklearn.metrics import f1_score\n",
    "import matplotlib.pyplot as plt\n",
    "from sklearn.linear_model import SGDClassifier\n",
    "warnings.filterwarnings('ignore')"
   ]
  },
  {
   "cell_type": "markdown",
   "id": "5e70be28",
   "metadata": {},
   "source": [
    "# Data Evaluation/Engineering"
   ]
  },
  {
   "cell_type": "code",
   "execution_count": 2,
   "id": "9e7b7e7d",
   "metadata": {},
   "outputs": [],
   "source": [
    "import os\n",
    "os.chdir('/Users/benjamingoodwin/Downloads')"
   ]
  },
  {
   "cell_type": "code",
   "execution_count": 3,
   "id": "98fc255c",
   "metadata": {},
   "outputs": [
    {
     "name": "stdout",
     "output_type": "stream",
     "text": [
      "<class 'pandas.core.frame.DataFrame'>\n",
      "RangeIndex: 65532 entries, 0 to 65531\n",
      "Data columns (total 12 columns):\n",
      " #   Column                Non-Null Count  Dtype \n",
      "---  ------                --------------  ----- \n",
      " 0   Source Port           65532 non-null  int64 \n",
      " 1   Destination Port      65532 non-null  int64 \n",
      " 2   NAT Source Port       65532 non-null  int64 \n",
      " 3   NAT Destination Port  65532 non-null  int64 \n",
      " 4   Action                65532 non-null  object\n",
      " 5   Bytes                 65532 non-null  int64 \n",
      " 6   Bytes Sent            65532 non-null  int64 \n",
      " 7   Bytes Received        65532 non-null  int64 \n",
      " 8   Packets               65532 non-null  int64 \n",
      " 9   Elapsed Time (sec)    65532 non-null  int64 \n",
      " 10  pkts_sent             65532 non-null  int64 \n",
      " 11  pkts_received         65532 non-null  int64 \n",
      "dtypes: int64(11), object(1)\n",
      "memory usage: 6.0+ MB\n"
     ]
    },
    {
     "data": {
      "text/html": [
       "<div>\n",
       "<style scoped>\n",
       "    .dataframe tbody tr th:only-of-type {\n",
       "        vertical-align: middle;\n",
       "    }\n",
       "\n",
       "    .dataframe tbody tr th {\n",
       "        vertical-align: top;\n",
       "    }\n",
       "\n",
       "    .dataframe thead th {\n",
       "        text-align: right;\n",
       "    }\n",
       "</style>\n",
       "<table border=\"1\" class=\"dataframe\">\n",
       "  <thead>\n",
       "    <tr style=\"text-align: right;\">\n",
       "      <th></th>\n",
       "      <th>Source Port</th>\n",
       "      <th>Destination Port</th>\n",
       "      <th>NAT Source Port</th>\n",
       "      <th>NAT Destination Port</th>\n",
       "      <th>Bytes</th>\n",
       "      <th>Bytes Sent</th>\n",
       "      <th>Bytes Received</th>\n",
       "      <th>Packets</th>\n",
       "      <th>Elapsed Time (sec)</th>\n",
       "      <th>pkts_sent</th>\n",
       "      <th>pkts_received</th>\n",
       "    </tr>\n",
       "  </thead>\n",
       "  <tbody>\n",
       "    <tr>\n",
       "      <th>count</th>\n",
       "      <td>65532.00000</td>\n",
       "      <td>65532.00000</td>\n",
       "      <td>65532.00000</td>\n",
       "      <td>65532.00000</td>\n",
       "      <td>65532.00000</td>\n",
       "      <td>65532.00000</td>\n",
       "      <td>65532.00000</td>\n",
       "      <td>65532.00000</td>\n",
       "      <td>65532.00000</td>\n",
       "      <td>65532.00000</td>\n",
       "      <td>65532.00000</td>\n",
       "    </tr>\n",
       "    <tr>\n",
       "      <th>mean</th>\n",
       "      <td>49391.96934</td>\n",
       "      <td>10577.38581</td>\n",
       "      <td>19282.97276</td>\n",
       "      <td>2671.04993</td>\n",
       "      <td>97123.95009</td>\n",
       "      <td>22385.79691</td>\n",
       "      <td>74738.15318</td>\n",
       "      <td>102.86603</td>\n",
       "      <td>65.83358</td>\n",
       "      <td>41.39953</td>\n",
       "      <td>61.46650</td>\n",
       "    </tr>\n",
       "    <tr>\n",
       "      <th>std</th>\n",
       "      <td>15255.71254</td>\n",
       "      <td>18466.02704</td>\n",
       "      <td>21970.68967</td>\n",
       "      <td>9739.16228</td>\n",
       "      <td>5618438.90905</td>\n",
       "      <td>3828138.64979</td>\n",
       "      <td>2463207.71188</td>\n",
       "      <td>5133.00235</td>\n",
       "      <td>302.46176</td>\n",
       "      <td>3218.87129</td>\n",
       "      <td>2223.33227</td>\n",
       "    </tr>\n",
       "    <tr>\n",
       "      <th>min</th>\n",
       "      <td>0.00000</td>\n",
       "      <td>0.00000</td>\n",
       "      <td>0.00000</td>\n",
       "      <td>0.00000</td>\n",
       "      <td>60.00000</td>\n",
       "      <td>60.00000</td>\n",
       "      <td>0.00000</td>\n",
       "      <td>1.00000</td>\n",
       "      <td>0.00000</td>\n",
       "      <td>1.00000</td>\n",
       "      <td>0.00000</td>\n",
       "    </tr>\n",
       "    <tr>\n",
       "      <th>25%</th>\n",
       "      <td>49183.00000</td>\n",
       "      <td>80.00000</td>\n",
       "      <td>0.00000</td>\n",
       "      <td>0.00000</td>\n",
       "      <td>66.00000</td>\n",
       "      <td>66.00000</td>\n",
       "      <td>0.00000</td>\n",
       "      <td>1.00000</td>\n",
       "      <td>0.00000</td>\n",
       "      <td>1.00000</td>\n",
       "      <td>0.00000</td>\n",
       "    </tr>\n",
       "    <tr>\n",
       "      <th>50%</th>\n",
       "      <td>53776.50000</td>\n",
       "      <td>445.00000</td>\n",
       "      <td>8820.50000</td>\n",
       "      <td>53.00000</td>\n",
       "      <td>168.00000</td>\n",
       "      <td>90.00000</td>\n",
       "      <td>79.00000</td>\n",
       "      <td>2.00000</td>\n",
       "      <td>15.00000</td>\n",
       "      <td>1.00000</td>\n",
       "      <td>1.00000</td>\n",
       "    </tr>\n",
       "    <tr>\n",
       "      <th>75%</th>\n",
       "      <td>58638.00000</td>\n",
       "      <td>15000.00000</td>\n",
       "      <td>38366.25000</td>\n",
       "      <td>443.00000</td>\n",
       "      <td>752.25000</td>\n",
       "      <td>210.00000</td>\n",
       "      <td>449.00000</td>\n",
       "      <td>6.00000</td>\n",
       "      <td>30.00000</td>\n",
       "      <td>3.00000</td>\n",
       "      <td>2.00000</td>\n",
       "    </tr>\n",
       "    <tr>\n",
       "      <th>max</th>\n",
       "      <td>65534.00000</td>\n",
       "      <td>65535.00000</td>\n",
       "      <td>65535.00000</td>\n",
       "      <td>65535.00000</td>\n",
       "      <td>1269359015.00000</td>\n",
       "      <td>948477220.00000</td>\n",
       "      <td>320881795.00000</td>\n",
       "      <td>1036116.00000</td>\n",
       "      <td>10824.00000</td>\n",
       "      <td>747520.00000</td>\n",
       "      <td>327208.00000</td>\n",
       "    </tr>\n",
       "  </tbody>\n",
       "</table>\n",
       "</div>"
      ],
      "text/plain": [
       "       Source Port Destination Port NAT Source Port NAT Destination Port  \\\n",
       "count  65532.00000      65532.00000     65532.00000          65532.00000   \n",
       "mean   49391.96934      10577.38581     19282.97276           2671.04993   \n",
       "std    15255.71254      18466.02704     21970.68967           9739.16228   \n",
       "min        0.00000          0.00000         0.00000              0.00000   \n",
       "25%    49183.00000         80.00000         0.00000              0.00000   \n",
       "50%    53776.50000        445.00000      8820.50000             53.00000   \n",
       "75%    58638.00000      15000.00000     38366.25000            443.00000   \n",
       "max    65534.00000      65535.00000     65535.00000          65535.00000   \n",
       "\n",
       "                  Bytes       Bytes Sent   Bytes Received        Packets  \\\n",
       "count       65532.00000      65532.00000      65532.00000    65532.00000   \n",
       "mean        97123.95009      22385.79691      74738.15318      102.86603   \n",
       "std       5618438.90905    3828138.64979    2463207.71188     5133.00235   \n",
       "min            60.00000         60.00000          0.00000        1.00000   \n",
       "25%            66.00000         66.00000          0.00000        1.00000   \n",
       "50%           168.00000         90.00000         79.00000        2.00000   \n",
       "75%           752.25000        210.00000        449.00000        6.00000   \n",
       "max    1269359015.00000  948477220.00000  320881795.00000  1036116.00000   \n",
       "\n",
       "      Elapsed Time (sec)     pkts_sent pkts_received  \n",
       "count        65532.00000   65532.00000   65532.00000  \n",
       "mean            65.83358      41.39953      61.46650  \n",
       "std            302.46176    3218.87129    2223.33227  \n",
       "min              0.00000       1.00000       0.00000  \n",
       "25%              0.00000       1.00000       0.00000  \n",
       "50%             15.00000       1.00000       1.00000  \n",
       "75%             30.00000       3.00000       2.00000  \n",
       "max          10824.00000  747520.00000  327208.00000  "
      ]
     },
     "execution_count": 3,
     "metadata": {},
     "output_type": "execute_result"
    }
   ],
   "source": [
    "#Bring in the data\n",
    "df = pd.read_csv('log2.csv') # read in the csv file\n",
    "df = df.round(5)\n",
    "df.info()\n",
    "df.describe().apply(lambda s: s.apply('{0:.5f}'.format)) # will get summary of continuous or the nominals non-scientific"
   ]
  },
  {
   "cell_type": "markdown",
   "id": "5dc2613e",
   "metadata": {},
   "source": [
    "# Data Quality"
   ]
  },
  {
   "cell_type": "markdown",
   "id": "dc34ac72",
   "metadata": {},
   "source": [
    "#### In this section, we will verify the data quality, explain missing values, duplicate data, and outliers. We will discuss how we address these issues, and a few variables of interest that may be useful at a later point."
   ]
  },
  {
   "cell_type": "code",
   "execution_count": 4,
   "id": "be1a7350",
   "metadata": {},
   "outputs": [
    {
     "data": {
      "text/html": [
       "<div>\n",
       "<style scoped>\n",
       "    .dataframe tbody tr th:only-of-type {\n",
       "        vertical-align: middle;\n",
       "    }\n",
       "\n",
       "    .dataframe tbody tr th {\n",
       "        vertical-align: top;\n",
       "    }\n",
       "\n",
       "    .dataframe thead th {\n",
       "        text-align: right;\n",
       "    }\n",
       "</style>\n",
       "<table border=\"1\" class=\"dataframe\">\n",
       "  <thead>\n",
       "    <tr style=\"text-align: right;\">\n",
       "      <th></th>\n",
       "      <th>column_name</th>\n",
       "      <th>percent_missing</th>\n",
       "    </tr>\n",
       "  </thead>\n",
       "  <tbody>\n",
       "    <tr>\n",
       "      <th>Source Port</th>\n",
       "      <td>Source Port</td>\n",
       "      <td>0.0</td>\n",
       "    </tr>\n",
       "    <tr>\n",
       "      <th>Destination Port</th>\n",
       "      <td>Destination Port</td>\n",
       "      <td>0.0</td>\n",
       "    </tr>\n",
       "    <tr>\n",
       "      <th>NAT Source Port</th>\n",
       "      <td>NAT Source Port</td>\n",
       "      <td>0.0</td>\n",
       "    </tr>\n",
       "    <tr>\n",
       "      <th>NAT Destination Port</th>\n",
       "      <td>NAT Destination Port</td>\n",
       "      <td>0.0</td>\n",
       "    </tr>\n",
       "    <tr>\n",
       "      <th>Action</th>\n",
       "      <td>Action</td>\n",
       "      <td>0.0</td>\n",
       "    </tr>\n",
       "    <tr>\n",
       "      <th>Bytes</th>\n",
       "      <td>Bytes</td>\n",
       "      <td>0.0</td>\n",
       "    </tr>\n",
       "    <tr>\n",
       "      <th>Bytes Sent</th>\n",
       "      <td>Bytes Sent</td>\n",
       "      <td>0.0</td>\n",
       "    </tr>\n",
       "    <tr>\n",
       "      <th>Bytes Received</th>\n",
       "      <td>Bytes Received</td>\n",
       "      <td>0.0</td>\n",
       "    </tr>\n",
       "    <tr>\n",
       "      <th>Packets</th>\n",
       "      <td>Packets</td>\n",
       "      <td>0.0</td>\n",
       "    </tr>\n",
       "    <tr>\n",
       "      <th>Elapsed Time (sec)</th>\n",
       "      <td>Elapsed Time (sec)</td>\n",
       "      <td>0.0</td>\n",
       "    </tr>\n",
       "    <tr>\n",
       "      <th>pkts_sent</th>\n",
       "      <td>pkts_sent</td>\n",
       "      <td>0.0</td>\n",
       "    </tr>\n",
       "    <tr>\n",
       "      <th>pkts_received</th>\n",
       "      <td>pkts_received</td>\n",
       "      <td>0.0</td>\n",
       "    </tr>\n",
       "  </tbody>\n",
       "</table>\n",
       "</div>"
      ],
      "text/plain": [
       "                               column_name  percent_missing\n",
       "Source Port                    Source Port              0.0\n",
       "Destination Port          Destination Port              0.0\n",
       "NAT Source Port            NAT Source Port              0.0\n",
       "NAT Destination Port  NAT Destination Port              0.0\n",
       "Action                              Action              0.0\n",
       "Bytes                                Bytes              0.0\n",
       "Bytes Sent                      Bytes Sent              0.0\n",
       "Bytes Received              Bytes Received              0.0\n",
       "Packets                            Packets              0.0\n",
       "Elapsed Time (sec)      Elapsed Time (sec)              0.0\n",
       "pkts_sent                        pkts_sent              0.0\n",
       "pkts_received                pkts_received              0.0"
      ]
     },
     "execution_count": 4,
     "metadata": {},
     "output_type": "execute_result"
    }
   ],
   "source": [
    "#Check out the data, start to make some decisions on columns and missing data\n",
    "\n",
    "#Compute percentages of each columns missing data\n",
    "percent_missing = df.isnull().sum() * 100 / len(df)\n",
    "#Put percents into df \n",
    "missing_value_df = pd.DataFrame({'column_name': df.columns,\n",
    "                                 'percent_missing': percent_missing})\n",
    "#Sort it and show the results\n",
    "missing_value_df.sort_values('percent_missing', inplace=True)\n",
    "missing_value_df"
   ]
  },
  {
   "cell_type": "markdown",
   "id": "62d5ee5a",
   "metadata": {},
   "source": [
    "#### The plot below examines our outcome variable of interest, 'Action', and based on this plot we can see that there is certainly evidence of a class imbalance.  We will examine this in further detail. We will also take this opportunity to drop \"reset-both\" as this contains no values."
   ]
  },
  {
   "cell_type": "code",
   "execution_count": 5,
   "id": "04bd83c6",
   "metadata": {},
   "outputs": [
    {
     "data": {
      "text/plain": [
       "<AxesSubplot:xlabel='Action', ylabel='Count'>"
      ]
     },
     "execution_count": 5,
     "metadata": {},
     "output_type": "execute_result"
    },
    {
     "data": {
      "image/png": "[encoded data removed]",
      "text/plain": [
       "<Figure size 432x288 with 1 Axes>"
      ]
     },
     "metadata": {
      "needs_background": "light"
     },
     "output_type": "display_data"
    }
   ],
   "source": [
    "sns.histplot(df['Action'], kde=False)"
   ]
  },
  {
   "cell_type": "code",
   "execution_count": 6,
   "id": "96c6c537",
   "metadata": {},
   "outputs": [],
   "source": [
    "df.drop(df[df['Action'] == 'reset-both'].index, inplace = True)"
   ]
  },
  {
   "cell_type": "code",
   "execution_count": 7,
   "id": "316fbf16",
   "metadata": {},
   "outputs": [
    {
     "data": {
      "text/plain": [
       "<AxesSubplot:xlabel='Action', ylabel='Count'>"
      ]
     },
     "execution_count": 7,
     "metadata": {},
     "output_type": "execute_result"
    },
    {
     "data": {
      "image/png": "[encoded data removed]",
      "text/plain": [
       "<Figure size 432x288 with 1 Axes>"
      ]
     },
     "metadata": {
      "needs_background": "light"
     },
     "output_type": "display_data"
    }
   ],
   "source": [
    "sns.histplot(df['Action'], kde=False)"
   ]
  },
  {
   "cell_type": "code",
   "execution_count": 8,
   "id": "527444c4",
   "metadata": {},
   "outputs": [
    {
     "data": {
      "text/plain": [
       "allow    37640\n",
       "deny     14987\n",
       "drop     12851\n",
       "Name: Action, dtype: int64"
      ]
     },
     "execution_count": 8,
     "metadata": {},
     "output_type": "execute_result"
    }
   ],
   "source": [
    "df['Action'].value_counts(normalize=False)"
   ]
  },
  {
   "cell_type": "code",
   "execution_count": 9,
   "id": "22119f9d",
   "metadata": {},
   "outputs": [],
   "source": [
    "target_mod = {\n",
    "    'allow':'allow',\n",
    "    'deny':'deny',\n",
    "    'drop':'deny',\n",
    "    'reset-both':'deny'\n",
    "}\n",
    "df['Action_mod'] = df['Action'].map(target_mod)\n",
    "del df['Action']\n",
    "df['Action_mod'] = df['Action_mod'].astype('category')"
   ]
  },
  {
   "cell_type": "code",
   "execution_count": 10,
   "id": "9de292e9",
   "metadata": {},
   "outputs": [
    {
     "data": {
      "text/plain": [
       "allow    37640\n",
       "deny     27838\n",
       "Name: Action_mod, dtype: int64"
      ]
     },
     "execution_count": 10,
     "metadata": {},
     "output_type": "execute_result"
    }
   ],
   "source": [
    "df['Action_mod'].value_counts(normalize=False)"
   ]
  },
  {
   "cell_type": "code",
   "execution_count": 11,
   "id": "7c54adc2",
   "metadata": {},
   "outputs": [
    {
     "data": {
      "text/plain": [
       "<AxesSubplot:xlabel='Action_mod', ylabel='Count'>"
      ]
     },
     "execution_count": 11,
     "metadata": {},
     "output_type": "execute_result"
    },
    {
     "data": {
      "image/png": "[encoded data removed]",
      "text/plain": [
       "<Figure size 432x288 with 1 Axes>"
      ]
     },
     "metadata": {
      "needs_background": "light"
     },
     "output_type": "display_data"
    }
   ],
   "source": [
    "sns.histplot(df['Action_mod'], kde=False)"
   ]
  },
  {
   "cell_type": "markdown",
   "id": "0c19440f",
   "metadata": {},
   "source": [
    "### Data Evaluation Summary\n",
    "* The dataset has 65532 rows, 11 features with Action being the target variable.\n",
    "* There are no missing values.\n",
    "* The target variable has 4 values allow(57%),deny(22%),drop(19%),reset-both(0.1%). Since the goal of the case study is to either allow or deny the traffic, drop and reset-both are considered as drop.\n",
    "* We are keeping all varibles as we believe them to be relevant to answering the question of allow/drop\n",
    "* The dataset is fairly balanced with 57% of rows with allow and 43% with deny.\n",
    "* Based on these assumptions, we believe we can proceed with SVM and SGD.  At this point there are no further assumptions to express to the audience.\n",
    "    "
   ]
  },
  {
   "cell_type": "markdown",
   "id": "e64bf4f4",
   "metadata": {},
   "source": [
    "# Modeling Preperations"
   ]
  },
  {
   "cell_type": "markdown",
   "id": "057d58ef",
   "metadata": {},
   "source": [
    "To solve this problem we will implement a support vector machine and use stochastic graident descent, these methods have been deteremined appropriate given the business objective as our stakeholders requested that we implment the filter using these algorithms.  We will use the approaches in tandem with each other, however we will rely on our metrics defined below to determine a \"successful\" algorithm.  We will also take computation time into account as this could be particularly useful for allowing or denying web traffic, as this takes place rather quickly.\n",
    "\n",
    "To split up the data into a training and test data set we used an 80% training data and 20% testing data split.  We used a 5 fold cross validation as our metric. We also should specify that we are judging model performance based on an accuracy metric as well as F1 score as this represents a good balance between precision and recall to determine if our approach is useful. We are aiming for at least 80% accuracy and F1 in order to consider an algorithm successful. "
   ]
  },
  {
   "cell_type": "code",
   "execution_count": 18,
   "id": "b388cc22",
   "metadata": {},
   "outputs": [
    {
     "name": "stdout",
     "output_type": "stream",
     "text": [
      "       Source Port  Destination Port  NAT Source Port  NAT Destination Port  \\\n",
      "0         0.873165          0.000809         0.832944              0.000809   \n",
      "1         0.858455          0.051713         0.858442              0.051713   \n",
      "2         0.104999          0.767849         0.660182              0.767849   \n",
      "3         0.771401          0.051713         0.771389              0.051713   \n",
      "4         0.762993          0.006760         0.699596              0.006760   \n",
      "...            ...               ...              ...                   ...   \n",
      "65527     0.971877          0.001221         0.201984              0.001221   \n",
      "65528     0.777673          0.001221         0.205768              0.001221   \n",
      "65529     0.837291          0.006790         0.000000              0.000000   \n",
      "65530     0.837275          0.006790         0.000000              0.000000   \n",
      "65531     0.837230          0.006790         0.000000              0.000000   \n",
      "\n",
      "              Bytes    Bytes Sent  Bytes Received       Packets  \\\n",
      "0      9.217251e-08  3.584694e-08    2.586622e-07  9.651438e-07   \n",
      "1      3.708959e-06  1.623655e-06    9.872794e-06  1.737259e-05   \n",
      "2      1.402283e-07  6.115066e-08    3.739695e-07  9.651438e-07   \n",
      "3      2.573740e-06  1.452855e-06    5.886903e-06  1.351201e-05   \n",
      "4      1.992974e-05  7.082933e-06    5.790294e-05  2.895431e-05   \n",
      "...             ...           ...             ...           ...   \n",
      "65527  2.001010e-07  1.391705e-07    3.802023e-07  4.825719e-06   \n",
      "65528  3.687436e-03  7.090524e-05    1.437734e-02  4.511082e-03   \n",
      "65529  7.877992e-09  1.054322e-08    0.000000e+00  0.000000e+00   \n",
      "65530  7.877992e-09  1.054322e-08    0.000000e+00  0.000000e+00   \n",
      "65531  7.877992e-09  1.054322e-08    0.000000e+00  0.000000e+00   \n",
      "\n",
      "       Elapsed Time (sec)  pkts_sent  pkts_received Action_mod  \n",
      "0                0.002772   0.000000       0.000003      allow  \n",
      "1                0.001571   0.000012       0.000028      allow  \n",
      "2                0.110772   0.000000       0.000003      allow  \n",
      "3                0.001571   0.000009       0.000021      allow  \n",
      "4                0.001478   0.000016       0.000055      allow  \n",
      "...                   ...        ...            ...        ...  \n",
      "65527            0.001386   0.000004       0.000006      allow  \n",
      "65528            0.007114   0.001316       0.011277      allow  \n",
      "65529            0.000000   0.000000       0.000000       deny  \n",
      "65530            0.000000   0.000000       0.000000       deny  \n",
      "65531            0.000000   0.000000       0.000000       deny  \n",
      "\n",
      "[65478 rows x 12 columns]\n"
     ]
    }
   ],
   "source": [
    "#This section scales the variables to values between 0 and 1 in order to get the data ready for SVM and SGD.\n",
    "#We only scale variables that aren't already between 0 and 1\n",
    "from sklearn.preprocessing import MinMaxScaler\n",
    "\n",
    "# Scale only columns that have values greater than 1\n",
    "mms = MinMaxScaler()\n",
    "dfScaled=df\n",
    "dfScaled[['Source Port','Destination Port','NAT Source Port','NAT Destination Port','Bytes','Bytes Sent','Bytes Received','Packets','Elapsed Time (sec)','pkts_sent','pkts_received']]=mms.fit_transform(dfScaled[['Source Port','Destination Port','NAT Source Port','NAT Destination Port','Bytes','Bytes Sent','Bytes Received','Packets','Elapsed Time (sec)','pkts_sent','pkts_received']])\n",
    "print(dfScaled)\n",
    "SVMDat = dfScaled.copy()"
   ]
  },
  {
   "cell_type": "markdown",
   "id": "cffc80b6",
   "metadata": {},
   "source": [
    "## Training and Test Split"
   ]
  },
  {
   "cell_type": "code",
   "execution_count": 20,
   "id": "2b972121",
   "metadata": {},
   "outputs": [],
   "source": [
    "#This is the section where we begin to split up the data\n",
    "#This is where we create the 80% test, 20%train split\n",
    "from sklearn.model_selection import train_test_split\n",
    "\n",
    "#Drop outcome variable from x and keep in y\n",
    "X = dfScaled.drop('Action_mod', axis=1)\n",
    "y = dfScaled['Action_mod']\n",
    "\n",
    "#Direct train/test split\n",
    "X_train, X_test, y_train, y_test = train_test_split(\n",
    "    X, y, test_size=0.20, random_state=42\n",
    ")\n",
    "\n",
    "\n"
   ]
  },
  {
   "cell_type": "markdown",
   "id": "c60a3ac7",
   "metadata": {},
   "source": [
    "## SVM"
   ]
  },
  {
   "cell_type": "code",
   "execution_count": 21,
   "id": "0849a059",
   "metadata": {},
   "outputs": [
    {
     "name": "stdout",
     "output_type": "stream",
     "text": [
      "ShuffleSplit(n_splits=5, random_state=3, test_size=0.2, train_size=None)\n"
     ]
    }
   ],
   "source": [
    "from sklearn.model_selection import ShuffleSplit\n",
    "\n",
    "#Want to predict and x and y \n",
    "y = y # get the labels we want\n",
    "X = X # use everything else to predict!\n",
    "#Use CV objec\n",
    "#Do 5 iterations\n",
    "num_cv_iterations = 5\n",
    "num_instances = len(y)\n",
    "#Notice set as random state\n",
    "cv_object = ShuffleSplit(n_splits=num_cv_iterations,random_state=3,test_size  = 0.2)\n",
    "#Print CV object to ensure everything correct                         \n",
    "print(cv_object)"
   ]
  },
  {
   "cell_type": "code",
   "execution_count": 24,
   "id": "9895768f",
   "metadata": {},
   "outputs": [],
   "source": [
    "for train_indices, test_indices in cv_object.split(X,y): \n",
    "   \n",
    "    X_train = X.iloc[train_indices]"
   ]
  },
  {
   "cell_type": "code",
   "execution_count": 30,
   "id": "9e9577cd",
   "metadata": {
    "scrolled": true
   },
   "outputs": [
    {
     "name": "stdout",
     "output_type": "stream",
     "text": [
      "====Iteration 0  ====\n",
      "accuracy 0.9934331093463653\n",
      "F1 Score: 0.9942765872487689\n",
      "confusion matrix\n",
      " [[7470   83]\n",
      " [   3 5540]]\n",
      "====Iteration 1  ====\n",
      "accuracy 0.9926695174098962\n",
      "F1 Score: 0.9935751572747958\n",
      "confusion matrix\n",
      " [[7423   93]\n",
      " [   3 5577]]\n",
      "====Iteration 2  ====\n",
      "accuracy 0.9927458766035431\n",
      "F1 Score: 0.9936203075683298\n",
      "confusion matrix\n",
      " [[7398   93]\n",
      " [   2 5603]]\n",
      "====Iteration 3  ====\n",
      "accuracy 0.9934331093463653\n",
      "F1 Score: 0.9942405571926065\n",
      "confusion matrix\n",
      " [[7423   83]\n",
      " [   3 5587]]\n",
      "====Iteration 4  ====\n",
      "accuracy 0.9924404398289554\n",
      "F1 Score: 0.9933409564807963\n",
      "confusion matrix\n",
      " [[7384   98]\n",
      " [   1 5613]]\n"
     ]
    }
   ],
   "source": [
    "from sklearn import svm\n",
    "# train object\n",
    "#Iterate through different train/test splits\n",
    "svm_clf = svm.SVC(C=0.5, kernel='rbf', degree=3, gamma='auto') # get object\n",
    "iter_num=0    \n",
    "for train_indices, test_indices in cv_object.split(X,y): \n",
    "   \n",
    "    X_train = X.iloc[train_indices]\n",
    "    y_train = y.iloc[train_indices]\n",
    "    \n",
    "    X_test = X.iloc[test_indices]\n",
    "    y_test = y.iloc[test_indices]\n",
    "    \n",
    "    # scale attributes by the training set\n",
    "    scl_obj = StandardScaler()\n",
    "    scl_obj.fit(X_train) # find scalings for each column that make this zero mean and unit std\n",
    "# the line of code above only looks at training data to get mean and std and we can use it \n",
    "# to transform new feature data\n",
    "\n",
    "    X_train_scaled = scl_obj.transform(X_train) # apply to training\n",
    "    X_test_scaled = scl_obj.transform(X_test)\n",
    "    \n",
    "\n",
    "    svm_clf.fit(X_train_scaled, y_train)\n",
    "            \n",
    "    y_hat = svm_clf.predict(X_test_scaled) # get test set precitions\n",
    "\n",
    "    accSVM = mt.accuracy_score(y_test,y_hat)\n",
    "    confSVM = mt.confusion_matrix(y_test,y_hat)\n",
    "    f1SVM = mt.f1_score(y_test, y_hat,pos_label=\"allow\")\n",
    "    print(\"====Iteration\",iter_num,\" ====\")\n",
    "    print(\"accuracy\", accSVM)\n",
    "    print(\"F1 Score:\", f1SVM)\n",
    "    print(\"confusion matrix\\n\",confSVM)\n",
    "    iter_num+=1"
   ]
  },
  {
   "cell_type": "markdown",
   "id": "966ee8d9",
   "metadata": {},
   "source": [
    "## Support Vectors"
   ]
  },
  {
   "cell_type": "code",
   "execution_count": 40,
   "id": "4f60acf4",
   "metadata": {},
   "outputs": [
    {
     "name": "stdout",
     "output_type": "stream",
     "text": [
      "(2606, 11)\n",
      "(2606,)\n",
      "[1315 1291]\n"
     ]
    }
   ],
   "source": [
    "# look at the support vectors\n",
    "print(svm_clf.support_vectors_.shape)\n",
    "print(svm_clf.support_.shape)\n",
    "print(svm_clf.n_support_ )"
   ]
  },
  {
   "cell_type": "code",
   "execution_count": 50,
   "id": "1a39b6b5",
   "metadata": {},
   "outputs": [
    {
     "name": "stdout",
     "output_type": "stream",
     "text": [
      "       Source Port  Destination Port  NAT Source Port  NAT Destination Port  \\\n",
      "27681     0.996612          0.006790         0.000000              0.000000   \n",
      "10117     0.787301          0.006760         0.755550              0.006760   \n",
      "36163     0.961730          0.006790         0.000000              0.000000   \n",
      "2610      0.867687          0.000809         0.183139              0.000809   \n",
      "52098     0.893994          0.006790         0.000000              0.000000   \n",
      "...            ...               ...              ...                   ...   \n",
      "40505     0.945082          0.006790         0.000000              0.000000   \n",
      "39512     0.874950          0.006790         0.000000              0.000000   \n",
      "62304     0.807535          0.006760         0.683192              0.006760   \n",
      "59237     0.788491          0.006790         0.000000              0.000000   \n",
      "46037     0.919630          0.006790         0.000000              0.000000   \n",
      "\n",
      "              Bytes    Bytes Sent  Bytes Received       Packets  \\\n",
      "27681  7.877992e-09  1.054322e-08    0.000000e+00  0.000000e+00   \n",
      "10117  8.314433e-06  5.537297e-06    1.652322e-05  2.316345e-05   \n",
      "36163  7.877992e-09  1.054322e-08    0.000000e+00  0.000000e+00   \n",
      "2610   9.217251e-08  3.584694e-08    2.586622e-07  9.651438e-07   \n",
      "52098  7.877992e-09  1.054322e-08    0.000000e+00  0.000000e+00   \n",
      "...             ...           ...             ...           ...   \n",
      "40505  7.877992e-09  1.054322e-08    0.000000e+00  0.000000e+00   \n",
      "39512  7.877992e-09  1.054322e-08    0.000000e+00  0.000000e+00   \n",
      "62304  2.901622e-05  2.132155e-05    5.176049e-05  1.833773e-04   \n",
      "59237  7.877992e-09  1.054322e-08    0.000000e+00  0.000000e+00   \n",
      "46037  7.877992e-09  1.054322e-08    0.000000e+00  0.000000e+00   \n",
      "\n",
      "       Elapsed Time (sec)  pkts_sent  pkts_received Action_mod  \n",
      "27681            0.000000   0.000000       0.000000       deny  \n",
      "10117            0.008407   0.000017       0.000034      allow  \n",
      "36163            0.000000   0.000000       0.000000       deny  \n",
      "2610             0.002864   0.000000       0.000003      allow  \n",
      "52098            0.000000   0.000000       0.000000       deny  \n",
      "...                   ...        ...            ...        ...  \n",
      "40505            0.000000   0.000000       0.000000       deny  \n",
      "39512            0.000000   0.000000       0.000000       deny  \n",
      "62304            0.010717   0.000102       0.000348      allow  \n",
      "59237            0.000000   0.000000       0.000000       deny  \n",
      "46037            0.000000   0.000000       0.000000       deny  \n",
      "\n",
      "[52382 rows x 12 columns]\n",
      "<class 'pandas.core.frame.DataFrame'>\n",
      "Int64Index: 2606 entries, 57285 to 3874\n",
      "Data columns (total 12 columns):\n",
      " #   Column                Non-Null Count  Dtype   \n",
      "---  ------                --------------  -----   \n",
      " 0   Source Port           2606 non-null   float64 \n",
      " 1   Destination Port      2606 non-null   float64 \n",
      " 2   NAT Source Port       2606 non-null   float64 \n",
      " 3   NAT Destination Port  2606 non-null   float64 \n",
      " 4   Bytes                 2606 non-null   float64 \n",
      " 5   Bytes Sent            2606 non-null   float64 \n",
      " 6   Bytes Received        2606 non-null   float64 \n",
      " 7   Packets               2606 non-null   float64 \n",
      " 8   Elapsed Time (sec)    2606 non-null   float64 \n",
      " 9   pkts_sent             2606 non-null   float64 \n",
      " 10  pkts_received         2606 non-null   float64 \n",
      " 11  Action_mod            2606 non-null   category\n",
      "dtypes: category(1), float64(11)\n",
      "memory usage: 247.0 KB\n",
      "(52382,)\n",
      "<class 'pandas.core.frame.DataFrame'>\n",
      "Int64Index: 2606 entries, 57285 to 3874\n",
      "Data columns (total 12 columns):\n",
      " #   Column                Non-Null Count  Dtype   \n",
      "---  ------                --------------  -----   \n",
      " 0   Source Port           2606 non-null   float64 \n",
      " 1   Destination Port      2606 non-null   float64 \n",
      " 2   NAT Source Port       2606 non-null   float64 \n",
      " 3   NAT Destination Port  2606 non-null   float64 \n",
      " 4   Bytes                 2606 non-null   float64 \n",
      " 5   Bytes Sent            2606 non-null   float64 \n",
      " 6   Bytes Received        2606 non-null   float64 \n",
      " 7   Packets               2606 non-null   float64 \n",
      " 8   Elapsed Time (sec)    2606 non-null   float64 \n",
      " 9   pkts_sent             2606 non-null   float64 \n",
      " 10  pkts_received         2606 non-null   float64 \n",
      " 11  Action_mod            104 non-null    category\n",
      "dtypes: category(1), float64(11)\n",
      "memory usage: 247.0 KB\n"
     ]
    }
   ],
   "source": [
    "df_tested_on = SVMDat.iloc[train_indices].copy() # saved from above, the indices chosen for training\n",
    "print(SVMDat.iloc[train_indices])\n",
    "\n",
    "# now get the support vectors from the trained model\n",
    "df_support = df_tested_on.iloc[svm_clf.support_,:].copy()\n",
    "df_support.info()\n",
    "print(train_indices.shape)\n",
    "df_support['Action_mod'] = y.iloc[svm_clf.support_] \n",
    "\n",
    "SVMDat['Action_mod'] = y \n",
    "df_support.info()"
   ]
  },
  {
   "cell_type": "code",
   "execution_count": 52,
   "id": "b2565ccf",
   "metadata": {},
   "outputs": [
    {
     "data": {
      "image/png": "[encoded data removed]",
      "text/plain": [
       "<Figure size 720x288 with 2 Axes>"
      ]
     },
     "metadata": {
      "needs_background": "light"
     },
     "output_type": "display_data"
    },
    {
     "data": {
      "image/png": "[encoded data removed]",
      "text/plain": [
       "<Figure size 720x288 with 2 Axes>"
      ]
     },
     "metadata": {
      "needs_background": "light"
     },
     "output_type": "display_data"
    },
    {
     "data": {
      "image/png": "[encoded data removed]",
      "text/plain": [
       "<Figure size 720x288 with 2 Axes>"
      ]
     },
     "metadata": {
      "needs_background": "light"
     },
     "output_type": "display_data"
    },
    {
     "data": {
      "image/png": "[encoded data removed]",
      "text/plain": [
       "<Figure size 720x288 with 2 Axes>"
      ]
     },
     "metadata": {
      "needs_background": "light"
     },
     "output_type": "display_data"
    },
    {
     "data": {
      "image/png": "[encoded data removed]",
      "text/plain": [
       "<Figure size 720x288 with 2 Axes>"
      ]
     },
     "metadata": {
      "needs_background": "light"
     },
     "output_type": "display_data"
    }
   ],
   "source": [
    "%matplotlib inline\n",
    "from matplotlib import pyplot as plt\n",
    "\n",
    "# now lets see the statistics of these attributes\n",
    "from pandas.plotting import boxplot\n",
    "\n",
    "# group the original data and the support vectors\n",
    "df_grouped_support = df_support.groupby(['Action_mod'])\n",
    "df_grouped = SVMDat.groupby(['Action_mod'])\n",
    "\n",
    "# plot KDE of Different variables\n",
    "vars_to_plot = ['Source Port','Destination Port','NAT Source Port','NAT Destination Port','Bytes']\n",
    "for v in vars_to_plot:\n",
    "    plt.figure(figsize=(10,4))\n",
    "    # plot support vector stats\n",
    "    plt.subplot(1,2,1)\n",
    "    ax = df_grouped_support[v].plot.kde() \n",
    "    plt.legend(['allow','deny'])\n",
    "    plt.title(v+' (Instances chosen as Support Vectors)')\n",
    "    \n",
    "    # plot original distributions\n",
    "    plt.subplot(1,2,2)\n",
    "    ax = df_grouped[v].plot.kde() \n",
    "    plt.legend(['allow','deny'])\n",
    "    plt.title(v+' (Original)')"
   ]
  },
  {
   "cell_type": "markdown",
   "id": "6e953572",
   "metadata": {},
   "source": [
    "### Information on the support vectors\n",
    "\n",
    "(2606, 11)\n",
    "\n",
    "The indices of support vectors is 2606 with 11 features.\n",
    "\n",
    "(1315 1291)\n",
    "This is the number of support vectors for each class. 'Action_mod' has two classes 'Allow', 'Deny'\n",
    "\n",
    "Support vectors are the data points that lie closest to the decision surface and are the points that are most difficult to classify."
   ]
  },
  {
   "cell_type": "markdown",
   "id": "afeeb8b6",
   "metadata": {},
   "source": [
    "Based on the results above, we will consider SVM a successful model as it exceeded our metrics for success of accuracy above .8 and an f1 score above .8.  "
   ]
  },
  {
   "cell_type": "markdown",
   "id": "0dcf3b3a",
   "metadata": {},
   "source": [
    "## SGD"
   ]
  },
  {
   "cell_type": "markdown",
   "id": "afa46bf7",
   "metadata": {},
   "source": [
    "#### In the sections below we will investigate the impact of applying stochastic gradient descent to our models, varying paramters, and observing outcomes."
   ]
  },
  {
   "cell_type": "markdown",
   "id": "a9dfb7f4",
   "metadata": {},
   "source": [
    "In this first block we will approach stochastic gradient descent by means of a similar approach to our SVM block with 5-fold CV. "
   ]
  },
  {
   "cell_type": "code",
   "execution_count": 62,
   "id": "c70326c5",
   "metadata": {},
   "outputs": [
    {
     "name": "stdout",
     "output_type": "stream",
     "text": [
      "====Iteration 0  ====\n",
      "accuracy 0.9924404398289554\n",
      "F1 Score: 0.9933409564807963\n",
      "confusion matrix\n",
      " [[7384   98]\n",
      " [   1 5613]]\n",
      "====Iteration 1  ====\n",
      "accuracy 0.9924404398289554\n",
      "F1 Score: 0.9933409564807963\n",
      "confusion matrix\n",
      " [[7384   98]\n",
      " [   1 5613]]\n",
      "====Iteration 2  ====\n",
      "accuracy 0.9924404398289554\n",
      "F1 Score: 0.9933409564807963\n",
      "confusion matrix\n",
      " [[7384   98]\n",
      " [   1 5613]]\n",
      "====Iteration 3  ====\n",
      "accuracy 0.9924404398289554\n",
      "F1 Score: 0.9933409564807963\n",
      "confusion matrix\n",
      " [[7384   98]\n",
      " [   1 5613]]\n",
      "====Iteration 4  ====\n",
      "accuracy 0.9924404398289554\n",
      "F1 Score: 0.9933409564807963\n",
      "confusion matrix\n",
      " [[7384   98]\n",
      " [   1 5613]]\n",
      "CPU times: user 3.45 s, sys: 521 ms, total: 3.97 s\n",
      "Wall time: 967 ms\n"
     ]
    }
   ],
   "source": [
    "regularize_const = 0.1\n",
    "iterations = 5\n",
    "iter_num=0   \n",
    "svm_sgd = SGDClassifier(alpha=regularize_const,\n",
    "        fit_intercept=True, l1_ratio=0.0, learning_rate='optimal',\n",
    "        loss='hinge', n_iter_no_change=iterations, n_jobs=-1, penalty='l2')\n",
    "\n",
    "scl = StandardScaler()\n",
    "for train_idx, test_idx in cv_object.split(X,y):\n",
    "    \n",
    "    svm_sgd.fit(scl.fit_transform(X.iloc[train_idx]),y.iloc[train_idx])\n",
    "    yhat = svm_sgd.predict(scl.transform(X.iloc[test_idx]))\n",
    "    \n",
    "    conf = mt.confusion_matrix(y.iloc[test_idx],yhat)\n",
    "    acc = mt.accuracy_score(y.iloc[test_idx],yhat)\n",
    "    f1SVM = mt.f1_score(y_test, y_hat,pos_label=\"allow\")\n",
    "    print(\"====Iteration\",iter_num,\" ====\")\n",
    "    print(\"accuracy\", accSVM)\n",
    "    print(\"F1 Score:\", f1SVM)\n",
    "    print(\"confusion matrix\\n\",confSVM)\n",
    "    iter_num+=1\n",
    "\n"
   ]
  },
  {
   "cell_type": "markdown",
   "id": "1b62cea7",
   "metadata": {},
   "source": [
    "Based on the results above, we exceeded both of our metrics with some very standard model parameters of using hinge loss, and an optimal learning rate.  We will investigate further below"
   ]
  },
  {
   "cell_type": "code",
   "execution_count": 66,
   "id": "da4be0c6",
   "metadata": {},
   "outputs": [
    {
     "name": "stdout",
     "output_type": "stream",
     "text": [
      "Confusion Matrix \n",
      " [[28959  1199]\n",
      " [   11 22213]]\n",
      "\n",
      " Classification Report \n",
      "               precision    recall  f1-score   support\n",
      "\n",
      "       allow   0.999620  0.960243  0.979536     30158\n",
      "        deny   0.948787  0.999505  0.973486     22224\n",
      "\n",
      "    accuracy                       0.976900     52382\n",
      "   macro avg   0.974204  0.979874  0.976511     52382\n",
      "weighted avg   0.978053  0.976900  0.976969     52382\n",
      "\n"
     ]
    }
   ],
   "source": [
    "clf_sgd1 = SGDClassifier(loss=\"hinge\", penalty=\"l2\")\n",
    "clf_sgd1.fit(X_train, y_train)\n",
    "y_pred_train1 = clf_sgd1.predict(X_train)\n",
    "print(\"Confusion Matrix \\n\",mt.confusion_matrix(y_train, y_pred_train1))\n",
    "print(\"\\n Classification Report \\n\",mt.classification_report(y_train, y_pred_train1, digits=6))"
   ]
  },
  {
   "cell_type": "code",
   "execution_count": 67,
   "id": "f5e1971f",
   "metadata": {},
   "outputs": [
    {
     "data": {
      "text/plain": [
       "[<matplotlib.lines.Line2D at 0x7f9928a62970>]"
      ]
     },
     "execution_count": 67,
     "metadata": {},
     "output_type": "execute_result"
    },
    {
     "data": {
      "image/png": "[encoded data removed]",
      "text/plain": [
       "<Figure size 432x288 with 1 Axes>"
      ]
     },
     "metadata": {
      "needs_background": "light"
     },
     "output_type": "display_data"
    }
   ],
   "source": [
    "n_iters = [5, 10, 20, 50, 100, 1000]\n",
    "scores = []\n",
    "for n_iter in n_iters:\n",
    "    model = SGDClassifier(loss=\"hinge\", penalty=\"l2\", max_iter=n_iter)\n",
    "    model.fit(X_train, y_train)\n",
    "    scores.append(model.score(X_test, y_test))\n",
    "  \n",
    "plt.title(\"Effect of n_iter\")\n",
    "plt.xlabel(\"n_iter\")\n",
    "plt.ylabel(\"score\")\n",
    "plt.plot(n_iters, scores)"
   ]
  },
  {
   "cell_type": "markdown",
   "id": "a591295f",
   "metadata": {},
   "source": [
    "In the block above, we investiated the effects of increasing the number of n_iterations.  Based on the plot we can see that we have model convergence in n_iterations at around 200 iterations.  This is useful for compute time, we can set a reasonable number of iterations based on this. "
   ]
  },
  {
   "cell_type": "code",
   "execution_count": 68,
   "id": "bb438101",
   "metadata": {},
   "outputs": [
    {
     "data": {
      "text/plain": [
       "[<matplotlib.lines.Line2D at 0x7f9928bced30>]"
      ]
     },
     "execution_count": 68,
     "metadata": {},
     "output_type": "execute_result"
    },
    {
     "data": {
      "image/png": "[encoded data removed]",
      "text/plain": [
       "<Figure size 432x288 with 1 Axes>"
      ]
     },
     "metadata": {
      "needs_background": "light"
     },
     "output_type": "display_data"
    }
   ],
   "source": [
    "# losses\n",
    "losses = [\"hinge\", \"log\", \"modified_huber\", \"perceptron\", \"squared_hinge\"]\n",
    "scores = []\n",
    "for loss in losses:\n",
    "    model = SGDClassifier(loss=loss, penalty=\"l2\", max_iter=100)\n",
    "    model.fit(X_train, y_train)\n",
    "    scores.append(model.score(X_test, y_test))\n",
    "  \n",
    "plt.title(\"Effect of loss\")\n",
    "plt.xlabel(\"loss\")\n",
    "plt.ylabel(\"score\")\n",
    "x = np.arange(len(losses))\n",
    "plt.xticks(x, losses)\n",
    "plt.plot(x, scores) "
   ]
  },
  {
   "cell_type": "markdown",
   "id": "b4bf6b1d",
   "metadata": {},
   "source": [
    "In the block above we look at the various impacts from changing the loss function.  This, again is informative and useful for modifying model parameters based on values of interest."
   ]
  },
  {
   "cell_type": "markdown",
   "id": "40f82692",
   "metadata": {},
   "source": [
    "Based on the results above, we will consider SGD a successful model as it exceeded our metrics for success of accuracy above .8 and an f1 score above .8.  "
   ]
  },
  {
   "cell_type": "markdown",
   "id": "99bd9bce",
   "metadata": {},
   "source": [
    "# Conclusions\n",
    "\n",
    "After all of our technical analysis and modeling, we propose to the audience that for sufficiently accurate and precise network traffic allow/deny requests either SVM or SGD may be used.  When moving foward it is important to note that either method solved this problem with flying colors, when moving foward with real life data and/or dealing with this in real-time we would suggest using the algorithm with faster compute time as network traffic decisions need to be decided in milliseconds. \n",
    "\n",
    "If SVM or SGD are not the preferred algorithms, we suggest using logistic regression.  This is a classic use case for LR, as this is a binary decision problem.  Logistic regression has the advantage of being more popular, although not necessarily better performing.  LR would simply provide a different approach to this problem.\n",
    "\n",
    "To wrap everything up, we believe that we have a 2 solid solutions to the problems of network allow/deny requests and those are SVM and SGD."
   ]
  }
 ],
 "metadata": {
  "kernelspec": {
   "display_name": "Python 3",
   "language": "python",
   "name": "python3"
  },
  "language_info": {
   "codemirror_mode": {
    "name": "ipython",
    "version": 3
   },
   "file_extension": ".py",
   "mimetype": "text/x-python",
   "name": "python",
   "nbconvert_exporter": "python",
   "pygments_lexer": "ipython3",
   "version": "3.9.1"
  }
 },
 "nbformat": 4,
 "nbformat_minor": 5
}
