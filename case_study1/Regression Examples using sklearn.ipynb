{
 "cells": [
  {
   "cell_type": "markdown",
   "metadata": {},
   "source": [
    "# Regression examples using sklearn\n",
    "\n",
    "**Utilizing the California Housing dataset**"
   ]
  },
  {
   "cell_type": "code",
   "execution_count": 100,
   "metadata": {},
   "outputs": [],
   "source": [
    "# Import package dependencies\n",
    "import pandas as pd\n",
    "import numpy as np\n",
    "from sklearn.linear_model import LinearRegression\n",
    "from sklearn.metrics import mean_squared_error, r2_score, mean_absolute_error\n",
    "from ml_metrics import rmse\n",
    "import matplotlib.pyplot as plt\n",
    "from sklearn import datasets"
   ]
  },
  {
   "cell_type": "code",
   "execution_count": 101,
   "metadata": {},
   "outputs": [
    {
     "name": "stdout",
     "output_type": "stream",
     "text": [
      "(20640, 8)\n"
     ]
    }
   ],
   "source": [
    "# Load in the dataset\n",
    "california = datasets.fetch_california_housing()\n",
    "print(california.data.shape)"
   ]
  },
  {
   "cell_type": "code",
   "execution_count": 102,
   "metadata": {},
   "outputs": [
    {
     "name": "stdout",
     "output_type": "stream",
     "text": [
      "dict_keys(['data', 'target', 'frame', 'target_names', 'feature_names', 'DESCR'])\n"
     ]
    }
   ],
   "source": [
    "print(california.keys())"
   ]
  },
  {
   "cell_type": "code",
   "execution_count": 103,
   "metadata": {},
   "outputs": [
    {
     "name": "stdout",
     "output_type": "stream",
     "text": [
      ".. _california_housing_dataset:\n",
      "\n",
      "California Housing dataset\n",
      "--------------------------\n",
      "\n",
      "**Data Set Characteristics:**\n",
      "\n",
      "    :Number of Instances: 20640\n",
      "\n",
      "    :Number of Attributes: 8 numeric, predictive attributes and the target\n",
      "\n",
      "    :Attribute Information:\n",
      "        - MedInc        median income in block\n",
      "        - HouseAge      median house age in block\n",
      "        - AveRooms      average number of rooms\n",
      "        - AveBedrms     average number of bedrooms\n",
      "        - Population    block population\n",
      "        - AveOccup      average house occupancy\n",
      "        - Latitude      house block latitude\n",
      "        - Longitude     house block longitude\n",
      "\n",
      "    :Missing Attribute Values: None\n",
      "\n",
      "This dataset was obtained from the StatLib repository.\n",
      "http://lib.stat.cmu.edu/datasets/\n",
      "\n",
      "The target variable is the median house value for California districts.\n",
      "\n",
      "This dataset was derived from the 1990 U.S. census, using one row per census\n",
      "block group. A block group is the smallest geographical unit for which the U.S.\n",
      "Census Bureau publishes sample data (a block group typically has a population\n",
      "of 600 to 3,000 people).\n",
      "\n",
      "It can be downloaded/loaded using the\n",
      ":func:`sklearn.datasets.fetch_california_housing` function.\n",
      "\n",
      ".. topic:: References\n",
      "\n",
      "    - Pace, R. Kelley and Ronald Barry, Sparse Spatial Autoregressions,\n",
      "      Statistics and Probability Letters, 33 (1997) 291-297\n",
      "\n"
     ]
    }
   ],
   "source": [
    "print(california.DESCR)"
   ]
  },
  {
   "cell_type": "code",
   "execution_count": 104,
   "metadata": {},
   "outputs": [
    {
     "data": {
      "text/plain": [
       "['MedInc',\n",
       " 'HouseAge',\n",
       " 'AveRooms',\n",
       " 'AveBedrms',\n",
       " 'Population',\n",
       " 'AveOccup',\n",
       " 'Latitude',\n",
       " 'Longitude']"
      ]
     },
     "execution_count": 104,
     "metadata": {},
     "output_type": "execute_result"
    }
   ],
   "source": [
    "california.feature_names"
   ]
  },
  {
   "cell_type": "code",
   "execution_count": 105,
   "metadata": {},
   "outputs": [
    {
     "data": {
      "text/plain": [
       "array([4.526, 3.585, 3.521, ..., 0.923, 0.847, 0.894])"
      ]
     },
     "execution_count": 105,
     "metadata": {},
     "output_type": "execute_result"
    }
   ],
   "source": [
    "california.target"
   ]
  },
  {
   "cell_type": "code",
   "execution_count": 106,
   "metadata": {},
   "outputs": [
    {
     "data": {
      "text/html": [
       "<div>\n",
       "<style scoped>\n",
       "    .dataframe tbody tr th:only-of-type {\n",
       "        vertical-align: middle;\n",
       "    }\n",
       "\n",
       "    .dataframe tbody tr th {\n",
       "        vertical-align: top;\n",
       "    }\n",
       "\n",
       "    .dataframe thead th {\n",
       "        text-align: right;\n",
       "    }\n",
       "</style>\n",
       "<table border=\"1\" class=\"dataframe\">\n",
       "  <thead>\n",
       "    <tr style=\"text-align: right;\">\n",
       "      <th></th>\n",
       "      <th>0</th>\n",
       "      <th>1</th>\n",
       "      <th>2</th>\n",
       "      <th>3</th>\n",
       "      <th>4</th>\n",
       "      <th>5</th>\n",
       "      <th>6</th>\n",
       "      <th>7</th>\n",
       "    </tr>\n",
       "  </thead>\n",
       "  <tbody>\n",
       "    <tr>\n",
       "      <th>0</th>\n",
       "      <td>8.3252</td>\n",
       "      <td>41.0</td>\n",
       "      <td>6.984127</td>\n",
       "      <td>1.023810</td>\n",
       "      <td>322.0</td>\n",
       "      <td>2.555556</td>\n",
       "      <td>37.88</td>\n",
       "      <td>-122.23</td>\n",
       "    </tr>\n",
       "    <tr>\n",
       "      <th>1</th>\n",
       "      <td>8.3014</td>\n",
       "      <td>21.0</td>\n",
       "      <td>6.238137</td>\n",
       "      <td>0.971880</td>\n",
       "      <td>2401.0</td>\n",
       "      <td>2.109842</td>\n",
       "      <td>37.86</td>\n",
       "      <td>-122.22</td>\n",
       "    </tr>\n",
       "    <tr>\n",
       "      <th>2</th>\n",
       "      <td>7.2574</td>\n",
       "      <td>52.0</td>\n",
       "      <td>8.288136</td>\n",
       "      <td>1.073446</td>\n",
       "      <td>496.0</td>\n",
       "      <td>2.802260</td>\n",
       "      <td>37.85</td>\n",
       "      <td>-122.24</td>\n",
       "    </tr>\n",
       "    <tr>\n",
       "      <th>3</th>\n",
       "      <td>5.6431</td>\n",
       "      <td>52.0</td>\n",
       "      <td>5.817352</td>\n",
       "      <td>1.073059</td>\n",
       "      <td>558.0</td>\n",
       "      <td>2.547945</td>\n",
       "      <td>37.85</td>\n",
       "      <td>-122.25</td>\n",
       "    </tr>\n",
       "    <tr>\n",
       "      <th>4</th>\n",
       "      <td>3.8462</td>\n",
       "      <td>52.0</td>\n",
       "      <td>6.281853</td>\n",
       "      <td>1.081081</td>\n",
       "      <td>565.0</td>\n",
       "      <td>2.181467</td>\n",
       "      <td>37.85</td>\n",
       "      <td>-122.25</td>\n",
       "    </tr>\n",
       "    <tr>\n",
       "      <th>...</th>\n",
       "      <td>...</td>\n",
       "      <td>...</td>\n",
       "      <td>...</td>\n",
       "      <td>...</td>\n",
       "      <td>...</td>\n",
       "      <td>...</td>\n",
       "      <td>...</td>\n",
       "      <td>...</td>\n",
       "    </tr>\n",
       "    <tr>\n",
       "      <th>20635</th>\n",
       "      <td>1.5603</td>\n",
       "      <td>25.0</td>\n",
       "      <td>5.045455</td>\n",
       "      <td>1.133333</td>\n",
       "      <td>845.0</td>\n",
       "      <td>2.560606</td>\n",
       "      <td>39.48</td>\n",
       "      <td>-121.09</td>\n",
       "    </tr>\n",
       "    <tr>\n",
       "      <th>20636</th>\n",
       "      <td>2.5568</td>\n",
       "      <td>18.0</td>\n",
       "      <td>6.114035</td>\n",
       "      <td>1.315789</td>\n",
       "      <td>356.0</td>\n",
       "      <td>3.122807</td>\n",
       "      <td>39.49</td>\n",
       "      <td>-121.21</td>\n",
       "    </tr>\n",
       "    <tr>\n",
       "      <th>20637</th>\n",
       "      <td>1.7000</td>\n",
       "      <td>17.0</td>\n",
       "      <td>5.205543</td>\n",
       "      <td>1.120092</td>\n",
       "      <td>1007.0</td>\n",
       "      <td>2.325635</td>\n",
       "      <td>39.43</td>\n",
       "      <td>-121.22</td>\n",
       "    </tr>\n",
       "    <tr>\n",
       "      <th>20638</th>\n",
       "      <td>1.8672</td>\n",
       "      <td>18.0</td>\n",
       "      <td>5.329513</td>\n",
       "      <td>1.171920</td>\n",
       "      <td>741.0</td>\n",
       "      <td>2.123209</td>\n",
       "      <td>39.43</td>\n",
       "      <td>-121.32</td>\n",
       "    </tr>\n",
       "    <tr>\n",
       "      <th>20639</th>\n",
       "      <td>2.3886</td>\n",
       "      <td>16.0</td>\n",
       "      <td>5.254717</td>\n",
       "      <td>1.162264</td>\n",
       "      <td>1387.0</td>\n",
       "      <td>2.616981</td>\n",
       "      <td>39.37</td>\n",
       "      <td>-121.24</td>\n",
       "    </tr>\n",
       "  </tbody>\n",
       "</table>\n",
       "<p>20640 rows × 8 columns</p>\n",
       "</div>"
      ],
      "text/plain": [
       "            0     1         2         3       4         5      6       7\n",
       "0      8.3252  41.0  6.984127  1.023810   322.0  2.555556  37.88 -122.23\n",
       "1      8.3014  21.0  6.238137  0.971880  2401.0  2.109842  37.86 -122.22\n",
       "2      7.2574  52.0  8.288136  1.073446   496.0  2.802260  37.85 -122.24\n",
       "3      5.6431  52.0  5.817352  1.073059   558.0  2.547945  37.85 -122.25\n",
       "4      3.8462  52.0  6.281853  1.081081   565.0  2.181467  37.85 -122.25\n",
       "...       ...   ...       ...       ...     ...       ...    ...     ...\n",
       "20635  1.5603  25.0  5.045455  1.133333   845.0  2.560606  39.48 -121.09\n",
       "20636  2.5568  18.0  6.114035  1.315789   356.0  3.122807  39.49 -121.21\n",
       "20637  1.7000  17.0  5.205543  1.120092  1007.0  2.325635  39.43 -121.22\n",
       "20638  1.8672  18.0  5.329513  1.171920   741.0  2.123209  39.43 -121.32\n",
       "20639  2.3886  16.0  5.254717  1.162264  1387.0  2.616981  39.37 -121.24\n",
       "\n",
       "[20640 rows x 8 columns]"
      ]
     },
     "execution_count": 106,
     "metadata": {},
     "output_type": "execute_result"
    }
   ],
   "source": [
    "pd.DataFrame(california.data)"
   ]
  },
  {
   "cell_type": "code",
   "execution_count": 108,
   "metadata": {},
   "outputs": [
    {
     "data": {
      "text/html": [
       "<div>\n",
       "<style scoped>\n",
       "    .dataframe tbody tr th:only-of-type {\n",
       "        vertical-align: middle;\n",
       "    }\n",
       "\n",
       "    .dataframe tbody tr th {\n",
       "        vertical-align: top;\n",
       "    }\n",
       "\n",
       "    .dataframe thead th {\n",
       "        text-align: right;\n",
       "    }\n",
       "</style>\n",
       "<table border=\"1\" class=\"dataframe\">\n",
       "  <thead>\n",
       "    <tr style=\"text-align: right;\">\n",
       "      <th></th>\n",
       "      <th>MedInc</th>\n",
       "      <th>HouseAge</th>\n",
       "      <th>AveRooms</th>\n",
       "      <th>AveBedrms</th>\n",
       "      <th>Population</th>\n",
       "      <th>AveOccup</th>\n",
       "      <th>Latitude</th>\n",
       "      <th>Longitude</th>\n",
       "      <th>MedHouseVal</th>\n",
       "    </tr>\n",
       "  </thead>\n",
       "  <tbody>\n",
       "    <tr>\n",
       "      <th>0</th>\n",
       "      <td>8.3252</td>\n",
       "      <td>41.0</td>\n",
       "      <td>6.984127</td>\n",
       "      <td>1.023810</td>\n",
       "      <td>322.0</td>\n",
       "      <td>2.555556</td>\n",
       "      <td>37.88</td>\n",
       "      <td>-122.23</td>\n",
       "      <td>4.526</td>\n",
       "    </tr>\n",
       "    <tr>\n",
       "      <th>1</th>\n",
       "      <td>8.3014</td>\n",
       "      <td>21.0</td>\n",
       "      <td>6.238137</td>\n",
       "      <td>0.971880</td>\n",
       "      <td>2401.0</td>\n",
       "      <td>2.109842</td>\n",
       "      <td>37.86</td>\n",
       "      <td>-122.22</td>\n",
       "      <td>3.585</td>\n",
       "    </tr>\n",
       "    <tr>\n",
       "      <th>2</th>\n",
       "      <td>7.2574</td>\n",
       "      <td>52.0</td>\n",
       "      <td>8.288136</td>\n",
       "      <td>1.073446</td>\n",
       "      <td>496.0</td>\n",
       "      <td>2.802260</td>\n",
       "      <td>37.85</td>\n",
       "      <td>-122.24</td>\n",
       "      <td>3.521</td>\n",
       "    </tr>\n",
       "    <tr>\n",
       "      <th>3</th>\n",
       "      <td>5.6431</td>\n",
       "      <td>52.0</td>\n",
       "      <td>5.817352</td>\n",
       "      <td>1.073059</td>\n",
       "      <td>558.0</td>\n",
       "      <td>2.547945</td>\n",
       "      <td>37.85</td>\n",
       "      <td>-122.25</td>\n",
       "      <td>3.413</td>\n",
       "    </tr>\n",
       "    <tr>\n",
       "      <th>4</th>\n",
       "      <td>3.8462</td>\n",
       "      <td>52.0</td>\n",
       "      <td>6.281853</td>\n",
       "      <td>1.081081</td>\n",
       "      <td>565.0</td>\n",
       "      <td>2.181467</td>\n",
       "      <td>37.85</td>\n",
       "      <td>-122.25</td>\n",
       "      <td>3.422</td>\n",
       "    </tr>\n",
       "  </tbody>\n",
       "</table>\n",
       "</div>"
      ],
      "text/plain": [
       "   MedInc  HouseAge  AveRooms  AveBedrms  Population  AveOccup  Latitude  \\\n",
       "0  8.3252      41.0  6.984127   1.023810       322.0  2.555556     37.88   \n",
       "1  8.3014      21.0  6.238137   0.971880      2401.0  2.109842     37.86   \n",
       "2  7.2574      52.0  8.288136   1.073446       496.0  2.802260     37.85   \n",
       "3  5.6431      52.0  5.817352   1.073059       558.0  2.547945     37.85   \n",
       "4  3.8462      52.0  6.281853   1.081081       565.0  2.181467     37.85   \n",
       "\n",
       "   Longitude  MedHouseVal  \n",
       "0    -122.23        4.526  \n",
       "1    -122.22        3.585  \n",
       "2    -122.24        3.521  \n",
       "3    -122.25        3.413  \n",
       "4    -122.25        3.422  "
      ]
     },
     "execution_count": 108,
     "metadata": {},
     "output_type": "execute_result"
    }
   ],
   "source": [
    "# Convert the matrix to pandas\n",
    "cal = pd.DataFrame(california.data)\n",
    "cal.columns = california.feature_names\n",
    "cal['MedHouseVal'] = california.target\n",
    "cal.head()"
   ]
  },
  {
   "cell_type": "code",
   "execution_count": 109,
   "metadata": {},
   "outputs": [
    {
     "data": {
      "text/html": [
       "<div>\n",
       "<style scoped>\n",
       "    .dataframe tbody tr th:only-of-type {\n",
       "        vertical-align: middle;\n",
       "    }\n",
       "\n",
       "    .dataframe tbody tr th {\n",
       "        vertical-align: top;\n",
       "    }\n",
       "\n",
       "    .dataframe thead th {\n",
       "        text-align: right;\n",
       "    }\n",
       "</style>\n",
       "<table border=\"1\" class=\"dataframe\">\n",
       "  <thead>\n",
       "    <tr style=\"text-align: right;\">\n",
       "      <th></th>\n",
       "      <th>MedInc</th>\n",
       "      <th>HouseAge</th>\n",
       "      <th>AveRooms</th>\n",
       "      <th>AveBedrms</th>\n",
       "      <th>Population</th>\n",
       "      <th>AveOccup</th>\n",
       "      <th>Latitude</th>\n",
       "      <th>Longitude</th>\n",
       "      <th>MedHouseVal</th>\n",
       "    </tr>\n",
       "  </thead>\n",
       "  <tbody>\n",
       "    <tr>\n",
       "      <th>count</th>\n",
       "      <td>20640.000000</td>\n",
       "      <td>20640.000000</td>\n",
       "      <td>20640.000000</td>\n",
       "      <td>20640.000000</td>\n",
       "      <td>20640.000000</td>\n",
       "      <td>20640.000000</td>\n",
       "      <td>20640.000000</td>\n",
       "      <td>20640.000000</td>\n",
       "      <td>20640.000000</td>\n",
       "    </tr>\n",
       "    <tr>\n",
       "      <th>mean</th>\n",
       "      <td>3.870671</td>\n",
       "      <td>28.639486</td>\n",
       "      <td>5.429000</td>\n",
       "      <td>1.096675</td>\n",
       "      <td>1425.476744</td>\n",
       "      <td>3.070655</td>\n",
       "      <td>35.631861</td>\n",
       "      <td>-119.569704</td>\n",
       "      <td>2.068558</td>\n",
       "    </tr>\n",
       "    <tr>\n",
       "      <th>std</th>\n",
       "      <td>1.899822</td>\n",
       "      <td>12.585558</td>\n",
       "      <td>2.474173</td>\n",
       "      <td>0.473911</td>\n",
       "      <td>1132.462122</td>\n",
       "      <td>10.386050</td>\n",
       "      <td>2.135952</td>\n",
       "      <td>2.003532</td>\n",
       "      <td>1.153956</td>\n",
       "    </tr>\n",
       "    <tr>\n",
       "      <th>min</th>\n",
       "      <td>0.499900</td>\n",
       "      <td>1.000000</td>\n",
       "      <td>0.846154</td>\n",
       "      <td>0.333333</td>\n",
       "      <td>3.000000</td>\n",
       "      <td>0.692308</td>\n",
       "      <td>32.540000</td>\n",
       "      <td>-124.350000</td>\n",
       "      <td>0.149990</td>\n",
       "    </tr>\n",
       "    <tr>\n",
       "      <th>25%</th>\n",
       "      <td>2.563400</td>\n",
       "      <td>18.000000</td>\n",
       "      <td>4.440716</td>\n",
       "      <td>1.006079</td>\n",
       "      <td>787.000000</td>\n",
       "      <td>2.429741</td>\n",
       "      <td>33.930000</td>\n",
       "      <td>-121.800000</td>\n",
       "      <td>1.196000</td>\n",
       "    </tr>\n",
       "    <tr>\n",
       "      <th>50%</th>\n",
       "      <td>3.534800</td>\n",
       "      <td>29.000000</td>\n",
       "      <td>5.229129</td>\n",
       "      <td>1.048780</td>\n",
       "      <td>1166.000000</td>\n",
       "      <td>2.818116</td>\n",
       "      <td>34.260000</td>\n",
       "      <td>-118.490000</td>\n",
       "      <td>1.797000</td>\n",
       "    </tr>\n",
       "    <tr>\n",
       "      <th>75%</th>\n",
       "      <td>4.743250</td>\n",
       "      <td>37.000000</td>\n",
       "      <td>6.052381</td>\n",
       "      <td>1.099526</td>\n",
       "      <td>1725.000000</td>\n",
       "      <td>3.282261</td>\n",
       "      <td>37.710000</td>\n",
       "      <td>-118.010000</td>\n",
       "      <td>2.647250</td>\n",
       "    </tr>\n",
       "    <tr>\n",
       "      <th>max</th>\n",
       "      <td>15.000100</td>\n",
       "      <td>52.000000</td>\n",
       "      <td>141.909091</td>\n",
       "      <td>34.066667</td>\n",
       "      <td>35682.000000</td>\n",
       "      <td>1243.333333</td>\n",
       "      <td>41.950000</td>\n",
       "      <td>-114.310000</td>\n",
       "      <td>5.000010</td>\n",
       "    </tr>\n",
       "  </tbody>\n",
       "</table>\n",
       "</div>"
      ],
      "text/plain": [
       "             MedInc      HouseAge      AveRooms     AveBedrms    Population  \\\n",
       "count  20640.000000  20640.000000  20640.000000  20640.000000  20640.000000   \n",
       "mean       3.870671     28.639486      5.429000      1.096675   1425.476744   \n",
       "std        1.899822     12.585558      2.474173      0.473911   1132.462122   \n",
       "min        0.499900      1.000000      0.846154      0.333333      3.000000   \n",
       "25%        2.563400     18.000000      4.440716      1.006079    787.000000   \n",
       "50%        3.534800     29.000000      5.229129      1.048780   1166.000000   \n",
       "75%        4.743250     37.000000      6.052381      1.099526   1725.000000   \n",
       "max       15.000100     52.000000    141.909091     34.066667  35682.000000   \n",
       "\n",
       "           AveOccup      Latitude     Longitude   MedHouseVal  \n",
       "count  20640.000000  20640.000000  20640.000000  20640.000000  \n",
       "mean       3.070655     35.631861   -119.569704      2.068558  \n",
       "std       10.386050      2.135952      2.003532      1.153956  \n",
       "min        0.692308     32.540000   -124.350000      0.149990  \n",
       "25%        2.429741     33.930000   -121.800000      1.196000  \n",
       "50%        2.818116     34.260000   -118.490000      1.797000  \n",
       "75%        3.282261     37.710000   -118.010000      2.647250  \n",
       "max     1243.333333     41.950000   -114.310000      5.000010  "
      ]
     },
     "execution_count": 109,
     "metadata": {},
     "output_type": "execute_result"
    }
   ],
   "source": [
    "cal.describe()"
   ]
  },
  {
   "cell_type": "markdown",
   "metadata": {},
   "source": [
    "## Start by fitting a Linear Regression model to the full dataset\n",
    "\n",
    "**Create a training and testing split (ex., 70/30-split)**\n",
    "\n",
    "[Regression documentation](https://scikit-learn.org/stable/modules/generated/sklearn.linear_model.LinearRegression.html)"
   ]
  },
  {
   "cell_type": "code",
   "execution_count": 110,
   "metadata": {},
   "outputs": [
    {
     "name": "stdout",
     "output_type": "stream",
     "text": [
      "14448\n",
      "6192\n"
     ]
    }
   ],
   "source": [
    "# Create training and testing sets (cross-validation not needed)\n",
    "train_set = cal.sample(frac=0.7, random_state=100)\n",
    "test_set = cal[~cal.isin(train_set)].dropna()\n",
    "print(train_set.shape[0])\n",
    "print(test_set.shape[0])"
   ]
  },
  {
   "cell_type": "code",
   "execution_count": 111,
   "metadata": {},
   "outputs": [
    {
     "data": {
      "text/html": [
       "<div>\n",
       "<style scoped>\n",
       "    .dataframe tbody tr th:only-of-type {\n",
       "        vertical-align: middle;\n",
       "    }\n",
       "\n",
       "    .dataframe tbody tr th {\n",
       "        vertical-align: top;\n",
       "    }\n",
       "\n",
       "    .dataframe thead th {\n",
       "        text-align: right;\n",
       "    }\n",
       "</style>\n",
       "<table border=\"1\" class=\"dataframe\">\n",
       "  <thead>\n",
       "    <tr style=\"text-align: right;\">\n",
       "      <th></th>\n",
       "      <th>MedInc</th>\n",
       "      <th>HouseAge</th>\n",
       "      <th>AveRooms</th>\n",
       "      <th>AveBedrms</th>\n",
       "      <th>Population</th>\n",
       "      <th>AveOccup</th>\n",
       "      <th>Latitude</th>\n",
       "      <th>Longitude</th>\n",
       "      <th>MedHouseVal</th>\n",
       "    </tr>\n",
       "  </thead>\n",
       "  <tbody>\n",
       "    <tr>\n",
       "      <th>8151</th>\n",
       "      <td>3.7031</td>\n",
       "      <td>36.0</td>\n",
       "      <td>6.276836</td>\n",
       "      <td>1.039548</td>\n",
       "      <td>444.0</td>\n",
       "      <td>2.508475</td>\n",
       "      <td>33.81</td>\n",
       "      <td>-118.10</td>\n",
       "      <td>2.453</td>\n",
       "    </tr>\n",
       "    <tr>\n",
       "      <th>53</th>\n",
       "      <td>1.2475</td>\n",
       "      <td>52.0</td>\n",
       "      <td>4.075000</td>\n",
       "      <td>1.140000</td>\n",
       "      <td>1162.0</td>\n",
       "      <td>2.905000</td>\n",
       "      <td>37.82</td>\n",
       "      <td>-122.27</td>\n",
       "      <td>1.042</td>\n",
       "    </tr>\n",
       "    <tr>\n",
       "      <th>3039</th>\n",
       "      <td>4.8266</td>\n",
       "      <td>13.0</td>\n",
       "      <td>6.746647</td>\n",
       "      <td>1.062593</td>\n",
       "      <td>2170.0</td>\n",
       "      <td>3.233979</td>\n",
       "      <td>35.37</td>\n",
       "      <td>-119.12</td>\n",
       "      <td>1.462</td>\n",
       "    </tr>\n",
       "    <tr>\n",
       "      <th>9484</th>\n",
       "      <td>2.8833</td>\n",
       "      <td>19.0</td>\n",
       "      <td>6.750000</td>\n",
       "      <td>1.348684</td>\n",
       "      <td>424.0</td>\n",
       "      <td>2.789474</td>\n",
       "      <td>39.31</td>\n",
       "      <td>-123.15</td>\n",
       "      <td>1.542</td>\n",
       "    </tr>\n",
       "    <tr>\n",
       "      <th>9307</th>\n",
       "      <td>2.8903</td>\n",
       "      <td>31.0</td>\n",
       "      <td>4.477459</td>\n",
       "      <td>1.073087</td>\n",
       "      <td>2962.0</td>\n",
       "      <td>2.023224</td>\n",
       "      <td>37.98</td>\n",
       "      <td>-122.52</td>\n",
       "      <td>3.242</td>\n",
       "    </tr>\n",
       "  </tbody>\n",
       "</table>\n",
       "</div>"
      ],
      "text/plain": [
       "      MedInc  HouseAge  AveRooms  AveBedrms  Population  AveOccup  Latitude  \\\n",
       "8151  3.7031      36.0  6.276836   1.039548       444.0  2.508475     33.81   \n",
       "53    1.2475      52.0  4.075000   1.140000      1162.0  2.905000     37.82   \n",
       "3039  4.8266      13.0  6.746647   1.062593      2170.0  3.233979     35.37   \n",
       "9484  2.8833      19.0  6.750000   1.348684       424.0  2.789474     39.31   \n",
       "9307  2.8903      31.0  4.477459   1.073087      2962.0  2.023224     37.98   \n",
       "\n",
       "      Longitude  MedHouseVal  \n",
       "8151    -118.10        2.453  \n",
       "53      -122.27        1.042  \n",
       "3039    -119.12        1.462  \n",
       "9484    -123.15        1.542  \n",
       "9307    -122.52        3.242  "
      ]
     },
     "execution_count": 111,
     "metadata": {},
     "output_type": "execute_result"
    }
   ],
   "source": [
    "train_set.head()"
   ]
  },
  {
   "cell_type": "code",
   "execution_count": 112,
   "metadata": {},
   "outputs": [],
   "source": [
    "# Get the training and testing row indices for later use\n",
    "train_index = train_set.index.values.astype(int)\n",
    "test_index = test_set.index.values.astype(int)"
   ]
  },
  {
   "cell_type": "code",
   "execution_count": 113,
   "metadata": {},
   "outputs": [
    {
     "data": {
      "text/html": [
       "<div>\n",
       "<style scoped>\n",
       "    .dataframe tbody tr th:only-of-type {\n",
       "        vertical-align: middle;\n",
       "    }\n",
       "\n",
       "    .dataframe tbody tr th {\n",
       "        vertical-align: top;\n",
       "    }\n",
       "\n",
       "    .dataframe thead th {\n",
       "        text-align: right;\n",
       "    }\n",
       "</style>\n",
       "<table border=\"1\" class=\"dataframe\">\n",
       "  <thead>\n",
       "    <tr style=\"text-align: right;\">\n",
       "      <th></th>\n",
       "      <th>MedInc</th>\n",
       "      <th>HouseAge</th>\n",
       "      <th>AveRooms</th>\n",
       "      <th>AveBedrms</th>\n",
       "      <th>Population</th>\n",
       "      <th>AveOccup</th>\n",
       "      <th>Latitude</th>\n",
       "      <th>Longitude</th>\n",
       "      <th>MedHouseVal</th>\n",
       "    </tr>\n",
       "  </thead>\n",
       "  <tbody>\n",
       "    <tr>\n",
       "      <th>8151</th>\n",
       "      <td>3.7031</td>\n",
       "      <td>36.0</td>\n",
       "      <td>6.276836</td>\n",
       "      <td>1.039548</td>\n",
       "      <td>444.0</td>\n",
       "      <td>2.508475</td>\n",
       "      <td>33.81</td>\n",
       "      <td>-118.10</td>\n",
       "      <td>2.453</td>\n",
       "    </tr>\n",
       "    <tr>\n",
       "      <th>53</th>\n",
       "      <td>1.2475</td>\n",
       "      <td>52.0</td>\n",
       "      <td>4.075000</td>\n",
       "      <td>1.140000</td>\n",
       "      <td>1162.0</td>\n",
       "      <td>2.905000</td>\n",
       "      <td>37.82</td>\n",
       "      <td>-122.27</td>\n",
       "      <td>1.042</td>\n",
       "    </tr>\n",
       "    <tr>\n",
       "      <th>3039</th>\n",
       "      <td>4.8266</td>\n",
       "      <td>13.0</td>\n",
       "      <td>6.746647</td>\n",
       "      <td>1.062593</td>\n",
       "      <td>2170.0</td>\n",
       "      <td>3.233979</td>\n",
       "      <td>35.37</td>\n",
       "      <td>-119.12</td>\n",
       "      <td>1.462</td>\n",
       "    </tr>\n",
       "    <tr>\n",
       "      <th>9484</th>\n",
       "      <td>2.8833</td>\n",
       "      <td>19.0</td>\n",
       "      <td>6.750000</td>\n",
       "      <td>1.348684</td>\n",
       "      <td>424.0</td>\n",
       "      <td>2.789474</td>\n",
       "      <td>39.31</td>\n",
       "      <td>-123.15</td>\n",
       "      <td>1.542</td>\n",
       "    </tr>\n",
       "    <tr>\n",
       "      <th>9307</th>\n",
       "      <td>2.8903</td>\n",
       "      <td>31.0</td>\n",
       "      <td>4.477459</td>\n",
       "      <td>1.073087</td>\n",
       "      <td>2962.0</td>\n",
       "      <td>2.023224</td>\n",
       "      <td>37.98</td>\n",
       "      <td>-122.52</td>\n",
       "      <td>3.242</td>\n",
       "    </tr>\n",
       "  </tbody>\n",
       "</table>\n",
       "</div>"
      ],
      "text/plain": [
       "      MedInc  HouseAge  AveRooms  AveBedrms  Population  AveOccup  Latitude  \\\n",
       "8151  3.7031      36.0  6.276836   1.039548       444.0  2.508475     33.81   \n",
       "53    1.2475      52.0  4.075000   1.140000      1162.0  2.905000     37.82   \n",
       "3039  4.8266      13.0  6.746647   1.062593      2170.0  3.233979     35.37   \n",
       "9484  2.8833      19.0  6.750000   1.348684       424.0  2.789474     39.31   \n",
       "9307  2.8903      31.0  4.477459   1.073087      2962.0  2.023224     37.98   \n",
       "\n",
       "      Longitude  MedHouseVal  \n",
       "8151    -118.10        2.453  \n",
       "53      -122.27        1.042  \n",
       "3039    -119.12        1.462  \n",
       "9484    -123.15        1.542  \n",
       "9307    -122.52        3.242  "
      ]
     },
     "execution_count": 113,
     "metadata": {},
     "output_type": "execute_result"
    }
   ],
   "source": [
    "# Demonstration of using the row indices above to select consistent records\n",
    "cal.iloc[train_index].head()"
   ]
  },
  {
   "cell_type": "code",
   "execution_count": 114,
   "metadata": {},
   "outputs": [],
   "source": [
    "# Converting the training and testing datasets back to matrix-formats\n",
    "X_train = train_set.iloc[:, 0:8].values # returns the data; excluding the target\n",
    "Y_train = train_set.iloc[:, -1].values # returns the target-only\n",
    "X_test = test_set.iloc[:, 0:8].values # \"\"\n",
    "Y_test = test_set.iloc[:, -1].values # \"\""
   ]
  },
  {
   "cell_type": "code",
   "execution_count": 115,
   "metadata": {},
   "outputs": [
    {
     "name": "stdout",
     "output_type": "stream",
     "text": [
      "0.6160214522398206\n",
      "[ 4.59063361e-01  9.72601795e-03 -1.37408894e-01  8.20058010e-01\n",
      " -5.20832695e-06 -3.38987100e-03 -4.12859546e-01 -4.28244613e-01]\n",
      "-36.61483864947015\n",
      "{'copy_X': True, 'fit_intercept': True, 'n_jobs': None, 'normalize': True}\n"
     ]
    }
   ],
   "source": [
    "# Fit a linear regression to the training data\n",
    "reg = LinearRegression(normalize=True).fit(X_train, Y_train)\n",
    "print(reg.score(X_train, Y_train))\n",
    "print(reg.coef_)\n",
    "print(reg.intercept_)\n",
    "print(reg.get_params())"
   ]
  },
  {
   "cell_type": "code",
   "execution_count": 116,
   "metadata": {},
   "outputs": [
    {
     "name": "stdout",
     "output_type": "stream",
     "text": [
      "The positive(max) coef-value is 0.8200580100743708\n",
      "The variable associated with this coef-value is AveBedrms\n"
     ]
    }
   ],
   "source": [
    "# Find the variable with the largest \"normalized\" coefficient value\n",
    "print('The positive(max) coef-value is {}'.format(max(reg.coef_))) # Positive Max\n",
    "#print('The abs(max) coef-value is {}'.format(max(reg.coef_, key=abs))) # ABS Max\n",
    "max_var = max(reg.coef_) # Positive Max\n",
    "#max_var = max(reg.coef_, key=abs) # ABS Max\n",
    "var_index = reg.coef_.tolist().index(max_var)\n",
    "print('The variable associated with this coef-value is {}'.format(california.feature_names[var_index]))"
   ]
  },
  {
   "cell_type": "code",
   "execution_count": 82,
   "metadata": {},
   "outputs": [
    {
     "name": "stdout",
     "output_type": "stream",
     "text": [
      "MAE: 0.537\n",
      "MSE:  0.556\n",
      "RMSE:  0.746\n",
      "R2:  0.580\n"
     ]
    }
   ],
   "source": [
    "Y_pred = reg.predict(X_test)\n",
    "\n",
    "orig_mae = mean_absolute_error(Y_test,Y_pred)\n",
    "orig_mse = mean_squared_error(Y_test,Y_pred)\n",
    "orig_rmse_val = rmse(Y_test,Y_pred)\n",
    "orig_r2 = r2_score(Y_test,Y_pred)\n",
    "print(\"MAE: %.3f\"%orig_mae)\n",
    "print(\"MSE:  %.3f\"%orig_mse)\n",
    "print(\"RMSE:  %.3f\"%orig_rmse_val)\n",
    "print(\"R2:  %.3f\"%orig_r2)"
   ]
  },
  {
   "cell_type": "code",
   "execution_count": 96,
   "metadata": {},
   "outputs": [
    {
     "name": "stdout",
     "output_type": "stream",
     "text": [
      "MAE: 0.527\n",
      "MSE:  0.512\n",
      "RMSE:  0.716\n",
      "R2:  0.616\n"
     ]
    }
   ],
   "source": [
    "Y_pred_tr = reg.predict(X_train)\n",
    "\n",
    "orig_mae_tr = mean_absolute_error(Y_train,Y_pred_tr)\n",
    "orig_mse_tr = mean_squared_error(Y_train,Y_pred_tr)\n",
    "orig_rmse_val_tr = rmse(Y_train,Y_pred_tr)\n",
    "orig_r2_tr = r2_score(Y_train,Y_pred_tr)\n",
    "print(\"MAE: %.3f\"%orig_mae_tr)\n",
    "print(\"MSE:  %.3f\"%orig_mse_tr)\n",
    "print(\"RMSE:  %.3f\"%orig_rmse_val_tr)\n",
    "print(\"R2:  %.3f\"%orig_r2_tr)"
   ]
  },
  {
   "cell_type": "code",
   "execution_count": 83,
   "metadata": {},
   "outputs": [],
   "source": [
    "res_frame = pd.DataFrame({'data':'original',\n",
    "                   'imputation':'none',\n",
    "                   'mae': orig_mae, \n",
    "                   'mse': orig_mse, \n",
    "                   'rmse':orig_rmse_val, \n",
    "                   'R2':orig_r2,\n",
    "                   'mae_diff':np.nan,\n",
    "                   'mse_diff':np.nan,\n",
    "                   'rmse_diff':np.nan,\n",
    "                   'R2_diff':np.nan}, index=[0])"
   ]
  },
  {
   "cell_type": "code",
   "execution_count": 84,
   "metadata": {},
   "outputs": [
    {
     "data": {
      "text/html": [
       "<div>\n",
       "<style scoped>\n",
       "    .dataframe tbody tr th:only-of-type {\n",
       "        vertical-align: middle;\n",
       "    }\n",
       "\n",
       "    .dataframe tbody tr th {\n",
       "        vertical-align: top;\n",
       "    }\n",
       "\n",
       "    .dataframe thead th {\n",
       "        text-align: right;\n",
       "    }\n",
       "</style>\n",
       "<table border=\"1\" class=\"dataframe\">\n",
       "  <thead>\n",
       "    <tr style=\"text-align: right;\">\n",
       "      <th></th>\n",
       "      <th>data</th>\n",
       "      <th>imputation</th>\n",
       "      <th>mae</th>\n",
       "      <th>mse</th>\n",
       "      <th>rmse</th>\n",
       "      <th>R2</th>\n",
       "      <th>mae_diff</th>\n",
       "      <th>mse_diff</th>\n",
       "      <th>rmse_diff</th>\n",
       "      <th>R2_diff</th>\n",
       "    </tr>\n",
       "  </thead>\n",
       "  <tbody>\n",
       "    <tr>\n",
       "      <th>0</th>\n",
       "      <td>original</td>\n",
       "      <td>none</td>\n",
       "      <td>0.53676</td>\n",
       "      <td>0.556336</td>\n",
       "      <td>0.74588</td>\n",
       "      <td>0.58016</td>\n",
       "      <td>NaN</td>\n",
       "      <td>NaN</td>\n",
       "      <td>NaN</td>\n",
       "      <td>NaN</td>\n",
       "    </tr>\n",
       "  </tbody>\n",
       "</table>\n",
       "</div>"
      ],
      "text/plain": [
       "       data imputation      mae       mse     rmse       R2  mae_diff  \\\n",
       "0  original       none  0.53676  0.556336  0.74588  0.58016       NaN   \n",
       "\n",
       "   mse_diff  rmse_diff  R2_diff  \n",
       "0       NaN        NaN      NaN  "
      ]
     },
     "execution_count": 84,
     "metadata": {},
     "output_type": "execute_result"
    }
   ],
   "source": [
    "res_frame"
   ]
  },
  {
   "cell_type": "markdown",
   "metadata": {},
   "source": [
    "## Lasso Regularization\n",
    "\n",
    "[Lasso documentation](https://scikit-learn.org/stable/modules/generated/sklearn.linear_model.Lasso.html)"
   ]
  },
  {
   "cell_type": "code",
   "execution_count": 85,
   "metadata": {},
   "outputs": [
    {
     "name": "stdout",
     "output_type": "stream",
     "text": [
      "0.4901315865941137\n",
      "[ 0.36544806  0.00671326 -0.         -0.         -0.         -0.\n",
      " -0.         -0.        ]\n",
      "0.4620757849694752\n",
      "{'alpha': 0.001, 'copy_X': True, 'fit_intercept': True, 'max_iter': 1000, 'normalize': True, 'positive': False, 'precompute': False, 'random_state': None, 'selection': 'cyclic', 'tol': 0.0001, 'warm_start': False}\n"
     ]
    }
   ],
   "source": [
    "from sklearn import linear_model\n",
    "l1_mod = linear_model.Lasso(alpha=0.001, normalize=True).fit(X_train, Y_train)\n",
    "print(l1_mod.score(X_train, Y_train))\n",
    "print(l1_mod.coef_)\n",
    "print(l1_mod.intercept_)\n",
    "print(l1_mod.get_params())"
   ]
  },
  {
   "cell_type": "code",
   "execution_count": 86,
   "metadata": {},
   "outputs": [
    {
     "name": "stdout",
     "output_type": "stream",
     "text": [
      "MAE: 0.626\n",
      "MSE:  0.691\n",
      "RMSE:  0.832\n",
      "R2:  0.478\n"
     ]
    }
   ],
   "source": [
    "Y_pred2 = l1_mod.predict(X_test)\n",
    "\n",
    "orig_mae2 = mean_absolute_error(Y_test,Y_pred2)\n",
    "orig_mse2 = mean_squared_error(Y_test,Y_pred2)\n",
    "orig_rmse_val2 = rmse(Y_test,Y_pred2)\n",
    "orig_r22 = r2_score(Y_test,Y_pred2)\n",
    "print(\"MAE: %.3f\"%orig_mae2)\n",
    "print(\"MSE:  %.3f\"%orig_mse2)\n",
    "print(\"RMSE:  %.3f\"%orig_rmse_val2)\n",
    "print(\"R2:  %.3f\"%orig_r22)"
   ]
  },
  {
   "cell_type": "code",
   "execution_count": 98,
   "metadata": {},
   "outputs": [
    {
     "name": "stdout",
     "output_type": "stream",
     "text": [
      "MAE: 0.625\n",
      "MSE:  0.680\n",
      "RMSE:  0.825\n",
      "R2:  0.490\n"
     ]
    }
   ],
   "source": [
    "Y_pred2_tr = l1_mod.predict(X_train)\n",
    "\n",
    "orig_mae2_tr = mean_absolute_error(Y_train,Y_pred2_tr)\n",
    "orig_mse2_tr = mean_squared_error(Y_train,Y_pred2_tr)\n",
    "orig_rmse_val2_tr = rmse(Y_train,Y_pred2_tr)\n",
    "orig_r22_tr = r2_score(Y_train,Y_pred2_tr)\n",
    "print(\"MAE: %.3f\"%orig_mae2_tr)\n",
    "print(\"MSE:  %.3f\"%orig_mse2_tr)\n",
    "print(\"RMSE:  %.3f\"%orig_rmse_val2_tr)\n",
    "print(\"R2:  %.3f\"%orig_r22_tr)"
   ]
  },
  {
   "cell_type": "code",
   "execution_count": 87,
   "metadata": {},
   "outputs": [
    {
     "name": "stdout",
     "output_type": "stream",
     "text": [
      "The positive(max) coef-value is 0.3654480633458641\n",
      "The variable associated with this coef-value is MedInc\n"
     ]
    }
   ],
   "source": [
    "# Find the variable with the largest \"normalized\" coefficient value\n",
    "print('The positive(max) coef-value is {}'.format(max(l1_mod.coef_))) # Positive Max\n",
    "#print('The abs(max) coef-value is {}'.format(max(l1_mod.coef_, key=abs))) # ABS Max\n",
    "max_var = max(l1_mod.coef_) # Positive Max\n",
    "#max_var = max(reg.coef_, key=abs) # ABS Max\n",
    "var_index = l1_mod.coef_.tolist().index(max_var)\n",
    "print('The variable associated with this coef-value is {}'.format(california.feature_names[var_index]))"
   ]
  },
  {
   "cell_type": "code",
   "execution_count": 88,
   "metadata": {},
   "outputs": [],
   "source": [
    "res_frame2 = pd.DataFrame({'data':'lasso',\n",
    "                   'imputation':'none',\n",
    "                   'mae': orig_mae2, \n",
    "                   'mse': orig_mse2, \n",
    "                   'rmse':orig_rmse_val2, \n",
    "                   'R2':orig_r22,\n",
    "                   'mae_diff':orig_mae2-orig_mae,\n",
    "                   'mse_diff':orig_mse2-orig_mse,\n",
    "                   'rmse_diff':orig_rmse_val2-orig_rmse_val,\n",
    "                   'R2_diff':orig_r22-orig_r2}, index=[0])"
   ]
  },
  {
   "cell_type": "code",
   "execution_count": 89,
   "metadata": {},
   "outputs": [
    {
     "data": {
      "text/html": [
       "<div>\n",
       "<style scoped>\n",
       "    .dataframe tbody tr th:only-of-type {\n",
       "        vertical-align: middle;\n",
       "    }\n",
       "\n",
       "    .dataframe tbody tr th {\n",
       "        vertical-align: top;\n",
       "    }\n",
       "\n",
       "    .dataframe thead th {\n",
       "        text-align: right;\n",
       "    }\n",
       "</style>\n",
       "<table border=\"1\" class=\"dataframe\">\n",
       "  <thead>\n",
       "    <tr style=\"text-align: right;\">\n",
       "      <th></th>\n",
       "      <th>data</th>\n",
       "      <th>imputation</th>\n",
       "      <th>mae</th>\n",
       "      <th>mse</th>\n",
       "      <th>rmse</th>\n",
       "      <th>R2</th>\n",
       "      <th>mae_diff</th>\n",
       "      <th>mse_diff</th>\n",
       "      <th>rmse_diff</th>\n",
       "      <th>R2_diff</th>\n",
       "    </tr>\n",
       "  </thead>\n",
       "  <tbody>\n",
       "    <tr>\n",
       "      <th>0</th>\n",
       "      <td>original</td>\n",
       "      <td>none</td>\n",
       "      <td>0.536760</td>\n",
       "      <td>0.556336</td>\n",
       "      <td>0.745880</td>\n",
       "      <td>0.580160</td>\n",
       "      <td>NaN</td>\n",
       "      <td>NaN</td>\n",
       "      <td>NaN</td>\n",
       "      <td>NaN</td>\n",
       "    </tr>\n",
       "    <tr>\n",
       "      <th>0</th>\n",
       "      <td>lasso</td>\n",
       "      <td>none</td>\n",
       "      <td>0.625789</td>\n",
       "      <td>0.691447</td>\n",
       "      <td>0.831533</td>\n",
       "      <td>0.478198</td>\n",
       "      <td>0.089029</td>\n",
       "      <td>0.135111</td>\n",
       "      <td>0.085654</td>\n",
       "      <td>-0.101962</td>\n",
       "    </tr>\n",
       "  </tbody>\n",
       "</table>\n",
       "</div>"
      ],
      "text/plain": [
       "       data imputation       mae       mse      rmse        R2  mae_diff  \\\n",
       "0  original       none  0.536760  0.556336  0.745880  0.580160       NaN   \n",
       "0     lasso       none  0.625789  0.691447  0.831533  0.478198  0.089029   \n",
       "\n",
       "   mse_diff  rmse_diff   R2_diff  \n",
       "0       NaN        NaN       NaN  \n",
       "0  0.135111   0.085654 -0.101962  "
      ]
     },
     "execution_count": 89,
     "metadata": {},
     "output_type": "execute_result"
    }
   ],
   "source": [
    "res_frame = pd.concat([res_frame, res_frame2])\n",
    "res_frame"
   ]
  },
  {
   "cell_type": "markdown",
   "metadata": {},
   "source": [
    "## Ridge Regularization\n",
    "\n",
    "[Ridge documentation](https://scikit-learn.org/stable/modules/generated/sklearn.linear_model.Ridge.html)"
   ]
  },
  {
   "cell_type": "code",
   "execution_count": 90,
   "metadata": {},
   "outputs": [
    {
     "name": "stdout",
     "output_type": "stream",
     "text": [
      "0.3985731241838646\n",
      "[ 2.06667429e-01  6.73928024e-03  2.33927718e-02 -8.41384672e-02\n",
      " -4.93110369e-06 -1.39083648e-03 -4.72833422e-02 -3.19756828e-02]\n",
      "-1.0868402157593984\n",
      "{'alpha': 1.0, 'copy_X': True, 'fit_intercept': True, 'max_iter': None, 'normalize': True, 'random_state': None, 'solver': 'auto', 'tol': 0.001}\n"
     ]
    }
   ],
   "source": [
    "from sklearn.linear_model import Ridge\n",
    "\n",
    "l2_mod = Ridge(alpha=1.0, normalize=True).fit(X_train, Y_train)\n",
    "print(l2_mod.score(X_train, Y_train))\n",
    "print(l2_mod.coef_)\n",
    "print(l2_mod.intercept_)\n",
    "print(l2_mod.get_params())"
   ]
  },
  {
   "cell_type": "code",
   "execution_count": 91,
   "metadata": {},
   "outputs": [
    {
     "name": "stdout",
     "output_type": "stream",
     "text": [
      "MAE: 0.697\n",
      "MSE:  0.800\n",
      "RMSE:  0.895\n",
      "R2:  0.396\n"
     ]
    }
   ],
   "source": [
    "Y_pred3 = l2_mod.predict(X_test)\n",
    "\n",
    "orig_mae3 = mean_absolute_error(Y_test,Y_pred3)\n",
    "orig_mse3 = mean_squared_error(Y_test,Y_pred3)\n",
    "orig_rmse_val3 = rmse(Y_test,Y_pred3)\n",
    "orig_r23 = r2_score(Y_test,Y_pred3)\n",
    "print(\"MAE: %.3f\"%orig_mae3)\n",
    "print(\"MSE:  %.3f\"%orig_mse3)\n",
    "print(\"RMSE:  %.3f\"%orig_rmse_val3)\n",
    "print(\"R2:  %.3f\"%orig_r23)"
   ]
  },
  {
   "cell_type": "code",
   "execution_count": 99,
   "metadata": {},
   "outputs": [
    {
     "name": "stdout",
     "output_type": "stream",
     "text": [
      "MAE: 0.698\n",
      "MSE:  0.802\n",
      "RMSE:  0.896\n",
      "R2:  0.399\n"
     ]
    }
   ],
   "source": [
    "Y_pred3_tr = l2_mod.predict(X_train)\n",
    "\n",
    "orig_mae3_tr = mean_absolute_error(Y_train,Y_pred3_tr)\n",
    "orig_mse3_tr = mean_squared_error(Y_train,Y_pred3_tr)\n",
    "orig_rmse_val3_tr = rmse(Y_train,Y_pred3_tr)\n",
    "orig_r23_tr = r2_score(Y_train,Y_pred3_tr)\n",
    "print(\"MAE: %.3f\"%orig_mae3_tr)\n",
    "print(\"MSE:  %.3f\"%orig_mse3_tr)\n",
    "print(\"RMSE:  %.3f\"%orig_rmse_val3_tr)\n",
    "print(\"R2:  %.3f\"%orig_r23_tr)"
   ]
  },
  {
   "cell_type": "code",
   "execution_count": 92,
   "metadata": {},
   "outputs": [
    {
     "name": "stdout",
     "output_type": "stream",
     "text": [
      "The positive(max) coef-value is 0.20666742861892937\n",
      "The variable associated with this coef-value is MedInc\n"
     ]
    }
   ],
   "source": [
    "# Find the variable with the largest \"normalized\" coefficient value\n",
    "print('The positive(max) coef-value is {}'.format(max(l2_mod.coef_))) # Positive Max\n",
    "#print('The abs(max) coef-value is {}'.format(max(l2_mod.coef_, key=abs))) # ABS Max\n",
    "max_var3 = max(l2_mod.coef_) # Positive Max\n",
    "#max_var = max(reg.coef_, key=abs) # ABS Max\n",
    "var_index3 = l2_mod.coef_.tolist().index(max_var3)\n",
    "print('The variable associated with this coef-value is {}'.format(california.feature_names[var_index]))"
   ]
  },
  {
   "cell_type": "code",
   "execution_count": 93,
   "metadata": {},
   "outputs": [],
   "source": [
    "res_frame3 = pd.DataFrame({'data':'ridge',\n",
    "                   'imputation':'none',\n",
    "                   'mae': orig_mae3, \n",
    "                   'mse': orig_mse3, \n",
    "                   'rmse':orig_rmse_val3, \n",
    "                   'R2':orig_r23,\n",
    "                   'mae_diff':orig_mae3-orig_mae,\n",
    "                   'mse_diff':orig_mse3-orig_mse,\n",
    "                   'rmse_diff':orig_rmse_val3-orig_rmse_val,\n",
    "                   'R2_diff':orig_r23-orig_r2}, index=[0])"
   ]
  },
  {
   "cell_type": "code",
   "execution_count": 94,
   "metadata": {},
   "outputs": [
    {
     "data": {
      "text/html": [
       "<div>\n",
       "<style scoped>\n",
       "    .dataframe tbody tr th:only-of-type {\n",
       "        vertical-align: middle;\n",
       "    }\n",
       "\n",
       "    .dataframe tbody tr th {\n",
       "        vertical-align: top;\n",
       "    }\n",
       "\n",
       "    .dataframe thead th {\n",
       "        text-align: right;\n",
       "    }\n",
       "</style>\n",
       "<table border=\"1\" class=\"dataframe\">\n",
       "  <thead>\n",
       "    <tr style=\"text-align: right;\">\n",
       "      <th></th>\n",
       "      <th>data</th>\n",
       "      <th>imputation</th>\n",
       "      <th>mae</th>\n",
       "      <th>mse</th>\n",
       "      <th>rmse</th>\n",
       "      <th>R2</th>\n",
       "      <th>mae_diff</th>\n",
       "      <th>mse_diff</th>\n",
       "      <th>rmse_diff</th>\n",
       "      <th>R2_diff</th>\n",
       "    </tr>\n",
       "  </thead>\n",
       "  <tbody>\n",
       "    <tr>\n",
       "      <th>0</th>\n",
       "      <td>original</td>\n",
       "      <td>none</td>\n",
       "      <td>0.536760</td>\n",
       "      <td>0.556336</td>\n",
       "      <td>0.745880</td>\n",
       "      <td>0.580160</td>\n",
       "      <td>NaN</td>\n",
       "      <td>NaN</td>\n",
       "      <td>NaN</td>\n",
       "      <td>NaN</td>\n",
       "    </tr>\n",
       "    <tr>\n",
       "      <th>0</th>\n",
       "      <td>lasso</td>\n",
       "      <td>none</td>\n",
       "      <td>0.625789</td>\n",
       "      <td>0.691447</td>\n",
       "      <td>0.831533</td>\n",
       "      <td>0.478198</td>\n",
       "      <td>0.089029</td>\n",
       "      <td>0.135111</td>\n",
       "      <td>0.085654</td>\n",
       "      <td>-0.101962</td>\n",
       "    </tr>\n",
       "    <tr>\n",
       "      <th>0</th>\n",
       "      <td>ridge</td>\n",
       "      <td>none</td>\n",
       "      <td>0.697234</td>\n",
       "      <td>0.800269</td>\n",
       "      <td>0.894578</td>\n",
       "      <td>0.396076</td>\n",
       "      <td>0.160473</td>\n",
       "      <td>0.243933</td>\n",
       "      <td>0.148698</td>\n",
       "      <td>-0.184084</td>\n",
       "    </tr>\n",
       "  </tbody>\n",
       "</table>\n",
       "</div>"
      ],
      "text/plain": [
       "       data imputation       mae       mse      rmse        R2  mae_diff  \\\n",
       "0  original       none  0.536760  0.556336  0.745880  0.580160       NaN   \n",
       "0     lasso       none  0.625789  0.691447  0.831533  0.478198  0.089029   \n",
       "0     ridge       none  0.697234  0.800269  0.894578  0.396076  0.160473   \n",
       "\n",
       "   mse_diff  rmse_diff   R2_diff  \n",
       "0       NaN        NaN       NaN  \n",
       "0  0.135111   0.085654 -0.101962  \n",
       "0  0.243933   0.148698 -0.184084  "
      ]
     },
     "execution_count": 94,
     "metadata": {},
     "output_type": "execute_result"
    }
   ],
   "source": [
    "res_frame = pd.concat([res_frame, res_frame3])\n",
    "res_frame"
   ]
  },
  {
   "cell_type": "code",
   "execution_count": null,
   "metadata": {},
   "outputs": [],
   "source": []
  }
 ],
 "metadata": {
  "kernelspec": {
   "display_name": "Python 3",
   "language": "python",
   "name": "python3"
  },
  "language_info": {
   "codemirror_mode": {
    "name": "ipython",
    "version": 3
   },
   "file_extension": ".py",
   "mimetype": "text/x-python",
   "name": "python",
   "nbconvert_exporter": "python",
   "pygments_lexer": "ipython3",
   "version": "3.7.2"
  }
 },
 "nbformat": 4,
 "nbformat_minor": 2
}
