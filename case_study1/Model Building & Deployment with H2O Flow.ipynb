{
 "cells": [
  {
   "cell_type": "markdown",
   "metadata": {},
   "source": [
    "# Building & Deploying an H2O Model\n",
    "\n",
    "**Purpose:** This notebook is designed to interactively guide the user through an end-to-end process for deploying a machine learning workflow utilizing h2o.ai's Flow browser-based interface.  It provides a generic dataset, but the notebook can be repurposed for any structured dataset (.csv and .xlsx-formats).\n",
    "\n",
    "## The dataset\n",
    "Kickstarter is one of the main online crowdfunding platforms in the world. The dataset provided contains data on tens of thousands of projects launched on the platform in 2018. The datasets provided have the same structure and contain the following columns:\n",
    "\n",
    "- **ID**: internal ID, _numeric_\n",
    "- **name**: name of the project, _string_\n",
    "- **category**: project's category, _string_\n",
    "- **main_category**: campaign's category, _string_\n",
    "- **currency**: project's currency, _string_\n",
    "- **deadline**: project's deadline date, _timestamp_\n",
    "- **goal**: fundraising goal, _numeric_\n",
    "- **launched**: project's start date, _timestamp_\n",
    "- **pledged**: amount pledged by backers (project's currency), _numeric_\n",
    "- **state**: project's current state, _string_; **this is what you have to predict**\n",
    "- **backers**: amount of poeple that backed the project, _numeric_\n",
    "- **country**: project's country, _string_\n",
    "- **usd pledged**: amount pledged by backers converted to USD (conversion made by KS), _numeric_\n",
    "- **usd_pledged_real**: amount pledged by backers converted to USD (conversion made by fixer.io api), _numeric_\n",
    "- **usd_goal_real**: fundraising goal is USD, _numeric_\n",
    "- **launch_month**: the numeric value for the month of the year in which the project was launched, _numeric_\n",
    "- **launch_dow**: an integer value ranging from 1 (Sunday) to 7 (Saturday), _numeric_\n",
    "- **duration**: the number of days between the launched date and deadline date, _numeric_\n",
    "\n",
    "</br></br>\n",
    "\n",
    "**Resources**:\n",
    "* https://ipywidgets.readthedocs.io/en/stable/examples/Widget%20List.html\n",
    "    \n",
    "## Table of Contents\n",
    "\n",
    "**1.0** **- Ingest Data**\n",
    "    * 1.1 - Set Your Working Directory\n",
    "    * 1.2 - Upload Your Data (for Modeling)\n",
    "    * 1.3 - Select a Data Frame (for Modeling)\n",
    "     \n",
    "**2.0** **- Initiate H2O**\n",
    "    * 2.1 - Select Your Target Variable\n",
    "    * 2.2 - Initiate H2O\n",
    "    * 2.3 - Configure Models in H2O Flow\n",
    "\n",
    "**3.0** **- Score New Data**\n",
    "    * 3.1 - Upload Your Data (for Scoring)\n",
    "    * 3.2 - Select a Data Frame (for Scoring)\n",
    "    * 3.3 - Perform Singe or Batch Scoring\n",
    "\n",
    "## Dependencies\n",
    "\n",
    "This script was executed using the following version of Python:\n",
    "* **Python 3.6.2 :: Anaconda, Inc.**\n",
    "\n",
    "Use this link to install Python on your machine:\n",
    "* https://www.anaconda.com/distribution/#download-section\n",
    "\n",
    "**About Python Versions:**\n",
    "If you are running a higher-version of Python and this notebook fails to execute properly, you can downgrade your version in the terminal by running the following commands:\n",
    "* conda search python [to see which versions are available on your machine]\n",
    "* conda install python=3.6.2 [which will switch the active version to 3.6.2; if available in the list above]\n",
    "\n",
    "**About Python Packages:**\n",
    "All packages used in this notebook can be installed on your machine using the \"pip install [package_name]\" command on your terminal.  Be sure you've installed each of the packages below before attempting to execute the notebook.\n",
    "\n",
    "Current package requirements include:\n",
    "* os - https://docs.python.org/3/library/os.html\n",
    "* Pandas - https://pandas.pydata.org/\n",
    "* Datetime - https://docs.python.org/3/library/datetime.html\n",
    "* re - https://docs.python.org/3/library/re.html\n",
    "* Numpy - http://www.numpy.org/\n",
    "* ipywidgets - https://ipywidgets.readthedocs.io/en/stable/user_install.html\n",
    "* ipython - https://ipython.org/ipython-doc/rel-0.10.2/html/interactive/extension_api.html\n",
    "* h2o - http://docs.h2o.ai/h2o/latest-stable/h2o-docs/downloading.html#install-in-python\n",
    "* scikit-learn - https://scikit-learn.org/stable/install.html\n",
    "* requests - https://2.python-requests.org/en/master/user/install/\n",
    "* io - https://docs.python.org/3/library/io.html\n",
    "* warnings - https://docs.python.org/3/library/warnings.html\n",
    "* json - https://docs.python.org/3/library/json.html\n",
    "* subprocess - https://docs.python.org/3/library/subprocess.html\n",
    "\n",
    "The current template uses the following versions:\n",
    "* os== module 'os' from '/anaconda3/lib/python3.6/os.py'\n",
    "* pandas==0.24.1\n",
    "* datetime== module 'datetime' from '/anaconda3/lib/python3.6/datetime.py'\n",
    "* re== module 're' from '/anaconda3/lib/python3.6/re.py'\n",
    "* numpy==1.16.1\n",
    "* ipywidgets==7.4.2\n",
    "* ipython==6.2.1\n",
    "* h2o==3.24.0.4\n",
    "* scikit-learn==0.19.1\n",
    "* requests==2.18.4\n",
    "* io== module 'io' from '/anaconda3/lib/python3.6/io.py'\n",
    "* warnings== module 'warnings' from '/anaconda3/lib/python3.6/warnings.py'\n",
    "* json"
   ]
  },
  {
   "cell_type": "markdown",
   "metadata": {},
   "source": [
    "## Before you begin, ensure you've installed the required Python packages\n",
    "\n",
    "* See the list above and make note of the specific versions that were used in this notebook"
   ]
  },
  {
   "cell_type": "code",
   "execution_count": 3,
   "metadata": {},
   "outputs": [],
   "source": [
    "############################################\n",
    "###### Import required Python packages #####\n",
    "############################################\n",
    "\n",
    "import os\n",
    "import pandas as pd\n",
    "import re\n",
    "import datetime as dt\n",
    "from datetime import timezone\n",
    "import numpy as np\n",
    "from ipywidgets import interact, interactive, IntSlider, Layout\n",
    "import ipywidgets as widgets\n",
    "from IPython.display import display\n",
    "import h2o\n",
    "from h2o.automl import H2OAutoML\n",
    "from sklearn.model_selection import train_test_split\n",
    "import io\n",
    "import requests\n",
    "import subprocess\n",
    "import json\n",
    "import warnings\n",
    "warnings.filterwarnings('ignore')"
   ]
  },
  {
   "cell_type": "markdown",
   "metadata": {},
   "source": [
    "## Note: Code Cells are Hidden by Default for Ease-of-Use\n",
    "\n",
    "This notebook incorporates interactive \"widgets\" which will result in large blocks of cells being utilized to enable specific user-interactions.  Executing this cell will hide all \"Code\" cells while making all outputs visible to the user.  Refer to the link below for the source or simply \"run\" the block below to see the impact on the rest of the notebook.\n",
    "\n",
    "* https://stackoverflow.com/questions/27934885/how-to-hide-code-from-cells-in-ipython-notebook-visualized-with-nbviewer\n",
    "\n",
    "#### Disclaimer:\n",
    "* As the \"output text\" notes, simply click the \"here\" hyperlink in the text to toggle on/off this feature"
   ]
  },
  {
   "cell_type": "code",
   "execution_count": 2,
   "metadata": {},
   "outputs": [
    {
     "data": {
      "text/html": [
       "<script>\n",
       "code_show=true; \n",
       "function code_toggle() {\n",
       " if (code_show){\n",
       " $('div.input').hide();\n",
       " } else {\n",
       " $('div.input').show();\n",
       " }\n",
       " code_show = !code_show\n",
       "} \n",
       "$( document ).ready(code_toggle);\n",
       "</script>\n",
       "The raw code for this IPython notebook is by default hidden for easier reading.\n",
       "To toggle on/off the raw code, click <a href=\"javascript:code_toggle()\">here</a>."
      ],
      "text/plain": [
       "<IPython.core.display.HTML object>"
      ]
     },
     "execution_count": 2,
     "metadata": {},
     "output_type": "execute_result"
    }
   ],
   "source": [
    "from IPython.display import HTML\n",
    "\n",
    "HTML('''<script>\n",
    "code_show=true; \n",
    "function code_toggle() {\n",
    " if (code_show){\n",
    " $('div.input').hide();\n",
    " } else {\n",
    " $('div.input').show();\n",
    " }\n",
    " code_show = !code_show\n",
    "} \n",
    "$( document ).ready(code_toggle);\n",
    "</script>\n",
    "The raw code for this IPython notebook is by default hidden for easier reading.\n",
    "To toggle on/off the raw code, click <a href=\"javascript:code_toggle()\">here</a>.''')"
   ]
  },
  {
   "cell_type": "markdown",
   "metadata": {},
   "source": [
    "## 1.0 - Data Ingestion\n",
    "\n",
    "The series of code blocks below will walk you through the process of mapping to your working directory and uploading your dataset."
   ]
  },
  {
   "cell_type": "markdown",
   "metadata": {},
   "source": [
    "## 1.1 - Set Your Working Directory\n",
    "\n",
    "Your \"working directory\" is a folder location on your computer that will store files either read-in or written-out by this script.  This code by default will return your current, active directory.  You can change this directory by typing in a specific path into the text box provided."
   ]
  },
  {
   "cell_type": "markdown",
   "metadata": {},
   "source": [
    "## AN IMPORTANT NOTE ABOUT INTERACTIVE WIDGETS\n",
    "\n",
    "This notebook uses interactive widgets to help you make selections and inputs more conveniently.  As you work through this notebook, be sure to follow the steps below to ensure your selections are incorporated in the cells that follow:\n",
    "\n",
    "#### 1. Run the cell containing the interactive widget(s) to bring them into view\n",
    "#### 2. Apply your selections and/or inputs to the widgets that appear\n",
    "#### 3. DO NOT rerun the cell as it will erase your selections and inputs\n",
    "#### 4. To proceed, simply click on the next cell in the notebook, and Run it\n",
    "\n",
    "<br/>"
   ]
  },
  {
   "cell_type": "code",
   "execution_count": 6,
   "metadata": {},
   "outputs": [
    {
     "data": {
      "application/vnd.jupyter.widget-view+json": {
       "model_id": "ccc04db157f34070b013b9a581db7633",
       "version_major": 2,
       "version_minor": 0
      },
      "text/plain": [
       "Text(value='/Users/bblanchard006/Desktop/SMU/QTW/Week 2/Summer 2021', description='Directory:', layout=Layout(…"
      ]
     },
     "metadata": {},
     "output_type": "display_data"
    }
   ],
   "source": [
    "set_working_directory = widgets.Text(\n",
    "    value=os.getcwd(),\n",
    "    placeholder='/Users/bblanchard006/Desktop/SMU/QTW/Week 2',\n",
    "    description='Directory:',\n",
    "    disabled=False,\n",
    "    layout=Layout(width='100%')\n",
    ")\n",
    "\n",
    "display(set_working_directory)"
   ]
  },
  {
   "cell_type": "markdown",
   "metadata": {},
   "source": [
    "## Reminder: Do not rerun the cell above after applying your inputs\n",
    "\n",
    "### Click on and Run this cell to proceed\n",
    "\n",
    "After executing the cell above, you can leave the default directory or overwrite the text string that appears with your desired folder directory. **DO NOT execute the cell again after making your update.** The input above will be fed into the following code cell, where it will either successfully map to the new directory or notify you of an error."
   ]
  },
  {
   "cell_type": "code",
   "execution_count": 7,
   "metadata": {},
   "outputs": [
    {
     "name": "stdout",
     "output_type": "stream",
     "text": [
      "Changed directory to /Users/bblanchard006/Desktop/SMU/QTW/Week 2/Summer 2021\n"
     ]
    }
   ],
   "source": [
    "try:\n",
    "    os.chdir(set_working_directory.value)\n",
    "    print('Changed directory to {}'.format(set_working_directory.value))\n",
    "except Exception as e:\n",
    "    print('Failed to change directory')\n",
    "    print(e)"
   ]
  },
  {
   "cell_type": "markdown",
   "metadata": {},
   "source": [
    "## 1.2 - Upload Your Data (Excel and CSV files)\n",
    "\n",
    "The function in the code cell below will find, ingest, and format both xlsx and csv files.  This is the dataset with \"known\" values which will be used to train your models."
   ]
  },
  {
   "cell_type": "code",
   "execution_count": 8,
   "metadata": {},
   "outputs": [],
   "source": [
    "########################################\n",
    "##### Data Ingestion Functions\n",
    "########################################\n",
    "\n",
    "def compile_raw_data(filename, tab_names, subfolder, delimiter_char = ',', skip_rows = 0, file_ext = 'xlsx'):\n",
    "    \n",
    "    # Inputs: \n",
    "    ## filename = 'sample.csv' | 'sample.xlsx' - the filename in the directory (including the extension) \n",
    "    ## tab_names = None | ['Sheet1,'Sheet2'] - None for csv; [comma separated list of tab names] for xlsx\n",
    "    ## subfolder = 'source_data' - string containing the name of a folder in the working directory\n",
    "    ## delimiter_char = ',' | ';' - None for xlsx\n",
    "    ## rows to skip = default 0 - Not used for csv; trims the user-defined number of rows from an xlsx\n",
    "    ## file extension = csv | xlsx\n",
    "    \n",
    "    # Description: reads in the workbook; standardizes header names; \n",
    "    # Outputs: returns a dictionary of dataframes\n",
    "\n",
    "    master_data = {}\n",
    "    if subfolder:\n",
    "        file_path = subfolder+'/{}'.format(filename)\n",
    "    else:\n",
    "        file_path = filename\n",
    "\n",
    "    if file_ext == 'csv':\n",
    "        tab_names = [re.sub('.csv','', filename)]\n",
    "\n",
    "    for tab in tab_names:\n",
    "        try:\n",
    "            if file_ext == 'xlsx':\n",
    "                dframe = pd.read_excel(file_path, tab, skip_rows)\n",
    "            elif file_ext == 'csv' and delimiter_char == ',':\n",
    "                dframe = pd.read_csv(file_path, header=0, delimiter=',')\n",
    "            else:\n",
    "                dframe = pd.read_csv(file_path, header=0, delimiter=';')\n",
    "                \n",
    "            sanitizer = {\n",
    "                        '$':'USD',\n",
    "                        '(':' ',\n",
    "                        ')':' ',\n",
    "                        '/':' ',\n",
    "                        '-':' ',\n",
    "                        ',':' ',\n",
    "                        '.':' '\n",
    "            }\n",
    "                        \n",
    "            for key, value in sanitizer.items():\n",
    "                dframe.rename(columns=lambda x: x.replace(key, value), inplace=True)\n",
    "                \n",
    "            dframe.rename(columns=lambda x: x.strip(), inplace=True)\n",
    "            dframe.rename(columns=lambda x: re.sub(' +','_', x), inplace=True)\n",
    "            \n",
    "            dframe.columns = map(str.lower, dframe.columns)\n",
    "            \n",
    "            master_data.update({tab:dframe})\n",
    "        except Exception as e:\n",
    "            master_data.update({tab:'Failed'})\n",
    "    \n",
    "    return master_data"
   ]
  },
  {
   "cell_type": "markdown",
   "metadata": {},
   "source": [
    "The code blocks below enable conditional filtering to support multiple file types. Further instructions are provided below:\n",
    "\n",
    "**Uploading csv files**\n",
    "\n",
    "To upload a csv file, complete these steps:\n",
    "1. Type in your filename along with the extension (ex. sample.csv)\n",
    "2. Check the 'csv' radio-button\n",
    "3. Is your file in the main directory or a sub-folder in the directory:\n",
    "    * Select the \"no\" radio-button if your file is in your main directory\n",
    "    * Select the \"yes\" radio-button to expose a text-box where you can type-in the name of your sub-folder\n",
    "    \n",
    "**Uploading xlsx files**\n",
    "\n",
    "To upload an xlsx file, complete these steps:\n",
    "1. Type in your filename along with the extension (ex. sample.xlsx)\n",
    "2. Check the 'xlsx' radio-button\n",
    "3. Type in the tab-names you'd like to ingest (comma-separated; Sheet1,Sheet2,Sheet3)\n",
    "4. If the data in your file has leading rows, select how many rows to skip before ingesting the data (ex. if your data starts on Row 2 in the Excel-file, set the Skip Rows value to 1)\n",
    "5. Is your file in the main directory or a sub-folder in the directory:\n",
    "    * Select the \"no\" radio-button if your file is in your main directory\n",
    "    * Select the \"yes\" radio-button to expose a text-box where you can type-in the name of your sub-folder"
   ]
  },
  {
   "cell_type": "code",
   "execution_count": 9,
   "metadata": {},
   "outputs": [
    {
     "data": {
      "application/vnd.jupyter.widget-view+json": {
       "model_id": "062785b35cee4f8a84020f685547ee74",
       "version_major": 2,
       "version_minor": 0
      },
      "text/plain": [
       "interactive(children=(RadioButtons(description='File Location:', options=('local', 'url'), value='local'), Out…"
      ]
     },
     "metadata": {},
     "output_type": "display_data"
    }
   ],
   "source": [
    "upload_type = widgets.RadioButtons(\n",
    "    options=['local', 'url'],\n",
    "    description='File Location:',\n",
    "    disabled=False\n",
    ")\n",
    "\n",
    "upload_url = widgets.Text(\n",
    "    value='https://web.stanford.edu/class/archive/cs/cs109/cs109.1166/stuff/titanic.csv',\n",
    "    placeholder='http://',\n",
    "    description='URL:',\n",
    "    disabled=False,\n",
    "    layout=Layout(width='80%')\n",
    ")\n",
    "upload_filename = widgets.Text(\n",
    "    value='training_data.csv',\n",
    "    placeholder='Sample File.csv',\n",
    "    description='File Name:',\n",
    "    disabled=False,\n",
    "    layout=Layout(width='50%')\n",
    ")\n",
    "\n",
    "file_type = widgets.RadioButtons(\n",
    "    options=['csv', 'xlsx'],\n",
    "    description='File Type:',\n",
    "    disabled=False\n",
    ")\n",
    "\n",
    "tab_names = widgets.Text(\n",
    "    value='Sheet1, Sheet2, Sheet3, etc',\n",
    "    placeholder='ALL EMPLOYEES, PAST EMPLOYEES',\n",
    "    description='Tab(s):',\n",
    "    disabled=False,\n",
    "    layout=Layout(width='50%')\n",
    ")\n",
    "\n",
    "subfolder_name = widgets.Text(\n",
    "    value='source_data',\n",
    "    placeholder='Subfolder name',\n",
    "    description='Subfolder:',\n",
    "    disabled=False,\n",
    "    layout=Layout(width='50%')\n",
    ")\n",
    "\n",
    "subfolder = widgets.RadioButtons(\n",
    "    options=['no','yes'],\n",
    "    value='no',\n",
    "    description='Subfolder:',\n",
    "    disabled=False\n",
    ")\n",
    "\n",
    "skip_rows = widgets.IntSlider(\n",
    "    value=0,\n",
    "    min=0,\n",
    "    max=10,\n",
    "    step=1,\n",
    "    description='Skip Rows:',\n",
    "    disabled=False,\n",
    "    continuous_update=True,\n",
    "    orientation='horizontal',\n",
    "    readout=True,\n",
    "    readout_format='d'\n",
    ")\n",
    "\n",
    "delimiter = widgets.RadioButtons(\n",
    "    options=[',',';'],\n",
    "    value=',',\n",
    "    description='Delimiter:',\n",
    "    disabled=False\n",
    ")\n",
    "\n",
    "def text_field(x):\n",
    "    if(x=='xlsx'):\n",
    "        display(tab_names)\n",
    "        tab_names.on_submit(tab_names)\n",
    "        display(skip_rows)\n",
    "    else:\n",
    "        display(delimiter)\n",
    "        print('Tab Names: Not needed for csv files')\n",
    "\n",
    "def sub_folder(y):\n",
    "    if(y=='yes'):\n",
    "        display(subfolder_name)\n",
    "        subfolder_name.on_submit(subfolder_name)\n",
    "    else:\n",
    "        print('Using {} folder'.format(os.getcwd()))\n",
    "\n",
    "def file_location(z):\n",
    "    if(z=='local'):\n",
    "        display(upload_filename)\n",
    "        i = widgets.interactive(text_field, x=file_type)\n",
    "        display(i)\n",
    "        p = widgets.interactive(sub_folder, y=subfolder)\n",
    "        display(p)\n",
    "    else:\n",
    "        display(upload_url)\n",
    "    \n",
    "q = widgets.interactive(file_location, z=upload_type)\n",
    "\n",
    "display(q)"
   ]
  },
  {
   "cell_type": "markdown",
   "metadata": {},
   "source": [
    "## Reminder: Do not rerun the cell above after applying your inputs\n",
    "\n",
    "### Click on and Run this cell to proceed"
   ]
  },
  {
   "cell_type": "markdown",
   "metadata": {},
   "source": [
    "The following code cell will attempt to ingest the data you've selected in the widgets above:\n",
    "\n",
    "**Note About xlsx Files** - Depending on the number of tabs and the size of the data on each tab, ingesting an xlsx file can take several minutes to execute.  If possible, it may be more efficient to break your Excel file into separate csv files which take only a fraction of a second to ingest."
   ]
  },
  {
   "cell_type": "code",
   "execution_count": 10,
   "metadata": {},
   "outputs": [],
   "source": [
    "master_data = {}\n",
    "\n",
    "if upload_type.value == 'url':\n",
    "    url_response = requests.request(\"GET\", upload_url.value)\n",
    "    master_data['url_data'] = pd.read_csv(io.BytesIO(url_response.content))\n",
    "else:\n",
    "    if file_type.value == 'csv':\n",
    "        tabs = None\n",
    "        skiprows = 0\n",
    "    else:\n",
    "        tabs = [x.strip() for x in tab_names.value.split(',')]\n",
    "        skiprows = skip_rows.value\n",
    "\n",
    "    if subfolder.value == 'yes':\n",
    "        subfolder = subfolder_name.value\n",
    "    else:\n",
    "        subfolder = None\n",
    "    master_data = compile_raw_data(upload_filename.value, tabs, subfolder, delimiter_char = delimiter.value, skip_rows = skiprows, file_ext = file_type.value)\n"
   ]
  },
  {
   "cell_type": "markdown",
   "metadata": {},
   "source": [
    "**Note:** If you see an AttributeError: 'NoneType' object has no attribute 'value' message above, simply rerun the last two code cells to reset the input parameters.\n",
    "\n",
    "The following code cell will print out the attributes associated with the files you've uploaded and alert you of any errors:"
   ]
  },
  {
   "cell_type": "code",
   "execution_count": 11,
   "metadata": {},
   "outputs": [
    {
     "name": "stdout",
     "output_type": "stream",
     "text": [
      "full_df table was ingested with 21263 rows and 169 columns\n"
     ]
    }
   ],
   "source": [
    "for key, value in master_data.items():\n",
    "    try:\n",
    "        print('{} table was ingested with {} rows and {} columns'.format(key,value.shape[0],value.shape[1]))\n",
    "    except:\n",
    "        print('{} table failed to load'.format(key))"
   ]
  },
  {
   "cell_type": "markdown",
   "metadata": {},
   "source": [
    "## 1.3 - Select a Data Frame\n",
    "\n",
    "The following menus will allow you to select the dataset you would like to use in your modeling and the variables you would like included in the subsequent processes.  You can preview a sample of the data as well as increase or decrease the number of records returned by using the integer input widget (which has a default range; minimum rows = 1, maximum rows = 50).\n",
    "\n",
    "Select an available frame from the list below:"
   ]
  },
  {
   "cell_type": "code",
   "execution_count": 12,
   "metadata": {},
   "outputs": [
    {
     "data": {
      "application/vnd.jupyter.widget-view+json": {
       "model_id": "f1adf2876ce74455b154af86d733982c",
       "version_major": 2,
       "version_minor": 0
      },
      "text/plain": [
       "Select(description='Tables:', layout=Layout(width='50%'), options=('full_df',), value='full_df')"
      ]
     },
     "metadata": {},
     "output_type": "display_data"
    }
   ],
   "source": [
    "dict_keys = widgets.Select(\n",
    "    options=master_data.keys(),\n",
    "    description='Tables:',\n",
    "    disabled=False,\n",
    "    layout=Layout(width='50%')\n",
    ")\n",
    "\n",
    "display(dict_keys)"
   ]
  },
  {
   "cell_type": "markdown",
   "metadata": {},
   "source": [
    "## Reminder: Do not rerun the cell above after applying your inputs\n",
    "\n",
    "### Click on and Run this cell to proceed\n",
    "\n",
    "The cell below will provide a quick snapshot of the data you have selected above"
   ]
  },
  {
   "cell_type": "code",
   "execution_count": 13,
   "metadata": {},
   "outputs": [
    {
     "name": "stdout",
     "output_type": "stream",
     "text": [
      "<class 'pandas.core.frame.DataFrame'>\n",
      "RangeIndex: 21263 entries, 0 to 21262\n",
      "Columns: 169 entries, h to critical_temp\n",
      "dtypes: float64(156), int64(12), object(1)\n",
      "memory usage: 27.4+ MB\n"
     ]
    }
   ],
   "source": [
    "master_data[dict_keys.value].info()"
   ]
  },
  {
   "cell_type": "markdown",
   "metadata": {},
   "source": [
    "After selecting a frame above, select the variables you would like included in your workflow from the list below:\n",
    "\n",
    "**NOTE:** To select multiple values from the picklist, either hold down the command key on your keyboard or click and hold the shift key to select ranges of variables.  You can scroll down if your mouse is within the widget window."
   ]
  },
  {
   "cell_type": "code",
   "execution_count": 14,
   "metadata": {},
   "outputs": [
    {
     "data": {
      "application/vnd.jupyter.widget-view+json": {
       "model_id": "3c00d7842fdc454598fd069112628c92",
       "version_major": 2,
       "version_minor": 0
      },
      "text/plain": [
       "SelectMultiple(description='Variables:', layout=Layout(width='50%'), options=('h', 'he', 'li', 'be', 'b', 'c',…"
      ]
     },
     "metadata": {},
     "output_type": "display_data"
    }
   ],
   "source": [
    "review_variables = widgets.SelectMultiple(\n",
    "    options=master_data[dict_keys.value].columns.tolist(),\n",
    "    description='Variables:',\n",
    "    disabled=False,\n",
    "    layout=Layout(width='50%')\n",
    ")\n",
    "\n",
    "display(review_variables)"
   ]
  },
  {
   "cell_type": "markdown",
   "metadata": {},
   "source": [
    "## Reminder: Do not rerun the cell above after applying your inputs\n",
    "\n",
    "### Click on and Run this cell to proceed\n",
    "Input the number of rows you'd like to sample:"
   ]
  },
  {
   "cell_type": "code",
   "execution_count": 15,
   "metadata": {},
   "outputs": [
    {
     "data": {
      "application/vnd.jupyter.widget-view+json": {
       "model_id": "0270218e8d58475f919715e10b9ff142",
       "version_major": 2,
       "version_minor": 0
      },
      "text/plain": [
       "VBox(children=(VBox(children=(BoundedIntText(value=5, description='Rows:', max=50, min=1),)), Output()))"
      ]
     },
     "metadata": {},
     "output_type": "display_data"
    }
   ],
   "source": [
    "review_var_list = []\n",
    "for i in review_variables.value:\n",
    "    review_var_list.append(i)\n",
    "    \n",
    "master_data['custom_table'] = master_data[dict_keys.value][review_var_list]\n",
    "\n",
    "head_number = widgets.BoundedIntText(\n",
    "    value=5,\n",
    "    min=1,\n",
    "    max=50,\n",
    "    step=1,\n",
    "    description='Rows:',\n",
    "    disabled=False\n",
    ")\n",
    "\n",
    "def sample_view(head_number):\n",
    "    sample = master_data['custom_table'].head(head_number)\n",
    "    print(sample)\n",
    "\n",
    "out = widgets.interactive_output(sample_view, {'head_number':head_number})\n",
    "\n",
    "widgets.VBox([widgets.VBox([head_number]), out])"
   ]
  },
  {
   "cell_type": "markdown",
   "metadata": {},
   "source": [
    "## 2.0 - Initiate H2O\n",
    "\n",
    "The following cells will port your chosen dataframe to h2o and initiate a cluster."
   ]
  },
  {
   "cell_type": "markdown",
   "metadata": {},
   "source": [
    "## 2.1 - Select Your Target Variable\n",
    "\n",
    "Your \"Target\" variable represents the thing you are attempting to predict. It should be either \"categorical\" (ex. text, labels) or \"continuous\" (ex. numeric values) in nature. The target and its type will impact which algorithms are used and the evaluation metrics that are useful in evaluating each models' performance."
   ]
  },
  {
   "cell_type": "markdown",
   "metadata": {},
   "source": [
    "Select your Target variable and note whether or not it is a categorical or continuous data type:"
   ]
  },
  {
   "cell_type": "code",
   "execution_count": 16,
   "metadata": {},
   "outputs": [
    {
     "data": {
      "application/vnd.jupyter.widget-view+json": {
       "model_id": "3bccb253744b46b69698bf4af72e4f30",
       "version_major": 2,
       "version_minor": 0
      },
      "text/plain": [
       "Select(description='Target', options=('h', 'he', 'li', 'be', 'b', 'c', 'n', 'o', 'f', 'ne', 'na', 'mg', 'al', …"
      ]
     },
     "metadata": {},
     "output_type": "display_data"
    },
    {
     "data": {
      "application/vnd.jupyter.widget-view+json": {
       "model_id": "017e6292937542378d5906f84ca3e417",
       "version_major": 2,
       "version_minor": 0
      },
      "text/plain": [
       "Select(description='Type', options=('Continuous', 'Categorical'), value='Continuous')"
      ]
     },
     "metadata": {},
     "output_type": "display_data"
    }
   ],
   "source": [
    "target = widgets.Select(\n",
    "    options=master_data['custom_table'].columns.tolist(),\n",
    "    description='Target',\n",
    "    disabled=False\n",
    ")\n",
    "\n",
    "target_type = widgets.Select(\n",
    "    options=['Continuous','Categorical'],\n",
    "    description='Type',\n",
    "    disabled=False,\n",
    ")\n",
    "\n",
    "display(target)\n",
    "display(target_type)"
   ]
  },
  {
   "cell_type": "markdown",
   "metadata": {},
   "source": [
    "## Reminder: Do not rerun the cell above after applying your inputs\n",
    "\n",
    "### Click on and Run this cell to proceed"
   ]
  },
  {
   "cell_type": "markdown",
   "metadata": {},
   "source": [
    "## 2.2 - Initiate H2O\n",
    "\n",
    "The code cell below will terminate any existing h2o instances and create a new instance"
   ]
  },
  {
   "cell_type": "code",
   "execution_count": 17,
   "metadata": {},
   "outputs": [
    {
     "name": "stdout",
     "output_type": "stream",
     "text": [
      "Checking whether there is an H2O instance running at http://localhost:54321 ..... not found.\n",
      "Attempting to start a local H2O server...\n",
      "  Java Version: openjdk version \"1.8.0_282\"; OpenJDK Runtime Environment (Zulu 8.52.0.24-SA-macosx) (build 1.8.0_282-b08); OpenJDK 64-Bit Server VM (Zulu 8.52.0.24-SA-macosx) (build 25.282-b08, mixed mode)\n",
      "  Starting server from /opt/anaconda3/lib/python3.8/site-packages/h2o/backend/bin/h2o.jar\n",
      "  Ice root: /var/folders/2b/xzj488t53yz39ml4k2d_2w5m0000gr/T/tmpy72dio64\n",
      "  JVM stdout: /var/folders/2b/xzj488t53yz39ml4k2d_2w5m0000gr/T/tmpy72dio64/h2o_bblanchard006_started_from_python.out\n",
      "  JVM stderr: /var/folders/2b/xzj488t53yz39ml4k2d_2w5m0000gr/T/tmpy72dio64/h2o_bblanchard006_started_from_python.err\n",
      "  Server is running at http://127.0.0.1:54321\n",
      "Connecting to H2O server at http://127.0.0.1:54321 ... successful.\n"
     ]
    },
    {
     "data": {
      "text/html": [
       "<div style=\"overflow:auto\"><table style=\"width:50%\"><tr><td>H2O_cluster_uptime:</td>\n",
       "<td>02 secs</td></tr>\n",
       "<tr><td>H2O_cluster_timezone:</td>\n",
       "<td>America/Chicago</td></tr>\n",
       "<tr><td>H2O_data_parsing_timezone:</td>\n",
       "<td>UTC</td></tr>\n",
       "<tr><td>H2O_cluster_version:</td>\n",
       "<td>3.32.1.4</td></tr>\n",
       "<tr><td>H2O_cluster_version_age:</td>\n",
       "<td>1 month and 23 days </td></tr>\n",
       "<tr><td>H2O_cluster_name:</td>\n",
       "<td>H2O_from_python_bblanchard006_6ajep2</td></tr>\n",
       "<tr><td>H2O_cluster_total_nodes:</td>\n",
       "<td>1</td></tr>\n",
       "<tr><td>H2O_cluster_free_memory:</td>\n",
       "<td>7.111 Gb</td></tr>\n",
       "<tr><td>H2O_cluster_total_cores:</td>\n",
       "<td>16</td></tr>\n",
       "<tr><td>H2O_cluster_allowed_cores:</td>\n",
       "<td>16</td></tr>\n",
       "<tr><td>H2O_cluster_status:</td>\n",
       "<td>accepting new members, healthy</td></tr>\n",
       "<tr><td>H2O_connection_url:</td>\n",
       "<td>http://127.0.0.1:54321</td></tr>\n",
       "<tr><td>H2O_connection_proxy:</td>\n",
       "<td>{\"http\": null, \"https\": null}</td></tr>\n",
       "<tr><td>H2O_internal_security:</td>\n",
       "<td>False</td></tr>\n",
       "<tr><td>H2O_API_Extensions:</td>\n",
       "<td>Amazon S3, XGBoost, Algos, AutoML, Core V3, TargetEncoder, Core V4</td></tr>\n",
       "<tr><td>Python_version:</td>\n",
       "<td>3.8.5 final</td></tr></table></div>"
      ],
      "text/plain": [
       "--------------------------  ------------------------------------------------------------------\n",
       "H2O_cluster_uptime:         02 secs\n",
       "H2O_cluster_timezone:       America/Chicago\n",
       "H2O_data_parsing_timezone:  UTC\n",
       "H2O_cluster_version:        3.32.1.4\n",
       "H2O_cluster_version_age:    1 month and 23 days\n",
       "H2O_cluster_name:           H2O_from_python_bblanchard006_6ajep2\n",
       "H2O_cluster_total_nodes:    1\n",
       "H2O_cluster_free_memory:    7.111 Gb\n",
       "H2O_cluster_total_cores:    16\n",
       "H2O_cluster_allowed_cores:  16\n",
       "H2O_cluster_status:         accepting new members, healthy\n",
       "H2O_connection_url:         http://127.0.0.1:54321\n",
       "H2O_connection_proxy:       {\"http\": null, \"https\": null}\n",
       "H2O_internal_security:      False\n",
       "H2O_API_Extensions:         Amazon S3, XGBoost, Algos, AutoML, Core V3, TargetEncoder, Core V4\n",
       "Python_version:             3.8.5 final\n",
       "--------------------------  ------------------------------------------------------------------"
      ]
     },
     "metadata": {},
     "output_type": "display_data"
    }
   ],
   "source": [
    "try:\n",
    "    h2o.cluster().shutdown()\n",
    "    h2o.init()\n",
    "except:\n",
    "    h2o.init()"
   ]
  },
  {
   "cell_type": "markdown",
   "metadata": {},
   "source": [
    "## IMPORTANT: If you are rerunning this workflow and have not \"restarted your kernel\" you will need to run the \"cell\" above up to three times to clear the instances.\n",
    "\n",
    "**DO NOT PROCEED UNTIL** the above cell contains the following text (which will be visible just above a summary table):\n",
    "\n",
    "Connecting to H2O server at http://127.0.0.1:54321 ... successful."
   ]
  },
  {
   "cell_type": "markdown",
   "metadata": {},
   "source": [
    "Load your dataset into h2o by running the command below"
   ]
  },
  {
   "cell_type": "code",
   "execution_count": 18,
   "metadata": {},
   "outputs": [
    {
     "name": "stdout",
     "output_type": "stream",
     "text": [
      "Parse progress: |█████████████████████████████████████████████████████████| 100%\n"
     ]
    }
   ],
   "source": [
    "df = master_data['custom_table'].dropna(subset=[target.value])\n",
    "df = h2o.H2OFrame(df)"
   ]
  },
  {
   "cell_type": "markdown",
   "metadata": {},
   "source": [
    "Once the \"Parse progress:\" reaches 100% above, confirm that your dataset has been loaded correctly by reviewing the table below"
   ]
  },
  {
   "cell_type": "code",
   "execution_count": 19,
   "metadata": {},
   "outputs": [
    {
     "name": "stdout",
     "output_type": "stream",
     "text": [
      "Rows:21263\n",
      "Cols:169\n",
      "\n",
      "\n"
     ]
    },
    {
     "data": {
      "text/html": [
       "<table>\n",
       "<thead>\n",
       "<tr><th>       </th><th>h                  </th><th>he   </th><th>li                  </th><th>be                  </th><th>b                  </th><th>c                 </th><th>n                   </th><th>o                 </th><th>f                   </th><th>ne   </th><th>na                  </th><th>mg                  </th><th>al                  </th><th>si               </th><th>p                  </th><th>s                  </th><th>cl                  </th><th>ar   </th><th>k                  </th><th>ca                 </th><th>sc                  </th><th>ti                 </th><th>v                  </th><th>cr                  </th><th>mn                  </th><th>fe                </th><th>co                  </th><th>ni                 </th><th>cu                </th><th>zn                  </th><th>ga                 </th><th>ge                </th><th>as                 </th><th>se                 </th><th>br                  </th><th>kr   </th><th>rb                  </th><th>sr                </th><th>y                  </th><th>zr                </th><th>nb                 </th><th>mo                 </th><th>tc                   </th><th>ru                  </th><th>rh                 </th><th>pd                 </th><th>ag                  </th><th>cd                  </th><th>in                </th><th>sn                 </th><th>sb                 </th><th>te                  </th><th>i                    </th><th>xe   </th><th>cs                  </th><th>ba                </th><th>la                 </th><th>ce                  </th><th>pr                 </th><th>nd                 </th><th>pm   </th><th>sm                  </th><th>eu                 </th><th>gd                  </th><th>tb                  </th><th>dy                  </th><th>ho                 </th><th>er                 </th><th>tm                 </th><th>yb                  </th><th>lu                 </th><th>hf                 </th><th>ta                 </th><th>w                   </th><th>re                  </th><th>os                  </th><th>ir                  </th><th>pt                 </th><th>au                  </th><th>hg                 </th><th>tl                 </th><th>pb                 </th><th>bi                 </th><th>po   </th><th>at   </th><th>rn   </th><th>material              </th><th>number_of_elements  </th><th>mean_atomic_mass  </th><th>wtd_mean_atomic_mass  </th><th>gmean_atomic_mass  </th><th>wtd_gmean_atomic_mass  </th><th>entropy_atomic_mass  </th><th>wtd_entropy_atomic_mass  </th><th>range_atomic_mass  </th><th>wtd_range_atomic_mass  </th><th>std_atomic_mass   </th><th>wtd_std_atomic_mass  </th><th>mean_fie         </th><th>wtd_mean_fie      </th><th>gmean_fie        </th><th>wtd_gmean_fie     </th><th>entropy_fie        </th><th>wtd_entropy_fie    </th><th>range_fie        </th><th>wtd_range_fie     </th><th>std_fie           </th><th>wtd_std_fie       </th><th>mean_atomic_radius  </th><th>wtd_mean_atomic_radius  </th><th>gmean_atomic_radius  </th><th>wtd_gmean_atomic_radius  </th><th>entropy_atomic_radius  </th><th>wtd_entropy_atomic_radius  </th><th>range_atomic_radius  </th><th>wtd_range_atomic_radius  </th><th>std_atomic_radius  </th><th>wtd_std_atomic_radius  </th><th>mean_density     </th><th>wtd_mean_density  </th><th>gmean_density     </th><th>wtd_gmean_density  </th><th>entropy_density    </th><th>wtd_entropy_density  </th><th>range_density     </th><th>wtd_range_density  </th><th>std_density       </th><th>wtd_std_density   </th><th>mean_electronaffinity  </th><th>wtd_mean_electronaffinity  </th><th>gmean_electronaffinity  </th><th>wtd_gmean_electronaffinity  </th><th>entropy_electronaffinity  </th><th>wtd_entropy_electronaffinity  </th><th>range_electronaffinity  </th><th>wtd_range_electronaffinity  </th><th>std_electronaffinity  </th><th>wtd_std_electronaffinity  </th><th>mean_fusionheat   </th><th>wtd_mean_fusionheat  </th><th>gmean_fusionheat  </th><th>wtd_gmean_fusionheat  </th><th>entropy_fusionheat  </th><th>wtd_entropy_fusionheat  </th><th>range_fusionheat  </th><th>wtd_range_fusionheat  </th><th>std_fusionheat   </th><th>wtd_std_fusionheat  </th><th>mean_thermalconductivity  </th><th>wtd_mean_thermalconductivity  </th><th>gmean_thermalconductivity  </th><th>wtd_gmean_thermalconductivity  </th><th>entropy_thermalconductivity  </th><th>wtd_entropy_thermalconductivity  </th><th>range_thermalconductivity  </th><th>wtd_range_thermalconductivity  </th><th>std_thermalconductivity  </th><th>wtd_std_thermalconductivity  </th><th>mean_valence      </th><th>wtd_mean_valence  </th><th>gmean_valence     </th><th>wtd_gmean_valence  </th><th>entropy_valence    </th><th>wtd_entropy_valence  </th><th>range_valence     </th><th>wtd_range_valence  </th><th>std_valence        </th><th>wtd_std_valence    </th><th>critical_temp     </th></tr>\n",
       "</thead>\n",
       "<tbody>\n",
       "<tr><td>type   </td><td>real               </td><td>int  </td><td>real                </td><td>real                </td><td>real               </td><td>real              </td><td>real                </td><td>real              </td><td>real                </td><td>int  </td><td>real                </td><td>real                </td><td>real                </td><td>real             </td><td>real               </td><td>real               </td><td>real                </td><td>int  </td><td>real               </td><td>real               </td><td>real                </td><td>real               </td><td>real               </td><td>real                </td><td>real                </td><td>real              </td><td>real                </td><td>real               </td><td>real              </td><td>real                </td><td>real               </td><td>real              </td><td>real               </td><td>real               </td><td>real                </td><td>int  </td><td>real                </td><td>real              </td><td>real               </td><td>real              </td><td>real               </td><td>real               </td><td>real                 </td><td>real                </td><td>real               </td><td>real               </td><td>real                </td><td>real                </td><td>real              </td><td>real               </td><td>real               </td><td>real                </td><td>real                 </td><td>int  </td><td>real                </td><td>real              </td><td>real               </td><td>real                </td><td>real               </td><td>real               </td><td>int  </td><td>real                </td><td>real               </td><td>real                </td><td>real                </td><td>real                </td><td>real               </td><td>real               </td><td>real               </td><td>real                </td><td>real               </td><td>real               </td><td>real               </td><td>real                </td><td>real                </td><td>real                </td><td>real                </td><td>real               </td><td>real                </td><td>real               </td><td>real               </td><td>real               </td><td>real               </td><td>int  </td><td>int  </td><td>int  </td><td>enum                  </td><td>int                 </td><td>real              </td><td>real                  </td><td>real               </td><td>real                   </td><td>real                 </td><td>real                     </td><td>real               </td><td>real                   </td><td>real              </td><td>real                 </td><td>real             </td><td>real              </td><td>real             </td><td>real              </td><td>real               </td><td>real               </td><td>real             </td><td>real              </td><td>real              </td><td>real              </td><td>real                </td><td>real                    </td><td>real                 </td><td>real                     </td><td>real                   </td><td>real                       </td><td>int                  </td><td>real                     </td><td>real               </td><td>real                   </td><td>real             </td><td>real              </td><td>real              </td><td>real               </td><td>real               </td><td>real                 </td><td>real              </td><td>real               </td><td>real              </td><td>real              </td><td>real                   </td><td>real                       </td><td>real                    </td><td>real                        </td><td>real                      </td><td>real                          </td><td>real                    </td><td>real                        </td><td>real                  </td><td>real                      </td><td>real              </td><td>real                 </td><td>real              </td><td>real                  </td><td>real                </td><td>real                    </td><td>real              </td><td>real                  </td><td>real             </td><td>real                </td><td>real                      </td><td>real                          </td><td>real                       </td><td>real                           </td><td>real                         </td><td>real                             </td><td>real                       </td><td>real                           </td><td>real                     </td><td>real                         </td><td>real              </td><td>real              </td><td>real              </td><td>real               </td><td>real               </td><td>real                 </td><td>int               </td><td>real               </td><td>real               </td><td>real               </td><td>real              </td></tr>\n",
       "<tr><td>mins   </td><td>0.0                </td><td>0.0  </td><td>0.0                 </td><td>0.0                 </td><td>0.0                </td><td>0.0               </td><td>0.0                 </td><td>0.0               </td><td>0.0                 </td><td>0.0  </td><td>0.0                 </td><td>0.0                 </td><td>0.0                 </td><td>0.0              </td><td>0.0                </td><td>0.0                </td><td>0.0                 </td><td>0.0  </td><td>0.0                </td><td>0.0                </td><td>0.0                 </td><td>0.0                </td><td>0.0                </td><td>0.0                 </td><td>0.0                 </td><td>0.0               </td><td>0.0                 </td><td>0.0                </td><td>0.0               </td><td>0.0                 </td><td>0.0                </td><td>0.0               </td><td>0.0                </td><td>0.0                </td><td>0.0                 </td><td>0.0  </td><td>0.0                 </td><td>0.0               </td><td>0.0                </td><td>0.0               </td><td>0.0                </td><td>0.0                </td><td>0.0                  </td><td>0.0                 </td><td>0.0                </td><td>0.0                </td><td>0.0                 </td><td>0.0                 </td><td>0.0               </td><td>0.0                </td><td>0.0                </td><td>0.0                 </td><td>0.0                  </td><td>0.0  </td><td>0.0                 </td><td>0.0               </td><td>0.0                </td><td>0.0                 </td><td>0.0                </td><td>0.0                </td><td>0.0  </td><td>0.0                 </td><td>0.0                </td><td>0.0                 </td><td>0.0                 </td><td>0.0                 </td><td>0.0                </td><td>0.0                </td><td>0.0                </td><td>0.0                 </td><td>0.0                </td><td>0.0                </td><td>0.0                </td><td>0.0                 </td><td>0.0                 </td><td>0.0                 </td><td>0.0                 </td><td>0.0                </td><td>0.0                 </td><td>0.0                </td><td>0.0                </td><td>0.0                </td><td>0.0                </td><td>0.0  </td><td>0.0  </td><td>0.0  </td><td>                      </td><td>1.0                 </td><td>6.941             </td><td>6.423451999999998     </td><td>5.32057317119124   </td><td>1.9608491143558504     </td><td>0.0                  </td><td>0.0                      </td><td>0.0                </td><td>0.0                    </td><td>0.0               </td><td>0.0                  </td><td>375.5            </td><td>375.5             </td><td>375.5            </td><td>375.5             </td><td>0.0                </td><td>0.0                </td><td>0.0              </td><td>0.0               </td><td>0.0               </td><td>0.0               </td><td>48.0                </td><td>48.0                    </td><td>48.0                 </td><td>48.0                     </td><td>0.0                    </td><td>0.0                        </td><td>0.0                  </td><td>0.0                      </td><td>0.0                </td><td>0.0                    </td><td>1.429            </td><td>1.429             </td><td>1.429             </td><td>0.6862445961227961 </td><td>0.0                </td><td>0.0                  </td><td>0.0               </td><td>0.0                </td><td>0.0               </td><td>0.0               </td><td>1.5                    </td><td>1.5                        </td><td>1.5                     </td><td>1.5                         </td><td>0.0                       </td><td>0.0                           </td><td>0.0                     </td><td>0.0                         </td><td>0.0                   </td><td>0.0                       </td><td>0.222             </td><td>0.222                </td><td>0.222             </td><td>0.222                 </td><td>0.0                 </td><td>0.0                     </td><td>0.0               </td><td>0.0                   </td><td>0.0              </td><td>0.0                 </td><td>0.02658                   </td><td>0.02658                       </td><td>0.02658                    </td><td>0.0229515567322566             </td><td>0.0                          </td><td>0.0                              </td><td>0.0                        </td><td>0.0                            </td><td>0.0                      </td><td>0.0                          </td><td>1.0               </td><td>1.0               </td><td>1.0               </td><td>1.0                </td><td>0.0                </td><td>0.0                  </td><td>0.0               </td><td>0.0                </td><td>0.0                </td><td>0.0                </td><td>0.00021           </td></tr>\n",
       "<tr><td>mean   </td><td>0.01768456943987208</td><td>0.0  </td><td>0.012124770728495507</td><td>0.034637915628086366</td><td>0.14259448807788155</td><td>0.3849678032262613</td><td>0.013284155575412689</td><td>3.0091290363542256</td><td>0.014874232234397775</td><td>0.0  </td><td>0.008891760334853971</td><td>0.026771810186709308</td><td>0.061677909984480084</td><td>0.189889455862296</td><td>0.02814311244885482</td><td>0.10624629638338899</td><td>0.009050416215961999</td><td>0.0  </td><td>0.01604246813713963</td><td>0.25834654564266535</td><td>0.010918826129897008</td><td>0.15681701312138463</td><td>0.22478242016648625</td><td>0.006118960165545783</td><td>0.003191235949771904</td><td>0.1531816230071015</td><td>0.035322654376146366</td><td>0.09018177115176595</td><td>1.2767505808211452</td><td>0.014034068569816111</td><td>0.07399703710671118</td><td>0.0825563372995344</td><td>0.15519691482857534</td><td>0.07866157174434464</td><td>0.003939942623336312</td><td>0.0  </td><td>0.007799228707143864</td><td>0.326909391901425 </td><td>0.17755637727507867</td><td>0.370901025255138 </td><td>0.44234929219771524</td><td>0.14636682970418102</td><td>0.0022910689930865824</td><td>0.055324754267977255</td><td>0.06807219113013213</td><td>0.08503356534825755</td><td>0.007834266096035367</td><td>0.009152179842919626</td><td>0.0494682923388045</td><td>0.12099416827352678</td><td>0.10126936932699997</td><td>0.040491181865211855</td><td>0.0047443916662747495</td><td>0.0  </td><td>0.004128533132671778</td><td>0.5684402483186762</td><td>0.26495259370737884</td><td>0.030661529417297658</td><td>0.04149435639373561</td><td>0.03966603959930397</td><td>0.0  </td><td>0.021991929643041905</td><td>0.01782128580162724</td><td>0.023958761698725486</td><td>0.002856553637774538</td><td>0.009536095565066077</td><td>0.00883152424399191</td><td>0.0142170907209707 </td><td>0.00890937308940413</td><td>0.012715515214221885</td><td>0.0268487043220618 </td><td>0.0091680854065748 </td><td>0.03608622960071485</td><td>0.010423693740300053</td><td>0.038206245590932594</td><td>0.022511865682170902</td><td>0.061558387809810454</td><td>0.03410845130038094</td><td>0.020534543573343368</td><td>0.03666344824342755</td><td>0.04795398109391902</td><td>0.04246080515449372</td><td>0.20100912383012748</td><td>0.0  </td><td>0.0  </td><td>0.0  </td><td>                      </td><td>4.115223627898228   </td><td>87.55763086475895 </td><td>72.98831044307742     </td><td>71.29062703770038  </td><td>58.53991555419589      </td><td>1.1656079642319457   </td><td>1.063883527595826        </td><td>115.60125125331504 </td><td>33.22521792173842      </td><td>44.391893275276125</td><td>41.448044748866934   </td><td>769.6147483220346</td><td>870.4423172901023 </td><td>737.4747507972786</td><td>832.7696487659008 </td><td>1.2991721607957363 </td><td>0.9267258145043098 </td><td>572.2226120490994</td><td>483.5172644078142 </td><td>215.63127944649554</td><td>224.05003328379874</td><td>157.98310075852757  </td><td>134.7200391190723       </td><td>144.4487380332328    </td><td>120.98933048313361       </td><td>1.267755878438339      </td><td>1.1311377209982563         </td><td>139.3250246907774    </td><td>51.36988487982807        </td><td>51.60126669129957  </td><td>52.34046493754295      </td><td>6111.465214254485</td><td>5267.188547254165 </td><td>3460.6922352150773</td><td>3117.2411099859046 </td><td>1.072424606420925  </td><td>0.856036612400844    </td><td>8665.438817941962 </td><td>2902.7368144493626 </td><td>3416.910783960488 </td><td>3319.170627879881 </td><td>76.87975062184178      </td><td>92.71748621630393          </td><td>54.35950154241107       </td><td>72.41622533082108           </td><td>1.0702497970193117        </td><td>0.770756549910316             </td><td>120.73051403847062      </td><td>59.33263739556876           </td><td>48.91220732020928     </td><td>44.40935592805149         </td><td>14.296112664595853</td><td>13.848000883359624   </td><td>10.136976826474305</td><td>10.141160706071785    </td><td>1.0933429814697333  </td><td>0.9140646259558488      </td><td>21.13899393312327 </td><td>8.218528401445527     </td><td>8.323333205231302</td><td>7.717575894832418   </td><td>89.70691087705035         </td><td>81.54907964090546             </td><td>29.84172738988516          </td><td>27.30806129700562              </td><td>0.7276302117667411           </td><td>0.5399907521509                  </td><td>250.89344291163042         </td><td>62.033066314733524             </td><td>98.94399291978203        </td><td>96.2340509969287             </td><td>3.1982284600494646</td><td>3.153126732255913 </td><td>3.0565355466403217</td><td>3.0558851572012005 </td><td>1.295682457242854  </td><td>1.0528414938856556   </td><td>2.0410102055213275</td><td>1.4830072246436987 </td><td>0.8393423829019064 </td><td>0.6739867746255926 </td><td>34.421219135352494</td></tr>\n",
       "<tr><td>maxs   </td><td>14.0               </td><td>0.0  </td><td>3.0                 </td><td>40.0                </td><td>105.0              </td><td>120.0             </td><td>12.8                </td><td>66.0              </td><td>4.0                 </td><td>0.0  </td><td>4.0                 </td><td>12.0                </td><td>99.925              </td><td>100.0            </td><td>20.0               </td><td>15.0               </td><td>3.0                 </td><td>0.0  </td><td>3.3                </td><td>24.0               </td><td>5.0                 </td><td>75.0               </td><td>79.5               </td><td>34.9                </td><td>14.0                </td><td>30.0              </td><td>35.38               </td><td>45.0               </td><td>98.0              </td><td>20.0                </td><td>41.0               </td><td>46.0              </td><td>18.0               </td><td>19.0               </td><td>5.0                 </td><td>0.0  </td><td>4.0                 </td><td>16.7              </td><td>9.0                </td><td>96.71             </td><td>99.976             </td><td>99.992             </td><td>6.0                  </td><td>64.0                </td><td>45.0               </td><td>50.99745           </td><td>7.0                 </td><td>99.995              </td><td>31.5              </td><td>99.2               </td><td>83.5               </td><td>66.7                </td><td>4.0                  </td><td>0.0  </td><td>3.0                 </td><td>24.0              </td><td>98.0               </td><td>4.998               </td><td>185.0              </td><td>6.0                </td><td>0.0  </td><td>12.0                </td><td>6.0                </td><td>4.0                 </td><td>5.0                 </td><td>5.0                 </td><td>5.0                </td><td>5.0                </td><td>5.0                </td><td>16.0                </td><td>7.0                </td><td>25.0               </td><td>55.0               </td><td>14.0                </td><td>97.24               </td><td>10.0                </td><td>45.0                </td><td>5.8                </td><td>64.0                </td><td>8.0                </td><td>7.0                </td><td>19.0               </td><td>14.0               </td><td>0.0  </td><td>0.0  </td><td>0.0  </td><td>                      </td><td>9.0                 </td><td>208.9804          </td><td>208.9804              </td><td>208.9804           </td><td>208.9804               </td><td>1.98379733934683     </td><td>1.9582033708971296       </td><td>207.97246          </td><td>205.58991              </td><td>101.0197          </td><td>101.0197             </td><td>1313.1           </td><td>1348.02898550725  </td><td>1313.1           </td><td>1327.59338127497  </td><td>2.15777657240244   </td><td>2.0385602530020703 </td><td>1304.5           </td><td>1251.85507246377  </td><td>499.67194925771   </td><td>479.162305267108  </td><td>298.0               </td><td>298.0                   </td><td>298.0                </td><td>298.0                    </td><td>2.14196070533239       </td><td>1.90374818834238           </td><td>256.0                </td><td>240.164343938996         </td><td>115.5              </td><td>97.1407108700226       </td><td>22590.0          </td><td>22590.0           </td><td>22590.0           </td><td>22590.0            </td><td>1.9542965723777    </td><td>1.7034203502973702   </td><td>22588.571         </td><td>22434.16           </td><td>10724.3745        </td><td>10410.9320049395  </td><td>326.1                  </td><td>326.1                      </td><td>326.1                   </td><td>326.1                       </td><td>1.7677318091128702        </td><td>1.6753997579296598            </td><td>349.0                   </td><td>218.6966                    </td><td>162.895331083763      </td><td>169.075861752682          </td><td>105.0             </td><td>105.0                </td><td>105.0             </td><td>105.0                 </td><td>2.03441025240924    </td><td>1.7471647643042         </td><td>104.778           </td><td>102.675               </td><td>51.635           </td><td>51.6804823183885    </td><td>332.5                     </td><td>406.96                        </td><td>317.883626505047           </td><td>376.032877586072               </td><td>1.6339771851719498           </td><td>1.6129885131651005               </td><td>429.97417                  </td><td>401.44                         </td><td>214.98615                </td><td>213.300451957452             </td><td>7.0               </td><td>7.0               </td><td>7.0               </td><td>7.0                </td><td>2.14196333177366   </td><td>1.94973862250667     </td><td>6.0               </td><td>6.9922             </td><td>3.0                </td><td>3.0                </td><td>185.0             </td></tr>\n",
       "<tr><td>sigma  </td><td>0.2672198488608413 </td><td>0.0  </td><td>0.1295515760392714  </td><td>0.8485409297154346  </td><td>1.0444860892489918 </td><td>4.408032317887995 </td><td>0.15042681963552135 </td><td>3.8116487154763443</td><td>0.13211886239225348 </td><td>0.0  </td><td>0.10168548115265173 </td><td>0.27160634340280976 </td><td>1.1262539380980148  </td><td>2.217276826667216</td><td>0.4667101981567706 </td><td>0.7608212138476362 </td><td>0.1197172860310138  </td><td>0.0  </td><td>0.13818705867611147</td><td>0.902731877313484  </td><td>0.18565059327932082 </td><td>2.7281386808123966 </td><td>3.407763273941179  </td><td>0.25427152363852007 </td><td>0.12944866049898554 </td><td>0.713074825550494 </td><td>0.5806715150499747  </td><td>0.9825205465287564 </td><td>2.079375470855723 </td><td>0.4033164133617984  </td><td>1.115005177297788  </td><td>1.0212785094241734</td><td>1.0760487548858693 </td><td>0.6762941076894641 </td><td>0.08390726566197165 </td><td>0.0  </td><td>0.12125417833881033 </td><td>0.7636246963692408</td><td>0.42995298540623356</td><td>4.8464587135727895</td><td>4.848245957163448  </td><td>2.084302315962296  </td><td>0.06472796978963749  </td><td>0.7703269375657925  </td><td>1.0058981331429606 </td><td>1.5540181894114997 </td><td>0.16783097619364565 </td><td>0.6887292704520742  </td><td>0.5218204167734496</td><td>1.8869506218153305 </td><td>1.839019549667658  </td><td>0.7180427891143961  </td><td>0.08848014491429936  </td><td>0.0  </td><td>0.07767588745309469 </td><td>0.9832878186172946</td><td>2.3208219257684486 </td><td>0.17314700319663387 </td><td>1.2820592316378532 </td><td>0.22465678780067902</td><td>0.0  </td><td>0.18317270703617278 </td><td>0.1514325042209787 </td><td>0.1558599777780375  </td><td>0.06473675451554571 </td><td>0.10415330626187319 </td><td>0.09872779305541311</td><td>0.13141664643231515</td><td>0.13045534610270867</td><td>0.2148064954856973  </td><td>0.27686123333000995</td><td>0.20896934343411558</td><td>0.8513795953846361 </td><td>0.16462803781688742 </td><td>1.1774760495868695  </td><td>0.2822649213742485  </td><td>0.8648592524578862  </td><td>0.3078879756431476 </td><td>0.7179754991254592  </td><td>0.20584644771359967</td><td>0.27229763340326196</td><td>0.27436494379793136</td><td>0.6559274545906196 </td><td>0.0  </td><td>0.0  </td><td>0.0  </td><td>                      </td><td>1.4392946521289964  </td><td>29.6764972622974  </td><td>33.49040622032636     </td><td>31.030271676748484 </td><td>36.65106660016106      </td><td>0.3649304104522683   </td><td>0.4014234673170507       </td><td>54.626887299658705 </td><td>26.967751888822175     </td><td>20.03543026940686 </td><td>19.98354429493777    </td><td>87.48869412191523</td><td>143.27820024122698</td><td>78.32727545483813</td><td>119.77251992310563</td><td>0.38193458738813735</td><td>0.33401756091637014</td><td>309.6144415494201</td><td>224.04287353221892</td><td>109.96677448889768</td><td>127.92710394190686</td><td>20.147288379122248  </td><td>28.801567399170917      </td><td>22.090958000109303   </td><td>35.83784345416035        </td><td>0.3754109562843667     </td><td>0.40715911078963435        </td><td>67.27222803343832    </td><td>35.01935635274786        </td><td>22.898396182727787 </td><td>25.294524042055333     </td><td>2846.785184854545</td><td>3221.314505792539 </td><td>3703.2563696901198</td><td>3975.1225874543993 </td><td>0.34235629092661407</td><td>0.3197607271094547   </td><td>4097.126830966585 </td><td>2398.4710198596476 </td><td>1673.6249152607077</td><td>1611.7996294887314</td><td>27.701889626166242     </td><td>32.276387011746976         </td><td>29.007424880945226      </td><td>31.648443757329684          </td><td>0.3433911388198653        </td><td>0.2859862465413847            </td><td>58.700326578747266      </td><td>28.620409399164117          </td><td>21.740520867701168    </td><td>20.42929318999678         </td><td>11.300187956516314</td><td>14.279335473277495   </td><td>10.065900628836577</td><td>13.13400698136764     </td><td>0.37593206271166985 </td><td>0.37012473248062727     </td><td>20.37061966852094 </td><td>11.414066445050013    </td><td>8.671651077692156</td><td>7.2882389731478945  </td><td>38.51748471845658         </td><td>45.51925596754257             </td><td>34.05958109965714          </td><td>40.19114954538057              </td><td>0.3259762339365154           </td><td>0.3182483994084627               </td><td>158.7035568140336          </td><td>43.12331709499809              </td><td>60.14327197270358        </td><td>63.710354938018625           </td><td>1.0446114578335963</td><td>1.1912486825957365</td><td>1.046257184699988 </td><td>1.1748150899047147 </td><td>0.39315511024530747</td><td>0.3802905646938134   </td><td>1.2423453727712885</td><td>0.9781764308180789 </td><td>0.4846762775149572 </td><td>0.45558032781019625</td><td>34.25436244874412 </td></tr>\n",
       "<tr><td>zeros  </td><td>20964              </td><td>21263</td><td>20952               </td><td>21167               </td><td>20058              </td><td>19989             </td><td>20957               </td><td>9299              </td><td>20594               </td><td>21263</td><td>20941               </td><td>20741               </td><td>20532               </td><td>20538            </td><td>20908              </td><td>20569              </td><td>21117               </td><td>21263</td><td>20733              </td><td>17151              </td><td>21114               </td><td>20674              </td><td>20465              </td><td>21068               </td><td>21092               </td><td>18924             </td><td>20228               </td><td>20114              </td><td>10425             </td><td>20431               </td><td>20658              </td><td>20743             </td><td>19761              </td><td>20578              </td><td>21197               </td><td>21263</td><td>21105               </td><td>16411             </td><td>17188              </td><td>20632             </td><td>19827              </td><td>20375              </td><td>21213                </td><td>20528               </td><td>20620              </td><td>20776              </td><td>21107               </td><td>21085               </td><td>20719             </td><td>20423              </td><td>20920              </td><td>20736               </td><td>21180                </td><td>21263</td><td>21165               </td><td>14512             </td><td>17800              </td><td>20101               </td><td>19987              </td><td>20317              </td><td>21263</td><td>20785               </td><td>20883              </td><td>20600               </td><td>21159               </td><td>21024               </td><td>21036              </td><td>20907              </td><td>21082              </td><td>20972               </td><td>20864              </td><td>21041              </td><td>20867              </td><td>20998               </td><td>20903               </td><td>21008               </td><td>20691               </td><td>20844              </td><td>21021               </td><td>20418              </td><td>20355              </td><td>20008              </td><td>18874              </td><td>21263</td><td>21263</td><td>21263</td><td>                      </td><td>0                   </td><td>0                 </td><td>0                     </td><td>0                  </td><td>0                      </td><td>285                  </td><td>285                      </td><td>285                </td><td>285                    </td><td>285               </td><td>285                  </td><td>0                </td><td>0                 </td><td>0                </td><td>0                 </td><td>285                </td><td>285                </td><td>289              </td><td>285               </td><td>289               </td><td>288               </td><td>0                   </td><td>0                       </td><td>0                    </td><td>0                        </td><td>285                    </td><td>285                        </td><td>305                  </td><td>286                      </td><td>305                </td><td>305                    </td><td>0                </td><td>0                 </td><td>0                 </td><td>0                  </td><td>285                </td><td>285                  </td><td>299               </td><td>287                </td><td>299               </td><td>298               </td><td>0                      </td><td>0                          </td><td>0                       </td><td>0                           </td><td>285                       </td><td>285                           </td><td>310                     </td><td>291                         </td><td>310                   </td><td>304                       </td><td>0                 </td><td>0                    </td><td>0                 </td><td>0                     </td><td>285                 </td><td>285                     </td><td>285               </td><td>285                   </td><td>285              </td><td>285                 </td><td>0                         </td><td>0                             </td><td>0                          </td><td>0                              </td><td>285                          </td><td>285                              </td><td>301                        </td><td>292                            </td><td>301                      </td><td>300                          </td><td>0                 </td><td>0                 </td><td>0                 </td><td>0                  </td><td>285                </td><td>285                  </td><td>1398              </td><td>377                </td><td>1398               </td><td>1267               </td><td>0                 </td></tr>\n",
       "<tr><td>missing</td><td>0                  </td><td>0    </td><td>0                   </td><td>0                   </td><td>0                  </td><td>0                 </td><td>0                   </td><td>0                 </td><td>0                   </td><td>0    </td><td>0                   </td><td>0                   </td><td>0                   </td><td>0                </td><td>0                  </td><td>0                  </td><td>0                   </td><td>0    </td><td>0                  </td><td>0                  </td><td>0                   </td><td>0                  </td><td>0                  </td><td>0                   </td><td>0                   </td><td>0                 </td><td>0                   </td><td>0                  </td><td>0                 </td><td>0                   </td><td>0                  </td><td>0                 </td><td>0                  </td><td>0                  </td><td>0                   </td><td>0    </td><td>0                   </td><td>0                 </td><td>0                  </td><td>0                 </td><td>0                  </td><td>0                  </td><td>0                    </td><td>0                   </td><td>0                  </td><td>0                  </td><td>0                   </td><td>0                   </td><td>0                 </td><td>0                  </td><td>0                  </td><td>0                   </td><td>0                    </td><td>0    </td><td>0                   </td><td>0                 </td><td>0                  </td><td>0                   </td><td>0                  </td><td>0                  </td><td>0    </td><td>0                   </td><td>0                  </td><td>0                   </td><td>0                   </td><td>0                   </td><td>0                  </td><td>0                  </td><td>0                  </td><td>0                   </td><td>0                  </td><td>0                  </td><td>0                  </td><td>0                   </td><td>0                   </td><td>0                   </td><td>0                   </td><td>0                  </td><td>0                   </td><td>0                  </td><td>0                  </td><td>0                  </td><td>0                  </td><td>0    </td><td>0    </td><td>0    </td><td>0                     </td><td>0                   </td><td>0                 </td><td>0                     </td><td>0                  </td><td>0                      </td><td>0                    </td><td>0                        </td><td>0                  </td><td>0                      </td><td>0                 </td><td>0                    </td><td>0                </td><td>0                 </td><td>0                </td><td>0                 </td><td>0                  </td><td>0                  </td><td>0                </td><td>0                 </td><td>0                 </td><td>0                 </td><td>0                   </td><td>0                       </td><td>0                    </td><td>0                        </td><td>0                      </td><td>0                          </td><td>0                    </td><td>0                        </td><td>0                  </td><td>0                      </td><td>0                </td><td>0                 </td><td>0                 </td><td>0                  </td><td>0                  </td><td>0                    </td><td>0                 </td><td>0                  </td><td>0                 </td><td>0                 </td><td>0                      </td><td>0                          </td><td>0                       </td><td>0                           </td><td>0                         </td><td>0                             </td><td>0                       </td><td>0                           </td><td>0                     </td><td>0                         </td><td>0                 </td><td>0                    </td><td>0                 </td><td>0                     </td><td>0                   </td><td>0                       </td><td>0                 </td><td>0                     </td><td>0                </td><td>0                   </td><td>0                         </td><td>0                             </td><td>0                          </td><td>0                              </td><td>0                            </td><td>0                                </td><td>0                          </td><td>0                              </td><td>0                        </td><td>0                            </td><td>0                 </td><td>0                 </td><td>0                 </td><td>0                  </td><td>0                  </td><td>0                    </td><td>0                 </td><td>0                  </td><td>0                  </td><td>0                  </td><td>0                 </td></tr>\n",
       "<tr><td>0      </td><td>0.0                </td><td>0.0  </td><td>0.0                 </td><td>0.0                 </td><td>0.0                </td><td>0.0               </td><td>0.0                 </td><td>4.0               </td><td>0.0                 </td><td>0.0  </td><td>0.0                 </td><td>0.0                 </td><td>0.0                 </td><td>0.0              </td><td>0.0                </td><td>0.0                </td><td>0.0                 </td><td>0.0  </td><td>0.0                </td><td>0.0                </td><td>0.0                 </td><td>0.0                </td><td>0.0                </td><td>0.0                 </td><td>0.0                 </td><td>0.0               </td><td>0.0                 </td><td>0.0                </td><td>1.0               </td><td>0.0                 </td><td>0.0                </td><td>0.0               </td><td>0.0                </td><td>0.0                </td><td>0.0                 </td><td>0.0  </td><td>0.0                 </td><td>0.0               </td><td>0.0                </td><td>0.0               </td><td>0.0                </td><td>0.0                </td><td>0.0                  </td><td>0.0                 </td><td>0.0                </td><td>0.0                </td><td>0.0                 </td><td>0.0                 </td><td>0.0               </td><td>0.0                </td><td>0.0                </td><td>0.0                 </td><td>0.0                  </td><td>0.0  </td><td>0.0                 </td><td>0.2               </td><td>1.8                </td><td>0.0                 </td><td>0.0                </td><td>0.0                </td><td>0.0  </td><td>0.0                 </td><td>0.0                </td><td>0.0                 </td><td>0.0                 </td><td>0.0                 </td><td>0.0                </td><td>0.0                </td><td>0.0                </td><td>0.0                 </td><td>0.0                </td><td>0.0                </td><td>0.0                </td><td>0.0                 </td><td>0.0                 </td><td>0.0                 </td><td>0.0                 </td><td>0.0                </td><td>0.0                 </td><td>0.0                </td><td>0.0                </td><td>0.0                </td><td>0.0                </td><td>0.0  </td><td>0.0  </td><td>0.0  </td><td>Ba0.2La1.8Cu1O4       </td><td>4.0                 </td><td>88.9444675        </td><td>57.862692285714296    </td><td>66.36159243157189  </td><td>36.1166119053847       </td><td>1.1817952393305      </td><td>1.06239554519617         </td><td>122.90607          </td><td>31.7949208571429       </td><td>51.96882778610341 </td><td>53.6225345301219     </td><td>775.425          </td><td>1010.26857142857  </td><td>718.1528999521298</td><td>938.016780052204  </td><td>1.30596703599158   </td><td>0.791487788469155  </td><td>810.6            </td><td>735.9857142857138 </td><td>323.811807806633  </td><td>355.562966713294  </td><td>160.25              </td><td>105.514285714286        </td><td>136.126003095455     </td><td>84.528422716633          </td><td>1.25924397214289       </td><td>1.2070399870146102         </td><td>205.0                </td><td>42.91428571428569        </td><td>75.23754049674942  </td><td>69.2355694829807       </td><td>4654.35725       </td><td>2961.502285714289 </td><td>724.953210852388  </td><td>53.5438109235142   </td><td>1.03312880053102   </td><td>0.814598190091683    </td><td>8958.571          </td><td>1579.58342857143   </td><td>3306.1628967555   </td><td>3572.5966237083794</td><td>81.8375                </td><td>111.727142857143           </td><td>60.1231785550982        </td><td>99.4146820543113            </td><td>1.15968659338134          </td><td>0.7873816907632231            </td><td>127.05                  </td><td>80.9871428571429            </td><td>51.4337118896741      </td><td>42.55839575195            </td><td>6.9055            </td><td>3.84685714285714     </td><td>3.4794748493632697</td><td>1.04098598567486      </td><td>1.08857534188499    </td><td>0.994998193254128       </td><td>12.878            </td><td>1.7445714285714298    </td><td>4.599064116752451</td><td>4.66691955388659    </td><td>107.756645                </td><td>61.0151885714286              </td><td>7.06248773046785           </td><td>0.62197948704754               </td><td>0.308147989812345            </td><td>0.262848266362233                </td><td>399.97342                  </td><td>57.127668571428615             </td><td>168.854243757651         </td><td>138.51716251123              </td><td>2.25              </td><td>2.25714285714286  </td><td>2.2133638394006403</td><td>2.21978342968743   </td><td>1.36892236074022   </td><td>1.0662210317362      </td><td>1.0               </td><td>1.08571428571429   </td><td>0.43301270189221897</td><td>0.43705881545081   </td><td>29.0              </td></tr>\n",
       "<tr><td>1      </td><td>0.0                </td><td>0.0  </td><td>0.0                 </td><td>0.0                 </td><td>0.0                </td><td>0.0               </td><td>0.0                 </td><td>4.0               </td><td>0.0                 </td><td>0.0  </td><td>0.0                 </td><td>0.0                 </td><td>0.0                 </td><td>0.0              </td><td>0.0                </td><td>0.0                </td><td>0.0                 </td><td>0.0  </td><td>0.0                </td><td>0.0                </td><td>0.0                 </td><td>0.0                </td><td>0.0                </td><td>0.0                 </td><td>0.0                 </td><td>0.0               </td><td>0.0                 </td><td>0.0                </td><td>0.9               </td><td>0.0                 </td><td>0.0                </td><td>0.0               </td><td>0.0                </td><td>0.0                </td><td>0.0                 </td><td>0.0  </td><td>0.0                 </td><td>0.0               </td><td>0.0                </td><td>0.0               </td><td>0.0                </td><td>0.0                </td><td>0.0                  </td><td>0.0                 </td><td>0.0                </td><td>0.0                </td><td>0.1                 </td><td>0.0                 </td><td>0.0               </td><td>0.0                </td><td>0.0                </td><td>0.0                 </td><td>0.0                  </td><td>0.0  </td><td>0.0                 </td><td>0.1               </td><td>1.9                </td><td>0.0                 </td><td>0.0                </td><td>0.0                </td><td>0.0  </td><td>0.0                 </td><td>0.0                </td><td>0.0                 </td><td>0.0                 </td><td>0.0                 </td><td>0.0                </td><td>0.0                </td><td>0.0                </td><td>0.0                 </td><td>0.0                </td><td>0.0                </td><td>0.0                </td><td>0.0                 </td><td>0.0                 </td><td>0.0                 </td><td>0.0                 </td><td>0.0                </td><td>0.0                 </td><td>0.0                </td><td>0.0                </td><td>0.0                </td><td>0.0                </td><td>0.0  </td><td>0.0  </td><td>0.0  </td><td>Ba0.1La1.9Ag0.1Cu0.9O4</td><td>5.0                 </td><td>92.729214         </td><td>58.51841614285711     </td><td>73.13278722250651  </td><td>36.3966020291995       </td><td>1.44930919335685     </td><td>1.05775512271911         </td><td>122.90607          </td><td>36.161939              </td><td>47.09463317031339 </td><td>53.9798696513451     </td><td>766.44           </td><td>1010.61285714286  </td><td>720.605510513725 </td><td>938.745412527433  </td><td>1.5441445432697298 </td><td>0.8070782149387309 </td><td>810.6            </td><td>743.164285714286  </td><td>290.183029138508  </td><td>354.963511171592  </td><td>161.2               </td><td>104.971428571429        </td><td>141.465214777999     </td><td>84.3701669575628         </td><td>1.50832754035259       </td><td>1.2041147982326            </td><td>205.0                </td><td>50.57142857142861        </td><td>67.321319060161    </td><td>68.0088169554027       </td><td>5821.4858        </td><td>3021.01657142857  </td><td>1237.09508033858  </td><td>54.0957182556368   </td><td>1.31444218462105   </td><td>0.9148021770663428   </td><td>10488.571000000002</td><td>1667.3834285714304 </td><td>3767.40317577062  </td><td>3632.64918471043  </td><td>90.89                  </td><td>112.316428571429           </td><td>69.8333146094209        </td><td>101.166397739874            </td><td>1.42799655342352          </td><td>0.83866646563365              </td><td>127.05                  </td><td>81.2078571428572            </td><td>49.438167441765096    </td><td>41.6676207979191          </td><td>7.7844            </td><td>3.796857142857141    </td><td>4.40379049753476  </td><td>1.03525111582814      </td><td>1.37497728009085    </td><td>1.07309384625263        </td><td>12.878            </td><td>1.59571428571429      </td><td>4.473362654648072</td><td>4.60300005985449    </td><td>172.20531599999995        </td><td>61.372331428571385            </td><td>16.0642278788044           </td><td>0.6197346323305469             </td><td>0.847404163195705            </td><td>0.5677061078766371               </td><td>429.97342                  </td><td>51.4133828571429               </td><td>198.554600255545         </td><td>139.630922368904             </td><td>2.0               </td><td>2.25714285714286  </td><td>1.8881750225898   </td><td>2.2106794087065498 </td><td>1.55711309805765   </td><td>1.04722136819323     </td><td>2.0               </td><td>1.12857142857143   </td><td>0.6324555320336761 </td><td>0.468606270481621  </td><td>26.0              </td></tr>\n",
       "<tr><td>2      </td><td>0.0                </td><td>0.0  </td><td>0.0                 </td><td>0.0                 </td><td>0.0                </td><td>0.0               </td><td>0.0                 </td><td>4.0               </td><td>0.0                 </td><td>0.0  </td><td>0.0                 </td><td>0.0                 </td><td>0.0                 </td><td>0.0              </td><td>0.0                </td><td>0.0                </td><td>0.0                 </td><td>0.0  </td><td>0.0                </td><td>0.0                </td><td>0.0                 </td><td>0.0                </td><td>0.0                </td><td>0.0                 </td><td>0.0                 </td><td>0.0               </td><td>0.0                 </td><td>0.0                </td><td>1.0               </td><td>0.0                 </td><td>0.0                </td><td>0.0               </td><td>0.0                </td><td>0.0                </td><td>0.0                 </td><td>0.0  </td><td>0.0                 </td><td>0.0               </td><td>0.0                </td><td>0.0               </td><td>0.0                </td><td>0.0                </td><td>0.0                  </td><td>0.0                 </td><td>0.0                </td><td>0.0                </td><td>0.0                 </td><td>0.0                 </td><td>0.0               </td><td>0.0                </td><td>0.0                </td><td>0.0                 </td><td>0.0                  </td><td>0.0  </td><td>0.0                 </td><td>0.1               </td><td>1.9                </td><td>0.0                 </td><td>0.0                </td><td>0.0                </td><td>0.0  </td><td>0.0                 </td><td>0.0                </td><td>0.0                 </td><td>0.0                 </td><td>0.0                 </td><td>0.0                </td><td>0.0                </td><td>0.0                </td><td>0.0                 </td><td>0.0                </td><td>0.0                </td><td>0.0                </td><td>0.0                 </td><td>0.0                 </td><td>0.0                 </td><td>0.0                 </td><td>0.0                </td><td>0.0                 </td><td>0.0                </td><td>0.0                </td><td>0.0                </td><td>0.0                </td><td>0.0  </td><td>0.0  </td><td>0.0  </td><td>Ba0.1La1.9Cu1O4       </td><td>4.0                 </td><td>88.9444675        </td><td>57.885241857142894    </td><td>66.36159243157189  </td><td>36.1225090359592       </td><td>1.1817952393305      </td><td>0.975980464165498        </td><td>122.90607          </td><td>35.741099              </td><td>51.96882778610341 </td><td>53.65626773209821    </td><td>775.425          </td><td>1010.82           </td><td>718.1528999521298</td><td>939.009035665864  </td><td>1.30596703599158   </td><td>0.773620193146673  </td><td>810.6            </td><td>743.164285714286  </td><td>323.811807806633  </td><td>354.804182855034  </td><td>160.25              </td><td>104.685714285714        </td><td>136.126003095455     </td><td>84.214573243296          </td><td>1.25924397214289       </td><td>1.13254686280436           </td><td>205.0                </td><td>49.31428571428571        </td><td>75.23754049674942  </td><td>67.797712320685        </td><td>4654.35725       </td><td>2999.15942857143  </td><td>724.953210852388  </td><td>53.9740223651659   </td><td>1.03312880053102   </td><td>0.760305152674073    </td><td>8958.571          </td><td>1667.3834285714304 </td><td>3306.1628967555   </td><td>3592.01928133231  </td><td>81.8375                </td><td>112.213571428571           </td><td>60.1231785550982        </td><td>101.082152388012            </td><td>1.15968659338134          </td><td>0.7860067360250121            </td><td>127.05                  </td><td>81.2078571428572            </td><td>51.4337118896741      </td><td>41.63987779712121         </td><td>6.9055            </td><td>3.8225714285714303   </td><td>3.4794748493632697</td><td>1.03743942474191      </td><td>1.08857534188499    </td><td>0.927479442031317       </td><td>12.878            </td><td>1.75714285714286      </td><td>4.599064116752451</td><td>4.64963546519334    </td><td>107.756645                </td><td>60.94376                      </td><td>7.06248773046785           </td><td>0.6190946827042739             </td><td>0.308147989812345            </td><td>0.250477444193951                </td><td>399.97342                  </td><td>57.127668571428615             </td><td>168.854243757651         </td><td>138.54061273834998           </td><td>2.25              </td><td>2.27142857142857  </td><td>2.2133638394006403</td><td>2.23267852196607   </td><td>1.36892236074022   </td><td>1.02917468729772     </td><td>1.0               </td><td>1.11428571428571   </td><td>0.43301270189221897</td><td>0.444696640464954  </td><td>19.0              </td></tr>\n",
       "<tr><td>3      </td><td>0.0                </td><td>0.0  </td><td>0.0                 </td><td>0.0                 </td><td>0.0                </td><td>0.0               </td><td>0.0                 </td><td>4.0               </td><td>0.0                 </td><td>0.0  </td><td>0.0                 </td><td>0.0                 </td><td>0.0                 </td><td>0.0              </td><td>0.0                </td><td>0.0                </td><td>0.0                 </td><td>0.0  </td><td>0.0                </td><td>0.0                </td><td>0.0                 </td><td>0.0                </td><td>0.0                </td><td>0.0                 </td><td>0.0                 </td><td>0.0               </td><td>0.0                 </td><td>0.0                </td><td>1.0               </td><td>0.0                 </td><td>0.0                </td><td>0.0               </td><td>0.0                </td><td>0.0                </td><td>0.0                 </td><td>0.0  </td><td>0.0                 </td><td>0.0               </td><td>0.0                </td><td>0.0               </td><td>0.0                </td><td>0.0                </td><td>0.0                  </td><td>0.0                 </td><td>0.0                </td><td>0.0                </td><td>0.0                 </td><td>0.0                 </td><td>0.0               </td><td>0.0                </td><td>0.0                </td><td>0.0                 </td><td>0.0                  </td><td>0.0  </td><td>0.0                 </td><td>0.15              </td><td>1.85               </td><td>0.0                 </td><td>0.0                </td><td>0.0                </td><td>0.0  </td><td>0.0                 </td><td>0.0                </td><td>0.0                 </td><td>0.0                 </td><td>0.0                 </td><td>0.0                </td><td>0.0                </td><td>0.0                </td><td>0.0                 </td><td>0.0                </td><td>0.0                </td><td>0.0                </td><td>0.0                 </td><td>0.0                 </td><td>0.0                 </td><td>0.0                 </td><td>0.0                </td><td>0.0                 </td><td>0.0                </td><td>0.0                </td><td>0.0                </td><td>0.0                </td><td>0.0  </td><td>0.0  </td><td>0.0  </td><td>Ba0.15La1.85Cu1O4     </td><td>4.0                 </td><td>88.9444675        </td><td>57.8739670714286      </td><td>66.36159243157189  </td><td>36.1195603503211       </td><td>1.1817952393305      </td><td>1.0222908923957          </td><td>122.90607          </td><td>33.7680099285714       </td><td>51.96882778610341 </td><td>53.63940496787       </td><td>775.425          </td><td>1010.54428571429  </td><td>718.1528999521298</td><td>938.512776724546  </td><td>1.30596703599158   </td><td>0.7832066603612908 </td><td>810.6            </td><td>739.575           </td><td>323.811807806633  </td><td>355.18388442194396</td><td>160.25              </td><td>105.1                   </td><td>136.126003095455     </td><td>84.371352045645          </td><td>1.25924397214289       </td><td>1.17303291789271           </td><td>205.0                </td><td>46.11428571428571        </td><td>75.23754049674942  </td><td>68.52166497852029      </td><td>4654.35725       </td><td>2980.33085714286  </td><td>724.953210852388  </td><td>53.75848629102179  </td><td>1.03312880053102   </td><td>0.7888885322214609   </td><td>8958.571          </td><td>1623.48342857143   </td><td>3306.1628967555   </td><td>3582.3705966440502</td><td>81.8375                </td><td>111.970357142857           </td><td>60.1231785550982        </td><td>100.24495020209             </td><td>1.15968659338134          </td><td>0.7869004893749151            </td><td>127.05                  </td><td>81.0975                     </td><td>51.4337118896741      </td><td>42.1023442240235          </td><td>6.9055            </td><td>3.83471428571429     </td><td>3.4794748493632697</td><td>1.0392111922717702    </td><td>1.08857534188499    </td><td>0.96403104867923        </td><td>12.878            </td><td>1.7445714285714298    </td><td>4.599064116752451</td><td>4.6583013524025985  </td><td>107.756645                </td><td>60.97947428571429             </td><td>7.06248773046785           </td><td>0.6205354084838871             </td><td>0.308147989812345            </td><td>0.257045108326848                </td><td>399.97342                  </td><td>57.127668571428615             </td><td>168.854243757651         </td><td>138.528892724768             </td><td>2.25              </td><td>2.26428571428571  </td><td>2.2133638394006403</td><td>2.2262216392083    </td><td>1.36892236074022   </td><td>1.04883427304761     </td><td>1.0               </td><td>1.1                </td><td>0.43301270189221897</td><td>0.440952123830019  </td><td>22.0              </td></tr>\n",
       "<tr><td>4      </td><td>0.0                </td><td>0.0  </td><td>0.0                 </td><td>0.0                 </td><td>0.0                </td><td>0.0               </td><td>0.0                 </td><td>4.0               </td><td>0.0                 </td><td>0.0  </td><td>0.0                 </td><td>0.0                 </td><td>0.0                 </td><td>0.0              </td><td>0.0                </td><td>0.0                </td><td>0.0                 </td><td>0.0  </td><td>0.0                </td><td>0.0                </td><td>0.0                 </td><td>0.0                </td><td>0.0                </td><td>0.0                 </td><td>0.0                 </td><td>0.0               </td><td>0.0                 </td><td>0.0                </td><td>1.0               </td><td>0.0                 </td><td>0.0                </td><td>0.0               </td><td>0.0                </td><td>0.0                </td><td>0.0                 </td><td>0.0  </td><td>0.0                 </td><td>0.0               </td><td>0.0                </td><td>0.0               </td><td>0.0                </td><td>0.0                </td><td>0.0                  </td><td>0.0                 </td><td>0.0                </td><td>0.0                </td><td>0.0                 </td><td>0.0                 </td><td>0.0               </td><td>0.0                </td><td>0.0                </td><td>0.0                 </td><td>0.0                  </td><td>0.0  </td><td>0.0                 </td><td>0.3               </td><td>1.7                </td><td>0.0                 </td><td>0.0                </td><td>0.0                </td><td>0.0  </td><td>0.0                 </td><td>0.0                </td><td>0.0                 </td><td>0.0                 </td><td>0.0                 </td><td>0.0                </td><td>0.0                </td><td>0.0                </td><td>0.0                 </td><td>0.0                </td><td>0.0                </td><td>0.0                </td><td>0.0                 </td><td>0.0                 </td><td>0.0                 </td><td>0.0                 </td><td>0.0                </td><td>0.0                 </td><td>0.0                </td><td>0.0                </td><td>0.0                </td><td>0.0                </td><td>0.0  </td><td>0.0  </td><td>0.0  </td><td>Ba0.3La1.7Cu1O4       </td><td>4.0                 </td><td>88.9444675        </td><td>57.840142714285705    </td><td>66.36159243157189  </td><td>36.11071573753821      </td><td>1.1817952393305      </td><td>1.12922373013507         </td><td>122.90607          </td><td>27.8487427142857       </td><td>51.96882778610341 </td><td>53.5887706050743     </td><td>775.425          </td><td>1009.71714285714  </td><td>718.1528999521298</td><td>937.025572960086  </td><td>1.30596703599158   </td><td>0.8052296408133571 </td><td>810.6            </td><td>728.8071428571429 </td><td>323.811807806633  </td><td>356.31928137213   </td><td>160.25              </td><td>106.342857142857        </td><td>136.126003095455     </td><td>84.8434418389765         </td><td>1.25924397214289       </td><td>1.26119371912948           </td><td>205.0                </td><td>36.514285714285705       </td><td>75.23754049674942  </td><td>70.63444843787241      </td><td>4654.35725       </td><td>2923.84514285714  </td><td>724.953210852388  </td><td>53.1170285737926   </td><td>1.03312880053102   </td><td>0.859810869291435    </td><td>8958.571          </td><td>1491.78342857143   </td><td>3306.1628967555   </td><td>3552.6686635803203</td><td>81.8375                </td><td>111.240714285714           </td><td>60.1231785550982        </td><td>97.7747186271033            </td><td>1.15968659338134          </td><td>0.7873961825201741            </td><td>127.05                  </td><td>80.76642857142859           </td><td>51.4337118896741      </td><td>43.4520592088545          </td><td>6.9055            </td><td>3.87114285714286     </td><td>3.4794748493632697</td><td>1.04454467078021      </td><td>1.08857534188499    </td><td>1.04496953590973        </td><td>12.878            </td><td>1.7445714285714298    </td><td>4.599064116752451</td><td>4.6840139510763095  </td><td>107.756645                </td><td>61.0866171428571              </td><td>7.06248773046785           </td><td>0.624877733754845              </td><td>0.308147989812345            </td><td>0.272819938850094                </td><td>399.97342                  </td><td>57.127668571428615             </td><td>168.854243757651         </td><td>138.493671473918             </td><td>2.25              </td><td>2.24285714285714  </td><td>2.2133638394006403</td><td>2.20696281450132   </td><td>1.36892236074022   </td><td>1.09605191790054     </td><td>1.0               </td><td>1.05714285714286   </td><td>0.43301270189221897</td><td>0.42880945770867496</td><td>23.0              </td></tr>\n",
       "<tr><td>5      </td><td>0.0                </td><td>0.0  </td><td>0.0                 </td><td>0.0                 </td><td>0.0                </td><td>0.0               </td><td>0.0                 </td><td>4.0               </td><td>0.0                 </td><td>0.0  </td><td>0.0                 </td><td>0.0                 </td><td>0.0                 </td><td>0.0              </td><td>0.0                </td><td>0.0                </td><td>0.0                 </td><td>0.0  </td><td>0.0                </td><td>0.0                </td><td>0.0                 </td><td>0.0                </td><td>0.0                </td><td>0.0                 </td><td>0.0                 </td><td>0.0               </td><td>0.0                 </td><td>0.0                </td><td>1.0               </td><td>0.0                 </td><td>0.0                </td><td>0.0               </td><td>0.0                </td><td>0.0                </td><td>0.0                 </td><td>0.0  </td><td>0.0                 </td><td>0.0               </td><td>0.0                </td><td>0.0               </td><td>0.0                </td><td>0.0                </td><td>0.0                  </td><td>0.0                 </td><td>0.0                </td><td>0.0                </td><td>0.0                 </td><td>0.0                 </td><td>0.0               </td><td>0.0                </td><td>0.0                </td><td>0.0                 </td><td>0.0                  </td><td>0.0  </td><td>0.0                 </td><td>0.5               </td><td>1.5                </td><td>0.0                 </td><td>0.0                </td><td>0.0                </td><td>0.0  </td><td>0.0                 </td><td>0.0                </td><td>0.0                 </td><td>0.0                 </td><td>0.0                 </td><td>0.0                </td><td>0.0                </td><td>0.0                </td><td>0.0                 </td><td>0.0                </td><td>0.0                </td><td>0.0                </td><td>0.0                 </td><td>0.0                 </td><td>0.0                 </td><td>0.0                 </td><td>0.0                </td><td>0.0                 </td><td>0.0                </td><td>0.0                </td><td>0.0                </td><td>0.0                </td><td>0.0  </td><td>0.0  </td><td>0.0  </td><td>Ba0.5La1.5Cu1O4       </td><td>4.0                 </td><td>88.9444675        </td><td>57.795043571428614    </td><td>66.36159243157189  </td><td>36.0989262894004       </td><td>1.1817952393305      </td><td>1.22520280321875         </td><td>122.90607          </td><td>20.6874578571429       </td><td>51.96882778610341 </td><td>53.5211503531322     </td><td>775.425          </td><td>1008.61428571429  </td><td>718.1528999521298</td><td>935.046299909737  </td><td>1.30596703599158   </td><td>0.824742649703668  </td><td>810.6            </td><td>714.45            </td><td>323.811807806633  </td><td>357.82456566859497</td><td>160.25              </td><td>108.0                   </td><td>136.126003095455     </td><td>85.47700648304149        </td><td>1.25924397214289       </td><td>1.33133890122576           </td><td>205.0                </td><td>23.714285714285698       </td><td>75.23754049674942  </td><td>73.3241336220795       </td><td>4654.35725       </td><td>2848.53085714286  </td><td>724.953210852388  </td><td>52.2736420387673   </td><td>1.03312880053102   </td><td>0.9323687103143552   </td><td>8958.571          </td><td>1316.18342857143   </td><td>3306.1628967555   </td><td>3511.2622040574897</td><td>81.8375                </td><td>110.267857142857           </td><td>60.1231785550982        </td><td>94.57550494090027           </td><td>1.15968659338134          </td><td>0.7844614863633008            </td><td>127.05                  </td><td>80.325                      </td><td>51.4337118896741      </td><td>45.170682682239715        </td><td>6.9055            </td><td>3.91971428571429     </td><td>3.4794748493632697</td><td>1.0516985794392602    </td><td>1.08857534188499    </td><td>1.1118502934702         </td><td>12.878            </td><td>1.7445714285714298    </td><td>4.599064116752451</td><td>4.71764189624695    </td><td>107.756645                </td><td>61.22947428571429             </td><td>7.06248773046785           </td><td>0.630714805103745              </td><td>0.308147989812345            </td><td>0.288235641616145                </td><td>399.97342                  </td><td>57.127668571428615             </td><td>168.854243757651         </td><td>138.446566885594             </td><td>2.25              </td><td>2.21428571428571  </td><td>2.2133638394006403</td><td>2.1815432972869298 </td><td>1.36892236074022   </td><td>1.14147389617992     </td><td>1.0               </td><td>1.0                </td><td>0.43301270189221897</td><td>0.410325903324145  </td><td>23.0              </td></tr>\n",
       "<tr><td>6      </td><td>0.0                </td><td>0.0  </td><td>0.0                 </td><td>0.0                 </td><td>0.0                </td><td>0.0               </td><td>0.0                 </td><td>4.0               </td><td>0.0                 </td><td>0.0  </td><td>0.0                 </td><td>0.0                 </td><td>0.0                 </td><td>0.0              </td><td>0.0                </td><td>0.0                </td><td>0.0                 </td><td>0.0  </td><td>0.0                </td><td>0.0                </td><td>0.0                 </td><td>0.0                </td><td>0.0                </td><td>0.0                 </td><td>0.0                 </td><td>0.0               </td><td>0.0                 </td><td>0.0                </td><td>1.0               </td><td>0.0                 </td><td>0.0                </td><td>0.0               </td><td>0.0                </td><td>0.0                </td><td>0.0                 </td><td>0.0  </td><td>0.0                 </td><td>0.0               </td><td>0.0                </td><td>0.0               </td><td>0.0                </td><td>0.0                </td><td>0.0                  </td><td>0.0                 </td><td>0.0                </td><td>0.0                </td><td>0.0                 </td><td>0.0                 </td><td>0.0               </td><td>0.0                </td><td>0.0                </td><td>0.0                 </td><td>0.0                  </td><td>0.0  </td><td>0.0                 </td><td>1.0               </td><td>1.0                </td><td>0.0                 </td><td>0.0                </td><td>0.0                </td><td>0.0  </td><td>0.0                 </td><td>0.0                </td><td>0.0                 </td><td>0.0                 </td><td>0.0                 </td><td>0.0                </td><td>0.0                </td><td>0.0                </td><td>0.0                 </td><td>0.0                </td><td>0.0                </td><td>0.0                </td><td>0.0                 </td><td>0.0                 </td><td>0.0                 </td><td>0.0                 </td><td>0.0                </td><td>0.0                 </td><td>0.0                </td><td>0.0                </td><td>0.0                </td><td>0.0                </td><td>0.0  </td><td>0.0  </td><td>0.0  </td><td>Ba1La1Cu1O4           </td><td>4.0                 </td><td>88.9444675        </td><td>57.68229571428571     </td><td>66.36159243157189  </td><td>36.069469505796214     </td><td>1.1817952393305      </td><td>1.31685658780632         </td><td>122.90607          </td><td>10.7656385714286       </td><td>51.96882778610341 </td><td>53.35155797734329    </td><td>775.425          </td><td>1005.85714285714  </td><td>718.1528999521298</td><td>930.1163889956732 </td><td>1.30596703599158   </td><td>0.841871802066264  </td><td>810.6            </td><td>678.557142857143  </td><td>323.811807806633  </td><td>361.545641683603  </td><td>160.25              </td><td>112.142857142857        </td><td>136.126003095455     </td><td>87.0816940804888         </td><td>1.25924397214289       </td><td>1.36727867491832           </td><td>205.0                </td><td>15.4285714285714         </td><td>75.23754049674942  </td><td>79.5009947312944       </td><td>4654.35725       </td><td>2660.24514285714  </td><td>724.953210852388  </td><td>50.2232980184116   </td><td>1.03312880053102   </td><td>1.03487693245473     </td><td>8958.571          </td><td>1279.18342857143   </td><td>3306.1628967555   </td><td>3398.24943647459  </td><td>81.8375                </td><td>107.835714285714           </td><td>60.1231785550982        </td><td>87.0279800096084            </td><td>1.15968659338134          </td><td>0.762603397186934             </td><td>127.05                  </td><td>79.22142857142859           </td><td>51.4337118896741      </td><td>49.1210946414624          </td><td>6.9055            </td><td>4.04114285714286     </td><td>3.4794748493632697</td><td>1.06979844283692      </td><td>1.08857534188499    </td><td>1.1568206241108898      </td><td>12.878            </td><td>1.7445714285714298    </td><td>4.599064116752451</td><td>4.79853082958201    </td><td>107.756645                </td><td>61.5866171428571              </td><td>7.06248773046785           </td><td>0.645547145403338              </td><td>0.308147989812345            </td><td>0.30972710314550106              </td><td>399.97342                  </td><td>57.127668571428615             </td><td>168.854243757651         </td><td>138.328089776382             </td><td>2.25              </td><td>2.14285714285714  </td><td>2.2133638394006403</td><td>2.1192680453341    </td><td>1.36892236074022   </td><td>1.19445300632336     </td><td>1.0               </td><td>0.857142857142857  </td><td>0.43301270189221897</td><td>0.349927106111883  </td><td>11.0              </td></tr>\n",
       "<tr><td>7      </td><td>0.0                </td><td>0.0  </td><td>0.0                 </td><td>0.0                 </td><td>0.0                </td><td>0.0               </td><td>0.0                 </td><td>4.0               </td><td>0.0                 </td><td>0.0  </td><td>0.0                 </td><td>0.0                 </td><td>0.0                 </td><td>0.0              </td><td>0.0                </td><td>0.0                </td><td>0.0                 </td><td>0.0  </td><td>0.0                </td><td>0.0                </td><td>0.0                 </td><td>0.0                </td><td>0.0                </td><td>0.0                 </td><td>0.0                 </td><td>0.0               </td><td>0.0                 </td><td>0.0                </td><td>1.0               </td><td>0.0                 </td><td>0.0                </td><td>0.0               </td><td>0.0                </td><td>0.0                </td><td>0.0                 </td><td>0.0  </td><td>0.0                 </td><td>0.1               </td><td>0.0                </td><td>0.0               </td><td>0.0                </td><td>0.0                </td><td>0.0                  </td><td>0.0                 </td><td>0.0                </td><td>0.0                </td><td>0.0                 </td><td>0.0                 </td><td>0.0               </td><td>0.0                </td><td>0.0                </td><td>0.0                 </td><td>0.0                  </td><td>0.0  </td><td>0.0                 </td><td>0.0               </td><td>1.9                </td><td>0.0                 </td><td>0.0                </td><td>0.0                </td><td>0.0  </td><td>0.0                 </td><td>0.0                </td><td>0.0                 </td><td>0.0                 </td><td>0.0                 </td><td>0.0                </td><td>0.0                </td><td>0.0                </td><td>0.0                 </td><td>0.0                </td><td>0.0                </td><td>0.0                </td><td>0.0                 </td><td>0.0                 </td><td>0.0                 </td><td>0.0                 </td><td>0.0                </td><td>0.0                 </td><td>0.0                </td><td>0.0                </td><td>0.0                </td><td>0.0                </td><td>0.0  </td><td>0.0  </td><td>0.0  </td><td>Sr0.1La1.9Cu1O4       </td><td>4.0                 </td><td>76.5177175        </td><td>57.1751418571429      </td><td>59.3100961333418   </td><td>35.8913680915719       </td><td>1.19727303349869     </td><td>0.943560479191362        </td><td>122.90607          </td><td>36.451199              </td><td>44.2894585275144  </td><td>52.924139867494496   </td><td>787.05           </td><td>1011.48428571429  </td><td>734.219624171273 </td><td>940.196999785305  </td><td>1.31300802421591   </td><td>0.7763320321617829 </td><td>772.0            </td><td>742.5             </td><td>314.505965762178  </td><td>353.894216896887  </td><td>151.75              </td><td>104.2                   </td><td>131.302196551623     </td><td>84.04112840626009        </td><td>1.27527399052522       </td><td>1.12181816170133           </td><td>171.0                </td><td>49.8                     </td><td>65.5796271718588   </td><td>66.8485708790504       </td><td>4434.35725       </td><td>2986.588          </td><td>674.484751445268  </td><td>53.7519285564517   </td><td>0.995982779568411  </td><td>0.7457149351233009   </td><td>8958.571          </td><td>1667.3834285714304 </td><td>3402.85619588643  </td><td>3591.74934290791  </td><td>79.6075                </td><td>112.086142857143           </td><td>48.47726468480661       </td><td>99.8461688055545            </td><td>1.09667176877521          </td><td>0.7793966144428359            </td><td>135.97                  </td><td>81.3352857142857            </td><td>54.3730969207199      </td><td>41.9483102773216          </td><td>6.9055            </td><td>3.8225714285714303   </td><td>3.4794748493632697</td><td>1.03743942474191      </td><td>1.08857534188499    </td><td>0.927479442031317       </td><td>12.878            </td><td>1.75714285714286      </td><td>4.599064116752451</td><td>4.64963546519334    </td><td>112.006645                </td><td>61.1866171428571              </td><td>8.33981834610162           </td><td>0.6250038959376639             </td><td>0.403693221013522            </td><td>0.26972974337724104              </td><td>399.97342                  </td><td>57.127668571428615             </td><td>166.742351106334         </td><td>138.480007842432             </td><td>2.25              </td><td>2.27142857142857  </td><td>2.2133638394006403</td><td>2.23267852196607   </td><td>1.36892236074022   </td><td>1.02917468729772     </td><td>1.0               </td><td>1.11428571428571   </td><td>0.43301270189221897</td><td>0.444696640464954  </td><td>33.0              </td></tr>\n",
       "<tr><td>8      </td><td>0.0                </td><td>0.0  </td><td>0.0                 </td><td>0.0                 </td><td>0.0                </td><td>0.0               </td><td>0.0                 </td><td>4.0               </td><td>0.0                 </td><td>0.0  </td><td>0.0                 </td><td>0.0                 </td><td>0.0                 </td><td>0.0              </td><td>0.0                </td><td>0.0                </td><td>0.0                 </td><td>0.0  </td><td>0.0                </td><td>0.0                </td><td>0.0                 </td><td>0.0                </td><td>0.0                </td><td>0.0                 </td><td>0.0                 </td><td>0.0               </td><td>0.0                 </td><td>0.0                </td><td>1.0               </td><td>0.0                 </td><td>0.0                </td><td>0.0               </td><td>0.0                </td><td>0.0                </td><td>0.0                 </td><td>0.0  </td><td>0.0                 </td><td>0.15              </td><td>0.0                </td><td>0.0               </td><td>0.0                </td><td>0.0                </td><td>0.0                  </td><td>0.0                 </td><td>0.0                </td><td>0.0                </td><td>0.0                 </td><td>0.0                 </td><td>0.0               </td><td>0.0                </td><td>0.0                </td><td>0.0                 </td><td>0.0                  </td><td>0.0  </td><td>0.0                 </td><td>0.0               </td><td>1.85               </td><td>0.0                 </td><td>0.0                </td><td>0.0                </td><td>0.0  </td><td>0.0                 </td><td>0.0                </td><td>0.0                 </td><td>0.0                 </td><td>0.0                 </td><td>0.0                </td><td>0.0                </td><td>0.0                </td><td>0.0                 </td><td>0.0                </td><td>0.0                </td><td>0.0                </td><td>0.0                 </td><td>0.0                 </td><td>0.0                 </td><td>0.0                 </td><td>0.0                </td><td>0.0                 </td><td>0.0                </td><td>0.0                </td><td>0.0                </td><td>0.0                </td><td>0.0  </td><td>0.0  </td><td>0.0  </td><td>Sr0.15La1.85Cu1O4     </td><td>4.0                 </td><td>76.5177175        </td><td>56.808817071428614    </td><td>59.3100961333418   </td><td>35.773432418257606     </td><td>1.19727303349869     </td><td>0.9818797835708628       </td><td>122.90607          </td><td>34.8331599285714       </td><td>44.2894585275144  </td><td>52.5332069817455     </td><td>787.05           </td><td>1011.54071428571  </td><td>734.219624171273 </td><td>940.2943443388092 </td><td>1.31300802421591   </td><td>0.786865234305601  </td><td>772.0            </td><td>738.578571428571  </td><td>314.505965762178  </td><td>353.819831451067  </td><td>151.75              </td><td>104.371428571429        </td><td>131.302196551623     </td><td>84.1108347003322         </td><td>1.27527399052522       </td><td>1.16005975115976           </td><td>171.0                </td><td>46.84285714285711        </td><td>65.5796271718588   </td><td>67.11145770359961      </td><td>4434.35725       </td><td>2961.4737142857102</td><td>674.484751445268  </td><td>53.42701748879029  </td><td>0.995982779568411  </td><td>0.7696283324878391   </td><td>8958.571          </td><td>1623.48342857143   </td><td>3402.85619588643  </td><td>3581.8489209051795</td><td>79.6075                </td><td>111.779214285714           </td><td>48.47726468480661       </td><td>98.4119621279586            </td><td>1.09667176877521          </td><td>0.7776571559582591            </td><td>135.97                  </td><td>81.2886428571429            </td><td>54.3730969207199      </td><td>42.557892352952706        </td><td>6.9055            </td><td>3.83471428571429     </td><td>3.4794748493632697</td><td>1.0392111922717702    </td><td>1.08857534188499    </td><td>0.96403104867923        </td><td>12.878            </td><td>1.7445714285714298    </td><td>4.599064116752451</td><td>4.6583013524025985  </td><td>112.006645                </td><td>61.34376                      </td><td>8.33981834610162           </td><td>0.6294410225096719             </td><td>0.403693221013522            </td><td>0.283412116654505                </td><td>399.97342                  </td><td>57.127668571428615             </td><td>166.742351106334         </td><td>138.43771399308702           </td><td>2.25              </td><td>2.26428571428571  </td><td>2.2133638394006403</td><td>2.2262216392083    </td><td>1.36892236074022   </td><td>1.04883427304761     </td><td>1.0               </td><td>1.1                </td><td>0.43301270189221897</td><td>0.440952123830019  </td><td>36.0              </td></tr>\n",
       "<tr><td>9      </td><td>0.0                </td><td>0.0  </td><td>0.0                 </td><td>0.0                 </td><td>0.0                </td><td>0.0               </td><td>0.0                 </td><td>4.0               </td><td>0.0                 </td><td>0.0  </td><td>0.0                 </td><td>0.0                 </td><td>0.0                 </td><td>0.0              </td><td>0.0                </td><td>0.0                </td><td>0.0                 </td><td>0.0  </td><td>0.0                </td><td>0.0                </td><td>0.0                 </td><td>0.0                </td><td>0.0                </td><td>0.0                 </td><td>0.0                 </td><td>0.0               </td><td>0.0                 </td><td>0.0                </td><td>1.0               </td><td>0.0                 </td><td>0.0                </td><td>0.0               </td><td>0.0                </td><td>0.0                </td><td>0.0                 </td><td>0.0  </td><td>0.0                 </td><td>0.2               </td><td>0.0                </td><td>0.0               </td><td>0.0                </td><td>0.0                </td><td>0.0                  </td><td>0.0                 </td><td>0.0                </td><td>0.0                </td><td>0.0                 </td><td>0.0                 </td><td>0.0               </td><td>0.0                </td><td>0.0                </td><td>0.0                 </td><td>0.0                  </td><td>0.0  </td><td>0.0                 </td><td>0.0               </td><td>1.8                </td><td>0.0                 </td><td>0.0                </td><td>0.0                </td><td>0.0  </td><td>0.0                 </td><td>0.0                </td><td>0.0                 </td><td>0.0                 </td><td>0.0                 </td><td>0.0                </td><td>0.0                </td><td>0.0                </td><td>0.0                 </td><td>0.0                </td><td>0.0                </td><td>0.0                </td><td>0.0                 </td><td>0.0                 </td><td>0.0                 </td><td>0.0                 </td><td>0.0                </td><td>0.0                 </td><td>0.0                </td><td>0.0                </td><td>0.0                </td><td>0.0                </td><td>0.0  </td><td>0.0  </td><td>0.0  </td><td>Sr0.2La1.8Cu1O4       </td><td>4.0                 </td><td>76.5177175        </td><td>56.442492285714295    </td><td>59.3100961333418   </td><td>35.655884270517795     </td><td>1.19727303349869     </td><td>1.0164953676319302       </td><td>122.90607          </td><td>33.2151208571429       </td><td>44.2894585275144  </td><td>52.136769205259114   </td><td>787.05           </td><td>1011.59714285714  </td><td>734.219624171273 </td><td>940.391698971013  </td><td>1.31300802421591   </td><td>0.7959767720407    </td><td>772.0            </td><td>734.657142857143  </td><td>314.505965762178  </td><td>353.745421362162  </td><td>151.75              </td><td>104.542857142857        </td><td>131.302196551623     </td><td>84.1805988109463         </td><td>1.27527399052522       </td><td>1.19273404990926           </td><td>171.0                </td><td>43.88571428571429        </td><td>65.5796271718588   </td><td>67.3728825724597       </td><td>4434.35725       </td><td>2936.3594285714307</td><td>674.484751445268  </td><td>53.1040703916268   </td><td>0.995982779568411  </td><td>0.791445302359929    </td><td>8958.571          </td><td>1579.58342857143   </td><td>3402.85619588643  </td><td>3571.7444739799   </td><td>79.6075                </td><td>111.472285714286           </td><td>48.47726468480661       </td><td>96.99835662934306           </td><td>1.09667176877521          </td><td>0.775687763187265             </td><td>135.97                  </td><td>81.242                      </td><td>54.3730969207199      </td><td>43.15668265324221         </td><td>6.9055            </td><td>3.84685714285714     </td><td>3.4794748493632697</td><td>1.04098598567486      </td><td>1.08857534188499    </td><td>0.994998193254128       </td><td>12.878            </td><td>1.7445714285714298    </td><td>4.599064116752451</td><td>4.66691955388659    </td><td>112.006645                </td><td>61.5009028571429              </td><td>8.33981834610162           </td><td>0.633909649832865              </td><td>0.403693221013522            </td><td>0.295609030415422                </td><td>399.97342                  </td><td>57.127668571428615             </td><td>166.742351106334         </td><td>138.395228788671             </td><td>2.25              </td><td>2.25714285714286  </td><td>2.2133638394006403</td><td>2.21978342968743   </td><td>1.36892236074022   </td><td>1.0662210317362      </td><td>1.0               </td><td>1.08571428571429   </td><td>0.43301270189221897</td><td>0.43705881545081   </td><td>31.0              </td></tr>\n",
       "</tbody>\n",
       "</table>"
      ]
     },
     "metadata": {},
     "output_type": "display_data"
    }
   ],
   "source": [
    "df.describe()"
   ]
  },
  {
   "cell_type": "markdown",
   "metadata": {},
   "source": [
    "If your \"Target\" variable is categorical, the code below will convert it to a factor before modeling"
   ]
  },
  {
   "cell_type": "code",
   "execution_count": 20,
   "metadata": {},
   "outputs": [],
   "source": [
    "if target_type.value == 'Categorical':\n",
    "    df[target.value] = df[target.value].asfactor()"
   ]
  },
  {
   "cell_type": "markdown",
   "metadata": {},
   "source": [
    "## 2.3 - Configure Models in H2O Flow\n",
    "\n",
    "### In your browser, connecting to the H2O server at http://127.0.0.1:54321"
   ]
  },
  {
   "cell_type": "markdown",
   "metadata": {},
   "source": [
    "After you have generated your model using H2O Flow and saved your model's h2o-genmodel.jar and MOJO files to your local machine, begin the next sequence of cells below."
   ]
  },
  {
   "cell_type": "markdown",
   "metadata": {},
   "source": [
    "## 3.0 - Score a New Dataset\n",
    "\n",
    "The following process will walk you through uploading another dataset to score against your top model.\n",
    "\n",
    "**Note:** The new dataset must contain the same fields that were used to train your models in the prior steps.  The structure of the new dataset does not have to be consistent with the one used in prior steps (ex. there is no need to align columns or remove fields)."
   ]
  },
  {
   "cell_type": "markdown",
   "metadata": {},
   "source": [
    "## 3.1 - Upload Your Data (Excel and CSV files)\n",
    "\n",
    "Follow the same process you used in subsequent steps to upload the dataset you would like to apply against your trained model.  This is the dataset with \"unknown\" values which your trained models will attempt to predict."
   ]
  },
  {
   "cell_type": "code",
   "execution_count": 79,
   "metadata": {},
   "outputs": [
    {
     "data": {
      "application/vnd.jupyter.widget-view+json": {
       "model_id": "b471e66e0c4e4e14958baa3fc02c88a4",
       "version_major": 2,
       "version_minor": 0
      },
      "text/plain": [
       "interactive(children=(RadioButtons(description='File Location:', options=('local', 'url'), value='local'), Out…"
      ]
     },
     "metadata": {},
     "output_type": "display_data"
    }
   ],
   "source": [
    "upload_type = widgets.RadioButtons(\n",
    "    options=['local', 'url'],\n",
    "    description='File Location:',\n",
    "    disabled=False\n",
    ")\n",
    "\n",
    "upload_url = widgets.Text(\n",
    "    value='https://web.stanford.edu/class/archive/cs/cs109/cs109.1166/stuff/titanic.csv',\n",
    "    placeholder='http://',\n",
    "    description='URL:',\n",
    "    disabled=False,\n",
    "    layout=Layout(width='80%')\n",
    ")\n",
    "upload_filename = widgets.Text(\n",
    "    value='hold_out_data.csv',\n",
    "    placeholder='Sample File.csv',\n",
    "    description='File Name:',\n",
    "    disabled=False,\n",
    "    layout=Layout(width='50%')\n",
    ")\n",
    "\n",
    "file_type = widgets.RadioButtons(\n",
    "    options=['csv', 'xlsx'],\n",
    "    description='File Type:',\n",
    "    disabled=False\n",
    ")\n",
    "\n",
    "tab_names = widgets.Text(\n",
    "    value='Sheet1, Sheet2, Sheet3, etc',\n",
    "    placeholder='ALL EMPLOYEES, PAST EMPLOYEES',\n",
    "    description='Tab(s):',\n",
    "    disabled=False,\n",
    "    layout=Layout(width='50%')\n",
    ")\n",
    "\n",
    "subfolder_name = widgets.Text(\n",
    "    value='source_data',\n",
    "    placeholder='Subfolder name',\n",
    "    description='Subfolder:',\n",
    "    disabled=False,\n",
    "    layout=Layout(width='50%')\n",
    ")\n",
    "\n",
    "subfolder = widgets.RadioButtons(\n",
    "    options=['no','yes'],\n",
    "    value='no',\n",
    "    description='Subfolder:',\n",
    "    disabled=False\n",
    ")\n",
    "\n",
    "skip_rows = widgets.IntSlider(\n",
    "    value=0,\n",
    "    min=0,\n",
    "    max=10,\n",
    "    step=1,\n",
    "    description='Skip Rows:',\n",
    "    disabled=False,\n",
    "    continuous_update=True,\n",
    "    orientation='horizontal',\n",
    "    readout=True,\n",
    "    readout_format='d'\n",
    ")\n",
    "\n",
    "delimiter = widgets.RadioButtons(\n",
    "    options=[',',';'],\n",
    "    value=',',\n",
    "    description='Delimiter:',\n",
    "    disabled=False\n",
    ")\n",
    "\n",
    "def text_field(x):\n",
    "    if(x=='xlsx'):\n",
    "        display(tab_names)\n",
    "        tab_names.on_submit(tab_names)\n",
    "        display(skip_rows)\n",
    "    else:\n",
    "        display(delimiter)\n",
    "        print('Tab Names: Not needed for csv files')\n",
    "\n",
    "def sub_folder(y):\n",
    "    if(y=='yes'):\n",
    "        display(subfolder_name)\n",
    "        subfolder_name.on_submit(subfolder_name)\n",
    "    else:\n",
    "        print('Using {} folder'.format(os.getcwd()))\n",
    "\n",
    "def file_location(z):\n",
    "    if(z=='local'):\n",
    "        display(upload_filename)\n",
    "        i = widgets.interactive(text_field, x=file_type)\n",
    "        display(i)\n",
    "        p = widgets.interactive(sub_folder, y=subfolder)\n",
    "        display(p)\n",
    "    else:\n",
    "        display(upload_url)\n",
    "\n",
    "q = widgets.interactive(file_location, z=upload_type)\n",
    "\n",
    "display(q)"
   ]
  },
  {
   "cell_type": "markdown",
   "metadata": {},
   "source": [
    "## Reminder: Do not rerun the cell above after applying your inputs\n",
    "\n",
    "### Click on and Run this cell to proceed\n",
    "The following code cell will attempt to ingest the data you've selected in the widgets above:\n",
    "\n",
    "**Note About xlsx Files** - Depending on the number of tabs and the size of the data on each tab, ingesting an xlsx file can take several minutes to execute.  If possible, it may be more efficient to break your Excel file into separate csv files which take only a fraction of a second to ingest."
   ]
  },
  {
   "cell_type": "code",
   "execution_count": 80,
   "metadata": {},
   "outputs": [],
   "source": [
    "new_data = {}\n",
    "\n",
    "if upload_type.value == 'url':\n",
    "    url_response = requests.request(\"GET\", upload_url.value)\n",
    "    new_data['url_data'] = pd.read_csv(io.BytesIO(url_response.content))\n",
    "else:\n",
    "    if file_type.value == 'csv':\n",
    "        tabs = None\n",
    "        skiprows = 0\n",
    "    else:\n",
    "        tabs = [x.strip() for x in tab_names.value.split(',')]\n",
    "        skiprows = skip_rows.value\n",
    "\n",
    "    if subfolder.value == 'yes':\n",
    "        subfolder = subfolder_name.value\n",
    "    else:\n",
    "        subfolder = None\n",
    "    new_data = compile_raw_data(upload_filename.value, tabs, subfolder, delimiter_char = delimiter.value, skip_rows = skiprows, file_ext = file_type.value)\n"
   ]
  },
  {
   "cell_type": "markdown",
   "metadata": {},
   "source": [
    "**Note:** If you see an AttributeError: 'NoneType' object has no attribute 'value' message above, simply rerun the last two code cells to reset the input parameters.\n",
    "\n",
    "The following code cell will print out the attributes associated with the files you've uploaded and alert you of any errors:"
   ]
  },
  {
   "cell_type": "code",
   "execution_count": 81,
   "metadata": {},
   "outputs": [
    {
     "name": "stdout",
     "output_type": "stream",
     "text": [
      "hold_out_data table was ingested with 15000 rows and 18 columns\n"
     ]
    }
   ],
   "source": [
    "for key, value in new_data.items():\n",
    "    try:\n",
    "        print('{} table was ingested with {} rows and {} columns'.format(key,value.shape[0],value.shape[1]))\n",
    "    except:\n",
    "        print('{} table failed to load'.format(key))"
   ]
  },
  {
   "cell_type": "markdown",
   "metadata": {},
   "source": [
    "## 3.2 - Select a Data Frame to be Scored\n",
    "\n",
    "The following menus will allow you to select the dataset you would like to score against your trained model.  This dataset should contain the fields you used to train the models in prior steps, but it does not have to consistent of the same structure (ex. there is no need to remove unused columns or align column locations).\n",
    "\n",
    "Select an available frame from the list below:"
   ]
  },
  {
   "cell_type": "code",
   "execution_count": 82,
   "metadata": {},
   "outputs": [
    {
     "data": {
      "application/vnd.jupyter.widget-view+json": {
       "model_id": "75bafa315fc34acf80d89665e9d54d6f",
       "version_major": 2,
       "version_minor": 0
      },
      "text/plain": [
       "Select(description='Tables:', layout=Layout(width='50%'), options=('hold_out_data',), value='hold_out_data')"
      ]
     },
     "metadata": {},
     "output_type": "display_data"
    }
   ],
   "source": [
    "dict_keys = widgets.Select(\n",
    "    options=new_data.keys(),\n",
    "    description='Tables:',\n",
    "    disabled=False,\n",
    "    layout=Layout(width='50%')\n",
    ")\n",
    "\n",
    "display(dict_keys)"
   ]
  },
  {
   "cell_type": "markdown",
   "metadata": {},
   "source": [
    "## Reminder: Do not rerun the cell above after applying your inputs\n",
    "\n",
    "### Click on and Run this cell to proceed\n",
    "\n",
    "**Select any date variables from your dataframe that need to be processed (H2O handles date fields very specifically)**"
   ]
  },
  {
   "cell_type": "code",
   "execution_count": 83,
   "metadata": {},
   "outputs": [
    {
     "data": {
      "application/vnd.jupyter.widget-view+json": {
       "model_id": "cf30475873514730a529219f834a09e9",
       "version_major": 2,
       "version_minor": 0
      },
      "text/plain": [
       "SelectMultiple(description='Variables:', options=('id', 'name', 'category', 'main_category', 'currency', 'dead…"
      ]
     },
     "metadata": {},
     "output_type": "display_data"
    }
   ],
   "source": [
    "date_variables = widgets.SelectMultiple(\n",
    "    options=new_data[dict_keys.value].columns.tolist(),\n",
    "    description='Variables:',\n",
    "    disabled=False\n",
    ")\n",
    "\n",
    "display(date_variables)"
   ]
  },
  {
   "cell_type": "markdown",
   "metadata": {},
   "source": [
    "## Reminder: Do not rerun the cell above after applying your inputs\n",
    "\n",
    "### Click on and Run this cell to proceed"
   ]
  },
  {
   "cell_type": "code",
   "execution_count": 93,
   "metadata": {},
   "outputs": [],
   "source": [
    "date_fields = [x for x in date_variables.value]\n",
    "\n",
    "if len(date_fields)==0:\n",
    "    print('Skipping date field processing; no variables selected')\n",
    "else:\n",
    "    for d in date_fields:\n",
    "        try:\n",
    "            new_data[dict_keys.value][d] = pd.to_datetime(new_data[dict_keys.value][d])\n",
    "            new_data[dict_keys.value][d] = new_data[dict_keys.value][d].apply(lambda x: x.replace(tzinfo=timezone.utc).timestamp()).astype(int)\n",
    "        except:\n",
    "            print('Unable to convert {} to a date field'.format(d))\n"
   ]
  },
  {
   "cell_type": "markdown",
   "metadata": {},
   "source": [
    "## 3.3 - Single or Batch Scoring\n",
    "\n",
    "Select whether or you'd like to perform single-instance or batch-instance scoring:"
   ]
  },
  {
   "cell_type": "code",
   "execution_count": 94,
   "metadata": {},
   "outputs": [
    {
     "data": {
      "application/vnd.jupyter.widget-view+json": {
       "model_id": "888b541d1b0e4c9f9867bbac0be7d4b7",
       "version_major": 2,
       "version_minor": 0
      },
      "text/plain": [
       "interactive(children=(RadioButtons(description='Score:', options=('Single record', 'Batch records'), value='Si…"
      ]
     },
     "metadata": {},
     "output_type": "display_data"
    }
   ],
   "source": [
    "pred_type = widgets.RadioButtons(\n",
    "    options=['Single record', 'Batch records'],\n",
    "    description='Score:',\n",
    "    disabled=False\n",
    ")\n",
    "\n",
    "batch_instances = widgets.IntSlider(\n",
    "    value=10,\n",
    "    min=2,\n",
    "    max=50,\n",
    "    step=1,\n",
    "    description='Batch Size:',\n",
    "    disabled=False,\n",
    "    continuous_update=True,\n",
    "    orientation='horizontal',\n",
    "    readout=True,\n",
    "    readout_format='d'\n",
    ")\n",
    "\n",
    "def prediction_frame(x):\n",
    "    if(x=='Batch records'):\n",
    "        display(batch_instances)\n",
    "    else:\n",
    "        print('Single instance selected')\n",
    "  \n",
    "pred_instance = widgets.interactive(prediction_frame, x=pred_type)\n",
    "\n",
    "display(pred_instance)"
   ]
  },
  {
   "cell_type": "code",
   "execution_count": 95,
   "metadata": {},
   "outputs": [],
   "source": [
    "if pred_type.value == 'Single record':\n",
    "    instances = new_data[dict_keys.value].sample()\n",
    "    get_keys = instances.columns.tolist()\n",
    "    get_values = instances.values.tolist()\n",
    "\n",
    "    df_dict = {get_keys[i]: get_values[0][i] for i in range(len(get_keys))} \n",
    "    df_dict = json.dumps(df_dict)\n",
    "else:\n",
    "    instances = new_data[dict_keys.value].head(batch_instances.value)\n",
    "    get_keys = instances.columns.tolist()\n",
    "    get_values = instances.values.tolist()\n",
    "\n",
    "    dict_list = []\n",
    "    for x in range(0,len(get_values)):\n",
    "        df_dict = {get_keys[i]: get_values[x][i] for i in range(len(get_keys))}\n",
    "        dict_list.append(df_dict)\n",
    "\n",
    "    df_dict = json.dumps(dict_list)"
   ]
  },
  {
   "cell_type": "markdown",
   "metadata": {},
   "source": [
    "Choose the zipped model file saved during the model building exercise in H2O Flow **(i.e., this is the MOJO file you downloaded)**"
   ]
  },
  {
   "cell_type": "code",
   "execution_count": 96,
   "metadata": {},
   "outputs": [
    {
     "data": {
      "application/vnd.jupyter.widget-view+json": {
       "model_id": "051c3b689e4142d2a5c4a14a4bf36723",
       "version_major": 2,
       "version_minor": 0
      },
      "text/plain": [
       "Select(description='Files:', layout=Layout(width='100%'), options=('Week 13 Files', 'Final_Case_Materials.zip'…"
      ]
     },
     "metadata": {},
     "output_type": "display_data"
    }
   ],
   "source": [
    "file_list = widgets.Select(\n",
    "    options=os.listdir(),\n",
    "    description='Files:',\n",
    "    disabled=False,\n",
    "    layout=Layout(width='100%')\n",
    ")\n",
    "\n",
    "display(file_list)"
   ]
  },
  {
   "cell_type": "code",
   "execution_count": 97,
   "metadata": {},
   "outputs": [],
   "source": [
    "try:\n",
    "    model_id = file_list.value.replace('.zip','')\n",
    "except:\n",
    "    print('Please choose the zipped file containing the model id')"
   ]
  },
  {
   "cell_type": "markdown",
   "metadata": {},
   "source": [
    "Setup the scoring parameters.\n",
    "**Note:** You do not have to change any of the parameters below:"
   ]
  },
  {
   "cell_type": "code",
   "execution_count": 98,
   "metadata": {},
   "outputs": [],
   "source": [
    "gen_model_arg = os.getcwd() + os.sep + 'h2o-genmodel.jar'\n",
    "best_model_id = model_id # Change the model id if you build your own\n",
    "mojo_model_args = os.getcwd() + os.sep + best_model_id + '.zip'\n",
    "h2o_predictor_class = 'water.util.H2OPredictor'\n",
    "json_data = str(df_dict)"
   ]
  },
  {
   "cell_type": "markdown",
   "metadata": {},
   "source": [
    "Score the new instances against the saved model and return the prediction results"
   ]
  },
  {
   "cell_type": "code",
   "execution_count": 99,
   "metadata": {},
   "outputs": [],
   "source": [
    "output = subprocess.check_output(['java' , '-Xmx4g', '-cp', gen_model_arg, h2o_predictor_class,mojo_model_args, json_data], shell=False).decode()   \n",
    "\n",
    "# Format the results in a dataframe for additional analysis\n",
    "if pred_type.value == 'Single record':\n",
    "    pf = pd.read_json(output, orient='index')\n",
    "else:\n",
    "    pf = pd.read_json(output, orient='record')\n"
   ]
  },
  {
   "cell_type": "markdown",
   "metadata": {},
   "source": [
    "View the predicted values for your instance(s):"
   ]
  },
  {
   "cell_type": "code",
   "execution_count": 100,
   "metadata": {},
   "outputs": [
    {
     "data": {
      "text/html": [
       "<div>\n",
       "<style scoped>\n",
       "    .dataframe tbody tr th:only-of-type {\n",
       "        vertical-align: middle;\n",
       "    }\n",
       "\n",
       "    .dataframe tbody tr th {\n",
       "        vertical-align: top;\n",
       "    }\n",
       "\n",
       "    .dataframe thead th {\n",
       "        text-align: right;\n",
       "    }\n",
       "</style>\n",
       "<table border=\"1\" class=\"dataframe\">\n",
       "  <thead>\n",
       "    <tr style=\"text-align: right;\">\n",
       "      <th></th>\n",
       "      <th>labelIndex</th>\n",
       "      <th>label</th>\n",
       "      <th>classProbabilities</th>\n",
       "    </tr>\n",
       "  </thead>\n",
       "  <tbody>\n",
       "    <tr>\n",
       "      <th>0</th>\n",
       "      <td>3</td>\n",
       "      <td>successful</td>\n",
       "      <td>[0.06480072739072801, 0.360820244782171, 0.001...</td>\n",
       "    </tr>\n",
       "    <tr>\n",
       "      <th>1</th>\n",
       "      <td>1</td>\n",
       "      <td>failed</td>\n",
       "      <td>[0.078739878531079, 0.615265930248943, 0.00179...</td>\n",
       "    </tr>\n",
       "    <tr>\n",
       "      <th>2</th>\n",
       "      <td>1</td>\n",
       "      <td>failed</td>\n",
       "      <td>[0.07845743698955801, 0.512411841000594, 0.001...</td>\n",
       "    </tr>\n",
       "    <tr>\n",
       "      <th>3</th>\n",
       "      <td>1</td>\n",
       "      <td>failed</td>\n",
       "      <td>[0.086631713656084, 0.558127942041692, 0.00172...</td>\n",
       "    </tr>\n",
       "    <tr>\n",
       "      <th>4</th>\n",
       "      <td>1</td>\n",
       "      <td>failed</td>\n",
       "      <td>[0.295034442184944, 0.586708678092843, 0.00163...</td>\n",
       "    </tr>\n",
       "    <tr>\n",
       "      <th>5</th>\n",
       "      <td>1</td>\n",
       "      <td>failed</td>\n",
       "      <td>[0.117556759174421, 0.716537223589303, 0.00204...</td>\n",
       "    </tr>\n",
       "    <tr>\n",
       "      <th>6</th>\n",
       "      <td>1</td>\n",
       "      <td>failed</td>\n",
       "      <td>[0.076262056832608, 0.622401404366926, 0.00195...</td>\n",
       "    </tr>\n",
       "    <tr>\n",
       "      <th>7</th>\n",
       "      <td>1</td>\n",
       "      <td>failed</td>\n",
       "      <td>[0.115850157811636, 0.659462292460905, 0.00171...</td>\n",
       "    </tr>\n",
       "    <tr>\n",
       "      <th>8</th>\n",
       "      <td>1</td>\n",
       "      <td>failed</td>\n",
       "      <td>[0.05871021616779801, 0.577153092589986, 0.003...</td>\n",
       "    </tr>\n",
       "    <tr>\n",
       "      <th>9</th>\n",
       "      <td>3</td>\n",
       "      <td>successful</td>\n",
       "      <td>[0.045915727503634006, 0.212241603479758, 0.00...</td>\n",
       "    </tr>\n",
       "  </tbody>\n",
       "</table>\n",
       "</div>"
      ],
      "text/plain": [
       "   labelIndex       label                                 classProbabilities\n",
       "0           3  successful  [0.06480072739072801, 0.360820244782171, 0.001...\n",
       "1           1      failed  [0.078739878531079, 0.615265930248943, 0.00179...\n",
       "2           1      failed  [0.07845743698955801, 0.512411841000594, 0.001...\n",
       "3           1      failed  [0.086631713656084, 0.558127942041692, 0.00172...\n",
       "4           1      failed  [0.295034442184944, 0.586708678092843, 0.00163...\n",
       "5           1      failed  [0.117556759174421, 0.716537223589303, 0.00204...\n",
       "6           1      failed  [0.076262056832608, 0.622401404366926, 0.00195...\n",
       "7           1      failed  [0.115850157811636, 0.659462292460905, 0.00171...\n",
       "8           1      failed  [0.05871021616779801, 0.577153092589986, 0.003...\n",
       "9           3  successful  [0.045915727503634006, 0.212241603479758, 0.00..."
      ]
     },
     "execution_count": 100,
     "metadata": {},
     "output_type": "execute_result"
    }
   ],
   "source": [
    "pf"
   ]
  },
  {
   "cell_type": "markdown",
   "metadata": {},
   "source": [
    "View the original instance(s):"
   ]
  },
  {
   "cell_type": "code",
   "execution_count": 101,
   "metadata": {},
   "outputs": [
    {
     "data": {
      "text/html": [
       "<div>\n",
       "<style scoped>\n",
       "    .dataframe tbody tr th:only-of-type {\n",
       "        vertical-align: middle;\n",
       "    }\n",
       "\n",
       "    .dataframe tbody tr th {\n",
       "        vertical-align: top;\n",
       "    }\n",
       "\n",
       "    .dataframe thead th {\n",
       "        text-align: right;\n",
       "    }\n",
       "</style>\n",
       "<table border=\"1\" class=\"dataframe\">\n",
       "  <thead>\n",
       "    <tr style=\"text-align: right;\">\n",
       "      <th></th>\n",
       "      <th>id</th>\n",
       "      <th>name</th>\n",
       "      <th>category</th>\n",
       "      <th>main_category</th>\n",
       "      <th>currency</th>\n",
       "      <th>deadline</th>\n",
       "      <th>goal</th>\n",
       "      <th>launched</th>\n",
       "      <th>pledged</th>\n",
       "      <th>state</th>\n",
       "      <th>backers</th>\n",
       "      <th>country</th>\n",
       "      <th>usd_pledged</th>\n",
       "      <th>usd_pledged_real</th>\n",
       "      <th>usd_goal_real</th>\n",
       "      <th>launch_month</th>\n",
       "      <th>launch_dow</th>\n",
       "      <th>duration</th>\n",
       "    </tr>\n",
       "  </thead>\n",
       "  <tbody>\n",
       "    <tr>\n",
       "      <th>0</th>\n",
       "      <td>1177451632</td>\n",
       "      <td>The Everyday Project</td>\n",
       "      <td>Experimental</td>\n",
       "      <td>Film &amp; Video</td>\n",
       "      <td>USD</td>\n",
       "      <td>1</td>\n",
       "      <td>50.0</td>\n",
       "      <td>1</td>\n",
       "      <td>223.0</td>\n",
       "      <td>successful</td>\n",
       "      <td>35</td>\n",
       "      <td>US</td>\n",
       "      <td>223.00</td>\n",
       "      <td>223.00</td>\n",
       "      <td>50.00</td>\n",
       "      <td>5</td>\n",
       "      <td>3</td>\n",
       "      <td>29</td>\n",
       "    </tr>\n",
       "    <tr>\n",
       "      <th>1</th>\n",
       "      <td>1177454326</td>\n",
       "      <td>The Creation of a Digital Fashion Magazine!</td>\n",
       "      <td>Periodicals</td>\n",
       "      <td>Publishing</td>\n",
       "      <td>USD</td>\n",
       "      <td>1</td>\n",
       "      <td>5000.0</td>\n",
       "      <td>1</td>\n",
       "      <td>0.0</td>\n",
       "      <td>failed</td>\n",
       "      <td>0</td>\n",
       "      <td>US</td>\n",
       "      <td>0.00</td>\n",
       "      <td>0.00</td>\n",
       "      <td>5000.00</td>\n",
       "      <td>3</td>\n",
       "      <td>5</td>\n",
       "      <td>29</td>\n",
       "    </tr>\n",
       "    <tr>\n",
       "      <th>2</th>\n",
       "      <td>117745590</td>\n",
       "      <td>Aerial Dream: A collision of snowboarding and RC</td>\n",
       "      <td>Film &amp; Video</td>\n",
       "      <td>Film &amp; Video</td>\n",
       "      <td>USD</td>\n",
       "      <td>1</td>\n",
       "      <td>7500.0</td>\n",
       "      <td>1</td>\n",
       "      <td>35.0</td>\n",
       "      <td>failed</td>\n",
       "      <td>2</td>\n",
       "      <td>US</td>\n",
       "      <td>35.00</td>\n",
       "      <td>35.00</td>\n",
       "      <td>7500.00</td>\n",
       "      <td>9</td>\n",
       "      <td>3</td>\n",
       "      <td>50</td>\n",
       "    </tr>\n",
       "    <tr>\n",
       "      <th>3</th>\n",
       "      <td>1177459197</td>\n",
       "      <td>Ipuina Kontatu, (a feature length documentary)</td>\n",
       "      <td>Documentary</td>\n",
       "      <td>Film &amp; Video</td>\n",
       "      <td>USD</td>\n",
       "      <td>1</td>\n",
       "      <td>12000.0</td>\n",
       "      <td>1</td>\n",
       "      <td>12205.0</td>\n",
       "      <td>successful</td>\n",
       "      <td>59</td>\n",
       "      <td>US</td>\n",
       "      <td>12205.00</td>\n",
       "      <td>12205.00</td>\n",
       "      <td>12000.00</td>\n",
       "      <td>6</td>\n",
       "      <td>6</td>\n",
       "      <td>49</td>\n",
       "    </tr>\n",
       "    <tr>\n",
       "      <th>4</th>\n",
       "      <td>1177460347</td>\n",
       "      <td>Bring The RG to Reading | Art for everyone. (C...</td>\n",
       "      <td>Public Art</td>\n",
       "      <td>Art</td>\n",
       "      <td>GBP</td>\n",
       "      <td>1</td>\n",
       "      <td>50000.0</td>\n",
       "      <td>1</td>\n",
       "      <td>5907.0</td>\n",
       "      <td>canceled</td>\n",
       "      <td>31</td>\n",
       "      <td>GB</td>\n",
       "      <td>9927.31</td>\n",
       "      <td>10034.83</td>\n",
       "      <td>84940.12</td>\n",
       "      <td>6</td>\n",
       "      <td>3</td>\n",
       "      <td>39</td>\n",
       "    </tr>\n",
       "    <tr>\n",
       "      <th>5</th>\n",
       "      <td>1177470526</td>\n",
       "      <td>Cow Invader</td>\n",
       "      <td>Video Games</td>\n",
       "      <td>Games</td>\n",
       "      <td>EUR</td>\n",
       "      <td>1</td>\n",
       "      <td>20000.0</td>\n",
       "      <td>1</td>\n",
       "      <td>13.0</td>\n",
       "      <td>failed</td>\n",
       "      <td>2</td>\n",
       "      <td>FR</td>\n",
       "      <td>14.69</td>\n",
       "      <td>13.89</td>\n",
       "      <td>21375.97</td>\n",
       "      <td>9</td>\n",
       "      <td>2</td>\n",
       "      <td>59</td>\n",
       "    </tr>\n",
       "    <tr>\n",
       "      <th>6</th>\n",
       "      <td>1177480984</td>\n",
       "      <td>It's a Photo Van, man!</td>\n",
       "      <td>Photography</td>\n",
       "      <td>Photography</td>\n",
       "      <td>USD</td>\n",
       "      <td>1</td>\n",
       "      <td>9000.0</td>\n",
       "      <td>1</td>\n",
       "      <td>2730.0</td>\n",
       "      <td>failed</td>\n",
       "      <td>44</td>\n",
       "      <td>US</td>\n",
       "      <td>2730.00</td>\n",
       "      <td>2730.00</td>\n",
       "      <td>9000.00</td>\n",
       "      <td>9</td>\n",
       "      <td>4</td>\n",
       "      <td>44</td>\n",
       "    </tr>\n",
       "    <tr>\n",
       "      <th>7</th>\n",
       "      <td>1177489610</td>\n",
       "      <td>NOVA Fashion Week Designer Project</td>\n",
       "      <td>Fashion</td>\n",
       "      <td>Fashion</td>\n",
       "      <td>USD</td>\n",
       "      <td>1</td>\n",
       "      <td>10000.0</td>\n",
       "      <td>1</td>\n",
       "      <td>1150.0</td>\n",
       "      <td>failed</td>\n",
       "      <td>3</td>\n",
       "      <td>US</td>\n",
       "      <td>1150.00</td>\n",
       "      <td>1150.00</td>\n",
       "      <td>10000.00</td>\n",
       "      <td>8</td>\n",
       "      <td>5</td>\n",
       "      <td>30</td>\n",
       "    </tr>\n",
       "    <tr>\n",
       "      <th>8</th>\n",
       "      <td>1177500682</td>\n",
       "      <td>Fresh Start Juice Co.</td>\n",
       "      <td>Drinks</td>\n",
       "      <td>Food</td>\n",
       "      <td>USD</td>\n",
       "      <td>1</td>\n",
       "      <td>7000.0</td>\n",
       "      <td>1</td>\n",
       "      <td>2.0</td>\n",
       "      <td>failed</td>\n",
       "      <td>2</td>\n",
       "      <td>US</td>\n",
       "      <td>2.00</td>\n",
       "      <td>2.00</td>\n",
       "      <td>7000.00</td>\n",
       "      <td>1</td>\n",
       "      <td>7</td>\n",
       "      <td>45</td>\n",
       "    </tr>\n",
       "    <tr>\n",
       "      <th>9</th>\n",
       "      <td>1177507060</td>\n",
       "      <td>THE HOTEL COLORS</td>\n",
       "      <td>Theater</td>\n",
       "      <td>Theater</td>\n",
       "      <td>USD</td>\n",
       "      <td>1</td>\n",
       "      <td>5500.0</td>\n",
       "      <td>1</td>\n",
       "      <td>6673.0</td>\n",
       "      <td>successful</td>\n",
       "      <td>126</td>\n",
       "      <td>US</td>\n",
       "      <td>6673.00</td>\n",
       "      <td>6673.00</td>\n",
       "      <td>5500.00</td>\n",
       "      <td>3</td>\n",
       "      <td>1</td>\n",
       "      <td>19</td>\n",
       "    </tr>\n",
       "  </tbody>\n",
       "</table>\n",
       "</div>"
      ],
      "text/plain": [
       "           id                                               name  \\\n",
       "0  1177451632                               The Everyday Project   \n",
       "1  1177454326        The Creation of a Digital Fashion Magazine!   \n",
       "2   117745590   Aerial Dream: A collision of snowboarding and RC   \n",
       "3  1177459197     Ipuina Kontatu, (a feature length documentary)   \n",
       "4  1177460347  Bring The RG to Reading | Art for everyone. (C...   \n",
       "5  1177470526                                        Cow Invader   \n",
       "6  1177480984                             It's a Photo Van, man!   \n",
       "7  1177489610                 NOVA Fashion Week Designer Project   \n",
       "8  1177500682                              Fresh Start Juice Co.   \n",
       "9  1177507060                                   THE HOTEL COLORS   \n",
       "\n",
       "       category main_category currency  deadline     goal  launched  pledged  \\\n",
       "0  Experimental  Film & Video      USD         1     50.0         1    223.0   \n",
       "1   Periodicals    Publishing      USD         1   5000.0         1      0.0   \n",
       "2  Film & Video  Film & Video      USD         1   7500.0         1     35.0   \n",
       "3   Documentary  Film & Video      USD         1  12000.0         1  12205.0   \n",
       "4    Public Art           Art      GBP         1  50000.0         1   5907.0   \n",
       "5   Video Games         Games      EUR         1  20000.0         1     13.0   \n",
       "6   Photography   Photography      USD         1   9000.0         1   2730.0   \n",
       "7       Fashion       Fashion      USD         1  10000.0         1   1150.0   \n",
       "8        Drinks          Food      USD         1   7000.0         1      2.0   \n",
       "9       Theater       Theater      USD         1   5500.0         1   6673.0   \n",
       "\n",
       "        state  backers country  usd_pledged  usd_pledged_real  usd_goal_real  \\\n",
       "0  successful       35      US       223.00            223.00          50.00   \n",
       "1      failed        0      US         0.00              0.00        5000.00   \n",
       "2      failed        2      US        35.00             35.00        7500.00   \n",
       "3  successful       59      US     12205.00          12205.00       12000.00   \n",
       "4    canceled       31      GB      9927.31          10034.83       84940.12   \n",
       "5      failed        2      FR        14.69             13.89       21375.97   \n",
       "6      failed       44      US      2730.00           2730.00        9000.00   \n",
       "7      failed        3      US      1150.00           1150.00       10000.00   \n",
       "8      failed        2      US         2.00              2.00        7000.00   \n",
       "9  successful      126      US      6673.00           6673.00        5500.00   \n",
       "\n",
       "   launch_month  launch_dow  duration  \n",
       "0             5           3        29  \n",
       "1             3           5        29  \n",
       "2             9           3        50  \n",
       "3             6           6        49  \n",
       "4             6           3        39  \n",
       "5             9           2        59  \n",
       "6             9           4        44  \n",
       "7             8           5        30  \n",
       "8             1           7        45  \n",
       "9             3           1        19  "
      ]
     },
     "execution_count": 101,
     "metadata": {},
     "output_type": "execute_result"
    }
   ],
   "source": [
    "instances"
   ]
  },
  {
   "cell_type": "markdown",
   "metadata": {},
   "source": [
    "#### If you need any support,  please feel free to contact me at bablanchard@smu.edu"
   ]
  },
  {
   "cell_type": "code",
   "execution_count": 64,
   "metadata": {},
   "outputs": [
    {
     "name": "stdout",
     "output_type": "stream",
     "text": [
      "H2O session _sid_bb4c closed.\n"
     ]
    }
   ],
   "source": [
    "h2o.cluster().shutdown()"
   ]
  },
  {
   "cell_type": "code",
   "execution_count": null,
   "metadata": {},
   "outputs": [],
   "source": []
  }
 ],
 "metadata": {
  "kernelspec": {
   "display_name": "Python 3",
   "language": "python",
   "name": "python3"
  },
  "language_info": {
   "codemirror_mode": {
    "name": "ipython",
    "version": 3
   },
   "file_extension": ".py",
   "mimetype": "text/x-python",
   "name": "python",
   "nbconvert_exporter": "python",
   "pygments_lexer": "ipython3",
   "version": "3.8.5"
  }
 },
 "nbformat": 4,
 "nbformat_minor": 2
}
