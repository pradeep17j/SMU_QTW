{
 "cells": [
  {
   "cell_type": "markdown",
   "metadata": {},
   "source": [
    "# An Ensembling Approach\n",
    "\n",
    "**Purpose:** This notebook is designed to interactively guide the user through an end-to-end process for building an ensemble.  It provides a generic dataset, but the notebook can be repurposed for any structured dataset (.csv and .xlsx-formats).\n",
    "\n",
    "## The dataset\n",
    "Kickstarter is one of the main online crowdfunding platforms in the world. The dataset provided contains data on tens of thousands of projects launched on the platform in 2018. The datasets provided have the same structure and contain the following columns:\n",
    "\n",
    "- **ID**: internal ID, _numeric_\n",
    "- **name**: name of the project, _string_\n",
    "- **category**: project's category, _string_\n",
    "- **main_category**: campaign's category, _string_\n",
    "- **currency**: project's currency, _string_\n",
    "- **deadline**: project's deadline date, _timestamp_\n",
    "- **goal**: fundraising goal, _numeric_\n",
    "- **launched**: project's start date, _timestamp_\n",
    "- **pledged**: amount pledged by backers (project's currency), _numeric_\n",
    "- **state**: project's current state, _string_; **this is what you have to predict**\n",
    "- **backers**: amount of poeple that backed the project, _numeric_\n",
    "- **country**: project's country, _string_\n",
    "- **usd pledged**: amount pledged by backers converted to USD (conversion made by KS), _numeric_\n",
    "- **usd_pledged_real**: amount pledged by backers converted to USD (conversion made by fixer.io api), _numeric_\n",
    "- **usd_goal_real**: fundraising goal is USD, _numeric_\n",
    "- **launch_month**: the numeric value for the month of the year in which the project was launched, _numeric_\n",
    "- **launch_dow**: an integer value ranging from 1 (Sunday) to 7 (Saturday), _numeric_\n",
    "- **duration**: the number of days between the launched date and deadline date, _numeric_\n",
    "\n",
    "</br></br>\n",
    "\n",
    "**Resources**:\n",
    "* [iPython Widget Documentation](https://ipywidgets.readthedocs.io/en/stable/examples/Widget%20List.html)\n",
    "    \n",
    "## Table of Contents\n",
    "\n",
    "**1.0** **- Ingest Data**\n",
    "    * 1.1 - Set Your Working Directory\n",
    "    * 1.2 - Upload Your Data (for Modeling)\n",
    "    * 1.3 - Select a Data Frame (for Modeling)\n",
    "     \n",
    "**2.0** **- Build Models**\n",
    "    * 2.1 - Select Your Target Variable\n",
    "    * 2.2 - Build Individual Models\n",
    "    * 2.3 - Build Ensembles\n",
    "    * 2.4 - Examine Ensembles\n",
    "    * 2.5 - Save and Export a Model\n",
    "\n",
    "**3.0** **- Score New Data**\n",
    "    * 3.1 - Upload Your Data (for Scoring)\n",
    "    * 3.2 - Select a Data Frame (for Scoring)\n",
    "    * 3.3 - Score Your Data\n",
    "    * 3.4 - Export Your Scored Data\n",
    "\n",
    "## Dependencies\n",
    "\n",
    "This script was executed using the following version of Python:\n",
    "* **Python 3.6.2 :: Anaconda, Inc.**\n",
    "\n",
    "Use this link to install Python on your machine:\n",
    "* https://www.anaconda.com/distribution/#download-section\n",
    "\n",
    "**About Python Versions:**\n",
    "If you are running a higher-version of Python and this notebook fails to execute properly, you can downgrade your version in the terminal by running the following commands:\n",
    "* conda search python [to see which versions are available on your machine]\n",
    "* conda install python=3.6.2 [which will switch the active version to 3.6.2; if available in the list above]\n",
    "\n",
    "**About Python Packages:**\n",
    "All packages used in this notebook can be installed on your machine using the \"pip install [package_name]\" command on your terminal.  Be sure you've installed each of the packages below before attempting to execute the notebook.\n",
    "\n",
    "Current package requirements include:\n",
    "* os - https://docs.python.org/3/library/os.html\n",
    "* Pandas - https://pandas.pydata.org/\n",
    "* Datetime - https://docs.python.org/3/library/datetime.html\n",
    "* re - https://docs.python.org/3/library/re.html\n",
    "* Numpy - http://www.numpy.org/\n",
    "* ipywidgets - https://ipywidgets.readthedocs.io/en/stable/user_install.html\n",
    "* ipython - https://ipython.org/ipython-doc/rel-0.10.2/html/interactive/extension_api.html\n",
    "* scikit-learn - https://scikit-learn.org/stable/install.html\n",
    "* requests - https://2.python-requests.org/en/master/user/install/\n",
    "* io - https://docs.python.org/3/library/io.html\n",
    "* warnings - https://docs.python.org/3/library/warnings.html\n",
    "* json - https://docs.python.org/3/library/json.html\n",
    "* subprocess - https://docs.python.org/3/library/subprocess.html\n",
    "* mlxtend - http://rasbt.github.io/mlxtend/\n",
    "* joblib - https://joblib.readthedocs.io/en/latest/\n",
    "* pickle - https://docs.python.org/3/library/pickle.html\n",
    "* copy - https://docs.python.org/3.6/library/copy.html\n",
    "\n",
    "The current template uses the following versions:\n",
    "* os== module 'os' from '/anaconda3/lib/python3.6/os.py'\n",
    "* pandas==0.24.1\n",
    "* datetime== module 'datetime' from '/anaconda3/lib/python3.6/datetime.py'\n",
    "* re== module 're' from '/anaconda3/lib/python3.6/re.py'\n",
    "* numpy==1.16.1\n",
    "* ipywidgets==7.4.2\n",
    "* ipython==6.2.1\n",
    "* scikit-learn==0.19.1\n",
    "* requests==2.18.4\n",
    "* io== module 'io' from '/anaconda3/lib/python3.6/io.py'\n",
    "* warnings== module 'warnings' from '/anaconda3/lib/python3.6/warnings.py'\n",
    "* json== module 'json' from '/anaconda3/lib/python3.6/json.py'\n",
    "* mlxtend==0.15.0.0\n",
    "* joblib==0.14.1\n",
    "* pickle== module 'pickle' from '/anaconda3/lib/python3.6/pickle.py'\n",
    "* copy== module 'copy' from '/anaconda3/lib/python3.6/copy.py'"
   ]
  },
  {
   "cell_type": "markdown",
   "metadata": {},
   "source": [
    "## Before you begin, ensure you've installed the required Python packages\n",
    "\n",
    "* See the list above and make note of the specific versions that were used in this notebook"
   ]
  },
  {
   "cell_type": "code",
   "execution_count": 1,
   "metadata": {},
   "outputs": [],
   "source": [
    "############################################\n",
    "###### Import required Python packages #####\n",
    "############################################\n",
    "\n",
    "import os\n",
    "import pandas as pd\n",
    "import re\n",
    "import datetime as dt\n",
    "from datetime import timezone\n",
    "import numpy as np\n",
    "from ipywidgets import interact, interactive, IntSlider, Layout\n",
    "import ipywidgets as widgets\n",
    "from IPython.display import display\n",
    "from sklearn.model_selection import train_test_split\n",
    "import io\n",
    "import requests\n",
    "import subprocess\n",
    "import json\n",
    "import joblib\n",
    "import pickle\n",
    "import copy\n",
    "import warnings\n",
    "warnings.filterwarnings('ignore')"
   ]
  },
  {
   "cell_type": "markdown",
   "metadata": {},
   "source": [
    "## Note: Code Cells are Hidden by Default for Ease-of-Use\n",
    "\n",
    "This notebook incorporates interactive \"widgets\" which will result in large blocks of cells being utilized to enable specific user-interactions.  Executing this cell will hide all \"Code\" cells while making all outputs visible to the user.  Refer to the link below for the source or simply \"run\" the block below to see the impact on the rest of the notebook.\n",
    "\n",
    "* https://stackoverflow.com/questions/27934885/how-to-hide-code-from-cells-in-ipython-notebook-visualized-with-nbviewer\n",
    "\n",
    "#### Disclaimer:\n",
    "* As the \"output text\" notes, simply click the \"here\" hyperlink in the text to toggle on/off this feature"
   ]
  },
  {
   "cell_type": "code",
   "execution_count": 4,
   "metadata": {},
   "outputs": [
    {
     "data": {
      "text/html": [
       "<script>\n",
       "code_show=true; \n",
       "function code_toggle() {\n",
       " if (code_show){\n",
       " $('div.input').hide();\n",
       " } else {\n",
       " $('div.input').show();\n",
       " }\n",
       " code_show = !code_show\n",
       "} \n",
       "$( document ).ready(code_toggle);\n",
       "</script>\n",
       "The raw code for this IPython notebook is by default hidden for easier reading.\n",
       "To toggle on/off the raw code, click <a href=\"javascript:code_toggle()\">here</a>."
      ],
      "text/plain": [
       "<IPython.core.display.HTML object>"
      ]
     },
     "execution_count": 4,
     "metadata": {},
     "output_type": "execute_result"
    }
   ],
   "source": [
    "from IPython.display import HTML\n",
    "\n",
    "HTML('''<script>\n",
    "code_show=true; \n",
    "function code_toggle() {\n",
    " if (code_show){\n",
    " $('div.input').hide();\n",
    " } else {\n",
    " $('div.input').show();\n",
    " }\n",
    " code_show = !code_show\n",
    "} \n",
    "$( document ).ready(code_toggle);\n",
    "</script>\n",
    "The raw code for this IPython notebook is by default hidden for easier reading.\n",
    "To toggle on/off the raw code, click <a href=\"javascript:code_toggle()\">here</a>.''')"
   ]
  },
  {
   "cell_type": "markdown",
   "metadata": {},
   "source": [
    "## 1.0 - Data Ingestion\n",
    "\n",
    "The series of code blocks below will walk you through the process of mapping to your working directory and uploading your dataset."
   ]
  },
  {
   "cell_type": "markdown",
   "metadata": {},
   "source": [
    "## 1.1 - Set Your Working Directory\n",
    "\n",
    "Your \"working directory\" is a folder location on your computer that will store files either read-in or written-out by this script.  This code by default will return your current, active directory.  You can change this directory by typing in a specific path into the text box provided."
   ]
  },
  {
   "cell_type": "markdown",
   "metadata": {},
   "source": [
    "## AN IMPORTANT NOTE ABOUT INTERACTIVE WIDGETS\n",
    "\n",
    "This notebook uses interactive widgets to help you make selections and inputs more conveniently.  As you work through this notebook, be sure to follow the steps below to ensure your selections are incorporated in the cells that follow:\n",
    "\n",
    "#### 1. Run the cell containing the interactive widget(s) to bring them into view\n",
    "#### 2. Apply your selections and/or inputs to the widgets that appear\n",
    "#### 3. DO NOT rerun the cell as it will erase your selections and inputs\n",
    "#### 4. To proceed, simply click on the next cell in the notebook, and Run it\n",
    "\n",
    "<br/>"
   ]
  },
  {
   "cell_type": "code",
   "execution_count": 2,
   "metadata": {},
   "outputs": [
    {
     "data": {
      "application/vnd.jupyter.widget-view+json": {
       "model_id": "add513099ebb485f89ce3dc5bda1df30",
       "version_major": 2,
       "version_minor": 0
      },
      "text/plain": [
       "Text(value='/Users/bblanchard006/Desktop/SMU/QTW/Week 13/Summer 2021', description='Directory:', layout=Layout…"
      ]
     },
     "metadata": {},
     "output_type": "display_data"
    }
   ],
   "source": [
    "set_working_directory = widgets.Text(\n",
    "    value=os.getcwd(),\n",
    "    placeholder='/Users/bblanchard006/Desktop/SMU/QTW/Week 13',\n",
    "    description='Directory:',\n",
    "    disabled=False,\n",
    "    layout=Layout(width='100%')\n",
    ")\n",
    "\n",
    "display(set_working_directory)"
   ]
  },
  {
   "cell_type": "markdown",
   "metadata": {},
   "source": [
    "## Reminder: Do not rerun the cell above after applying your inputs\n",
    "\n",
    "### Click on and Run this cell to proceed\n",
    "\n",
    "After executing the cell above, you can leave the default directory or overwrite the text string that appears with your desired folder directory. **DO NOT execute the cell again after making your update.** The input above will be fed into the following code cell, where it will either successfully map to the new directory or notify you of an error."
   ]
  },
  {
   "cell_type": "code",
   "execution_count": 3,
   "metadata": {},
   "outputs": [
    {
     "name": "stdout",
     "output_type": "stream",
     "text": [
      "Changed directory to /Users/bblanchard006/Desktop/SMU/QTW/Week 13/Summer 2021\n"
     ]
    }
   ],
   "source": [
    "try:\n",
    "    os.chdir(set_working_directory.value)\n",
    "    print('Changed directory to {}'.format(set_working_directory.value))\n",
    "except Exception as e:\n",
    "    print('Failed to change directory')\n",
    "    print(e)"
   ]
  },
  {
   "cell_type": "markdown",
   "metadata": {},
   "source": [
    "## 1.2 - Upload Your Data (Excel and CSV files)\n",
    "\n",
    "The function in the code cell below will find, ingest, and format both xlsx and csv files.  This is the dataset with \"known\" values which will be used to train your models."
   ]
  },
  {
   "cell_type": "code",
   "execution_count": 4,
   "metadata": {},
   "outputs": [],
   "source": [
    "########################################\n",
    "##### Data Ingestion Functions\n",
    "########################################\n",
    "\n",
    "def compile_raw_data(filename, tab_names, subfolder, delimiter_char = ',', skip_rows = 0, file_ext = 'xlsx'):\n",
    "    \n",
    "    # Inputs: \n",
    "    ## filename = 'sample.csv' | 'sample.xlsx' - the filename in the directory (including the extension) \n",
    "    ## tab_names = None | ['Sheet1,'Sheet2'] - None for csv; [comma separated list of tab names] for xlsx\n",
    "    ## subfolder = 'source_data' - string containing the name of a folder in the working directory\n",
    "    ## delimiter_char = ',' | ';' - None for xlsx\n",
    "    ## rows to skip = default 0 - Not used for csv; trims the user-defined number of rows from an xlsx\n",
    "    ## file extension = csv | xlsx\n",
    "    \n",
    "    # Description: reads in the workbook; standardizes header names; \n",
    "    # Outputs: returns a dictionary of dataframes\n",
    "\n",
    "    master_data = {}\n",
    "    if subfolder:\n",
    "        file_path = subfolder+'/{}'.format(filename)\n",
    "    else:\n",
    "        file_path = filename\n",
    "\n",
    "    if file_ext == 'csv':\n",
    "        tab_names = [re.sub('.csv','', filename)]\n",
    "\n",
    "    for tab in tab_names:\n",
    "        try:\n",
    "            if file_ext == 'xlsx':\n",
    "                dframe = pd.read_excel(file_path, tab, skip_rows)\n",
    "            elif file_ext == 'csv' and delimiter_char == ',':\n",
    "                dframe = pd.read_csv(file_path, header=0, delimiter=',')\n",
    "            else:\n",
    "                dframe = pd.read_csv(file_path, header=0, delimiter=';')\n",
    "                \n",
    "            sanitizer = {\n",
    "                        '$':'USD',\n",
    "                        '(':' ',\n",
    "                        ')':' ',\n",
    "                        '/':' ',\n",
    "                        '-':' ',\n",
    "                        ',':' ',\n",
    "                        '.':' '\n",
    "            }\n",
    "                        \n",
    "            for key, value in sanitizer.items():\n",
    "                dframe.rename(columns=lambda x: x.replace(key, value), inplace=True)\n",
    "                \n",
    "            dframe.rename(columns=lambda x: x.strip(), inplace=True)\n",
    "            dframe.rename(columns=lambda x: re.sub(' +','_', x), inplace=True)\n",
    "            \n",
    "            dframe.columns = map(str.lower, dframe.columns)\n",
    "            \n",
    "            master_data.update({tab:dframe})\n",
    "        except Exception as e:\n",
    "            master_data.update({tab:'Failed'})\n",
    "    \n",
    "    return master_data"
   ]
  },
  {
   "cell_type": "markdown",
   "metadata": {},
   "source": [
    "The code blocks below enable conditional filtering to support multiple file types. Further instructions are provided below:\n",
    "\n",
    "**Uploading csv files**\n",
    "\n",
    "To upload a csv file, complete these steps:\n",
    "1. Type in your filename along with the extension (ex. sample.csv)\n",
    "2. Check the 'csv' radio-button\n",
    "3. Is your file in the main directory or a sub-folder in the directory:\n",
    "    * Select the \"no\" radio-button if your file is in your main directory\n",
    "    * Select the \"yes\" radio-button to expose a text-box where you can type-in the name of your sub-folder\n",
    "    \n",
    "**Uploading xlsx files**\n",
    "\n",
    "To upload an xlsx file, complete these steps:\n",
    "1. Type in your filename along with the extension (ex. sample.xlsx)\n",
    "2. Check the 'xlsx' radio-button\n",
    "3. Type in the tab-names you'd like to ingest (comma-separated; Sheet1,Sheet2,Sheet3)\n",
    "4. If the data in your file has leading rows, select how many rows to skip before ingesting the data (ex. if your data starts on Row 2 in the Excel-file, set the Skip Rows value to 1)\n",
    "5. Is your file in the main directory or a sub-folder in the directory:\n",
    "    * Select the \"no\" radio-button if your file is in your main directory\n",
    "    * Select the \"yes\" radio-button to expose a text-box where you can type-in the name of your sub-folder"
   ]
  },
  {
   "cell_type": "code",
   "execution_count": 5,
   "metadata": {},
   "outputs": [
    {
     "data": {
      "application/vnd.jupyter.widget-view+json": {
       "model_id": "81479054fbf84668973469ae6fc20b6b",
       "version_major": 2,
       "version_minor": 0
      },
      "text/plain": [
       "interactive(children=(RadioButtons(description='File Location:', options=('local', 'url'), value='local'), Out…"
      ]
     },
     "metadata": {},
     "output_type": "display_data"
    }
   ],
   "source": [
    "upload_type = widgets.RadioButtons(\n",
    "    options=['local', 'url'],\n",
    "    description='File Location:',\n",
    "    disabled=False\n",
    ")\n",
    "\n",
    "upload_url = widgets.Text(\n",
    "    value='https://web.stanford.edu/class/archive/cs/cs109/cs109.1166/stuff/titanic.csv',\n",
    "    placeholder='http://',\n",
    "    description='URL:',\n",
    "    disabled=False,\n",
    "    layout=Layout(width='80%')\n",
    ")\n",
    "upload_filename = widgets.Text(\n",
    "    value='training_data.csv',\n",
    "    placeholder='Sample File.csv',\n",
    "    description='File Name:',\n",
    "    disabled=False,\n",
    "    layout=Layout(width='50%')\n",
    ")\n",
    "\n",
    "file_type = widgets.RadioButtons(\n",
    "    options=['csv', 'xlsx'],\n",
    "    description='File Type:',\n",
    "    disabled=False\n",
    ")\n",
    "\n",
    "tab_names = widgets.Text(\n",
    "    value='Sheet1, Sheet2, Sheet3, etc',\n",
    "    placeholder='ALL EMPLOYEES, PAST EMPLOYEES',\n",
    "    description='Tab(s):',\n",
    "    disabled=False,\n",
    "    layout=Layout(width='50%')\n",
    ")\n",
    "\n",
    "subfolder_name = widgets.Text(\n",
    "    value='source_data',\n",
    "    placeholder='Subfolder name',\n",
    "    description='Subfolder:',\n",
    "    disabled=False,\n",
    "    layout=Layout(width='50%')\n",
    ")\n",
    "\n",
    "subfolder = widgets.RadioButtons(\n",
    "    options=['no','yes'],\n",
    "    value='no',\n",
    "    description='Subfolder:',\n",
    "    disabled=False\n",
    ")\n",
    "\n",
    "skip_rows = widgets.IntSlider(\n",
    "    value=0,\n",
    "    min=0,\n",
    "    max=10,\n",
    "    step=1,\n",
    "    description='Skip Rows:',\n",
    "    disabled=False,\n",
    "    continuous_update=True,\n",
    "    orientation='horizontal',\n",
    "    readout=True,\n",
    "    readout_format='d'\n",
    ")\n",
    "\n",
    "delimiter = widgets.RadioButtons(\n",
    "    options=[',',';'],\n",
    "    value=',',\n",
    "    description='Delimiter:',\n",
    "    disabled=False\n",
    ")\n",
    "\n",
    "def text_field(x):\n",
    "    if(x=='xlsx'):\n",
    "        display(tab_names)\n",
    "        tab_names.on_submit(tab_names)\n",
    "        display(skip_rows)\n",
    "    else:\n",
    "        display(delimiter)\n",
    "        print('Tab Names: Not needed for csv files')\n",
    "\n",
    "def sub_folder(y):\n",
    "    if(y=='yes'):\n",
    "        display(subfolder_name)\n",
    "        subfolder_name.on_submit(subfolder_name)\n",
    "    else:\n",
    "        print('Using {} folder'.format(os.getcwd()))\n",
    "\n",
    "def file_location(z):\n",
    "    if(z=='local'):\n",
    "        display(upload_filename)\n",
    "        i = widgets.interactive(text_field, x=file_type)\n",
    "        display(i)\n",
    "        p = widgets.interactive(sub_folder, y=subfolder)\n",
    "        display(p)\n",
    "    else:\n",
    "        display(upload_url)\n",
    "    \n",
    "q = widgets.interactive(file_location, z=upload_type)\n",
    "\n",
    "display(q)"
   ]
  },
  {
   "cell_type": "markdown",
   "metadata": {},
   "source": [
    "## Reminder: Do not rerun the cell above after applying your inputs\n",
    "\n",
    "### Click on and Run this cell to proceed"
   ]
  },
  {
   "cell_type": "markdown",
   "metadata": {},
   "source": [
    "The following code cell will attempt to ingest the data you've selected in the widgets above:\n",
    "\n",
    "**Note About xlsx Files** - Depending on the number of tabs and the size of the data on each tab, ingesting an xlsx file can take several minutes to execute.  If possible, it may be more efficient to break your Excel file into separate csv files which take only a fraction of a second to ingest."
   ]
  },
  {
   "cell_type": "code",
   "execution_count": 6,
   "metadata": {},
   "outputs": [],
   "source": [
    "master_data = {}\n",
    "\n",
    "if upload_type.value == 'url':\n",
    "    url_response = requests.request(\"GET\", upload_url.value)\n",
    "    master_data['url_data'] = pd.read_csv(io.BytesIO(url_response.content))\n",
    "else:\n",
    "    if file_type.value == 'csv':\n",
    "        tabs = None\n",
    "        skiprows = 0\n",
    "    else:\n",
    "        tabs = [x.strip() for x in tab_names.value.split(',')]\n",
    "        skiprows = skip_rows.value\n",
    "\n",
    "    if subfolder.value == 'yes':\n",
    "        subfolder = subfolder_name.value\n",
    "    else:\n",
    "        subfolder = None\n",
    "    master_data = compile_raw_data(upload_filename.value, tabs, subfolder, delimiter_char = delimiter.value, skip_rows = skiprows, file_ext = file_type.value)\n"
   ]
  },
  {
   "cell_type": "markdown",
   "metadata": {},
   "source": [
    "**Note:** If you see an AttributeError: 'NoneType' object has no attribute 'value' message above, simply rerun the last two code cells to reset the input parameters.\n",
    "\n",
    "The following code cell will print out the attributes associated with the files you've uploaded and alert you of any errors:"
   ]
  },
  {
   "cell_type": "code",
   "execution_count": 7,
   "metadata": {},
   "outputs": [
    {
     "name": "stdout",
     "output_type": "stream",
     "text": [
      "training_data table was ingested with 35000 rows and 18 columns\n"
     ]
    }
   ],
   "source": [
    "for key, value in master_data.items():\n",
    "    try:\n",
    "        print('{} table was ingested with {} rows and {} columns'.format(key,value.shape[0],value.shape[1]))\n",
    "    except:\n",
    "        print('{} table failed to load'.format(key))"
   ]
  },
  {
   "cell_type": "markdown",
   "metadata": {},
   "source": [
    "## 1.3 - Select a Data Frame\n",
    "\n",
    "The following menus will allow you to select the dataset you would like to use in your modeling and the variables you would like included in the subsequent processes.  You can preview a sample of the data as well as increase or decrease the number of records returned by using the integer input widget (which has a default range; minimum rows = 1, maximum rows = 50).\n",
    "\n",
    "Select an available frame from the list below:"
   ]
  },
  {
   "cell_type": "code",
   "execution_count": 8,
   "metadata": {},
   "outputs": [
    {
     "data": {
      "application/vnd.jupyter.widget-view+json": {
       "model_id": "7192ee42e0f444479279e8fbc6247276",
       "version_major": 2,
       "version_minor": 0
      },
      "text/plain": [
       "Select(description='Tables:', layout=Layout(width='50%'), options=('training_data',), value='training_data')"
      ]
     },
     "metadata": {},
     "output_type": "display_data"
    }
   ],
   "source": [
    "dict_keys = widgets.Select(\n",
    "    options=master_data.keys(),\n",
    "    description='Tables:',\n",
    "    disabled=False,\n",
    "    layout=Layout(width='50%')\n",
    ")\n",
    "\n",
    "display(dict_keys)"
   ]
  },
  {
   "cell_type": "markdown",
   "metadata": {},
   "source": [
    "## Reminder: Do not rerun the cell above after applying your inputs\n",
    "\n",
    "### Click on and Run this cell to proceed\n",
    "\n",
    "The cell below will provide a quick snapshot of the data you have selected above"
   ]
  },
  {
   "cell_type": "code",
   "execution_count": 9,
   "metadata": {},
   "outputs": [
    {
     "name": "stdout",
     "output_type": "stream",
     "text": [
      "<class 'pandas.core.frame.DataFrame'>\n",
      "RangeIndex: 35000 entries, 0 to 34999\n",
      "Data columns (total 18 columns):\n",
      " #   Column            Non-Null Count  Dtype  \n",
      "---  ------            --------------  -----  \n",
      " 0   id                35000 non-null  int64  \n",
      " 1   name              35000 non-null  object \n",
      " 2   category          35000 non-null  object \n",
      " 3   main_category     35000 non-null  object \n",
      " 4   currency          35000 non-null  object \n",
      " 5   deadline          35000 non-null  object \n",
      " 6   goal              35000 non-null  float64\n",
      " 7   launched          35000 non-null  object \n",
      " 8   pledged           35000 non-null  float64\n",
      " 9   state             35000 non-null  object \n",
      " 10  backers           35000 non-null  int64  \n",
      " 11  country           35000 non-null  object \n",
      " 12  usd_pledged       34659 non-null  float64\n",
      " 13  usd_pledged_real  35000 non-null  float64\n",
      " 14  usd_goal_real     35000 non-null  float64\n",
      " 15  launch_month      35000 non-null  int64  \n",
      " 16  launch_dow        35000 non-null  int64  \n",
      " 17  duration          35000 non-null  int64  \n",
      "dtypes: float64(5), int64(5), object(8)\n",
      "memory usage: 4.8+ MB\n"
     ]
    }
   ],
   "source": [
    "master_data[dict_keys.value].info()"
   ]
  },
  {
   "cell_type": "markdown",
   "metadata": {},
   "source": [
    "After selecting a frame above, select the variables you would like included in your workflow from the list below:\n",
    "\n",
    "**NOTE:** To select multiple values from the picklist, either hold down the command key on your keyboard or click and hold the shift key to select ranges of variables.  You can scroll down if your mouse is within the widget window."
   ]
  },
  {
   "cell_type": "code",
   "execution_count": 10,
   "metadata": {},
   "outputs": [
    {
     "data": {
      "application/vnd.jupyter.widget-view+json": {
       "model_id": "bbd0afa9dbf84a9bb446545f0ec904e0",
       "version_major": 2,
       "version_minor": 0
      },
      "text/plain": [
       "SelectMultiple(description='Variables:', layout=Layout(width='50%'), options=('id', 'name', 'category', 'main_…"
      ]
     },
     "metadata": {},
     "output_type": "display_data"
    }
   ],
   "source": [
    "review_variables = widgets.SelectMultiple(\n",
    "    options=master_data[dict_keys.value].columns.tolist(),\n",
    "    description='Variables:',\n",
    "    disabled=False,\n",
    "    layout=Layout(width='50%')\n",
    ")\n",
    "\n",
    "display(review_variables)"
   ]
  },
  {
   "cell_type": "markdown",
   "metadata": {},
   "source": [
    "## Reminder: Do not rerun the cell above after applying your inputs\n",
    "\n",
    "### Click on and Run this cell to proceed\n",
    "Input the number of rows you'd like to sample:"
   ]
  },
  {
   "cell_type": "code",
   "execution_count": 11,
   "metadata": {},
   "outputs": [
    {
     "data": {
      "application/vnd.jupyter.widget-view+json": {
       "model_id": "bb9bbcd38fac43eb9e24dff8e18a1e2d",
       "version_major": 2,
       "version_minor": 0
      },
      "text/plain": [
       "VBox(children=(VBox(children=(BoundedIntText(value=5, description='Rows:', max=50, min=1),)), Output()))"
      ]
     },
     "metadata": {},
     "output_type": "display_data"
    }
   ],
   "source": [
    "review_var_list = []\n",
    "for i in review_variables.value:\n",
    "    review_var_list.append(i)\n",
    "    \n",
    "master_data['custom_table'] = master_data[dict_keys.value][review_var_list]\n",
    "\n",
    "head_number = widgets.BoundedIntText(\n",
    "    value=5,\n",
    "    min=1,\n",
    "    max=50,\n",
    "    step=1,\n",
    "    description='Rows:',\n",
    "    disabled=False\n",
    ")\n",
    "\n",
    "def sample_view(head_number):\n",
    "    sample = master_data['custom_table'].head(head_number)\n",
    "    print(sample)\n",
    "\n",
    "out = widgets.interactive_output(sample_view, {'head_number':head_number})\n",
    "\n",
    "widgets.VBox([widgets.VBox([head_number]), out])"
   ]
  },
  {
   "cell_type": "markdown",
   "metadata": {},
   "source": [
    "## 2.0 - Develop Individual Models\n",
    "\n",
    "The following cells will walk you through the process of building the individual models needed for your ensemble."
   ]
  },
  {
   "cell_type": "markdown",
   "metadata": {},
   "source": [
    "## 2.1 - Select Your Target Variable\n",
    "\n",
    "Your \"Target\" variable represents the thing you are attempting to predict. It should be either \"categorical\" (ex. text, labels) or \"continuous\" (ex. numeric values) in nature. The target and its type will impact which algorithms are used and the evaluation metrics that are useful in evaluating each models' performance."
   ]
  },
  {
   "cell_type": "markdown",
   "metadata": {},
   "source": [
    "Select your Target variable and note whether or not it is a categorical or continuous data type:"
   ]
  },
  {
   "cell_type": "code",
   "execution_count": 12,
   "metadata": {},
   "outputs": [
    {
     "data": {
      "application/vnd.jupyter.widget-view+json": {
       "model_id": "96507999cfe7481b8cb0d6236c91352d",
       "version_major": 2,
       "version_minor": 0
      },
      "text/plain": [
       "Select(description='Target', options=('main_category', 'goal', 'state', 'country', 'launch_month', 'launch_dow…"
      ]
     },
     "metadata": {},
     "output_type": "display_data"
    },
    {
     "data": {
      "application/vnd.jupyter.widget-view+json": {
       "model_id": "7e21fb932ca540caa9f0b7407865682c",
       "version_major": 2,
       "version_minor": 0
      },
      "text/plain": [
       "Select(description='Type', options=('Continuous', 'Categorical'), value='Continuous')"
      ]
     },
     "metadata": {},
     "output_type": "display_data"
    }
   ],
   "source": [
    "target = widgets.Select(\n",
    "    options=master_data['custom_table'].columns.tolist(),\n",
    "    description='Target',\n",
    "    disabled=False\n",
    ")\n",
    "\n",
    "target_type = widgets.Select(\n",
    "    options=['Continuous','Categorical'],\n",
    "    description='Type',\n",
    "    disabled=False,\n",
    ")\n",
    "\n",
    "display(target)\n",
    "display(target_type)"
   ]
  },
  {
   "cell_type": "markdown",
   "metadata": {},
   "source": [
    "## Reminder: Do not rerun the cell above after applying your inputs\n",
    "\n",
    "### Click on and Run this cell to proceed\n",
    "\n",
    "In the next cell, choose the labels you would like to include in your modeling.  Note: you can choose all for a multi-class problem, or you can select two for a binary-class problem.  TODO: develop a process for handling continuous target variables."
   ]
  },
  {
   "cell_type": "code",
   "execution_count": 13,
   "metadata": {},
   "outputs": [
    {
     "data": {
      "application/vnd.jupyter.widget-view+json": {
       "model_id": "b5b77c40a8fd41a088ba9837dce9060d",
       "version_major": 2,
       "version_minor": 0
      },
      "text/plain": [
       "SelectMultiple(description='Target', options=('failed', 'canceled', 'successful', 'live', 'undefined', 'suspen…"
      ]
     },
     "metadata": {},
     "output_type": "display_data"
    }
   ],
   "source": [
    "var_labels = master_data['custom_table'][target.value].unique().tolist()\n",
    "\n",
    "target_labels = widgets.SelectMultiple(\n",
    "    options=var_labels,\n",
    "    description='Target',\n",
    "    disabled=False\n",
    ")\n",
    "\n",
    "display(target_labels)"
   ]
  },
  {
   "cell_type": "markdown",
   "metadata": {},
   "source": [
    "## Reminder: Do not rerun the cell above after applying your inputs\n",
    "\n",
    "### Click on and Run this cell to proceed\n",
    "\n",
    "The next cell will filter your dataset to the labels selected."
   ]
  },
  {
   "cell_type": "code",
   "execution_count": 14,
   "metadata": {},
   "outputs": [
    {
     "data": {
      "text/plain": [
       "array(['failed', 'successful'], dtype=object)"
      ]
     },
     "execution_count": 14,
     "metadata": {},
     "output_type": "execute_result"
    }
   ],
   "source": [
    "selected_labels = [x for x in target_labels.value]\n",
    "\n",
    "master_data['model_table'] = master_data['custom_table'][master_data['custom_table'][target.value].isin(selected_labels)]\n",
    "master_data['model_table']['state'].unique()"
   ]
  },
  {
   "cell_type": "code",
   "execution_count": 15,
   "metadata": {},
   "outputs": [
    {
     "data": {
      "application/vnd.jupyter.widget-view+json": {
       "model_id": "cd0c60f6897d499ab2adb77501d9f6a9",
       "version_major": 2,
       "version_minor": 0
      },
      "text/plain": [
       "SelectMultiple(description='Categorical', options=('main_category', 'goal', 'state', 'country', 'launch_month'…"
      ]
     },
     "metadata": {},
     "output_type": "display_data"
    }
   ],
   "source": [
    "categorical_vars = master_data['custom_table'].columns.tolist()\n",
    "\n",
    "cat_vars = widgets.SelectMultiple(\n",
    "    options=categorical_vars,\n",
    "    description='Categorical',\n",
    "    disabled=False\n",
    ")\n",
    "\n",
    "display(cat_vars)"
   ]
  },
  {
   "cell_type": "code",
   "execution_count": 16,
   "metadata": {},
   "outputs": [],
   "source": [
    "one_hot_vars = [x for x in cat_vars.value]\n",
    "one_hot_df = pd.get_dummies(master_data['model_table'][one_hot_vars],prefix=one_hot_vars)\n",
    "master_data['model_table'] = master_data['model_table'].merge(one_hot_df, how='inner', left_index=True, right_index=True)\n",
    "\n",
    "for o in one_hot_vars:\n",
    "    del master_data['model_table'][o]\n"
   ]
  },
  {
   "cell_type": "code",
   "execution_count": 17,
   "metadata": {},
   "outputs": [
    {
     "data": {
      "text/html": [
       "<div>\n",
       "<style scoped>\n",
       "    .dataframe tbody tr th:only-of-type {\n",
       "        vertical-align: middle;\n",
       "    }\n",
       "\n",
       "    .dataframe tbody tr th {\n",
       "        vertical-align: top;\n",
       "    }\n",
       "\n",
       "    .dataframe thead th {\n",
       "        text-align: right;\n",
       "    }\n",
       "</style>\n",
       "<table border=\"1\" class=\"dataframe\">\n",
       "  <thead>\n",
       "    <tr style=\"text-align: right;\">\n",
       "      <th></th>\n",
       "      <th>goal</th>\n",
       "      <th>state</th>\n",
       "      <th>launch_month</th>\n",
       "      <th>launch_dow</th>\n",
       "      <th>duration</th>\n",
       "      <th>main_category_Art</th>\n",
       "      <th>main_category_Comics</th>\n",
       "      <th>main_category_Crafts</th>\n",
       "      <th>main_category_Dance</th>\n",
       "      <th>main_category_Design</th>\n",
       "      <th>...</th>\n",
       "      <th>country_JP</th>\n",
       "      <th>country_LU</th>\n",
       "      <th>country_MX</th>\n",
       "      <th>country_N,0\"</th>\n",
       "      <th>country_NL</th>\n",
       "      <th>country_NO</th>\n",
       "      <th>country_NZ</th>\n",
       "      <th>country_SE</th>\n",
       "      <th>country_SG</th>\n",
       "      <th>country_US</th>\n",
       "    </tr>\n",
       "  </thead>\n",
       "  <tbody>\n",
       "    <tr>\n",
       "      <th>0</th>\n",
       "      <td>1000.0</td>\n",
       "      <td>failed</td>\n",
       "      <td>8</td>\n",
       "      <td>3</td>\n",
       "      <td>58</td>\n",
       "      <td>0</td>\n",
       "      <td>0</td>\n",
       "      <td>0</td>\n",
       "      <td>0</td>\n",
       "      <td>0</td>\n",
       "      <td>...</td>\n",
       "      <td>0</td>\n",
       "      <td>0</td>\n",
       "      <td>0</td>\n",
       "      <td>0</td>\n",
       "      <td>0</td>\n",
       "      <td>0</td>\n",
       "      <td>0</td>\n",
       "      <td>0</td>\n",
       "      <td>0</td>\n",
       "      <td>0</td>\n",
       "    </tr>\n",
       "    <tr>\n",
       "      <th>1</th>\n",
       "      <td>30000.0</td>\n",
       "      <td>failed</td>\n",
       "      <td>9</td>\n",
       "      <td>7</td>\n",
       "      <td>60</td>\n",
       "      <td>0</td>\n",
       "      <td>0</td>\n",
       "      <td>0</td>\n",
       "      <td>0</td>\n",
       "      <td>0</td>\n",
       "      <td>...</td>\n",
       "      <td>0</td>\n",
       "      <td>0</td>\n",
       "      <td>0</td>\n",
       "      <td>0</td>\n",
       "      <td>0</td>\n",
       "      <td>0</td>\n",
       "      <td>0</td>\n",
       "      <td>0</td>\n",
       "      <td>0</td>\n",
       "      <td>1</td>\n",
       "    </tr>\n",
       "    <tr>\n",
       "      <th>2</th>\n",
       "      <td>45000.0</td>\n",
       "      <td>failed</td>\n",
       "      <td>1</td>\n",
       "      <td>7</td>\n",
       "      <td>45</td>\n",
       "      <td>0</td>\n",
       "      <td>0</td>\n",
       "      <td>0</td>\n",
       "      <td>0</td>\n",
       "      <td>0</td>\n",
       "      <td>...</td>\n",
       "      <td>0</td>\n",
       "      <td>0</td>\n",
       "      <td>0</td>\n",
       "      <td>0</td>\n",
       "      <td>0</td>\n",
       "      <td>0</td>\n",
       "      <td>0</td>\n",
       "      <td>0</td>\n",
       "      <td>0</td>\n",
       "      <td>1</td>\n",
       "    </tr>\n",
       "    <tr>\n",
       "      <th>3</th>\n",
       "      <td>5000.0</td>\n",
       "      <td>failed</td>\n",
       "      <td>3</td>\n",
       "      <td>7</td>\n",
       "      <td>30</td>\n",
       "      <td>0</td>\n",
       "      <td>0</td>\n",
       "      <td>0</td>\n",
       "      <td>0</td>\n",
       "      <td>0</td>\n",
       "      <td>...</td>\n",
       "      <td>0</td>\n",
       "      <td>0</td>\n",
       "      <td>0</td>\n",
       "      <td>0</td>\n",
       "      <td>0</td>\n",
       "      <td>0</td>\n",
       "      <td>0</td>\n",
       "      <td>0</td>\n",
       "      <td>0</td>\n",
       "      <td>1</td>\n",
       "    </tr>\n",
       "    <tr>\n",
       "      <th>5</th>\n",
       "      <td>50000.0</td>\n",
       "      <td>successful</td>\n",
       "      <td>2</td>\n",
       "      <td>6</td>\n",
       "      <td>34</td>\n",
       "      <td>0</td>\n",
       "      <td>0</td>\n",
       "      <td>0</td>\n",
       "      <td>0</td>\n",
       "      <td>0</td>\n",
       "      <td>...</td>\n",
       "      <td>0</td>\n",
       "      <td>0</td>\n",
       "      <td>0</td>\n",
       "      <td>0</td>\n",
       "      <td>0</td>\n",
       "      <td>0</td>\n",
       "      <td>0</td>\n",
       "      <td>0</td>\n",
       "      <td>0</td>\n",
       "      <td>1</td>\n",
       "    </tr>\n",
       "    <tr>\n",
       "      <th>...</th>\n",
       "      <td>...</td>\n",
       "      <td>...</td>\n",
       "      <td>...</td>\n",
       "      <td>...</td>\n",
       "      <td>...</td>\n",
       "      <td>...</td>\n",
       "      <td>...</td>\n",
       "      <td>...</td>\n",
       "      <td>...</td>\n",
       "      <td>...</td>\n",
       "      <td>...</td>\n",
       "      <td>...</td>\n",
       "      <td>...</td>\n",
       "      <td>...</td>\n",
       "      <td>...</td>\n",
       "      <td>...</td>\n",
       "      <td>...</td>\n",
       "      <td>...</td>\n",
       "      <td>...</td>\n",
       "      <td>...</td>\n",
       "      <td>...</td>\n",
       "    </tr>\n",
       "    <tr>\n",
       "      <th>34995</th>\n",
       "      <td>150000.0</td>\n",
       "      <td>failed</td>\n",
       "      <td>5</td>\n",
       "      <td>6</td>\n",
       "      <td>33</td>\n",
       "      <td>0</td>\n",
       "      <td>0</td>\n",
       "      <td>0</td>\n",
       "      <td>0</td>\n",
       "      <td>0</td>\n",
       "      <td>...</td>\n",
       "      <td>0</td>\n",
       "      <td>0</td>\n",
       "      <td>0</td>\n",
       "      <td>0</td>\n",
       "      <td>0</td>\n",
       "      <td>0</td>\n",
       "      <td>0</td>\n",
       "      <td>0</td>\n",
       "      <td>0</td>\n",
       "      <td>1</td>\n",
       "    </tr>\n",
       "    <tr>\n",
       "      <th>34996</th>\n",
       "      <td>5000.0</td>\n",
       "      <td>failed</td>\n",
       "      <td>3</td>\n",
       "      <td>4</td>\n",
       "      <td>30</td>\n",
       "      <td>0</td>\n",
       "      <td>0</td>\n",
       "      <td>0</td>\n",
       "      <td>0</td>\n",
       "      <td>0</td>\n",
       "      <td>...</td>\n",
       "      <td>0</td>\n",
       "      <td>0</td>\n",
       "      <td>0</td>\n",
       "      <td>0</td>\n",
       "      <td>0</td>\n",
       "      <td>0</td>\n",
       "      <td>1</td>\n",
       "      <td>0</td>\n",
       "      <td>0</td>\n",
       "      <td>0</td>\n",
       "    </tr>\n",
       "    <tr>\n",
       "      <th>34997</th>\n",
       "      <td>2000.0</td>\n",
       "      <td>successful</td>\n",
       "      <td>4</td>\n",
       "      <td>7</td>\n",
       "      <td>29</td>\n",
       "      <td>0</td>\n",
       "      <td>0</td>\n",
       "      <td>0</td>\n",
       "      <td>0</td>\n",
       "      <td>0</td>\n",
       "      <td>...</td>\n",
       "      <td>0</td>\n",
       "      <td>0</td>\n",
       "      <td>0</td>\n",
       "      <td>0</td>\n",
       "      <td>0</td>\n",
       "      <td>0</td>\n",
       "      <td>0</td>\n",
       "      <td>0</td>\n",
       "      <td>0</td>\n",
       "      <td>1</td>\n",
       "    </tr>\n",
       "    <tr>\n",
       "      <th>34998</th>\n",
       "      <td>5500.0</td>\n",
       "      <td>failed</td>\n",
       "      <td>3</td>\n",
       "      <td>5</td>\n",
       "      <td>59</td>\n",
       "      <td>1</td>\n",
       "      <td>0</td>\n",
       "      <td>0</td>\n",
       "      <td>0</td>\n",
       "      <td>0</td>\n",
       "      <td>...</td>\n",
       "      <td>0</td>\n",
       "      <td>0</td>\n",
       "      <td>0</td>\n",
       "      <td>0</td>\n",
       "      <td>0</td>\n",
       "      <td>0</td>\n",
       "      <td>0</td>\n",
       "      <td>0</td>\n",
       "      <td>0</td>\n",
       "      <td>1</td>\n",
       "    </tr>\n",
       "    <tr>\n",
       "      <th>34999</th>\n",
       "      <td>15000.0</td>\n",
       "      <td>failed</td>\n",
       "      <td>6</td>\n",
       "      <td>2</td>\n",
       "      <td>33</td>\n",
       "      <td>0</td>\n",
       "      <td>0</td>\n",
       "      <td>0</td>\n",
       "      <td>0</td>\n",
       "      <td>0</td>\n",
       "      <td>...</td>\n",
       "      <td>0</td>\n",
       "      <td>0</td>\n",
       "      <td>0</td>\n",
       "      <td>0</td>\n",
       "      <td>0</td>\n",
       "      <td>0</td>\n",
       "      <td>0</td>\n",
       "      <td>0</td>\n",
       "      <td>0</td>\n",
       "      <td>1</td>\n",
       "    </tr>\n",
       "  </tbody>\n",
       "</table>\n",
       "<p>30710 rows × 43 columns</p>\n",
       "</div>"
      ],
      "text/plain": [
       "           goal       state  launch_month  launch_dow  duration  \\\n",
       "0        1000.0      failed             8           3        58   \n",
       "1       30000.0      failed             9           7        60   \n",
       "2       45000.0      failed             1           7        45   \n",
       "3        5000.0      failed             3           7        30   \n",
       "5       50000.0  successful             2           6        34   \n",
       "...         ...         ...           ...         ...       ...   \n",
       "34995  150000.0      failed             5           6        33   \n",
       "34996    5000.0      failed             3           4        30   \n",
       "34997    2000.0  successful             4           7        29   \n",
       "34998    5500.0      failed             3           5        59   \n",
       "34999   15000.0      failed             6           2        33   \n",
       "\n",
       "       main_category_Art  main_category_Comics  main_category_Crafts  \\\n",
       "0                      0                     0                     0   \n",
       "1                      0                     0                     0   \n",
       "2                      0                     0                     0   \n",
       "3                      0                     0                     0   \n",
       "5                      0                     0                     0   \n",
       "...                  ...                   ...                   ...   \n",
       "34995                  0                     0                     0   \n",
       "34996                  0                     0                     0   \n",
       "34997                  0                     0                     0   \n",
       "34998                  1                     0                     0   \n",
       "34999                  0                     0                     0   \n",
       "\n",
       "       main_category_Dance  main_category_Design  ...  country_JP  country_LU  \\\n",
       "0                        0                     0  ...           0           0   \n",
       "1                        0                     0  ...           0           0   \n",
       "2                        0                     0  ...           0           0   \n",
       "3                        0                     0  ...           0           0   \n",
       "5                        0                     0  ...           0           0   \n",
       "...                    ...                   ...  ...         ...         ...   \n",
       "34995                    0                     0  ...           0           0   \n",
       "34996                    0                     0  ...           0           0   \n",
       "34997                    0                     0  ...           0           0   \n",
       "34998                    0                     0  ...           0           0   \n",
       "34999                    0                     0  ...           0           0   \n",
       "\n",
       "       country_MX  country_N,0\"  country_NL  country_NO  country_NZ  \\\n",
       "0               0             0           0           0           0   \n",
       "1               0             0           0           0           0   \n",
       "2               0             0           0           0           0   \n",
       "3               0             0           0           0           0   \n",
       "5               0             0           0           0           0   \n",
       "...           ...           ...         ...         ...         ...   \n",
       "34995           0             0           0           0           0   \n",
       "34996           0             0           0           0           1   \n",
       "34997           0             0           0           0           0   \n",
       "34998           0             0           0           0           0   \n",
       "34999           0             0           0           0           0   \n",
       "\n",
       "       country_SE  country_SG  country_US  \n",
       "0               0           0           0  \n",
       "1               0           0           1  \n",
       "2               0           0           1  \n",
       "3               0           0           1  \n",
       "5               0           0           1  \n",
       "...           ...         ...         ...  \n",
       "34995           0           0           1  \n",
       "34996           0           0           0  \n",
       "34997           0           0           1  \n",
       "34998           0           0           1  \n",
       "34999           0           0           1  \n",
       "\n",
       "[30710 rows x 43 columns]"
      ]
     },
     "execution_count": 17,
     "metadata": {},
     "output_type": "execute_result"
    }
   ],
   "source": [
    "master_data['model_table']"
   ]
  },
  {
   "cell_type": "markdown",
   "metadata": {},
   "source": [
    "## 2.2 - Build Individual Models\n",
    "\n",
    "The code cells below will separate our target variable from our independent variables and create training and testing-splits before executing build sequences for several different model-types."
   ]
  },
  {
   "cell_type": "markdown",
   "metadata": {},
   "source": [
    "The next cell will separate our target variable from the independent variables"
   ]
  },
  {
   "cell_type": "code",
   "execution_count": 18,
   "metadata": {},
   "outputs": [],
   "source": [
    "X = master_data['model_table'].drop(columns = [target.value])\n",
    "y = master_data['model_table'][target.value]"
   ]
  },
  {
   "cell_type": "markdown",
   "metadata": {},
   "source": [
    "The cells below will create our training and testing datasets.  Note: the approach uses a \"stratified-sampling\" method.  Use the slider to determine the percentage of records to include in your testing set."
   ]
  },
  {
   "cell_type": "code",
   "execution_count": 19,
   "metadata": {},
   "outputs": [
    {
     "data": {
      "application/vnd.jupyter.widget-view+json": {
       "model_id": "0ba2c7b4ceab4c3ebc5ff3f03ce4916b",
       "version_major": 2,
       "version_minor": 0
      },
      "text/plain": [
       "IntSlider(value=30, description='Test %:', max=50, min=1)"
      ]
     },
     "metadata": {},
     "output_type": "display_data"
    }
   ],
   "source": [
    "test_prop = widgets.IntSlider(\n",
    "    value=30,\n",
    "    min=1,\n",
    "    max=50,\n",
    "    step=1,\n",
    "    description='Test %:',\n",
    "    disabled=False,\n",
    "    continuous_update=True,\n",
    "    orientation='horizontal',\n",
    "    readout=True,\n",
    "    readout_format='d'\n",
    ")\n",
    "\n",
    "display(test_prop)"
   ]
  },
  {
   "cell_type": "markdown",
   "metadata": {},
   "source": [
    "## Reminder: Do not rerun the cell above after applying your inputs\n",
    "\n",
    "### Click on and Run this cell to proceed"
   ]
  },
  {
   "cell_type": "code",
   "execution_count": 20,
   "metadata": {},
   "outputs": [],
   "source": [
    "test_proportion = test_prop.value/100\n",
    "X_train, X_test, y_train, y_test = train_test_split(X, y, test_size=test_proportion, stratify=y)"
   ]
  },
  {
   "cell_type": "markdown",
   "metadata": {},
   "source": [
    "### K-nearest Neighbor (k-NN)\n",
    "\n",
    "We will first fit a k-nearest neighbor on our dataset by executing the cells below.  By default, a range has been hard-coded to evaluate up to 25-nearest neighbors.  The models are evaluated using 5-fold cross-validation."
   ]
  },
  {
   "cell_type": "code",
   "execution_count": 21,
   "metadata": {},
   "outputs": [
    {
     "data": {
      "text/plain": [
       "GridSearchCV(cv=5, estimator=KNeighborsClassifier(),\n",
       "             param_grid={'n_neighbors': array([15, 16, 17, 18, 19, 20, 21, 22, 23, 24, 25, 26, 27, 28, 29, 30, 31,\n",
       "       32, 33, 34, 35, 36, 37, 38, 39])})"
      ]
     },
     "execution_count": 21,
     "metadata": {},
     "output_type": "execute_result"
    }
   ],
   "source": [
    "from sklearn.model_selection import GridSearchCV\n",
    "from sklearn.neighbors import KNeighborsClassifier\n",
    "\n",
    "np.random.seed(1999)\n",
    "\n",
    "knn = KNeighborsClassifier()\n",
    "\n",
    "params_knn = {'n_neighbors': np.arange(15, 40)}\n",
    "\n",
    "knn_gs = GridSearchCV(knn, params_knn, cv=5)\n",
    "\n",
    "knn_gs.fit(X_train, y_train)"
   ]
  },
  {
   "cell_type": "markdown",
   "metadata": {},
   "source": [
    "Once we've completed our grid search above, the cell below will return the \"best model\""
   ]
  },
  {
   "cell_type": "code",
   "execution_count": 22,
   "metadata": {},
   "outputs": [
    {
     "name": "stdout",
     "output_type": "stream",
     "text": [
      "{'n_neighbors': 33}\n"
     ]
    }
   ],
   "source": [
    "knn_best = knn_gs.best_estimator_\n",
    "\n",
    "print(knn_gs.best_params_)"
   ]
  },
  {
   "cell_type": "markdown",
   "metadata": {},
   "source": [
    "### Random Forest Classifier\n",
    "\n",
    "We will next fit a Random Forest to our dataset by executing the cells below.  By default, the number of estimators have been hard-coded to 50, 100, 200.  The models are evaluated using 5-fold cross-validation."
   ]
  },
  {
   "cell_type": "code",
   "execution_count": 23,
   "metadata": {},
   "outputs": [
    {
     "data": {
      "text/plain": [
       "GridSearchCV(cv=5, estimator=RandomForestClassifier(random_state=1),\n",
       "             param_grid={'max_depth': [10, 15], 'min_samples_leaf': [50],\n",
       "                         'min_samples_split': [100],\n",
       "                         'n_estimators': [50, 100, 200]})"
      ]
     },
     "execution_count": 23,
     "metadata": {},
     "output_type": "execute_result"
    }
   ],
   "source": [
    "from sklearn.ensemble import RandomForestClassifier\n",
    "\n",
    "rf = RandomForestClassifier(random_state=1)\n",
    "\n",
    "params_rf = {'n_estimators': [50, 100, 200],\n",
    "            'min_samples_leaf':[50],\n",
    "            'min_samples_split':[100],\n",
    "            'max_depth':[10,15]}\n",
    "\n",
    "rf_gs = GridSearchCV(rf, params_rf, cv=5)\n",
    "\n",
    "rf_gs.fit(X_train, y_train)"
   ]
  },
  {
   "cell_type": "code",
   "execution_count": 28,
   "metadata": {},
   "outputs": [
    {
     "data": {
      "text/plain": [
       "GridSearchCV(cv=5, estimator=RandomForestClassifier(random_state=1),\n",
       "             param_grid={'n_estimators': [200]})"
      ]
     },
     "execution_count": 28,
     "metadata": {},
     "output_type": "execute_result"
    }
   ],
   "source": [
    "from sklearn.ensemble import RandomForestClassifier\n",
    "\n",
    "rf = RandomForestClassifier(random_state=1)\n",
    "\n",
    "params_rf = {'n_estimators': [200]}\n",
    "\n",
    "rf_gs = GridSearchCV(rf, params_rf, cv=5)\n",
    "\n",
    "rf_gs.fit(X_train, y_train)"
   ]
  },
  {
   "cell_type": "markdown",
   "metadata": {},
   "source": [
    "Once we've completed our grid search above, the cell below will return the \"best model\""
   ]
  },
  {
   "cell_type": "code",
   "execution_count": 29,
   "metadata": {},
   "outputs": [
    {
     "name": "stdout",
     "output_type": "stream",
     "text": [
      "{'n_estimators': 200}\n"
     ]
    }
   ],
   "source": [
    "rf_best = rf_gs.best_estimator_\n",
    "\n",
    "print(rf_gs.best_params_)"
   ]
  },
  {
   "cell_type": "markdown",
   "metadata": {},
   "source": [
    "### Logistic Regression\n",
    "\n",
    "Finally, we will fit a Logistic Regression to our dataset by executing the cells below."
   ]
  },
  {
   "cell_type": "code",
   "execution_count": 30,
   "metadata": {},
   "outputs": [
    {
     "data": {
      "text/plain": [
       "LogisticRegression(random_state=1)"
      ]
     },
     "execution_count": 30,
     "metadata": {},
     "output_type": "execute_result"
    }
   ],
   "source": [
    "from sklearn.linear_model import LogisticRegression\n",
    "\n",
    "log_reg = LogisticRegression(random_state=1)\n",
    "\n",
    "log_reg.fit(X_train, y_train)"
   ]
  },
  {
   "cell_type": "markdown",
   "metadata": {},
   "source": [
    "### Individual Model Performance\n",
    "\n",
    "Now that we have trained, evaluated, and selected (3) separate models, we can view their individual accuracies on the test set below:"
   ]
  },
  {
   "cell_type": "code",
   "execution_count": 31,
   "metadata": {},
   "outputs": [
    {
     "name": "stdout",
     "output_type": "stream",
     "text": [
      "knn: 0.6129382394442635\n",
      "rf: 0.6184738955823293\n",
      "log_reg: 0.592857918159123\n"
     ]
    }
   ],
   "source": [
    "print('knn: {}'.format(knn_best.score(X_test, y_test)))\n",
    "print('rf: {}'.format(rf_best.score(X_test, y_test)))\n",
    "print('log_reg: {}'.format(log_reg.score(X_test, y_test)))"
   ]
  },
  {
   "cell_type": "code",
   "execution_count": 32,
   "metadata": {},
   "outputs": [
    {
     "name": "stdout",
     "output_type": "stream",
     "text": [
      "knn: 0.6480439131041541\n",
      "rf: 0.9859515281202028\n",
      "log_reg: 0.5928734241987254\n"
     ]
    }
   ],
   "source": [
    "print('knn: {}'.format(knn_best.score(X_train, y_train)))\n",
    "print('rf: {}'.format(rf_best.score(X_train, y_train)))\n",
    "print('log_reg: {}'.format(log_reg.score(X_train, y_train)))"
   ]
  },
  {
   "cell_type": "markdown",
   "metadata": {},
   "source": [
    "## 2.3 - Build an Ensemble\n",
    "\n",
    "Now that we've seen how well our models perform independently, we can generate various ensembles to test their collective performance to see if we can improve our accuracy.\n",
    "\n",
    "[Implementation of a majority voting EnsembleVoteClassifier for classification](http://rasbt.github.io/mlxtend/user_guide/classifier/EnsembleVoteClassifier/)"
   ]
  },
  {
   "cell_type": "markdown",
   "metadata": {},
   "source": [
    "### Ensemble 1: Soft-voting with equal weighting"
   ]
  },
  {
   "cell_type": "code",
   "execution_count": 33,
   "metadata": {},
   "outputs": [
    {
     "name": "stdout",
     "output_type": "stream",
     "text": [
      "soft ensemble: 0.6263974818191685\n"
     ]
    }
   ],
   "source": [
    "from mlxtend.classifier import EnsembleVoteClassifier\n",
    "\n",
    "ensemble_soft_evc = EnsembleVoteClassifier(clfs=[knn_best,rf_best,log_reg], voting='soft', weights=[1,1,1])\n",
    "ensemble_soft_evc.fit(X_train, y_train)\n",
    "\n",
    "print('soft ensemble: {}'.format(ensemble_soft_evc.score(X_test, y_test)))\n"
   ]
  },
  {
   "cell_type": "markdown",
   "metadata": {},
   "source": [
    "### Ensemble 2: Soft-voting with various weights"
   ]
  },
  {
   "cell_type": "code",
   "execution_count": 34,
   "metadata": {},
   "outputs": [
    {
     "name": "stdout",
     "output_type": "stream",
     "text": [
      "soft weight ensemble: 0.6237924671659612\n"
     ]
    }
   ],
   "source": [
    "ensemble_soft_wgt_evc = EnsembleVoteClassifier(clfs=[knn_best,rf_best,log_reg], voting='soft', weights=[.3,.3,.4])\n",
    "ensemble_soft_wgt_evc.fit(X_train, y_train)\n",
    "\n",
    "print('soft weight ensemble: {}'.format(ensemble_soft_wgt_evc.score(X_test, y_test)))\n"
   ]
  },
  {
   "cell_type": "markdown",
   "metadata": {},
   "source": [
    "### Ensemble 3: Hard-voting (weights not applicable)"
   ]
  },
  {
   "cell_type": "code",
   "execution_count": 35,
   "metadata": {},
   "outputs": [
    {
     "name": "stdout",
     "output_type": "stream",
     "text": [
      "hard ensemble: 0.6225985021165744\n"
     ]
    }
   ],
   "source": [
    "ensemble_hard_evc = EnsembleVoteClassifier(clfs=[knn_best,rf_best,log_reg], voting='hard')\n",
    "ensemble_hard_evc.fit(X_train, y_train)\n",
    "\n",
    "print('hard ensemble: {}'.format(ensemble_hard_evc.score(X_test, y_test)))"
   ]
  },
  {
   "cell_type": "markdown",
   "metadata": {},
   "source": [
    "### Comparing the Outputs"
   ]
  },
  {
   "cell_type": "code",
   "execution_count": 36,
   "metadata": {},
   "outputs": [],
   "source": [
    "ens_soft_preds_evc = ensemble_soft_evc.predict(X_test)\n",
    "ens_soft_preds_prob_evc = ensemble_soft_evc.predict_proba(X_test)\n",
    "ens_soft_test_df_evc = copy.deepcopy(X_test)\n",
    "ens_soft_test_df_evc['actual_state'] = y_test\n",
    "ens_soft_test_df_evc['soft_ens_predicted_state'] = ens_soft_preds_evc\n",
    "\n",
    "col_header = ['soft_ens_' + x + '_prob' for x in ensemble_soft_evc.classes_]\n",
    "ens_soft_preds_prob_df_evc = pd.DataFrame(ens_soft_preds_prob_evc)\n",
    "ens_soft_preds_prob_df_evc.columns = col_header\n",
    "ens_soft_combined_output_evc = pd.concat([ens_soft_test_df_evc.reset_index(drop=True), ens_soft_preds_prob_df_evc.reset_index(drop=True)], axis=1)\n"
   ]
  },
  {
   "cell_type": "code",
   "execution_count": 37,
   "metadata": {},
   "outputs": [],
   "source": [
    "ens_soft_wgt_preds_evc = ensemble_soft_wgt_evc.predict(X_test)\n",
    "ens_soft_wgt_preds_prob_evc = ensemble_soft_wgt_evc.predict_proba(X_test)\n",
    "ens_soft_wgt_test_df_evc = copy.deepcopy(X_test)\n",
    "ens_soft_wgt_test_df_evc['actual_state'] = y_test\n",
    "ens_soft_wgt_test_df_evc['soft_ens_wght_predicted_state'] = ens_soft_wgt_preds_evc\n",
    "\n",
    "col_header = ['soft_ens_wght_' + x + '_prob' for x in ensemble_soft_wgt_evc.classes_]\n",
    "ens_soft_wgt_preds_prob_df_evc = pd.DataFrame(ens_soft_wgt_preds_prob_evc)\n",
    "ens_soft_wgt_preds_prob_df_evc.columns = col_header\n",
    "ens_soft_wgt_combined_output_evc = pd.concat([ens_soft_wgt_test_df_evc.reset_index(drop=True), ens_soft_wgt_preds_prob_df_evc.reset_index(drop=True)], axis=1)\n"
   ]
  },
  {
   "cell_type": "code",
   "execution_count": 38,
   "metadata": {},
   "outputs": [],
   "source": [
    "ens_hard_preds_evc = ensemble_hard_evc.predict(X_test)\n",
    "ens_hard_test_df_evc = copy.deepcopy(X_test)\n",
    "ens_hard_test_df_evc['actual_state'] = y_test\n",
    "ens_hard_test_df_evc['hard_ens_predicted_state'] = ens_hard_preds_evc\n",
    "\n",
    "ens_hard_combined_output_evc = ens_hard_test_df_evc\n"
   ]
  },
  {
   "cell_type": "code",
   "execution_count": 39,
   "metadata": {},
   "outputs": [],
   "source": [
    "ens_soft_summary_df_evc = ens_soft_combined_output_evc[ens_soft_combined_output_evc.columns[-4:]]\n",
    "ens_soft_wgt_summary_df_evc = ens_soft_wgt_combined_output_evc[ens_soft_wgt_combined_output_evc.columns[-3:]]\n",
    "ens_hard_summary_df_evc = ens_hard_combined_output_evc[ens_hard_combined_output_evc.columns[-1:]]\n",
    "\n",
    "ens_combined_output_evc = pd.concat([ens_soft_summary_df_evc.reset_index(drop=True), ens_soft_wgt_summary_df_evc.reset_index(drop=True),ens_hard_summary_df_evc.reset_index(drop=True)], axis=1)\n",
    "\n",
    "ens_combined_output_evc['soft_vote_disagree'] = np.where(ens_combined_output_evc['soft_ens_predicted_state'] != ens_combined_output_evc['soft_ens_wght_predicted_state'],1,0)\n",
    "ens_combined_output_evc['hard_vote_disagree_wo_wght'] = np.where(ens_combined_output_evc['hard_ens_predicted_state'] != ens_combined_output_evc['soft_ens_predicted_state'],1,0)\n",
    "ens_combined_output_evc['hard_vote_disagree_w_wght'] = np.where(ens_combined_output_evc['hard_ens_predicted_state'] != ens_combined_output_evc['soft_ens_wght_predicted_state'],1,0)\n",
    "\n",
    "ens_combined_output_evc['hard_vote_disagree'] = ens_combined_output_evc[['hard_vote_disagree_w_wght','hard_vote_disagree_wo_wght']].sum(axis=1)\n",
    "\n",
    "ens_combined_soft_vote_disagree = ens_combined_output_evc[ens_combined_output_evc['soft_vote_disagree'] == 1]\n",
    "ens_combined_hard_vote_disagree = ens_combined_output_evc[ens_combined_output_evc['hard_vote_disagree'] > 0]\n",
    "\n"
   ]
  },
  {
   "cell_type": "code",
   "execution_count": 40,
   "metadata": {},
   "outputs": [
    {
     "data": {
      "text/html": [
       "<div>\n",
       "<style scoped>\n",
       "    .dataframe tbody tr th:only-of-type {\n",
       "        vertical-align: middle;\n",
       "    }\n",
       "\n",
       "    .dataframe tbody tr th {\n",
       "        vertical-align: top;\n",
       "    }\n",
       "\n",
       "    .dataframe thead th {\n",
       "        text-align: right;\n",
       "    }\n",
       "</style>\n",
       "<table border=\"1\" class=\"dataframe\">\n",
       "  <thead>\n",
       "    <tr style=\"text-align: right;\">\n",
       "      <th></th>\n",
       "      <th>actual_state</th>\n",
       "      <th>soft_ens_predicted_state</th>\n",
       "      <th>soft_ens_failed_prob</th>\n",
       "      <th>soft_ens_successful_prob</th>\n",
       "      <th>soft_ens_wght_predicted_state</th>\n",
       "      <th>soft_ens_wght_failed_prob</th>\n",
       "      <th>soft_ens_wght_successful_prob</th>\n",
       "    </tr>\n",
       "  </thead>\n",
       "  <tbody>\n",
       "    <tr>\n",
       "      <th>13</th>\n",
       "      <td>successful</td>\n",
       "      <td>successful</td>\n",
       "      <td>0.499805</td>\n",
       "      <td>0.500195</td>\n",
       "      <td>failed</td>\n",
       "      <td>0.506819</td>\n",
       "      <td>0.493181</td>\n",
       "    </tr>\n",
       "    <tr>\n",
       "      <th>66</th>\n",
       "      <td>failed</td>\n",
       "      <td>successful</td>\n",
       "      <td>0.494801</td>\n",
       "      <td>0.505199</td>\n",
       "      <td>failed</td>\n",
       "      <td>0.501716</td>\n",
       "      <td>0.498284</td>\n",
       "    </tr>\n",
       "    <tr>\n",
       "      <th>70</th>\n",
       "      <td>successful</td>\n",
       "      <td>successful</td>\n",
       "      <td>0.497281</td>\n",
       "      <td>0.502719</td>\n",
       "      <td>failed</td>\n",
       "      <td>0.503661</td>\n",
       "      <td>0.496339</td>\n",
       "    </tr>\n",
       "    <tr>\n",
       "      <th>105</th>\n",
       "      <td>failed</td>\n",
       "      <td>successful</td>\n",
       "      <td>0.491116</td>\n",
       "      <td>0.508884</td>\n",
       "      <td>failed</td>\n",
       "      <td>0.500658</td>\n",
       "      <td>0.499342</td>\n",
       "    </tr>\n",
       "    <tr>\n",
       "      <th>127</th>\n",
       "      <td>successful</td>\n",
       "      <td>successful</td>\n",
       "      <td>0.493974</td>\n",
       "      <td>0.506026</td>\n",
       "      <td>failed</td>\n",
       "      <td>0.500580</td>\n",
       "      <td>0.499420</td>\n",
       "    </tr>\n",
       "    <tr>\n",
       "      <th>...</th>\n",
       "      <td>...</td>\n",
       "      <td>...</td>\n",
       "      <td>...</td>\n",
       "      <td>...</td>\n",
       "      <td>...</td>\n",
       "      <td>...</td>\n",
       "      <td>...</td>\n",
       "    </tr>\n",
       "    <tr>\n",
       "      <th>8942</th>\n",
       "      <td>failed</td>\n",
       "      <td>successful</td>\n",
       "      <td>0.495063</td>\n",
       "      <td>0.504937</td>\n",
       "      <td>failed</td>\n",
       "      <td>0.501757</td>\n",
       "      <td>0.498243</td>\n",
       "    </tr>\n",
       "    <tr>\n",
       "      <th>8963</th>\n",
       "      <td>successful</td>\n",
       "      <td>successful</td>\n",
       "      <td>0.497179</td>\n",
       "      <td>0.502821</td>\n",
       "      <td>failed</td>\n",
       "      <td>0.503070</td>\n",
       "      <td>0.496930</td>\n",
       "    </tr>\n",
       "    <tr>\n",
       "      <th>8966</th>\n",
       "      <td>successful</td>\n",
       "      <td>successful</td>\n",
       "      <td>0.492542</td>\n",
       "      <td>0.507458</td>\n",
       "      <td>failed</td>\n",
       "      <td>0.503536</td>\n",
       "      <td>0.496464</td>\n",
       "    </tr>\n",
       "    <tr>\n",
       "      <th>8977</th>\n",
       "      <td>successful</td>\n",
       "      <td>successful</td>\n",
       "      <td>0.497503</td>\n",
       "      <td>0.502497</td>\n",
       "      <td>failed</td>\n",
       "      <td>0.503564</td>\n",
       "      <td>0.496436</td>\n",
       "    </tr>\n",
       "    <tr>\n",
       "      <th>9030</th>\n",
       "      <td>successful</td>\n",
       "      <td>successful</td>\n",
       "      <td>0.496740</td>\n",
       "      <td>0.503260</td>\n",
       "      <td>failed</td>\n",
       "      <td>0.505982</td>\n",
       "      <td>0.494018</td>\n",
       "    </tr>\n",
       "  </tbody>\n",
       "</table>\n",
       "<p>172 rows × 7 columns</p>\n",
       "</div>"
      ],
      "text/plain": [
       "     actual_state soft_ens_predicted_state  soft_ens_failed_prob  \\\n",
       "13     successful               successful              0.499805   \n",
       "66         failed               successful              0.494801   \n",
       "70     successful               successful              0.497281   \n",
       "105        failed               successful              0.491116   \n",
       "127    successful               successful              0.493974   \n",
       "...           ...                      ...                   ...   \n",
       "8942       failed               successful              0.495063   \n",
       "8963   successful               successful              0.497179   \n",
       "8966   successful               successful              0.492542   \n",
       "8977   successful               successful              0.497503   \n",
       "9030   successful               successful              0.496740   \n",
       "\n",
       "      soft_ens_successful_prob soft_ens_wght_predicted_state  \\\n",
       "13                    0.500195                        failed   \n",
       "66                    0.505199                        failed   \n",
       "70                    0.502719                        failed   \n",
       "105                   0.508884                        failed   \n",
       "127                   0.506026                        failed   \n",
       "...                        ...                           ...   \n",
       "8942                  0.504937                        failed   \n",
       "8963                  0.502821                        failed   \n",
       "8966                  0.507458                        failed   \n",
       "8977                  0.502497                        failed   \n",
       "9030                  0.503260                        failed   \n",
       "\n",
       "      soft_ens_wght_failed_prob  soft_ens_wght_successful_prob  \n",
       "13                     0.506819                       0.493181  \n",
       "66                     0.501716                       0.498284  \n",
       "70                     0.503661                       0.496339  \n",
       "105                    0.500658                       0.499342  \n",
       "127                    0.500580                       0.499420  \n",
       "...                         ...                            ...  \n",
       "8942                   0.501757                       0.498243  \n",
       "8963                   0.503070                       0.496930  \n",
       "8966                   0.503536                       0.496464  \n",
       "8977                   0.503564                       0.496436  \n",
       "9030                   0.505982                       0.494018  \n",
       "\n",
       "[172 rows x 7 columns]"
      ]
     },
     "execution_count": 40,
     "metadata": {},
     "output_type": "execute_result"
    }
   ],
   "source": [
    "ens_combined_soft_vote_disagree.iloc[0:,:7]"
   ]
  },
  {
   "cell_type": "code",
   "execution_count": 41,
   "metadata": {},
   "outputs": [
    {
     "data": {
      "text/html": [
       "<div>\n",
       "<style scoped>\n",
       "    .dataframe tbody tr th:only-of-type {\n",
       "        vertical-align: middle;\n",
       "    }\n",
       "\n",
       "    .dataframe tbody tr th {\n",
       "        vertical-align: top;\n",
       "    }\n",
       "\n",
       "    .dataframe thead th {\n",
       "        text-align: right;\n",
       "    }\n",
       "</style>\n",
       "<table border=\"1\" class=\"dataframe\">\n",
       "  <thead>\n",
       "    <tr style=\"text-align: right;\">\n",
       "      <th></th>\n",
       "      <th>actual_state</th>\n",
       "      <th>soft_ens_predicted_state</th>\n",
       "      <th>soft_ens_failed_prob</th>\n",
       "      <th>soft_ens_successful_prob</th>\n",
       "      <th>soft_ens_wght_predicted_state</th>\n",
       "      <th>soft_ens_wght_failed_prob</th>\n",
       "      <th>soft_ens_wght_successful_prob</th>\n",
       "      <th>hard_ens_predicted_state</th>\n",
       "    </tr>\n",
       "  </thead>\n",
       "  <tbody>\n",
       "    <tr>\n",
       "      <th>13</th>\n",
       "      <td>successful</td>\n",
       "      <td>successful</td>\n",
       "      <td>0.499805</td>\n",
       "      <td>0.500195</td>\n",
       "      <td>failed</td>\n",
       "      <td>0.506819</td>\n",
       "      <td>0.493181</td>\n",
       "      <td>failed</td>\n",
       "    </tr>\n",
       "    <tr>\n",
       "      <th>18</th>\n",
       "      <td>successful</td>\n",
       "      <td>successful</td>\n",
       "      <td>0.452742</td>\n",
       "      <td>0.547258</td>\n",
       "      <td>successful</td>\n",
       "      <td>0.463185</td>\n",
       "      <td>0.536815</td>\n",
       "      <td>failed</td>\n",
       "    </tr>\n",
       "    <tr>\n",
       "      <th>19</th>\n",
       "      <td>successful</td>\n",
       "      <td>successful</td>\n",
       "      <td>0.483111</td>\n",
       "      <td>0.516889</td>\n",
       "      <td>successful</td>\n",
       "      <td>0.490597</td>\n",
       "      <td>0.509403</td>\n",
       "      <td>failed</td>\n",
       "    </tr>\n",
       "    <tr>\n",
       "      <th>27</th>\n",
       "      <td>successful</td>\n",
       "      <td>successful</td>\n",
       "      <td>0.480762</td>\n",
       "      <td>0.519238</td>\n",
       "      <td>successful</td>\n",
       "      <td>0.488358</td>\n",
       "      <td>0.511642</td>\n",
       "      <td>failed</td>\n",
       "    </tr>\n",
       "    <tr>\n",
       "      <th>47</th>\n",
       "      <td>failed</td>\n",
       "      <td>successful</td>\n",
       "      <td>0.411000</td>\n",
       "      <td>0.589000</td>\n",
       "      <td>successful</td>\n",
       "      <td>0.426124</td>\n",
       "      <td>0.573876</td>\n",
       "      <td>failed</td>\n",
       "    </tr>\n",
       "    <tr>\n",
       "      <th>...</th>\n",
       "      <td>...</td>\n",
       "      <td>...</td>\n",
       "      <td>...</td>\n",
       "      <td>...</td>\n",
       "      <td>...</td>\n",
       "      <td>...</td>\n",
       "      <td>...</td>\n",
       "      <td>...</td>\n",
       "    </tr>\n",
       "    <tr>\n",
       "      <th>9157</th>\n",
       "      <td>successful</td>\n",
       "      <td>successful</td>\n",
       "      <td>0.422806</td>\n",
       "      <td>0.577194</td>\n",
       "      <td>successful</td>\n",
       "      <td>0.437322</td>\n",
       "      <td>0.562678</td>\n",
       "      <td>failed</td>\n",
       "    </tr>\n",
       "    <tr>\n",
       "      <th>9163</th>\n",
       "      <td>failed</td>\n",
       "      <td>successful</td>\n",
       "      <td>0.477829</td>\n",
       "      <td>0.522171</td>\n",
       "      <td>successful</td>\n",
       "      <td>0.486129</td>\n",
       "      <td>0.513871</td>\n",
       "      <td>failed</td>\n",
       "    </tr>\n",
       "    <tr>\n",
       "      <th>9172</th>\n",
       "      <td>successful</td>\n",
       "      <td>successful</td>\n",
       "      <td>0.418766</td>\n",
       "      <td>0.581234</td>\n",
       "      <td>successful</td>\n",
       "      <td>0.433853</td>\n",
       "      <td>0.566147</td>\n",
       "      <td>failed</td>\n",
       "    </tr>\n",
       "    <tr>\n",
       "      <th>9176</th>\n",
       "      <td>successful</td>\n",
       "      <td>successful</td>\n",
       "      <td>0.446115</td>\n",
       "      <td>0.553885</td>\n",
       "      <td>successful</td>\n",
       "      <td>0.458607</td>\n",
       "      <td>0.541393</td>\n",
       "      <td>failed</td>\n",
       "    </tr>\n",
       "    <tr>\n",
       "      <th>9192</th>\n",
       "      <td>failed</td>\n",
       "      <td>successful</td>\n",
       "      <td>0.483800</td>\n",
       "      <td>0.516200</td>\n",
       "      <td>successful</td>\n",
       "      <td>0.491015</td>\n",
       "      <td>0.508985</td>\n",
       "      <td>failed</td>\n",
       "    </tr>\n",
       "  </tbody>\n",
       "</table>\n",
       "<p>976 rows × 8 columns</p>\n",
       "</div>"
      ],
      "text/plain": [
       "     actual_state soft_ens_predicted_state  soft_ens_failed_prob  \\\n",
       "13     successful               successful              0.499805   \n",
       "18     successful               successful              0.452742   \n",
       "19     successful               successful              0.483111   \n",
       "27     successful               successful              0.480762   \n",
       "47         failed               successful              0.411000   \n",
       "...           ...                      ...                   ...   \n",
       "9157   successful               successful              0.422806   \n",
       "9163       failed               successful              0.477829   \n",
       "9172   successful               successful              0.418766   \n",
       "9176   successful               successful              0.446115   \n",
       "9192       failed               successful              0.483800   \n",
       "\n",
       "      soft_ens_successful_prob soft_ens_wght_predicted_state  \\\n",
       "13                    0.500195                        failed   \n",
       "18                    0.547258                    successful   \n",
       "19                    0.516889                    successful   \n",
       "27                    0.519238                    successful   \n",
       "47                    0.589000                    successful   \n",
       "...                        ...                           ...   \n",
       "9157                  0.577194                    successful   \n",
       "9163                  0.522171                    successful   \n",
       "9172                  0.581234                    successful   \n",
       "9176                  0.553885                    successful   \n",
       "9192                  0.516200                    successful   \n",
       "\n",
       "      soft_ens_wght_failed_prob  soft_ens_wght_successful_prob  \\\n",
       "13                     0.506819                       0.493181   \n",
       "18                     0.463185                       0.536815   \n",
       "19                     0.490597                       0.509403   \n",
       "27                     0.488358                       0.511642   \n",
       "47                     0.426124                       0.573876   \n",
       "...                         ...                            ...   \n",
       "9157                   0.437322                       0.562678   \n",
       "9163                   0.486129                       0.513871   \n",
       "9172                   0.433853                       0.566147   \n",
       "9176                   0.458607                       0.541393   \n",
       "9192                   0.491015                       0.508985   \n",
       "\n",
       "     hard_ens_predicted_state  \n",
       "13                     failed  \n",
       "18                     failed  \n",
       "19                     failed  \n",
       "27                     failed  \n",
       "47                     failed  \n",
       "...                       ...  \n",
       "9157                   failed  \n",
       "9163                   failed  \n",
       "9172                   failed  \n",
       "9176                   failed  \n",
       "9192                   failed  \n",
       "\n",
       "[976 rows x 8 columns]"
      ]
     },
     "execution_count": 41,
     "metadata": {},
     "output_type": "execute_result"
    }
   ],
   "source": [
    "ens_combined_hard_vote_disagree.iloc[0:,:8]"
   ]
  },
  {
   "cell_type": "markdown",
   "metadata": {},
   "source": [
    "## 2.4 - How Ensembles Work\n",
    "\n",
    "The next few cells will construct the standardized tables needed for investigating the ensemble components"
   ]
  },
  {
   "cell_type": "code",
   "execution_count": 42,
   "metadata": {},
   "outputs": [],
   "source": [
    "knn_preds = knn_best.predict(X_test)\n",
    "knn_preds_prob = knn_best.predict_proba(X_test)\n",
    "knn_test_df = copy.deepcopy(X_test)\n",
    "knn_test_df['actual_state'] = y_test\n",
    "knn_test_df['knn_predicted_state'] = knn_preds\n",
    "\n",
    "col_header = ['knn_' + x + '_prob' for x in knn_best.classes_]\n",
    "knn_preds_prob_df = pd.DataFrame(knn_preds_prob)\n",
    "knn_preds_prob_df.columns = col_header\n",
    "knn_combined_output = pd.concat([knn_test_df.reset_index(drop=True), knn_preds_prob_df.reset_index(drop=True)], axis=1)\n"
   ]
  },
  {
   "cell_type": "code",
   "execution_count": 43,
   "metadata": {},
   "outputs": [],
   "source": [
    "rf_preds = rf_best.predict(X_test)\n",
    "rf_preds_prob = rf_best.predict_proba(X_test)\n",
    "rf_test_df = copy.deepcopy(X_test)\n",
    "rf_test_df['actual_state'] = y_test\n",
    "rf_test_df['rf_predicted_state'] = rf_preds\n",
    "\n",
    "col_header = ['rf_' + x + '_prob' for x in rf_best.classes_]\n",
    "rf_preds_prob_df = pd.DataFrame(rf_preds_prob)\n",
    "rf_preds_prob_df.columns = col_header\n",
    "rf_combined_output = pd.concat([rf_test_df.reset_index(drop=True), rf_preds_prob_df.reset_index(drop=True)], axis=1)\n"
   ]
  },
  {
   "cell_type": "code",
   "execution_count": 44,
   "metadata": {},
   "outputs": [],
   "source": [
    "lr_preds = log_reg.predict(X_test)\n",
    "lr_preds_prob = log_reg.predict_proba(X_test)\n",
    "lr_test_df = copy.deepcopy(X_test)\n",
    "lr_test_df['actual_state'] = y_test\n",
    "lr_test_df['lr_predicted_state'] = lr_preds\n",
    "\n",
    "col_header = ['lr_' + x + '_prob' for x in log_reg.classes_]\n",
    "lr_preds_prob_df = pd.DataFrame(lr_preds_prob)\n",
    "lr_preds_prob_df.columns = col_header\n",
    "lr_combined_output = pd.concat([lr_test_df.reset_index(drop=True), lr_preds_prob_df.reset_index(drop=True)], axis=1)\n"
   ]
  },
  {
   "cell_type": "markdown",
   "metadata": {},
   "source": [
    "### Consolidated Modeling Output Table"
   ]
  },
  {
   "cell_type": "code",
   "execution_count": 45,
   "metadata": {},
   "outputs": [
    {
     "data": {
      "text/html": [
       "<div>\n",
       "<style scoped>\n",
       "    .dataframe tbody tr th:only-of-type {\n",
       "        vertical-align: middle;\n",
       "    }\n",
       "\n",
       "    .dataframe tbody tr th {\n",
       "        vertical-align: top;\n",
       "    }\n",
       "\n",
       "    .dataframe thead th {\n",
       "        text-align: right;\n",
       "    }\n",
       "</style>\n",
       "<table border=\"1\" class=\"dataframe\">\n",
       "  <thead>\n",
       "    <tr style=\"text-align: right;\">\n",
       "      <th></th>\n",
       "      <th>actual_state</th>\n",
       "      <th>knn_predicted_state</th>\n",
       "      <th>knn_failed_prob</th>\n",
       "      <th>knn_successful_prob</th>\n",
       "      <th>rf_predicted_state</th>\n",
       "      <th>rf_failed_prob</th>\n",
       "      <th>rf_successful_prob</th>\n",
       "      <th>lr_predicted_state</th>\n",
       "      <th>lr_failed_prob</th>\n",
       "      <th>lr_successful_prob</th>\n",
       "    </tr>\n",
       "  </thead>\n",
       "  <tbody>\n",
       "    <tr>\n",
       "      <th>0</th>\n",
       "      <td>successful</td>\n",
       "      <td>successful</td>\n",
       "      <td>0.484848</td>\n",
       "      <td>0.515152</td>\n",
       "      <td>failed</td>\n",
       "      <td>0.600000</td>\n",
       "      <td>0.400000</td>\n",
       "      <td>failed</td>\n",
       "      <td>0.588420</td>\n",
       "      <td>0.411580</td>\n",
       "    </tr>\n",
       "    <tr>\n",
       "      <th>1</th>\n",
       "      <td>failed</td>\n",
       "      <td>failed</td>\n",
       "      <td>0.666667</td>\n",
       "      <td>0.333333</td>\n",
       "      <td>failed</td>\n",
       "      <td>0.820000</td>\n",
       "      <td>0.180000</td>\n",
       "      <td>failed</td>\n",
       "      <td>0.610788</td>\n",
       "      <td>0.389212</td>\n",
       "    </tr>\n",
       "    <tr>\n",
       "      <th>2</th>\n",
       "      <td>successful</td>\n",
       "      <td>failed</td>\n",
       "      <td>0.636364</td>\n",
       "      <td>0.363636</td>\n",
       "      <td>failed</td>\n",
       "      <td>0.824667</td>\n",
       "      <td>0.175333</td>\n",
       "      <td>failed</td>\n",
       "      <td>0.571012</td>\n",
       "      <td>0.428988</td>\n",
       "    </tr>\n",
       "    <tr>\n",
       "      <th>3</th>\n",
       "      <td>failed</td>\n",
       "      <td>failed</td>\n",
       "      <td>0.575758</td>\n",
       "      <td>0.424242</td>\n",
       "      <td>failed</td>\n",
       "      <td>0.845000</td>\n",
       "      <td>0.155000</td>\n",
       "      <td>failed</td>\n",
       "      <td>0.697339</td>\n",
       "      <td>0.302661</td>\n",
       "    </tr>\n",
       "    <tr>\n",
       "      <th>4</th>\n",
       "      <td>failed</td>\n",
       "      <td>failed</td>\n",
       "      <td>0.636364</td>\n",
       "      <td>0.363636</td>\n",
       "      <td>failed</td>\n",
       "      <td>0.814000</td>\n",
       "      <td>0.186000</td>\n",
       "      <td>failed</td>\n",
       "      <td>0.569664</td>\n",
       "      <td>0.430336</td>\n",
       "    </tr>\n",
       "    <tr>\n",
       "      <th>...</th>\n",
       "      <td>...</td>\n",
       "      <td>...</td>\n",
       "      <td>...</td>\n",
       "      <td>...</td>\n",
       "      <td>...</td>\n",
       "      <td>...</td>\n",
       "      <td>...</td>\n",
       "      <td>...</td>\n",
       "      <td>...</td>\n",
       "      <td>...</td>\n",
       "    </tr>\n",
       "    <tr>\n",
       "      <th>9208</th>\n",
       "      <td>failed</td>\n",
       "      <td>failed</td>\n",
       "      <td>0.606061</td>\n",
       "      <td>0.393939</td>\n",
       "      <td>failed</td>\n",
       "      <td>0.630000</td>\n",
       "      <td>0.370000</td>\n",
       "      <td>failed</td>\n",
       "      <td>0.636868</td>\n",
       "      <td>0.363132</td>\n",
       "    </tr>\n",
       "    <tr>\n",
       "      <th>9209</th>\n",
       "      <td>successful</td>\n",
       "      <td>failed</td>\n",
       "      <td>0.666667</td>\n",
       "      <td>0.333333</td>\n",
       "      <td>failed</td>\n",
       "      <td>0.705000</td>\n",
       "      <td>0.295000</td>\n",
       "      <td>failed</td>\n",
       "      <td>0.613691</td>\n",
       "      <td>0.386309</td>\n",
       "    </tr>\n",
       "    <tr>\n",
       "      <th>9210</th>\n",
       "      <td>failed</td>\n",
       "      <td>failed</td>\n",
       "      <td>0.696970</td>\n",
       "      <td>0.303030</td>\n",
       "      <td>failed</td>\n",
       "      <td>0.980000</td>\n",
       "      <td>0.020000</td>\n",
       "      <td>failed</td>\n",
       "      <td>0.748719</td>\n",
       "      <td>0.251281</td>\n",
       "    </tr>\n",
       "    <tr>\n",
       "      <th>9211</th>\n",
       "      <td>failed</td>\n",
       "      <td>successful</td>\n",
       "      <td>0.272727</td>\n",
       "      <td>0.727273</td>\n",
       "      <td>successful</td>\n",
       "      <td>0.325000</td>\n",
       "      <td>0.675000</td>\n",
       "      <td>failed</td>\n",
       "      <td>0.512817</td>\n",
       "      <td>0.487183</td>\n",
       "    </tr>\n",
       "    <tr>\n",
       "      <th>9212</th>\n",
       "      <td>failed</td>\n",
       "      <td>failed</td>\n",
       "      <td>0.727273</td>\n",
       "      <td>0.272727</td>\n",
       "      <td>failed</td>\n",
       "      <td>0.849500</td>\n",
       "      <td>0.150500</td>\n",
       "      <td>failed</td>\n",
       "      <td>0.698685</td>\n",
       "      <td>0.301315</td>\n",
       "    </tr>\n",
       "  </tbody>\n",
       "</table>\n",
       "<p>9213 rows × 10 columns</p>\n",
       "</div>"
      ],
      "text/plain": [
       "     actual_state knn_predicted_state  knn_failed_prob  knn_successful_prob  \\\n",
       "0      successful          successful         0.484848             0.515152   \n",
       "1          failed              failed         0.666667             0.333333   \n",
       "2      successful              failed         0.636364             0.363636   \n",
       "3          failed              failed         0.575758             0.424242   \n",
       "4          failed              failed         0.636364             0.363636   \n",
       "...           ...                 ...              ...                  ...   \n",
       "9208       failed              failed         0.606061             0.393939   \n",
       "9209   successful              failed         0.666667             0.333333   \n",
       "9210       failed              failed         0.696970             0.303030   \n",
       "9211       failed          successful         0.272727             0.727273   \n",
       "9212       failed              failed         0.727273             0.272727   \n",
       "\n",
       "     rf_predicted_state  rf_failed_prob  rf_successful_prob  \\\n",
       "0                failed        0.600000            0.400000   \n",
       "1                failed        0.820000            0.180000   \n",
       "2                failed        0.824667            0.175333   \n",
       "3                failed        0.845000            0.155000   \n",
       "4                failed        0.814000            0.186000   \n",
       "...                 ...             ...                 ...   \n",
       "9208             failed        0.630000            0.370000   \n",
       "9209             failed        0.705000            0.295000   \n",
       "9210             failed        0.980000            0.020000   \n",
       "9211         successful        0.325000            0.675000   \n",
       "9212             failed        0.849500            0.150500   \n",
       "\n",
       "     lr_predicted_state  lr_failed_prob  lr_successful_prob  \n",
       "0                failed        0.588420            0.411580  \n",
       "1                failed        0.610788            0.389212  \n",
       "2                failed        0.571012            0.428988  \n",
       "3                failed        0.697339            0.302661  \n",
       "4                failed        0.569664            0.430336  \n",
       "...                 ...             ...                 ...  \n",
       "9208             failed        0.636868            0.363132  \n",
       "9209             failed        0.613691            0.386309  \n",
       "9210             failed        0.748719            0.251281  \n",
       "9211             failed        0.512817            0.487183  \n",
       "9212             failed        0.698685            0.301315  \n",
       "\n",
       "[9213 rows x 10 columns]"
      ]
     },
     "execution_count": 45,
     "metadata": {},
     "output_type": "execute_result"
    }
   ],
   "source": [
    "knn_summary_df = knn_combined_output[knn_combined_output.columns[-4:]]\n",
    "rf_summary_df = rf_combined_output[rf_combined_output.columns[-3:]]\n",
    "lr_summary_df = lr_combined_output[lr_combined_output.columns[-3:]]\n",
    "\n",
    "combined_output = pd.concat([knn_summary_df.reset_index(drop=True), rf_summary_df.reset_index(drop=True), lr_summary_df.reset_index(drop=True)], axis=1)\n",
    "combined_output\n"
   ]
  },
  {
   "cell_type": "markdown",
   "metadata": {},
   "source": [
    "### Consolidated Ensemble Output Table"
   ]
  },
  {
   "cell_type": "code",
   "execution_count": 46,
   "metadata": {},
   "outputs": [
    {
     "data": {
      "text/html": [
       "<div>\n",
       "<style scoped>\n",
       "    .dataframe tbody tr th:only-of-type {\n",
       "        vertical-align: middle;\n",
       "    }\n",
       "\n",
       "    .dataframe tbody tr th {\n",
       "        vertical-align: top;\n",
       "    }\n",
       "\n",
       "    .dataframe thead th {\n",
       "        text-align: right;\n",
       "    }\n",
       "</style>\n",
       "<table border=\"1\" class=\"dataframe\">\n",
       "  <thead>\n",
       "    <tr style=\"text-align: right;\">\n",
       "      <th></th>\n",
       "      <th>actual_state</th>\n",
       "      <th>soft_ens_predicted_state</th>\n",
       "      <th>soft_ens_failed_prob</th>\n",
       "      <th>soft_ens_successful_prob</th>\n",
       "      <th>soft_ens_wght_predicted_state</th>\n",
       "      <th>soft_ens_wght_failed_prob</th>\n",
       "      <th>soft_ens_wght_successful_prob</th>\n",
       "      <th>hard_ens_predicted_state</th>\n",
       "    </tr>\n",
       "  </thead>\n",
       "  <tbody>\n",
       "    <tr>\n",
       "      <th>13</th>\n",
       "      <td>successful</td>\n",
       "      <td>successful</td>\n",
       "      <td>0.499805</td>\n",
       "      <td>0.500195</td>\n",
       "      <td>failed</td>\n",
       "      <td>0.506819</td>\n",
       "      <td>0.493181</td>\n",
       "      <td>failed</td>\n",
       "    </tr>\n",
       "    <tr>\n",
       "      <th>66</th>\n",
       "      <td>failed</td>\n",
       "      <td>successful</td>\n",
       "      <td>0.494801</td>\n",
       "      <td>0.505199</td>\n",
       "      <td>failed</td>\n",
       "      <td>0.501716</td>\n",
       "      <td>0.498284</td>\n",
       "      <td>failed</td>\n",
       "    </tr>\n",
       "    <tr>\n",
       "      <th>70</th>\n",
       "      <td>successful</td>\n",
       "      <td>successful</td>\n",
       "      <td>0.497281</td>\n",
       "      <td>0.502719</td>\n",
       "      <td>failed</td>\n",
       "      <td>0.503661</td>\n",
       "      <td>0.496339</td>\n",
       "      <td>failed</td>\n",
       "    </tr>\n",
       "    <tr>\n",
       "      <th>105</th>\n",
       "      <td>failed</td>\n",
       "      <td>successful</td>\n",
       "      <td>0.491116</td>\n",
       "      <td>0.508884</td>\n",
       "      <td>failed</td>\n",
       "      <td>0.500658</td>\n",
       "      <td>0.499342</td>\n",
       "      <td>failed</td>\n",
       "    </tr>\n",
       "    <tr>\n",
       "      <th>127</th>\n",
       "      <td>successful</td>\n",
       "      <td>successful</td>\n",
       "      <td>0.493974</td>\n",
       "      <td>0.506026</td>\n",
       "      <td>failed</td>\n",
       "      <td>0.500580</td>\n",
       "      <td>0.499420</td>\n",
       "      <td>failed</td>\n",
       "    </tr>\n",
       "    <tr>\n",
       "      <th>...</th>\n",
       "      <td>...</td>\n",
       "      <td>...</td>\n",
       "      <td>...</td>\n",
       "      <td>...</td>\n",
       "      <td>...</td>\n",
       "      <td>...</td>\n",
       "      <td>...</td>\n",
       "      <td>...</td>\n",
       "    </tr>\n",
       "    <tr>\n",
       "      <th>9208</th>\n",
       "      <td>failed</td>\n",
       "      <td>failed</td>\n",
       "      <td>0.624309</td>\n",
       "      <td>0.375691</td>\n",
       "      <td>failed</td>\n",
       "      <td>0.625565</td>\n",
       "      <td>0.374435</td>\n",
       "      <td>failed</td>\n",
       "    </tr>\n",
       "    <tr>\n",
       "      <th>9209</th>\n",
       "      <td>successful</td>\n",
       "      <td>failed</td>\n",
       "      <td>0.661786</td>\n",
       "      <td>0.338214</td>\n",
       "      <td>failed</td>\n",
       "      <td>0.656976</td>\n",
       "      <td>0.343024</td>\n",
       "      <td>failed</td>\n",
       "    </tr>\n",
       "    <tr>\n",
       "      <th>9210</th>\n",
       "      <td>failed</td>\n",
       "      <td>failed</td>\n",
       "      <td>0.808563</td>\n",
       "      <td>0.191437</td>\n",
       "      <td>failed</td>\n",
       "      <td>0.802578</td>\n",
       "      <td>0.197422</td>\n",
       "      <td>failed</td>\n",
       "    </tr>\n",
       "    <tr>\n",
       "      <th>9211</th>\n",
       "      <td>failed</td>\n",
       "      <td>successful</td>\n",
       "      <td>0.370181</td>\n",
       "      <td>0.629819</td>\n",
       "      <td>successful</td>\n",
       "      <td>0.384445</td>\n",
       "      <td>0.615555</td>\n",
       "      <td>successful</td>\n",
       "    </tr>\n",
       "    <tr>\n",
       "      <th>9212</th>\n",
       "      <td>failed</td>\n",
       "      <td>failed</td>\n",
       "      <td>0.758486</td>\n",
       "      <td>0.241514</td>\n",
       "      <td>failed</td>\n",
       "      <td>0.752506</td>\n",
       "      <td>0.247494</td>\n",
       "      <td>failed</td>\n",
       "    </tr>\n",
       "  </tbody>\n",
       "</table>\n",
       "<p>9213 rows × 8 columns</p>\n",
       "</div>"
      ],
      "text/plain": [
       "     actual_state soft_ens_predicted_state  soft_ens_failed_prob  \\\n",
       "13     successful               successful              0.499805   \n",
       "66         failed               successful              0.494801   \n",
       "70     successful               successful              0.497281   \n",
       "105        failed               successful              0.491116   \n",
       "127    successful               successful              0.493974   \n",
       "...           ...                      ...                   ...   \n",
       "9208       failed                   failed              0.624309   \n",
       "9209   successful                   failed              0.661786   \n",
       "9210       failed                   failed              0.808563   \n",
       "9211       failed               successful              0.370181   \n",
       "9212       failed                   failed              0.758486   \n",
       "\n",
       "      soft_ens_successful_prob soft_ens_wght_predicted_state  \\\n",
       "13                    0.500195                        failed   \n",
       "66                    0.505199                        failed   \n",
       "70                    0.502719                        failed   \n",
       "105                   0.508884                        failed   \n",
       "127                   0.506026                        failed   \n",
       "...                        ...                           ...   \n",
       "9208                  0.375691                        failed   \n",
       "9209                  0.338214                        failed   \n",
       "9210                  0.191437                        failed   \n",
       "9211                  0.629819                    successful   \n",
       "9212                  0.241514                        failed   \n",
       "\n",
       "      soft_ens_wght_failed_prob  soft_ens_wght_successful_prob  \\\n",
       "13                     0.506819                       0.493181   \n",
       "66                     0.501716                       0.498284   \n",
       "70                     0.503661                       0.496339   \n",
       "105                    0.500658                       0.499342   \n",
       "127                    0.500580                       0.499420   \n",
       "...                         ...                            ...   \n",
       "9208                   0.625565                       0.374435   \n",
       "9209                   0.656976                       0.343024   \n",
       "9210                   0.802578                       0.197422   \n",
       "9211                   0.384445                       0.615555   \n",
       "9212                   0.752506                       0.247494   \n",
       "\n",
       "     hard_ens_predicted_state  \n",
       "13                     failed  \n",
       "66                     failed  \n",
       "70                     failed  \n",
       "105                    failed  \n",
       "127                    failed  \n",
       "...                       ...  \n",
       "9208                   failed  \n",
       "9209                   failed  \n",
       "9210                   failed  \n",
       "9211               successful  \n",
       "9212                   failed  \n",
       "\n",
       "[9213 rows x 8 columns]"
      ]
     },
     "execution_count": 46,
     "metadata": {},
     "output_type": "execute_result"
    }
   ],
   "source": [
    "ens_combined_output_evc.sort_values(by=['soft_vote_disagree','hard_vote_disagree'], ascending=[0,0]).iloc[0:,:8]"
   ]
  },
  {
   "cell_type": "code",
   "execution_count": 52,
   "metadata": {},
   "outputs": [],
   "source": [
    "row_num = 13"
   ]
  },
  {
   "cell_type": "code",
   "execution_count": 53,
   "metadata": {},
   "outputs": [
    {
     "data": {
      "text/plain": [
       "actual_state           successful\n",
       "knn_predicted_state    successful\n",
       "knn_failed_prob          0.363636\n",
       "knn_successful_prob      0.636364\n",
       "rf_predicted_state         failed\n",
       "rf_failed_prob           0.565833\n",
       "rf_successful_prob       0.434167\n",
       "lr_predicted_state         failed\n",
       "lr_failed_prob           0.569944\n",
       "lr_successful_prob       0.430056\n",
       "Name: 13, dtype: object"
      ]
     },
     "execution_count": 53,
     "metadata": {},
     "output_type": "execute_result"
    }
   ],
   "source": [
    "combined_output.iloc[row_num,0:]"
   ]
  },
  {
   "cell_type": "markdown",
   "metadata": {},
   "source": [
    "### Analyzing a Single Record"
   ]
  },
  {
   "cell_type": "code",
   "execution_count": 54,
   "metadata": {},
   "outputs": [
    {
     "name": "stdout",
     "output_type": "stream",
     "text": [
      "knn label: successful, knn failed prob: 0.36363636363636365\n",
      "rf label: failed, rf failed prob: 0.5658333333333334\n",
      "lr label: failed, lr failed prob: 0.5699443087197822\n",
      "soft ensemble label: successful, soft ensemble failed prob: 0.4998046685631598\n",
      "soft wght ensemble label: failed, soft wght ensemble failed prob: 0.506818632578822\n",
      "hard ensemble label: failed\n"
     ]
    }
   ],
   "source": [
    "val1 = combined_output['knn_failed_prob'][row_num]\n",
    "lab1 = combined_output['knn_predicted_state'][row_num]\n",
    "\n",
    "val2 = combined_output['rf_failed_prob'][row_num]\n",
    "lab2 = combined_output['rf_predicted_state'][row_num]\n",
    "\n",
    "val3 = combined_output['lr_failed_prob'][row_num]\n",
    "lab3 = combined_output['lr_predicted_state'][row_num]\n",
    "\n",
    "print('knn label: '+lab1+', knn failed prob: '+str(val1))\n",
    "print('rf label: '+lab2+', rf failed prob: '+str(val2))\n",
    "print('lr label: '+lab3+', lr failed prob: '+str(val3))\n",
    "\n",
    "\n",
    "lab4 = ens_combined_output_evc['soft_ens_predicted_state'][row_num]\n",
    "lab5 = ens_combined_output_evc['soft_ens_wght_predicted_state'][row_num]\n",
    "lab6 = ens_combined_output_evc['hard_ens_predicted_state'][row_num]\n",
    "print('soft ensemble label: '+lab4+', soft ensemble failed prob: '+str((val1+val2+val3)/3))\n",
    "print('soft wght ensemble label: '+lab5+', soft wght ensemble failed prob: '+str((val1*.3)+(val2*.3)+(val3*.4)))\n",
    "print('hard ensemble label: '+lab6)"
   ]
  },
  {
   "cell_type": "markdown",
   "metadata": {},
   "source": [
    "## 2.5 - Save and Export a Model\n",
    "\n",
    "There are a few ways to export a trained model.  More often than not, you will either pickle your model or use the joblib function to store your model for later use.  See the link below for further details:\n",
    "\n",
    "[Save and Load Machine Learning Models in Python with scikit-learn](https://machinelearningmastery.com/save-load-machine-learning-models-python-scikit-learn/)"
   ]
  },
  {
   "cell_type": "code",
   "execution_count": 55,
   "metadata": {},
   "outputs": [
    {
     "data": {
      "text/plain": [
       "['joblib_ensemble_model.sav']"
      ]
     },
     "execution_count": 55,
     "metadata": {},
     "output_type": "execute_result"
    }
   ],
   "source": [
    "filename = 'ensemble_model.sav'\n",
    "pickle.dump(ensemble_soft_evc, open('pickle_'+filename, 'wb'))\n",
    "joblib.dump(ensemble_soft_evc, 'joblib_'+filename)"
   ]
  },
  {
   "cell_type": "markdown",
   "metadata": {},
   "source": [
    "### Confirmation that our saved model can be reloaded"
   ]
  },
  {
   "cell_type": "code",
   "execution_count": 56,
   "metadata": {},
   "outputs": [
    {
     "name": "stdout",
     "output_type": "stream",
     "text": [
      "imported model:0.6263974818191685\n"
     ]
    }
   ],
   "source": [
    "#loaded_model = pickle.load(open(filename, 'rb'))\n",
    "loaded_model = joblib.load('joblib_'+filename)\n",
    "result = loaded_model.score(X_test, y_test)\n",
    "print('imported model:' +str(result))"
   ]
  },
  {
   "cell_type": "markdown",
   "metadata": {},
   "source": [
    "The original model is provided below for comparison:"
   ]
  },
  {
   "cell_type": "code",
   "execution_count": 57,
   "metadata": {},
   "outputs": [
    {
     "name": "stdout",
     "output_type": "stream",
     "text": [
      "soft ensemble: 0.6263974818191685\n"
     ]
    }
   ],
   "source": [
    "print('soft ensemble: {}'.format(ensemble_soft_evc.score(X_test, y_test)))"
   ]
  },
  {
   "cell_type": "markdown",
   "metadata": {},
   "source": [
    "## 3.0 - Score a New Dataset\n",
    "\n",
    "The following process will walk you through uploading another dataset to score against your top model.\n",
    "\n",
    "**Note:** The new dataset must contain the same fields that were used to train your models in the prior steps.  The structure of the new dataset does not have to be consistent with the one used in prior steps (ex. there is no need to align columns)."
   ]
  },
  {
   "cell_type": "markdown",
   "metadata": {},
   "source": [
    "## 3.1 - Upload Your Data (Excel and CSV files)\n",
    "\n",
    "Follow the same process you used in subsequent steps to upload the dataset you would like to apply against your trained model.  This is the dataset with \"unknown\" values which your trained models will attempt to predict."
   ]
  },
  {
   "cell_type": "code",
   "execution_count": 67,
   "metadata": {},
   "outputs": [
    {
     "data": {
      "application/vnd.jupyter.widget-view+json": {
       "model_id": "25c67c37a0544f45a19457a3655edfbe",
       "version_major": 2,
       "version_minor": 0
      },
      "text/plain": [
       "interactive(children=(RadioButtons(description='File Location:', options=('local', 'url'), value='local'), Out…"
      ]
     },
     "metadata": {},
     "output_type": "display_data"
    }
   ],
   "source": [
    "upload_type = widgets.RadioButtons(\n",
    "    options=['local', 'url'],\n",
    "    description='File Location:',\n",
    "    disabled=False\n",
    ")\n",
    "\n",
    "upload_url = widgets.Text(\n",
    "    value='https://web.stanford.edu/class/archive/cs/cs109/cs109.1166/stuff/titanic.csv',\n",
    "    placeholder='http://',\n",
    "    description='URL:',\n",
    "    disabled=False,\n",
    "    layout=Layout(width='80%')\n",
    ")\n",
    "upload_filename = widgets.Text(\n",
    "    value='hold_out_data.csv',\n",
    "    placeholder='Sample File.csv',\n",
    "    description='File Name:',\n",
    "    disabled=False,\n",
    "    layout=Layout(width='50%')\n",
    ")\n",
    "\n",
    "file_type = widgets.RadioButtons(\n",
    "    options=['csv', 'xlsx'],\n",
    "    description='File Type:',\n",
    "    disabled=False\n",
    ")\n",
    "\n",
    "tab_names = widgets.Text(\n",
    "    value='Sheet1, Sheet2, Sheet3, etc',\n",
    "    placeholder='ALL EMPLOYEES, PAST EMPLOYEES',\n",
    "    description='Tab(s):',\n",
    "    disabled=False,\n",
    "    layout=Layout(width='50%')\n",
    ")\n",
    "\n",
    "subfolder_name = widgets.Text(\n",
    "    value='source_data',\n",
    "    placeholder='Subfolder name',\n",
    "    description='Subfolder:',\n",
    "    disabled=False,\n",
    "    layout=Layout(width='50%')\n",
    ")\n",
    "\n",
    "subfolder = widgets.RadioButtons(\n",
    "    options=['no','yes'],\n",
    "    value='no',\n",
    "    description='Subfolder:',\n",
    "    disabled=False\n",
    ")\n",
    "\n",
    "skip_rows = widgets.IntSlider(\n",
    "    value=0,\n",
    "    min=0,\n",
    "    max=10,\n",
    "    step=1,\n",
    "    description='Skip Rows:',\n",
    "    disabled=False,\n",
    "    continuous_update=True,\n",
    "    orientation='horizontal',\n",
    "    readout=True,\n",
    "    readout_format='d'\n",
    ")\n",
    "\n",
    "delimiter = widgets.RadioButtons(\n",
    "    options=[',',';'],\n",
    "    value=',',\n",
    "    description='Delimiter:',\n",
    "    disabled=False\n",
    ")\n",
    "\n",
    "def text_field(x):\n",
    "    if(x=='xlsx'):\n",
    "        display(tab_names)\n",
    "        tab_names.on_submit(tab_names)\n",
    "        display(skip_rows)\n",
    "    else:\n",
    "        display(delimiter)\n",
    "        print('Tab Names: Not needed for csv files')\n",
    "\n",
    "def sub_folder(y):\n",
    "    if(y=='yes'):\n",
    "        display(subfolder_name)\n",
    "        subfolder_name.on_submit(subfolder_name)\n",
    "    else:\n",
    "        print('Using {} folder'.format(os.getcwd()))\n",
    "\n",
    "def file_location(z):\n",
    "    if(z=='local'):\n",
    "        display(upload_filename)\n",
    "        i = widgets.interactive(text_field, x=file_type)\n",
    "        display(i)\n",
    "        p = widgets.interactive(sub_folder, y=subfolder)\n",
    "        display(p)\n",
    "    else:\n",
    "        display(upload_url)\n",
    "\n",
    "q = widgets.interactive(file_location, z=upload_type)\n",
    "\n",
    "display(q)"
   ]
  },
  {
   "cell_type": "markdown",
   "metadata": {},
   "source": [
    "## Reminder: Do not rerun the cell above after applying your inputs\n",
    "\n",
    "### Click on and Run this cell to proceed\n",
    "The following code cell will attempt to ingest the data you've selected in the widgets above:\n",
    "\n",
    "**Note About xlsx Files** - Depending on the number of tabs and the size of the data on each tab, ingesting an xlsx file can take several minutes to execute.  If possible, it may be more efficient to break your Excel file into separate csv files which take only a fraction of a second to ingest."
   ]
  },
  {
   "cell_type": "code",
   "execution_count": 68,
   "metadata": {},
   "outputs": [],
   "source": [
    "new_data = {}\n",
    "\n",
    "if upload_type.value == 'url':\n",
    "    url_response = requests.request(\"GET\", upload_url.value)\n",
    "    new_data['url_data'] = pd.read_csv(io.BytesIO(url_response.content))\n",
    "else:\n",
    "    if file_type.value == 'csv':\n",
    "        tabs = None\n",
    "        skiprows = 0\n",
    "    else:\n",
    "        tabs = [x.strip() for x in tab_names.value.split(',')]\n",
    "        skiprows = skip_rows.value\n",
    "\n",
    "    if subfolder.value == 'yes':\n",
    "        subfolder = subfolder_name.value\n",
    "    else:\n",
    "        subfolder = None\n",
    "    new_data = compile_raw_data(upload_filename.value, tabs, subfolder, delimiter_char = delimiter.value, skip_rows = skiprows, file_ext = file_type.value)\n"
   ]
  },
  {
   "cell_type": "markdown",
   "metadata": {},
   "source": [
    "**Note:** If you see an AttributeError: 'NoneType' object has no attribute 'value' message above, simply rerun the last two code cells to reset the input parameters.\n",
    "\n",
    "The following code cell will print out the attributes associated with the files you've uploaded and alert you of any errors:"
   ]
  },
  {
   "cell_type": "code",
   "execution_count": 69,
   "metadata": {},
   "outputs": [
    {
     "name": "stdout",
     "output_type": "stream",
     "text": [
      "hold_out_data table was ingested with 15000 rows and 18 columns\n"
     ]
    }
   ],
   "source": [
    "for key, value in new_data.items():\n",
    "    try:\n",
    "        print('{} table was ingested with {} rows and {} columns'.format(key,value.shape[0],value.shape[1]))\n",
    "    except:\n",
    "        print('{} table failed to load'.format(key))"
   ]
  },
  {
   "cell_type": "markdown",
   "metadata": {},
   "source": [
    "## 3.2 - Select a Data Frame to be Scored\n",
    "\n",
    "The following menus will allow you to select the dataset you would like to score against your trained model.  This dataset should contain the fields you used to train the models in prior steps, but it does not have to consistent of the same structure (ex. there is no need to remove unused columns or align column locations).\n",
    "\n",
    "Select an available frame from the list below:"
   ]
  },
  {
   "cell_type": "code",
   "execution_count": 70,
   "metadata": {},
   "outputs": [
    {
     "data": {
      "application/vnd.jupyter.widget-view+json": {
       "model_id": "ca3151469dc046cdab8709e1a68caa02",
       "version_major": 2,
       "version_minor": 0
      },
      "text/plain": [
       "Select(description='Tables:', layout=Layout(width='50%'), options=('hold_out_data',), value='hold_out_data')"
      ]
     },
     "metadata": {},
     "output_type": "display_data"
    }
   ],
   "source": [
    "dict_keys = widgets.Select(\n",
    "    options=new_data.keys(),\n",
    "    description='Tables:',\n",
    "    disabled=False,\n",
    "    layout=Layout(width='50%')\n",
    ")\n",
    "\n",
    "display(dict_keys)"
   ]
  },
  {
   "cell_type": "markdown",
   "metadata": {},
   "source": [
    "Select the variables required by your model (**Note:** these are the variables you used to train your original model)"
   ]
  },
  {
   "cell_type": "code",
   "execution_count": 71,
   "metadata": {},
   "outputs": [
    {
     "data": {
      "application/vnd.jupyter.widget-view+json": {
       "model_id": "4afddaa1f1164d8aa69c573740e44db9",
       "version_major": 2,
       "version_minor": 0
      },
      "text/plain": [
       "SelectMultiple(description='Variables:', layout=Layout(width='50%'), options=('id', 'name', 'category', 'main_…"
      ]
     },
     "metadata": {},
     "output_type": "display_data"
    }
   ],
   "source": [
    "pred_variables = widgets.SelectMultiple(\n",
    "    options=new_data[dict_keys.value].columns.tolist(),\n",
    "    description='Variables:',\n",
    "    disabled=False,\n",
    "    layout=Layout(width='50%')\n",
    ")\n",
    "\n",
    "display(pred_variables)"
   ]
  },
  {
   "cell_type": "markdown",
   "metadata": {},
   "source": [
    "Select all categorical variables in your dataset (for one-hot encoding)"
   ]
  },
  {
   "cell_type": "code",
   "execution_count": 72,
   "metadata": {},
   "outputs": [
    {
     "data": {
      "application/vnd.jupyter.widget-view+json": {
       "model_id": "3746a1bdd0694cd1860f124b77bbb4ac",
       "version_major": 2,
       "version_minor": 0
      },
      "text/plain": [
       "SelectMultiple(description='Target', options=('main_category', 'goal', 'country', 'launch_month', 'launch_dow'…"
      ]
     },
     "metadata": {},
     "output_type": "display_data"
    }
   ],
   "source": [
    "trim_vars = [x for x in pred_variables.value]\n",
    "cat_vars = new_data[dict_keys.value][trim_vars].columns.tolist()\n",
    "\n",
    "cat_vars_2 = widgets.SelectMultiple(\n",
    "    options=cat_vars,\n",
    "    description='Target',\n",
    "    disabled=False\n",
    ")\n",
    "\n",
    "display(cat_vars_2)"
   ]
  },
  {
   "cell_type": "markdown",
   "metadata": {},
   "source": [
    "## Reminder: Do not rerun the cell above after applying your inputs\n",
    "\n",
    "### Click on and Run this cell to proceed\n",
    "\n",
    "The cell below will execute the one-hot encoding and drop the original variables from your dataset"
   ]
  },
  {
   "cell_type": "code",
   "execution_count": 73,
   "metadata": {},
   "outputs": [],
   "source": [
    "one_hot_vars = [x for x in cat_vars_2.value]\n",
    "one_hot_df = pd.get_dummies(new_data[dict_keys.value][one_hot_vars],prefix=one_hot_vars)\n",
    "\n",
    "master_data['score_table'] = copy.deepcopy(new_data[dict_keys.value][trim_vars])\n",
    "\n",
    "master_data['score_table'] = master_data['score_table'].merge(one_hot_df, how='inner', left_index=True, right_index=True)\n",
    "\n",
    "for o in one_hot_vars:\n",
    "    del master_data['score_table'][o]\n"
   ]
  },
  {
   "cell_type": "markdown",
   "metadata": {},
   "source": [
    "## 3.3 - Score the Data\n",
    "\n",
    "Select the model object from your local directory.  This is the file you saved above in **Section 2.5**"
   ]
  },
  {
   "cell_type": "code",
   "execution_count": 74,
   "metadata": {},
   "outputs": [
    {
     "data": {
      "application/vnd.jupyter.widget-view+json": {
       "model_id": "ec2babad036541d4a34cb1383b50ab8b",
       "version_major": 2,
       "version_minor": 0
      },
      "text/plain": [
       "Select(description='Files:', layout=Layout(width='100%'), options=('Ensemble_h2o.py', '.DS_Store', '~$Case 7 -…"
      ]
     },
     "metadata": {},
     "output_type": "display_data"
    }
   ],
   "source": [
    "file_list = widgets.Select(\n",
    "    options=os.listdir(),\n",
    "    description='Files:',\n",
    "    disabled=False,\n",
    "    layout=Layout(width='100%')\n",
    ")\n",
    "\n",
    "display(file_list)"
   ]
  },
  {
   "cell_type": "markdown",
   "metadata": {},
   "source": [
    "## Reminder: Do not rerun the cell above after applying your inputs\n",
    "\n",
    "### Click on and Run this cell to proceed\n",
    "\n",
    "The cell below will load your model and score your selected dataset"
   ]
  },
  {
   "cell_type": "code",
   "execution_count": 75,
   "metadata": {},
   "outputs": [],
   "source": [
    "#loaded_model = pickle.load(open(file_list.value, 'rb'))\n",
    "loaded_model = joblib.load(file_list.value)\n",
    "result = loaded_model.predict(master_data['score_table'])"
   ]
  },
  {
   "cell_type": "markdown",
   "metadata": {},
   "source": [
    "View your scored dataset below:"
   ]
  },
  {
   "cell_type": "code",
   "execution_count": 76,
   "metadata": {},
   "outputs": [
    {
     "data": {
      "text/html": [
       "<div>\n",
       "<style scoped>\n",
       "    .dataframe tbody tr th:only-of-type {\n",
       "        vertical-align: middle;\n",
       "    }\n",
       "\n",
       "    .dataframe tbody tr th {\n",
       "        vertical-align: top;\n",
       "    }\n",
       "\n",
       "    .dataframe thead th {\n",
       "        text-align: right;\n",
       "    }\n",
       "</style>\n",
       "<table border=\"1\" class=\"dataframe\">\n",
       "  <thead>\n",
       "    <tr style=\"text-align: right;\">\n",
       "      <th></th>\n",
       "      <th>goal</th>\n",
       "      <th>launch_month</th>\n",
       "      <th>launch_dow</th>\n",
       "      <th>duration</th>\n",
       "      <th>main_category_Art</th>\n",
       "      <th>main_category_Comics</th>\n",
       "      <th>main_category_Crafts</th>\n",
       "      <th>main_category_Dance</th>\n",
       "      <th>main_category_Design</th>\n",
       "      <th>main_category_Fashion</th>\n",
       "      <th>...</th>\n",
       "      <th>country_LU</th>\n",
       "      <th>country_MX</th>\n",
       "      <th>country_N,0\"</th>\n",
       "      <th>country_NL</th>\n",
       "      <th>country_NO</th>\n",
       "      <th>country_NZ</th>\n",
       "      <th>country_SE</th>\n",
       "      <th>country_SG</th>\n",
       "      <th>country_US</th>\n",
       "      <th>predicted</th>\n",
       "    </tr>\n",
       "  </thead>\n",
       "  <tbody>\n",
       "    <tr>\n",
       "      <th>0</th>\n",
       "      <td>50.0</td>\n",
       "      <td>5</td>\n",
       "      <td>3</td>\n",
       "      <td>29</td>\n",
       "      <td>0</td>\n",
       "      <td>0</td>\n",
       "      <td>0</td>\n",
       "      <td>0</td>\n",
       "      <td>0</td>\n",
       "      <td>0</td>\n",
       "      <td>...</td>\n",
       "      <td>0</td>\n",
       "      <td>0</td>\n",
       "      <td>0</td>\n",
       "      <td>0</td>\n",
       "      <td>0</td>\n",
       "      <td>0</td>\n",
       "      <td>0</td>\n",
       "      <td>0</td>\n",
       "      <td>1</td>\n",
       "      <td>successful</td>\n",
       "    </tr>\n",
       "    <tr>\n",
       "      <th>1</th>\n",
       "      <td>5000.0</td>\n",
       "      <td>3</td>\n",
       "      <td>5</td>\n",
       "      <td>29</td>\n",
       "      <td>0</td>\n",
       "      <td>0</td>\n",
       "      <td>0</td>\n",
       "      <td>0</td>\n",
       "      <td>0</td>\n",
       "      <td>0</td>\n",
       "      <td>...</td>\n",
       "      <td>0</td>\n",
       "      <td>0</td>\n",
       "      <td>0</td>\n",
       "      <td>0</td>\n",
       "      <td>0</td>\n",
       "      <td>0</td>\n",
       "      <td>0</td>\n",
       "      <td>0</td>\n",
       "      <td>1</td>\n",
       "      <td>successful</td>\n",
       "    </tr>\n",
       "    <tr>\n",
       "      <th>2</th>\n",
       "      <td>7500.0</td>\n",
       "      <td>9</td>\n",
       "      <td>3</td>\n",
       "      <td>50</td>\n",
       "      <td>0</td>\n",
       "      <td>0</td>\n",
       "      <td>0</td>\n",
       "      <td>0</td>\n",
       "      <td>0</td>\n",
       "      <td>0</td>\n",
       "      <td>...</td>\n",
       "      <td>0</td>\n",
       "      <td>0</td>\n",
       "      <td>0</td>\n",
       "      <td>0</td>\n",
       "      <td>0</td>\n",
       "      <td>0</td>\n",
       "      <td>0</td>\n",
       "      <td>0</td>\n",
       "      <td>1</td>\n",
       "      <td>failed</td>\n",
       "    </tr>\n",
       "    <tr>\n",
       "      <th>3</th>\n",
       "      <td>12000.0</td>\n",
       "      <td>6</td>\n",
       "      <td>6</td>\n",
       "      <td>49</td>\n",
       "      <td>0</td>\n",
       "      <td>0</td>\n",
       "      <td>0</td>\n",
       "      <td>0</td>\n",
       "      <td>0</td>\n",
       "      <td>0</td>\n",
       "      <td>...</td>\n",
       "      <td>0</td>\n",
       "      <td>0</td>\n",
       "      <td>0</td>\n",
       "      <td>0</td>\n",
       "      <td>0</td>\n",
       "      <td>0</td>\n",
       "      <td>0</td>\n",
       "      <td>0</td>\n",
       "      <td>1</td>\n",
       "      <td>failed</td>\n",
       "    </tr>\n",
       "    <tr>\n",
       "      <th>4</th>\n",
       "      <td>50000.0</td>\n",
       "      <td>6</td>\n",
       "      <td>3</td>\n",
       "      <td>39</td>\n",
       "      <td>1</td>\n",
       "      <td>0</td>\n",
       "      <td>0</td>\n",
       "      <td>0</td>\n",
       "      <td>0</td>\n",
       "      <td>0</td>\n",
       "      <td>...</td>\n",
       "      <td>0</td>\n",
       "      <td>0</td>\n",
       "      <td>0</td>\n",
       "      <td>0</td>\n",
       "      <td>0</td>\n",
       "      <td>0</td>\n",
       "      <td>0</td>\n",
       "      <td>0</td>\n",
       "      <td>0</td>\n",
       "      <td>failed</td>\n",
       "    </tr>\n",
       "  </tbody>\n",
       "</table>\n",
       "<p>5 rows × 43 columns</p>\n",
       "</div>"
      ],
      "text/plain": [
       "      goal  launch_month  launch_dow  duration  main_category_Art  \\\n",
       "0     50.0             5           3        29                  0   \n",
       "1   5000.0             3           5        29                  0   \n",
       "2   7500.0             9           3        50                  0   \n",
       "3  12000.0             6           6        49                  0   \n",
       "4  50000.0             6           3        39                  1   \n",
       "\n",
       "   main_category_Comics  main_category_Crafts  main_category_Dance  \\\n",
       "0                     0                     0                    0   \n",
       "1                     0                     0                    0   \n",
       "2                     0                     0                    0   \n",
       "3                     0                     0                    0   \n",
       "4                     0                     0                    0   \n",
       "\n",
       "   main_category_Design  main_category_Fashion  ...  country_LU  country_MX  \\\n",
       "0                     0                      0  ...           0           0   \n",
       "1                     0                      0  ...           0           0   \n",
       "2                     0                      0  ...           0           0   \n",
       "3                     0                      0  ...           0           0   \n",
       "4                     0                      0  ...           0           0   \n",
       "\n",
       "   country_N,0\"  country_NL  country_NO  country_NZ  country_SE  country_SG  \\\n",
       "0             0           0           0           0           0           0   \n",
       "1             0           0           0           0           0           0   \n",
       "2             0           0           0           0           0           0   \n",
       "3             0           0           0           0           0           0   \n",
       "4             0           0           0           0           0           0   \n",
       "\n",
       "   country_US   predicted  \n",
       "0           1  successful  \n",
       "1           1  successful  \n",
       "2           1      failed  \n",
       "3           1      failed  \n",
       "4           0      failed  \n",
       "\n",
       "[5 rows x 43 columns]"
      ]
     },
     "execution_count": 76,
     "metadata": {},
     "output_type": "execute_result"
    }
   ],
   "source": [
    "master_data['score_table']['predicted'] = result\n",
    "master_data['score_table'].head()"
   ]
  },
  {
   "cell_type": "markdown",
   "metadata": {},
   "source": [
    "## 3.4 - Export Your Scored Data\n",
    "\n",
    "The cells below allow you to export your scored dataset"
   ]
  },
  {
   "cell_type": "code",
   "execution_count": 77,
   "metadata": {},
   "outputs": [],
   "source": [
    "def dict_to_excel(dict_name, dframe, subfolder, timestamp = False):\n",
    "    \n",
    "    # Inputs: a dictionary of dataframes; timestamp = True adds an ISO-formatted suffix to the filename\n",
    "    # Description: Writes dataframes contained within a dictionary to xlsx (on your directory)\n",
    "\n",
    "    if subfolder:\n",
    "        file_path = subfolder+'/'\n",
    "        suffix = '_' + re.sub(r\"\\:+\", '', dt.datetime.now().isoformat()) + '.xlsx' if timestamp else '.xlsx'  \n",
    "        file_path = os.path.join(file_path, dframe + suffix)\n",
    "    else:\n",
    "        suffix = '_' + re.sub(r\"\\:+\", '', dt.datetime.now().isoformat()) + '.xlsx' if timestamp else '.xlsx'  \n",
    "        file_path = os.path.join(dframe + suffix)\n",
    "        \n",
    "    try:\n",
    "        dict_name[dframe].to_excel(file_path, index = False)\n",
    "        print('Successfully wrote {} with {} rows and {} columns to the directory'.format(dframe+suffix, dict_name[dframe].shape[0], dict_name[dframe].shape[1]))\n",
    "    except Exception as e:\n",
    "        print('Writing the data to the directory failed')\n",
    "        \n",
    "def dict_to_parquet(dict_name, dframe, subfolder, timestamp = False):\n",
    "    \n",
    "    # Inputs: a dictionary of dataframes; timestamp = True adds an ISO-formatted suffix to the filename\n",
    "    # Description: Writes dataframes contained within a dictionary to parquet (on your directory)\n",
    "\n",
    "    if subfolder:\n",
    "        file_path = subfolder+'/'\n",
    "        suffix = '_' + re.sub(r\"\\:+\", '', dt.datetime.now().isoformat()) + '.parquet.gzip' if timestamp else '.parquet.gzip'  \n",
    "        file_path = os.path.join(file_path, dframe + suffix)\n",
    "    else:\n",
    "        suffix = '_' + re.sub(r\"\\:+\", '', dt.datetime.now().isoformat()) + '.parquet.gzip' if timestamp else '.parquet.gzip'  \n",
    "        file_path = os.path.join(dframe + suffix)\n",
    "        \n",
    "    try:\n",
    "        dict_name[dframe].to_parquet(file_path, compression='gzip')\n",
    "        print('Successfully wrote {} with {} rows and {} columns to the directory'.format(dframe+suffix, dict_name[dframe].shape[0], dict_name[dframe].shape[1]))\n",
    "    except Exception as e:\n",
    "        print('Writing the data to the directory failed')\n"
   ]
  },
  {
   "cell_type": "markdown",
   "metadata": {},
   "source": [
    "Select which datasets you would like to export along with where and how you would like them exported."
   ]
  },
  {
   "cell_type": "code",
   "execution_count": 78,
   "metadata": {},
   "outputs": [
    {
     "data": {
      "application/vnd.jupyter.widget-view+json": {
       "model_id": "07d1b12d516a43028452b2643986f092",
       "version_major": 2,
       "version_minor": 0
      },
      "text/plain": [
       "SelectMultiple(description='Tables:', layout=Layout(width='50%'), options=('training_data', 'custom_table', 'm…"
      ]
     },
     "metadata": {},
     "output_type": "display_data"
    },
    {
     "data": {
      "application/vnd.jupyter.widget-view+json": {
       "model_id": "7da88be5e31b4aa29d9ce4b0281857a5",
       "version_major": 2,
       "version_minor": 0
      },
      "text/plain": [
       "interactive(children=(RadioButtons(description='Subfolder:', options=('no', 'yes'), value='no'), Output()), _d…"
      ]
     },
     "metadata": {},
     "output_type": "display_data"
    },
    {
     "data": {
      "application/vnd.jupyter.widget-view+json": {
       "model_id": "751aacd7b4884e6984d28487e6d94b06",
       "version_major": 2,
       "version_minor": 0
      },
      "text/plain": [
       "RadioButtons(description='Timestamp:', options=('no', 'yes'), value='no')"
      ]
     },
     "metadata": {},
     "output_type": "display_data"
    },
    {
     "data": {
      "application/vnd.jupyter.widget-view+json": {
       "model_id": "ffac00a3080a442d8c9cf55335995e3a",
       "version_major": 2,
       "version_minor": 0
      },
      "text/plain": [
       "RadioButtons(description='Output Type:', options=('xlsx', 'parquet'), value='xlsx')"
      ]
     },
     "metadata": {},
     "output_type": "display_data"
    }
   ],
   "source": [
    "dict_keys = widgets.SelectMultiple(\n",
    "    options=master_data.keys(),\n",
    "    description='Tables:',\n",
    "    disabled=False,\n",
    "    layout=Layout(width='50%')\n",
    ")\n",
    "\n",
    "display(dict_keys)\n",
    "\n",
    "subfolder_option = widgets.RadioButtons(\n",
    "    options=['no','yes'],\n",
    "    value='no',\n",
    "    description='Subfolder:',\n",
    "    disabled=False\n",
    ")\n",
    "\n",
    "output_type = widgets.RadioButtons(\n",
    "    options=['xlsx','parquet'],\n",
    "    value='xlsx',\n",
    "    description='Output Type:',\n",
    "    disabled=False\n",
    ")\n",
    "\n",
    "timestamp_option = widgets.RadioButtons(\n",
    "    options=['no','yes'],\n",
    "    value='no',\n",
    "    description='Timestamp:',\n",
    "    disabled=False\n",
    ")\n",
    "\n",
    "subfolder_text = widgets.Text(\n",
    "    value='output',\n",
    "    placeholder='Subfolder name',\n",
    "    description='Subfolder:',\n",
    "    disabled=False,\n",
    "    layout=Layout(width='50%')\n",
    ")\n",
    "\n",
    "def sub_folder_edit(y):\n",
    "    if(y=='yes'):\n",
    "        display(subfolder_text)\n",
    "        subfolder_text.on_submit(subfolder_text)\n",
    "        print('Your file(s) will be written to the subfolder in {}[Your Entry Above]'.format(os.getcwd()+os.sep))\n",
    "    else:\n",
    "        print('Using {} folder'.format(os.getcwd()))\n",
    "        \n",
    "y = widgets.interactive(sub_folder_edit, y=subfolder_option)\n",
    "\n",
    "display(y, timestamp_option, output_type)"
   ]
  },
  {
   "cell_type": "markdown",
   "metadata": {},
   "source": [
    "## Reminder: Do not rerun the cell above after applying your inputs\n",
    "\n",
    "### Click on and Run this cell to proceed\n",
    "\n",
    "The cell below export your selected datasets as you have defined above."
   ]
  },
  {
   "cell_type": "code",
   "execution_count": 79,
   "metadata": {},
   "outputs": [
    {
     "name": "stdout",
     "output_type": "stream",
     "text": [
      "Successfully wrote score_table_2021-11-16T194545.584514.xlsx with 15000 rows and 43 columns to the directory\n"
     ]
    }
   ],
   "source": [
    "if subfolder_option.value == 'yes':\n",
    "    subfolder = subfolder_text.value\n",
    "else:\n",
    "    subfolder = None\n",
    "    \n",
    "dframe_list = []\n",
    "for df in dict_keys.value:\n",
    "    dframe_list.append(df)\n",
    "\n",
    "if timestamp_option.value == 'yes':\n",
    "    timestamp_boolean = True\n",
    "else:\n",
    "    timestamp_boolean = False\n",
    " \n",
    "for df in dframe_list:\n",
    "    if output_type.value == 'parquet':\n",
    "        dict_to_parquet(master_data, df, subfolder, timestamp = timestamp_boolean)\n",
    "    else:\n",
    "        dict_to_excel(master_data, df, subfolder, timestamp = timestamp_boolean)"
   ]
  },
  {
   "cell_type": "markdown",
   "metadata": {},
   "source": [
    "#### If you need any support,  please feel free to contact me at bablanchard@mail.smu.edu"
   ]
  },
  {
   "cell_type": "code",
   "execution_count": null,
   "metadata": {},
   "outputs": [],
   "source": []
  }
 ],
 "metadata": {
  "kernelspec": {
   "display_name": "Python 3 (ipykernel)",
   "language": "python",
   "name": "python3"
  },
  "language_info": {
   "codemirror_mode": {
    "name": "ipython",
    "version": 3
   },
   "file_extension": ".py",
   "mimetype": "text/x-python",
   "name": "python",
   "nbconvert_exporter": "python",
   "pygments_lexer": "ipython3",
   "version": "3.8.5"
  }
 },
 "nbformat": 4,
 "nbformat_minor": 2
}
