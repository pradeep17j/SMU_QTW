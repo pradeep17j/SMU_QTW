{
 "cells": [
  {
   "cell_type": "markdown",
   "id": "80d2edcc-1ea5-450b-8b10-301c2ad0e588",
   "metadata": {},
   "source": [
    "## Case Study 7 DS7333 \n",
    "\n",
    "##### Team Members:\n",
    "- Benjamin Goodwin\n",
    "- Lijju Mathew\n",
    "- Pradeep Kumar\n",
    "- Sid Swarupananda\n",
    "\n",
    "### Business Understanding\n",
    "This case study is for a client who wants to minimize the monetary loss of their customers. So, every case of false positive incurs a \\\\$100 loss and a case of false negative incurs a \\\\$25 losss. The goal is to predict the class that minimizes the financial loss."
   ]
  },
  {
   "cell_type": "code",
   "execution_count": 96,
   "id": "84ec11bf-5905-4f3e-a3b5-5ef663917f6f",
   "metadata": {},
   "outputs": [],
   "source": [
    "#import the useful libraries.\n",
    "import numpy as np\n",
    "import pandas as pd\n",
    "import seaborn as sns\n",
    "import matplotlib.pyplot as plt\n",
    "%matplotlib inline\n",
    "from sklearn.model_selection import train_test_split\n",
    "from sklearn.impute import SimpleImputer\n",
    "from sklearn.preprocessing import OneHotEncoder\n",
    "from sklearn.linear_model import LinearRegression, LogisticRegression,LogisticRegressionCV\n",
    "from sklearn.ensemble import RandomForestClassifier\n",
    "from sklearn.metrics import accuracy_score, classification_report, confusion_matrix\n",
    "from sklearn.model_selection import GridSearchCV\n",
    "from sklearn.feature_selection import SelectFromModel\n",
    "from sklearn.ensemble import GradientBoostingClassifier\n",
    "from sklearn.preprocessing import StandardScaler\n",
    "from keras import Sequential\n",
    "from keras.layers import Dense, Dropout\n",
    "from keras.callbacks import EarlyStopping\n",
    "from sklearn.linear_model import SGDClassifier\n",
    "from sklearn.neighbors import KNeighborsClassifier\n",
    "from mlxtend.classifier import EnsembleVoteClassifier\n",
    "import warnings\n",
    "warnings.filterwarnings('ignore')"
   ]
  },
  {
   "cell_type": "markdown",
   "id": "765a8716-8cf3-40dd-829f-ab17624d96e4",
   "metadata": {},
   "source": [
    "### Data Evaluation"
   ]
  },
  {
   "cell_type": "code",
   "execution_count": 97,
   "id": "ded44b54-5a5c-4c53-8bb2-6beae8c7590c",
   "metadata": {},
   "outputs": [],
   "source": [
    "raw_data= pd.read_csv(\"/Users/lijjumathew/Downloads/final_project.csv\")"
   ]
  },
  {
   "cell_type": "code",
   "execution_count": 98,
   "id": "52086ee2-c2eb-4c6f-aaf8-d211cc77ac51",
   "metadata": {},
   "outputs": [
    {
     "data": {
      "text/html": [
       "<div>\n",
       "<style scoped>\n",
       "    .dataframe tbody tr th:only-of-type {\n",
       "        vertical-align: middle;\n",
       "    }\n",
       "\n",
       "    .dataframe tbody tr th {\n",
       "        vertical-align: top;\n",
       "    }\n",
       "\n",
       "    .dataframe thead th {\n",
       "        text-align: right;\n",
       "    }\n",
       "</style>\n",
       "<table border=\"1\" class=\"dataframe\">\n",
       "  <thead>\n",
       "    <tr style=\"text-align: right;\">\n",
       "      <th></th>\n",
       "      <th>x0</th>\n",
       "      <th>x1</th>\n",
       "      <th>x2</th>\n",
       "      <th>x3</th>\n",
       "      <th>x4</th>\n",
       "      <th>x5</th>\n",
       "      <th>x6</th>\n",
       "      <th>x7</th>\n",
       "      <th>x8</th>\n",
       "      <th>x9</th>\n",
       "      <th>...</th>\n",
       "      <th>x41</th>\n",
       "      <th>x42</th>\n",
       "      <th>x43</th>\n",
       "      <th>x44</th>\n",
       "      <th>x45</th>\n",
       "      <th>x46</th>\n",
       "      <th>x47</th>\n",
       "      <th>x48</th>\n",
       "      <th>x49</th>\n",
       "      <th>y</th>\n",
       "    </tr>\n",
       "  </thead>\n",
       "  <tbody>\n",
       "    <tr>\n",
       "      <th>0</th>\n",
       "      <td>-0.166563</td>\n",
       "      <td>-3.961588</td>\n",
       "      <td>4.621113</td>\n",
       "      <td>2.481908</td>\n",
       "      <td>-1.800135</td>\n",
       "      <td>0.804684</td>\n",
       "      <td>6.718751</td>\n",
       "      <td>-14.789997</td>\n",
       "      <td>-1.040673</td>\n",
       "      <td>-4.204950</td>\n",
       "      <td>...</td>\n",
       "      <td>-1.497117</td>\n",
       "      <td>5.414063</td>\n",
       "      <td>-2.325655</td>\n",
       "      <td>1.674827</td>\n",
       "      <td>-0.264332</td>\n",
       "      <td>60.781427</td>\n",
       "      <td>-7.689696</td>\n",
       "      <td>0.151589</td>\n",
       "      <td>-8.040166</td>\n",
       "      <td>0</td>\n",
       "    </tr>\n",
       "    <tr>\n",
       "      <th>1</th>\n",
       "      <td>-0.149894</td>\n",
       "      <td>-0.585676</td>\n",
       "      <td>27.839856</td>\n",
       "      <td>4.152333</td>\n",
       "      <td>6.426802</td>\n",
       "      <td>-2.426943</td>\n",
       "      <td>40.477058</td>\n",
       "      <td>-6.725709</td>\n",
       "      <td>0.896421</td>\n",
       "      <td>0.330165</td>\n",
       "      <td>...</td>\n",
       "      <td>36.292790</td>\n",
       "      <td>4.490915</td>\n",
       "      <td>0.762561</td>\n",
       "      <td>6.526662</td>\n",
       "      <td>1.007927</td>\n",
       "      <td>15.805696</td>\n",
       "      <td>-4.896678</td>\n",
       "      <td>-0.320283</td>\n",
       "      <td>16.719974</td>\n",
       "      <td>0</td>\n",
       "    </tr>\n",
       "    <tr>\n",
       "      <th>2</th>\n",
       "      <td>-0.321707</td>\n",
       "      <td>-1.429819</td>\n",
       "      <td>12.251561</td>\n",
       "      <td>6.586874</td>\n",
       "      <td>-5.304647</td>\n",
       "      <td>-11.311090</td>\n",
       "      <td>17.812850</td>\n",
       "      <td>11.060572</td>\n",
       "      <td>5.325880</td>\n",
       "      <td>-2.632984</td>\n",
       "      <td>...</td>\n",
       "      <td>-0.368491</td>\n",
       "      <td>9.088864</td>\n",
       "      <td>-0.689886</td>\n",
       "      <td>-2.731118</td>\n",
       "      <td>0.754200</td>\n",
       "      <td>30.856417</td>\n",
       "      <td>-7.428573</td>\n",
       "      <td>-2.090804</td>\n",
       "      <td>-7.869421</td>\n",
       "      <td>0</td>\n",
       "    </tr>\n",
       "    <tr>\n",
       "      <th>3</th>\n",
       "      <td>-0.245594</td>\n",
       "      <td>5.076677</td>\n",
       "      <td>-24.149632</td>\n",
       "      <td>3.637307</td>\n",
       "      <td>6.505811</td>\n",
       "      <td>2.290224</td>\n",
       "      <td>-35.111751</td>\n",
       "      <td>-18.913592</td>\n",
       "      <td>-0.337041</td>\n",
       "      <td>-5.568076</td>\n",
       "      <td>...</td>\n",
       "      <td>15.691546</td>\n",
       "      <td>-7.467775</td>\n",
       "      <td>2.940789</td>\n",
       "      <td>-6.424112</td>\n",
       "      <td>0.419776</td>\n",
       "      <td>-72.424569</td>\n",
       "      <td>5.361375</td>\n",
       "      <td>1.806070</td>\n",
       "      <td>-7.670847</td>\n",
       "      <td>0</td>\n",
       "    </tr>\n",
       "    <tr>\n",
       "      <th>4</th>\n",
       "      <td>-0.273366</td>\n",
       "      <td>0.306326</td>\n",
       "      <td>-11.352593</td>\n",
       "      <td>1.676758</td>\n",
       "      <td>2.928441</td>\n",
       "      <td>-0.616824</td>\n",
       "      <td>-16.505817</td>\n",
       "      <td>27.532281</td>\n",
       "      <td>1.199715</td>\n",
       "      <td>-4.309105</td>\n",
       "      <td>...</td>\n",
       "      <td>-13.911297</td>\n",
       "      <td>-5.229937</td>\n",
       "      <td>1.783928</td>\n",
       "      <td>3.957801</td>\n",
       "      <td>-0.096988</td>\n",
       "      <td>-14.085435</td>\n",
       "      <td>-0.208351</td>\n",
       "      <td>-0.894942</td>\n",
       "      <td>15.724742</td>\n",
       "      <td>1</td>\n",
       "    </tr>\n",
       "  </tbody>\n",
       "</table>\n",
       "<p>5 rows × 51 columns</p>\n",
       "</div>"
      ],
      "text/plain": [
       "         x0        x1         x2        x3        x4         x5         x6  \\\n",
       "0 -0.166563 -3.961588   4.621113  2.481908 -1.800135   0.804684   6.718751   \n",
       "1 -0.149894 -0.585676  27.839856  4.152333  6.426802  -2.426943  40.477058   \n",
       "2 -0.321707 -1.429819  12.251561  6.586874 -5.304647 -11.311090  17.812850   \n",
       "3 -0.245594  5.076677 -24.149632  3.637307  6.505811   2.290224 -35.111751   \n",
       "4 -0.273366  0.306326 -11.352593  1.676758  2.928441  -0.616824 -16.505817   \n",
       "\n",
       "          x7        x8        x9  ...        x41       x42       x43  \\\n",
       "0 -14.789997 -1.040673 -4.204950  ...  -1.497117  5.414063 -2.325655   \n",
       "1  -6.725709  0.896421  0.330165  ...  36.292790  4.490915  0.762561   \n",
       "2  11.060572  5.325880 -2.632984  ...  -0.368491  9.088864 -0.689886   \n",
       "3 -18.913592 -0.337041 -5.568076  ...  15.691546 -7.467775  2.940789   \n",
       "4  27.532281  1.199715 -4.309105  ... -13.911297 -5.229937  1.783928   \n",
       "\n",
       "        x44       x45        x46       x47       x48        x49  y  \n",
       "0  1.674827 -0.264332  60.781427 -7.689696  0.151589  -8.040166  0  \n",
       "1  6.526662  1.007927  15.805696 -4.896678 -0.320283  16.719974  0  \n",
       "2 -2.731118  0.754200  30.856417 -7.428573 -2.090804  -7.869421  0  \n",
       "3 -6.424112  0.419776 -72.424569  5.361375  1.806070  -7.670847  0  \n",
       "4  3.957801 -0.096988 -14.085435 -0.208351 -0.894942  15.724742  1  \n",
       "\n",
       "[5 rows x 51 columns]"
      ]
     },
     "execution_count": 98,
     "metadata": {},
     "output_type": "execute_result"
    }
   ],
   "source": [
    "raw_data.head()"
   ]
  },
  {
   "cell_type": "code",
   "execution_count": 99,
   "id": "a5318d6f-7062-4762-ac42-36a87ef878ea",
   "metadata": {},
   "outputs": [
    {
     "data": {
      "text/plain": [
       "(160000, 51)"
      ]
     },
     "execution_count": 99,
     "metadata": {},
     "output_type": "execute_result"
    }
   ],
   "source": [
    "raw_data.shape[0], raw_data.shape[1]"
   ]
  },
  {
   "cell_type": "code",
   "execution_count": 100,
   "id": "9dacc8f2-b42f-4096-9adb-603eb0f7a473",
   "metadata": {},
   "outputs": [
    {
     "name": "stdout",
     "output_type": "stream",
     "text": [
      "<class 'pandas.core.frame.DataFrame'>\n",
      "RangeIndex: 160000 entries, 0 to 159999\n",
      "Data columns (total 51 columns):\n",
      " #   Column  Non-Null Count   Dtype  \n",
      "---  ------  --------------   -----  \n",
      " 0   x0      159974 non-null  float64\n",
      " 1   x1      159975 non-null  float64\n",
      " 2   x2      159962 non-null  float64\n",
      " 3   x3      159963 non-null  float64\n",
      " 4   x4      159974 non-null  float64\n",
      " 5   x5      159963 non-null  float64\n",
      " 6   x6      159974 non-null  float64\n",
      " 7   x7      159973 non-null  float64\n",
      " 8   x8      159979 non-null  float64\n",
      " 9   x9      159970 non-null  float64\n",
      " 10  x10     159957 non-null  float64\n",
      " 11  x11     159970 non-null  float64\n",
      " 12  x12     159964 non-null  float64\n",
      " 13  x13     159969 non-null  float64\n",
      " 14  x14     159966 non-null  float64\n",
      " 15  x15     159965 non-null  float64\n",
      " 16  x16     159974 non-null  float64\n",
      " 17  x17     159973 non-null  float64\n",
      " 18  x18     159960 non-null  float64\n",
      " 19  x19     159965 non-null  float64\n",
      " 20  x20     159962 non-null  float64\n",
      " 21  x21     159971 non-null  float64\n",
      " 22  x22     159973 non-null  float64\n",
      " 23  x23     159953 non-null  float64\n",
      " 24  x24     159972 non-null  object \n",
      " 25  x25     159978 non-null  float64\n",
      " 26  x26     159964 non-null  float64\n",
      " 27  x27     159970 non-null  float64\n",
      " 28  x28     159965 non-null  float64\n",
      " 29  x29     159970 non-null  object \n",
      " 30  x30     159970 non-null  object \n",
      " 31  x31     159961 non-null  float64\n",
      " 32  x32     159969 non-null  object \n",
      " 33  x33     159959 non-null  float64\n",
      " 34  x34     159959 non-null  float64\n",
      " 35  x35     159970 non-null  float64\n",
      " 36  x36     159973 non-null  float64\n",
      " 37  x37     159977 non-null  object \n",
      " 38  x38     159969 non-null  float64\n",
      " 39  x39     159977 non-null  float64\n",
      " 40  x40     159964 non-null  float64\n",
      " 41  x41     159960 non-null  float64\n",
      " 42  x42     159974 non-null  float64\n",
      " 43  x43     159963 non-null  float64\n",
      " 44  x44     159960 non-null  float64\n",
      " 45  x45     159971 non-null  float64\n",
      " 46  x46     159969 non-null  float64\n",
      " 47  x47     159963 non-null  float64\n",
      " 48  x48     159968 non-null  float64\n",
      " 49  x49     159968 non-null  float64\n",
      " 50  y       160000 non-null  int64  \n",
      "dtypes: float64(45), int64(1), object(5)\n",
      "memory usage: 62.3+ MB\n"
     ]
    }
   ],
   "source": [
    "raw_data.info()"
   ]
  },
  {
   "cell_type": "code",
   "execution_count": 101,
   "id": "3a4be94b-8bd9-4a49-8696-79bf435242f6",
   "metadata": {},
   "outputs": [
    {
     "data": {
      "text/html": [
       "<div>\n",
       "<style scoped>\n",
       "    .dataframe tbody tr th:only-of-type {\n",
       "        vertical-align: middle;\n",
       "    }\n",
       "\n",
       "    .dataframe tbody tr th {\n",
       "        vertical-align: top;\n",
       "    }\n",
       "\n",
       "    .dataframe thead th {\n",
       "        text-align: right;\n",
       "    }\n",
       "</style>\n",
       "<table border=\"1\" class=\"dataframe\">\n",
       "  <thead>\n",
       "    <tr style=\"text-align: right;\">\n",
       "      <th></th>\n",
       "      <th>x24</th>\n",
       "      <th>x29</th>\n",
       "      <th>x30</th>\n",
       "      <th>x32</th>\n",
       "      <th>x37</th>\n",
       "    </tr>\n",
       "  </thead>\n",
       "  <tbody>\n",
       "    <tr>\n",
       "      <th>0</th>\n",
       "      <td>euorpe</td>\n",
       "      <td>July</td>\n",
       "      <td>tuesday</td>\n",
       "      <td>0.0%</td>\n",
       "      <td>$1313.96</td>\n",
       "    </tr>\n",
       "    <tr>\n",
       "      <th>1</th>\n",
       "      <td>asia</td>\n",
       "      <td>Aug</td>\n",
       "      <td>wednesday</td>\n",
       "      <td>-0.02%</td>\n",
       "      <td>$1962.78</td>\n",
       "    </tr>\n",
       "    <tr>\n",
       "      <th>2</th>\n",
       "      <td>asia</td>\n",
       "      <td>July</td>\n",
       "      <td>wednesday</td>\n",
       "      <td>-0.01%</td>\n",
       "      <td>$430.47</td>\n",
       "    </tr>\n",
       "    <tr>\n",
       "      <th>3</th>\n",
       "      <td>asia</td>\n",
       "      <td>July</td>\n",
       "      <td>wednesday</td>\n",
       "      <td>0.01%</td>\n",
       "      <td>$-2366.29</td>\n",
       "    </tr>\n",
       "    <tr>\n",
       "      <th>4</th>\n",
       "      <td>asia</td>\n",
       "      <td>July</td>\n",
       "      <td>tuesday</td>\n",
       "      <td>0.01%</td>\n",
       "      <td>$-620.66</td>\n",
       "    </tr>\n",
       "    <tr>\n",
       "      <th>...</th>\n",
       "      <td>...</td>\n",
       "      <td>...</td>\n",
       "      <td>...</td>\n",
       "      <td>...</td>\n",
       "      <td>...</td>\n",
       "    </tr>\n",
       "    <tr>\n",
       "      <th>159995</th>\n",
       "      <td>asia</td>\n",
       "      <td>Aug</td>\n",
       "      <td>wednesday</td>\n",
       "      <td>0.0%</td>\n",
       "      <td>$-891.96</td>\n",
       "    </tr>\n",
       "    <tr>\n",
       "      <th>159996</th>\n",
       "      <td>asia</td>\n",
       "      <td>May</td>\n",
       "      <td>wednesday</td>\n",
       "      <td>-0.01%</td>\n",
       "      <td>$1588.65</td>\n",
       "    </tr>\n",
       "    <tr>\n",
       "      <th>159997</th>\n",
       "      <td>asia</td>\n",
       "      <td>Jun</td>\n",
       "      <td>wednesday</td>\n",
       "      <td>-0.0%</td>\n",
       "      <td>$687.46</td>\n",
       "    </tr>\n",
       "    <tr>\n",
       "      <th>159998</th>\n",
       "      <td>asia</td>\n",
       "      <td>May</td>\n",
       "      <td>wednesday</td>\n",
       "      <td>-0.02%</td>\n",
       "      <td>$439.21</td>\n",
       "    </tr>\n",
       "    <tr>\n",
       "      <th>159999</th>\n",
       "      <td>asia</td>\n",
       "      <td>Aug</td>\n",
       "      <td>tuesday</td>\n",
       "      <td>0.02%</td>\n",
       "      <td>$-1229.34</td>\n",
       "    </tr>\n",
       "  </tbody>\n",
       "</table>\n",
       "<p>160000 rows × 5 columns</p>\n",
       "</div>"
      ],
      "text/plain": [
       "           x24   x29        x30     x32        x37\n",
       "0       euorpe  July    tuesday    0.0%   $1313.96\n",
       "1         asia   Aug  wednesday  -0.02%   $1962.78\n",
       "2         asia  July  wednesday  -0.01%    $430.47\n",
       "3         asia  July  wednesday   0.01%  $-2366.29\n",
       "4         asia  July    tuesday   0.01%   $-620.66\n",
       "...        ...   ...        ...     ...        ...\n",
       "159995    asia   Aug  wednesday    0.0%   $-891.96\n",
       "159996    asia   May  wednesday  -0.01%   $1588.65\n",
       "159997    asia   Jun  wednesday   -0.0%    $687.46\n",
       "159998    asia   May  wednesday  -0.02%    $439.21\n",
       "159999    asia   Aug    tuesday   0.02%  $-1229.34\n",
       "\n",
       "[160000 rows x 5 columns]"
      ]
     },
     "execution_count": 101,
     "metadata": {},
     "output_type": "execute_result"
    }
   ],
   "source": [
    "# Checking the categorical variables \n",
    "raw_data.loc[:,['x24','x29','x30','x32','x37']]"
   ]
  },
  {
   "cell_type": "code",
   "execution_count": 102,
   "id": "c8c30d3c-dd97-4b43-ab8a-176185fe6073",
   "metadata": {},
   "outputs": [],
   "source": [
    "# Converting the x37(dollar amounts) and x32(percentages) into numerical/continous features\n",
    "raw_data['x37'] = raw_data['x37'].str.replace('[$,]', '',regex=True).astype('float')\n",
    "raw_data['x32'] = raw_data['x32'].str.replace('[%,]', '',regex=True).astype('float')"
   ]
  },
  {
   "cell_type": "code",
   "execution_count": 103,
   "id": "00675580-dd5b-42d6-8c9c-38602154357f",
   "metadata": {},
   "outputs": [
    {
     "data": {
      "text/html": [
       "<div>\n",
       "<style scoped>\n",
       "    .dataframe tbody tr th:only-of-type {\n",
       "        vertical-align: middle;\n",
       "    }\n",
       "\n",
       "    .dataframe tbody tr th {\n",
       "        vertical-align: top;\n",
       "    }\n",
       "\n",
       "    .dataframe thead th {\n",
       "        text-align: right;\n",
       "    }\n",
       "</style>\n",
       "<table border=\"1\" class=\"dataframe\">\n",
       "  <thead>\n",
       "    <tr style=\"text-align: right;\">\n",
       "      <th></th>\n",
       "      <th>x32</th>\n",
       "      <th>x37</th>\n",
       "    </tr>\n",
       "  </thead>\n",
       "  <tbody>\n",
       "    <tr>\n",
       "      <th>0</th>\n",
       "      <td>0.00</td>\n",
       "      <td>1313.96</td>\n",
       "    </tr>\n",
       "    <tr>\n",
       "      <th>1</th>\n",
       "      <td>-0.02</td>\n",
       "      <td>1962.78</td>\n",
       "    </tr>\n",
       "    <tr>\n",
       "      <th>2</th>\n",
       "      <td>-0.01</td>\n",
       "      <td>430.47</td>\n",
       "    </tr>\n",
       "    <tr>\n",
       "      <th>3</th>\n",
       "      <td>0.01</td>\n",
       "      <td>-2366.29</td>\n",
       "    </tr>\n",
       "    <tr>\n",
       "      <th>4</th>\n",
       "      <td>0.01</td>\n",
       "      <td>-620.66</td>\n",
       "    </tr>\n",
       "    <tr>\n",
       "      <th>...</th>\n",
       "      <td>...</td>\n",
       "      <td>...</td>\n",
       "    </tr>\n",
       "    <tr>\n",
       "      <th>159995</th>\n",
       "      <td>0.00</td>\n",
       "      <td>-891.96</td>\n",
       "    </tr>\n",
       "    <tr>\n",
       "      <th>159996</th>\n",
       "      <td>-0.01</td>\n",
       "      <td>1588.65</td>\n",
       "    </tr>\n",
       "    <tr>\n",
       "      <th>159997</th>\n",
       "      <td>-0.00</td>\n",
       "      <td>687.46</td>\n",
       "    </tr>\n",
       "    <tr>\n",
       "      <th>159998</th>\n",
       "      <td>-0.02</td>\n",
       "      <td>439.21</td>\n",
       "    </tr>\n",
       "    <tr>\n",
       "      <th>159999</th>\n",
       "      <td>0.02</td>\n",
       "      <td>-1229.34</td>\n",
       "    </tr>\n",
       "  </tbody>\n",
       "</table>\n",
       "<p>160000 rows × 2 columns</p>\n",
       "</div>"
      ],
      "text/plain": [
       "         x32      x37\n",
       "0       0.00  1313.96\n",
       "1      -0.02  1962.78\n",
       "2      -0.01   430.47\n",
       "3       0.01 -2366.29\n",
       "4       0.01  -620.66\n",
       "...      ...      ...\n",
       "159995  0.00  -891.96\n",
       "159996 -0.01  1588.65\n",
       "159997 -0.00   687.46\n",
       "159998 -0.02   439.21\n",
       "159999  0.02 -1229.34\n",
       "\n",
       "[160000 rows x 2 columns]"
      ]
     },
     "execution_count": 103,
     "metadata": {},
     "output_type": "execute_result"
    }
   ],
   "source": [
    "raw_data.loc[:,['x32','x37']]"
   ]
  },
  {
   "cell_type": "code",
   "execution_count": 104,
   "id": "02146441-fdb2-4fee-8a52-fb982800b86a",
   "metadata": {},
   "outputs": [
    {
     "name": "stdout",
     "output_type": "stream",
     "text": [
      "<class 'pandas.core.frame.DataFrame'>\n",
      "RangeIndex: 160000 entries, 0 to 159999\n",
      "Data columns (total 51 columns):\n",
      " #   Column  Non-Null Count   Dtype  \n",
      "---  ------  --------------   -----  \n",
      " 0   x0      159974 non-null  float64\n",
      " 1   x1      159975 non-null  float64\n",
      " 2   x2      159962 non-null  float64\n",
      " 3   x3      159963 non-null  float64\n",
      " 4   x4      159974 non-null  float64\n",
      " 5   x5      159963 non-null  float64\n",
      " 6   x6      159974 non-null  float64\n",
      " 7   x7      159973 non-null  float64\n",
      " 8   x8      159979 non-null  float64\n",
      " 9   x9      159970 non-null  float64\n",
      " 10  x10     159957 non-null  float64\n",
      " 11  x11     159970 non-null  float64\n",
      " 12  x12     159964 non-null  float64\n",
      " 13  x13     159969 non-null  float64\n",
      " 14  x14     159966 non-null  float64\n",
      " 15  x15     159965 non-null  float64\n",
      " 16  x16     159974 non-null  float64\n",
      " 17  x17     159973 non-null  float64\n",
      " 18  x18     159960 non-null  float64\n",
      " 19  x19     159965 non-null  float64\n",
      " 20  x20     159962 non-null  float64\n",
      " 21  x21     159971 non-null  float64\n",
      " 22  x22     159973 non-null  float64\n",
      " 23  x23     159953 non-null  float64\n",
      " 24  x24     159972 non-null  object \n",
      " 25  x25     159978 non-null  float64\n",
      " 26  x26     159964 non-null  float64\n",
      " 27  x27     159970 non-null  float64\n",
      " 28  x28     159965 non-null  float64\n",
      " 29  x29     159970 non-null  object \n",
      " 30  x30     159970 non-null  object \n",
      " 31  x31     159961 non-null  float64\n",
      " 32  x32     159969 non-null  float64\n",
      " 33  x33     159959 non-null  float64\n",
      " 34  x34     159959 non-null  float64\n",
      " 35  x35     159970 non-null  float64\n",
      " 36  x36     159973 non-null  float64\n",
      " 37  x37     159977 non-null  float64\n",
      " 38  x38     159969 non-null  float64\n",
      " 39  x39     159977 non-null  float64\n",
      " 40  x40     159964 non-null  float64\n",
      " 41  x41     159960 non-null  float64\n",
      " 42  x42     159974 non-null  float64\n",
      " 43  x43     159963 non-null  float64\n",
      " 44  x44     159960 non-null  float64\n",
      " 45  x45     159971 non-null  float64\n",
      " 46  x46     159969 non-null  float64\n",
      " 47  x47     159963 non-null  float64\n",
      " 48  x48     159968 non-null  float64\n",
      " 49  x49     159968 non-null  float64\n",
      " 50  y       160000 non-null  int64  \n",
      "dtypes: float64(47), int64(1), object(3)\n",
      "memory usage: 62.3+ MB\n"
     ]
    }
   ],
   "source": [
    "raw_data.info()"
   ]
  },
  {
   "cell_type": "code",
   "execution_count": 105,
   "id": "bd6d90de-2f76-495a-aa0a-2439ef83c392",
   "metadata": {},
   "outputs": [
    {
     "data": {
      "text/plain": [
       "0    95803\n",
       "1    64197\n",
       "Name: y, dtype: int64"
      ]
     },
     "execution_count": 105,
     "metadata": {},
     "output_type": "execute_result"
    }
   ],
   "source": [
    "# Check if the target variable is a balanced dataset.\n",
    "raw_data['y'].value_counts(normalize=False)"
   ]
  },
  {
   "cell_type": "code",
   "execution_count": 106,
   "id": "7cf516f3-08ee-479d-a70d-b38314acd51a",
   "metadata": {},
   "outputs": [
    {
     "data": {
      "text/plain": [
       "x0     26\n",
       "x1     25\n",
       "x2     38\n",
       "x3     37\n",
       "x4     26\n",
       "x5     37\n",
       "x6     26\n",
       "x7     27\n",
       "x8     21\n",
       "x9     30\n",
       "x10    43\n",
       "x11    30\n",
       "x12    36\n",
       "x13    31\n",
       "x14    34\n",
       "x15    35\n",
       "x16    26\n",
       "x17    27\n",
       "x18    40\n",
       "x19    35\n",
       "x20    38\n",
       "x21    29\n",
       "x22    27\n",
       "x23    47\n",
       "x24    28\n",
       "x25    22\n",
       "x26    36\n",
       "x27    30\n",
       "x28    35\n",
       "x29    30\n",
       "x30    30\n",
       "x31    39\n",
       "x32    31\n",
       "x33    41\n",
       "x34    41\n",
       "x35    30\n",
       "x36    27\n",
       "x37    23\n",
       "x38    31\n",
       "x39    23\n",
       "x40    36\n",
       "x41    40\n",
       "x42    26\n",
       "x43    37\n",
       "x44    40\n",
       "x45    29\n",
       "x46    31\n",
       "x47    37\n",
       "x48    32\n",
       "x49    32\n",
       "y       0\n",
       "dtype: int64"
      ]
     },
     "execution_count": 106,
     "metadata": {},
     "output_type": "execute_result"
    }
   ],
   "source": [
    "# Check if there are missing values\n",
    "raw_data.isnull().sum()"
   ]
  },
  {
   "cell_type": "code",
   "execution_count": 107,
   "id": "0fedbddf-6b3f-4ce8-b9fc-36b4bb031592",
   "metadata": {},
   "outputs": [
    {
     "data": {
      "text/plain": [
       "0"
      ]
     },
     "execution_count": 107,
     "metadata": {},
     "output_type": "execute_result"
    }
   ],
   "source": [
    "# Check if there are duplicates.\n",
    "raw_data.duplicated().sum()"
   ]
  },
  {
   "cell_type": "code",
   "execution_count": 108,
   "id": "ccf07d0b-f128-45ab-b226-b3bb1d0bebce",
   "metadata": {},
   "outputs": [],
   "source": [
    "categorical_cols = ['x24','x29','x30']"
   ]
  },
  {
   "cell_type": "code",
   "execution_count": 109,
   "id": "77d1ecb6-a49f-489e-998a-2bee5f8f0d87",
   "metadata": {},
   "outputs": [
    {
     "data": {
      "image/png": "[encoded data removed]",
      "text/plain": [
       "<Figure size 1440x720 with 3 Axes>"
      ]
     },
     "metadata": {
      "needs_background": "light"
     },
     "output_type": "display_data"
    }
   ],
   "source": [
    "fig, ax = plt.subplots(1, 3, figsize=(20, 10))\n",
    "for variable, subplot in zip(categorical_cols, ax.flatten()):\n",
    "    sns.countplot(x = raw_data[variable], ax=subplot)\n",
    "    for label in subplot.get_xticklabels():\n",
    "        label.set_rotation(90)"
   ]
  },
  {
   "cell_type": "code",
   "execution_count": 110,
   "id": "04d83404-ebb0-4996-9000-f9c9acfdb6bf",
   "metadata": {},
   "outputs": [
    {
     "data": {
      "image/png": "[encoded data removed]",
      "text/plain": [
       "<Figure size 1800x1800 with 2 Axes>"
      ]
     },
     "metadata": {
      "needs_background": "light"
     },
     "output_type": "display_data"
    }
   ],
   "source": [
    "# Get correlation matrix for the dataset\n",
    "corrMatrix = raw_data.corr()\n",
    "plt.figure(figsize=(25,25))\n",
    "corrMatrix = corrMatrix[corrMatrix>= 0.75]\n",
    "# corrMatrix = corrMatrix[corrMatrix <= -0.75]\n",
    "sns.heatmap(corrMatrix, cmap='RdBu_r', annot=True)\n",
    "plt.show()"
   ]
  },
  {
   "cell_type": "code",
   "execution_count": 111,
   "id": "fab4ebaf-7173-4310-acfe-3c98e8019638",
   "metadata": {},
   "outputs": [
    {
     "data": {
      "text/plain": [
       "<AxesSubplot:xlabel='x2', ylabel='x6'>"
      ]
     },
     "execution_count": 111,
     "metadata": {},
     "output_type": "execute_result"
    },
    {
     "data": {
      "image/png": "[encoded data removed]",
      "text/plain": [
       "<Figure size 432x288 with 1 Axes>"
      ]
     },
     "metadata": {
      "needs_background": "light"
     },
     "output_type": "display_data"
    }
   ],
   "source": [
    "# Exploring the correlation between x2 and x6\n",
    "sns.regplot(x=raw_data[\"x2\"], y=raw_data[\"x6\"])"
   ]
  },
  {
   "cell_type": "code",
   "execution_count": 112,
   "id": "39ac25b4-648b-4c7d-9882-7cb17fd137b5",
   "metadata": {},
   "outputs": [
    {
     "data": {
      "text/plain": [
       "<AxesSubplot:xlabel='x41', ylabel='x38'>"
      ]
     },
     "execution_count": 112,
     "metadata": {},
     "output_type": "execute_result"
    },
    {
     "data": {
      "image/png": "[encoded data removed]",
      "text/plain": [
       "<Figure size 432x288 with 1 Axes>"
      ]
     },
     "metadata": {
      "needs_background": "light"
     },
     "output_type": "display_data"
    }
   ],
   "source": [
    "# Exploring the correlation between x41 and x38\n",
    "sns.regplot(x=raw_data[\"x41\"], y=raw_data[\"x38\"])"
   ]
  },
  {
   "cell_type": "markdown",
   "id": "c77c5770-a2b5-44c4-80ef-f664fe75d8ae",
   "metadata": {},
   "source": [
    "### Data Evaluation Summary\n",
    "* The dataset has 160000 rows and 51 columns\n",
    "* The target variable y is binary and it is fairly balanced, 95k with 0 and 64k with 1.\n",
    "* Converted variables x37(dollar amounts) and x32(percentages) into numerical/continous variables.\n",
    "* There are 3 categorical variables x24,x29,x30.\n",
    "* There are few very missing values.\n",
    "* There are no duplicate values.\n",
    "* The majority of the dataset \n",
    "    * for variable x24 has value 'Asia' infering it as collected from Asia.\n",
    "    * for variable x29 has values April through Sept infering it as collected during the months of April through September.\n",
    "    * for variable x30 has values Tuesday through Thursday infering it as collected during days Tuesday through Thursday.\n",
    "* There is a very strong linear correlation between variables x2 & x6 and x41 & x38."
   ]
  },
  {
   "cell_type": "markdown",
   "id": "c412103c-7c02-49bf-b959-3d14988d6484",
   "metadata": {},
   "source": [
    "### Model Preparations"
   ]
  },
  {
   "cell_type": "code",
   "execution_count": 113,
   "id": "69b7e6c1-1603-4378-9f1c-3ca8a2f78a35",
   "metadata": {},
   "outputs": [
    {
     "data": {
      "text/html": [
       "<div>\n",
       "<style scoped>\n",
       "    .dataframe tbody tr th:only-of-type {\n",
       "        vertical-align: middle;\n",
       "    }\n",
       "\n",
       "    .dataframe tbody tr th {\n",
       "        vertical-align: top;\n",
       "    }\n",
       "\n",
       "    .dataframe thead th {\n",
       "        text-align: right;\n",
       "    }\n",
       "</style>\n",
       "<table border=\"1\" class=\"dataframe\">\n",
       "  <thead>\n",
       "    <tr style=\"text-align: right;\">\n",
       "      <th></th>\n",
       "      <th>x0</th>\n",
       "      <th>x1</th>\n",
       "      <th>x2</th>\n",
       "      <th>x3</th>\n",
       "      <th>x4</th>\n",
       "      <th>x5</th>\n",
       "      <th>x7</th>\n",
       "      <th>x8</th>\n",
       "      <th>x9</th>\n",
       "      <th>x10</th>\n",
       "      <th>...</th>\n",
       "      <th>x41</th>\n",
       "      <th>x42</th>\n",
       "      <th>x43</th>\n",
       "      <th>x44</th>\n",
       "      <th>x45</th>\n",
       "      <th>x46</th>\n",
       "      <th>x47</th>\n",
       "      <th>x48</th>\n",
       "      <th>x49</th>\n",
       "      <th>y</th>\n",
       "    </tr>\n",
       "  </thead>\n",
       "  <tbody>\n",
       "    <tr>\n",
       "      <th>0</th>\n",
       "      <td>-0.166563</td>\n",
       "      <td>-3.961588</td>\n",
       "      <td>4.621113</td>\n",
       "      <td>2.481908</td>\n",
       "      <td>-1.800135</td>\n",
       "      <td>0.804684</td>\n",
       "      <td>-14.789997</td>\n",
       "      <td>-1.040673</td>\n",
       "      <td>-4.204950</td>\n",
       "      <td>6.187465</td>\n",
       "      <td>...</td>\n",
       "      <td>-1.497117</td>\n",
       "      <td>5.414063</td>\n",
       "      <td>-2.325655</td>\n",
       "      <td>1.674827</td>\n",
       "      <td>-0.264332</td>\n",
       "      <td>60.781427</td>\n",
       "      <td>-7.689696</td>\n",
       "      <td>0.151589</td>\n",
       "      <td>-8.040166</td>\n",
       "      <td>0</td>\n",
       "    </tr>\n",
       "    <tr>\n",
       "      <th>1</th>\n",
       "      <td>-0.149894</td>\n",
       "      <td>-0.585676</td>\n",
       "      <td>27.839856</td>\n",
       "      <td>4.152333</td>\n",
       "      <td>6.426802</td>\n",
       "      <td>-2.426943</td>\n",
       "      <td>-6.725709</td>\n",
       "      <td>0.896421</td>\n",
       "      <td>0.330165</td>\n",
       "      <td>-11.708859</td>\n",
       "      <td>...</td>\n",
       "      <td>36.292790</td>\n",
       "      <td>4.490915</td>\n",
       "      <td>0.762561</td>\n",
       "      <td>6.526662</td>\n",
       "      <td>1.007927</td>\n",
       "      <td>15.805696</td>\n",
       "      <td>-4.896678</td>\n",
       "      <td>-0.320283</td>\n",
       "      <td>16.719974</td>\n",
       "      <td>0</td>\n",
       "    </tr>\n",
       "    <tr>\n",
       "      <th>2</th>\n",
       "      <td>-0.321707</td>\n",
       "      <td>-1.429819</td>\n",
       "      <td>12.251561</td>\n",
       "      <td>6.586874</td>\n",
       "      <td>-5.304647</td>\n",
       "      <td>-11.311090</td>\n",
       "      <td>11.060572</td>\n",
       "      <td>5.325880</td>\n",
       "      <td>-2.632984</td>\n",
       "      <td>1.572647</td>\n",
       "      <td>...</td>\n",
       "      <td>-0.368491</td>\n",
       "      <td>9.088864</td>\n",
       "      <td>-0.689886</td>\n",
       "      <td>-2.731118</td>\n",
       "      <td>0.754200</td>\n",
       "      <td>30.856417</td>\n",
       "      <td>-7.428573</td>\n",
       "      <td>-2.090804</td>\n",
       "      <td>-7.869421</td>\n",
       "      <td>0</td>\n",
       "    </tr>\n",
       "    <tr>\n",
       "      <th>3</th>\n",
       "      <td>-0.245594</td>\n",
       "      <td>5.076677</td>\n",
       "      <td>-24.149632</td>\n",
       "      <td>3.637307</td>\n",
       "      <td>6.505811</td>\n",
       "      <td>2.290224</td>\n",
       "      <td>-18.913592</td>\n",
       "      <td>-0.337041</td>\n",
       "      <td>-5.568076</td>\n",
       "      <td>-2.000255</td>\n",
       "      <td>...</td>\n",
       "      <td>15.691546</td>\n",
       "      <td>-7.467775</td>\n",
       "      <td>2.940789</td>\n",
       "      <td>-6.424112</td>\n",
       "      <td>0.419776</td>\n",
       "      <td>-72.424569</td>\n",
       "      <td>5.361375</td>\n",
       "      <td>1.806070</td>\n",
       "      <td>-7.670847</td>\n",
       "      <td>0</td>\n",
       "    </tr>\n",
       "    <tr>\n",
       "      <th>4</th>\n",
       "      <td>-0.273366</td>\n",
       "      <td>0.306326</td>\n",
       "      <td>-11.352593</td>\n",
       "      <td>1.676758</td>\n",
       "      <td>2.928441</td>\n",
       "      <td>-0.616824</td>\n",
       "      <td>27.532281</td>\n",
       "      <td>1.199715</td>\n",
       "      <td>-4.309105</td>\n",
       "      <td>6.667530</td>\n",
       "      <td>...</td>\n",
       "      <td>-13.911297</td>\n",
       "      <td>-5.229937</td>\n",
       "      <td>1.783928</td>\n",
       "      <td>3.957801</td>\n",
       "      <td>-0.096988</td>\n",
       "      <td>-14.085435</td>\n",
       "      <td>-0.208351</td>\n",
       "      <td>-0.894942</td>\n",
       "      <td>15.724742</td>\n",
       "      <td>1</td>\n",
       "    </tr>\n",
       "    <tr>\n",
       "      <th>...</th>\n",
       "      <td>...</td>\n",
       "      <td>...</td>\n",
       "      <td>...</td>\n",
       "      <td>...</td>\n",
       "      <td>...</td>\n",
       "      <td>...</td>\n",
       "      <td>...</td>\n",
       "      <td>...</td>\n",
       "      <td>...</td>\n",
       "      <td>...</td>\n",
       "      <td>...</td>\n",
       "      <td>...</td>\n",
       "      <td>...</td>\n",
       "      <td>...</td>\n",
       "      <td>...</td>\n",
       "      <td>...</td>\n",
       "      <td>...</td>\n",
       "      <td>...</td>\n",
       "      <td>...</td>\n",
       "      <td>...</td>\n",
       "      <td>...</td>\n",
       "    </tr>\n",
       "    <tr>\n",
       "      <th>159995</th>\n",
       "      <td>-0.487024</td>\n",
       "      <td>-4.270269</td>\n",
       "      <td>0.417395</td>\n",
       "      <td>-1.992423</td>\n",
       "      <td>1.757552</td>\n",
       "      <td>-1.167819</td>\n",
       "      <td>41.084463</td>\n",
       "      <td>-1.923188</td>\n",
       "      <td>-2.374213</td>\n",
       "      <td>-0.767600</td>\n",
       "      <td>...</td>\n",
       "      <td>-9.390451</td>\n",
       "      <td>8.096802</td>\n",
       "      <td>-0.875131</td>\n",
       "      <td>-1.413787</td>\n",
       "      <td>-0.363968</td>\n",
       "      <td>15.339392</td>\n",
       "      <td>4.364205</td>\n",
       "      <td>-3.831489</td>\n",
       "      <td>28.389858</td>\n",
       "      <td>1</td>\n",
       "    </tr>\n",
       "    <tr>\n",
       "      <th>159996</th>\n",
       "      <td>0.825477</td>\n",
       "      <td>4.804368</td>\n",
       "      <td>22.161535</td>\n",
       "      <td>11.371303</td>\n",
       "      <td>1.715901</td>\n",
       "      <td>6.990759</td>\n",
       "      <td>-12.278038</td>\n",
       "      <td>-3.861086</td>\n",
       "      <td>6.715126</td>\n",
       "      <td>-6.476405</td>\n",
       "      <td>...</td>\n",
       "      <td>12.803189</td>\n",
       "      <td>0.841446</td>\n",
       "      <td>-0.682177</td>\n",
       "      <td>-5.047677</td>\n",
       "      <td>-0.017898</td>\n",
       "      <td>0.780130</td>\n",
       "      <td>6.387266</td>\n",
       "      <td>-1.374742</td>\n",
       "      <td>-1.623952</td>\n",
       "      <td>0</td>\n",
       "    </tr>\n",
       "    <tr>\n",
       "      <th>159997</th>\n",
       "      <td>-0.802489</td>\n",
       "      <td>5.362696</td>\n",
       "      <td>7.243419</td>\n",
       "      <td>-7.496074</td>\n",
       "      <td>2.295250</td>\n",
       "      <td>-2.756067</td>\n",
       "      <td>42.515821</td>\n",
       "      <td>1.420984</td>\n",
       "      <td>6.788916</td>\n",
       "      <td>-0.132832</td>\n",
       "      <td>...</td>\n",
       "      <td>-0.346570</td>\n",
       "      <td>-0.144098</td>\n",
       "      <td>0.738298</td>\n",
       "      <td>7.241041</td>\n",
       "      <td>0.215347</td>\n",
       "      <td>-12.155249</td>\n",
       "      <td>3.265263</td>\n",
       "      <td>1.230963</td>\n",
       "      <td>3.335471</td>\n",
       "      <td>1</td>\n",
       "    </tr>\n",
       "    <tr>\n",
       "      <th>159998</th>\n",
       "      <td>0.339237</td>\n",
       "      <td>7.609895</td>\n",
       "      <td>5.368414</td>\n",
       "      <td>-2.825481</td>\n",
       "      <td>4.046102</td>\n",
       "      <td>15.322603</td>\n",
       "      <td>-10.233054</td>\n",
       "      <td>2.609986</td>\n",
       "      <td>4.251127</td>\n",
       "      <td>-7.484309</td>\n",
       "      <td>...</td>\n",
       "      <td>-0.307656</td>\n",
       "      <td>-0.601145</td>\n",
       "      <td>-3.443112</td>\n",
       "      <td>0.549931</td>\n",
       "      <td>0.206728</td>\n",
       "      <td>5.081980</td>\n",
       "      <td>1.701462</td>\n",
       "      <td>-0.279619</td>\n",
       "      <td>-1.986424</td>\n",
       "      <td>0</td>\n",
       "    </tr>\n",
       "    <tr>\n",
       "      <th>159999</th>\n",
       "      <td>-0.296748</td>\n",
       "      <td>-0.412773</td>\n",
       "      <td>-10.911407</td>\n",
       "      <td>-5.633629</td>\n",
       "      <td>-4.028154</td>\n",
       "      <td>15.939428</td>\n",
       "      <td>-46.388192</td>\n",
       "      <td>18.339472</td>\n",
       "      <td>-4.575499</td>\n",
       "      <td>-2.976210</td>\n",
       "      <td>...</td>\n",
       "      <td>27.837473</td>\n",
       "      <td>1.392395</td>\n",
       "      <td>0.893555</td>\n",
       "      <td>-1.848590</td>\n",
       "      <td>-0.423982</td>\n",
       "      <td>-17.379380</td>\n",
       "      <td>5.916490</td>\n",
       "      <td>-2.767444</td>\n",
       "      <td>15.547557</td>\n",
       "      <td>1</td>\n",
       "    </tr>\n",
       "  </tbody>\n",
       "</table>\n",
       "<p>160000 rows × 49 columns</p>\n",
       "</div>"
      ],
      "text/plain": [
       "              x0        x1         x2         x3        x4         x5  \\\n",
       "0      -0.166563 -3.961588   4.621113   2.481908 -1.800135   0.804684   \n",
       "1      -0.149894 -0.585676  27.839856   4.152333  6.426802  -2.426943   \n",
       "2      -0.321707 -1.429819  12.251561   6.586874 -5.304647 -11.311090   \n",
       "3      -0.245594  5.076677 -24.149632   3.637307  6.505811   2.290224   \n",
       "4      -0.273366  0.306326 -11.352593   1.676758  2.928441  -0.616824   \n",
       "...          ...       ...        ...        ...       ...        ...   \n",
       "159995 -0.487024 -4.270269   0.417395  -1.992423  1.757552  -1.167819   \n",
       "159996  0.825477  4.804368  22.161535  11.371303  1.715901   6.990759   \n",
       "159997 -0.802489  5.362696   7.243419  -7.496074  2.295250  -2.756067   \n",
       "159998  0.339237  7.609895   5.368414  -2.825481  4.046102  15.322603   \n",
       "159999 -0.296748 -0.412773 -10.911407  -5.633629 -4.028154  15.939428   \n",
       "\n",
       "               x7         x8        x9        x10  ...        x41       x42  \\\n",
       "0      -14.789997  -1.040673 -4.204950   6.187465  ...  -1.497117  5.414063   \n",
       "1       -6.725709   0.896421  0.330165 -11.708859  ...  36.292790  4.490915   \n",
       "2       11.060572   5.325880 -2.632984   1.572647  ...  -0.368491  9.088864   \n",
       "3      -18.913592  -0.337041 -5.568076  -2.000255  ...  15.691546 -7.467775   \n",
       "4       27.532281   1.199715 -4.309105   6.667530  ... -13.911297 -5.229937   \n",
       "...           ...        ...       ...        ...  ...        ...       ...   \n",
       "159995  41.084463  -1.923188 -2.374213  -0.767600  ...  -9.390451  8.096802   \n",
       "159996 -12.278038  -3.861086  6.715126  -6.476405  ...  12.803189  0.841446   \n",
       "159997  42.515821   1.420984  6.788916  -0.132832  ...  -0.346570 -0.144098   \n",
       "159998 -10.233054   2.609986  4.251127  -7.484309  ...  -0.307656 -0.601145   \n",
       "159999 -46.388192  18.339472 -4.575499  -2.976210  ...  27.837473  1.392395   \n",
       "\n",
       "             x43       x44       x45        x46       x47       x48  \\\n",
       "0      -2.325655  1.674827 -0.264332  60.781427 -7.689696  0.151589   \n",
       "1       0.762561  6.526662  1.007927  15.805696 -4.896678 -0.320283   \n",
       "2      -0.689886 -2.731118  0.754200  30.856417 -7.428573 -2.090804   \n",
       "3       2.940789 -6.424112  0.419776 -72.424569  5.361375  1.806070   \n",
       "4       1.783928  3.957801 -0.096988 -14.085435 -0.208351 -0.894942   \n",
       "...          ...       ...       ...        ...       ...       ...   \n",
       "159995 -0.875131 -1.413787 -0.363968  15.339392  4.364205 -3.831489   \n",
       "159996 -0.682177 -5.047677 -0.017898   0.780130  6.387266 -1.374742   \n",
       "159997  0.738298  7.241041  0.215347 -12.155249  3.265263  1.230963   \n",
       "159998 -3.443112  0.549931  0.206728   5.081980  1.701462 -0.279619   \n",
       "159999  0.893555 -1.848590 -0.423982 -17.379380  5.916490 -2.767444   \n",
       "\n",
       "              x49  y  \n",
       "0       -8.040166  0  \n",
       "1       16.719974  0  \n",
       "2       -7.869421  0  \n",
       "3       -7.670847  0  \n",
       "4       15.724742  1  \n",
       "...           ... ..  \n",
       "159995  28.389858  1  \n",
       "159996  -1.623952  0  \n",
       "159997   3.335471  1  \n",
       "159998  -1.986424  0  \n",
       "159999  15.547557  1  \n",
       "\n",
       "[160000 rows x 49 columns]"
      ]
     },
     "execution_count": 113,
     "metadata": {},
     "output_type": "execute_result"
    }
   ],
   "source": [
    "# Dropping correlated variables.\n",
    "raw_data.drop(['x6', 'x38'], axis = 1)"
   ]
  },
  {
   "cell_type": "code",
   "execution_count": 114,
   "id": "e50c3ddf-4ef3-4862-a59f-0a76a2d87a56",
   "metadata": {},
   "outputs": [],
   "source": [
    "# Encoding categorical variables.\n",
    "df_encoded_data = pd.get_dummies(raw_data, columns = categorical_cols)"
   ]
  },
  {
   "cell_type": "code",
   "execution_count": 115,
   "id": "01aae1e2-7f1f-4958-8fef-814c1ca9424d",
   "metadata": {},
   "outputs": [],
   "source": [
    "# Test and Train Split\n",
    "X = df_encoded_data.loc[:, df_encoded_data.columns != 'y'].values\n",
    "y = df_encoded_data['y'].astype('category').cat.codes\n",
    "\n",
    "\n",
    "X_train, X_test, y_train, y_test = train_test_split(X, y, test_size = 0.30, random_state = 42)"
   ]
  },
  {
   "cell_type": "code",
   "execution_count": 116,
   "id": "682cd116-2e38-4c14-ab60-2b99f12f99e0",
   "metadata": {},
   "outputs": [],
   "source": [
    "# Imputation\n",
    "imputer = SimpleImputer(strategy='most_frequent', missing_values=np.nan)\n",
    "imputer = imputer.fit(X_train)\n",
    "X_train= imputer.transform(X_train)\n",
    "imputer = imputer.fit(X_test)\n",
    "X_test= imputer.transform(X_test)"
   ]
  },
  {
   "cell_type": "code",
   "execution_count": 117,
   "id": "79c652ce-a6e9-4cc8-9b9e-7f9a9c856897",
   "metadata": {},
   "outputs": [],
   "source": [
    "# Scaling data.\n",
    "scaler = StandardScaler()\n",
    "scaler.fit(X_train)\n",
    "X_train = scaler.transform(X_train)\n",
    "X_test = scaler.transform(X_test)\n",
    "cols = df_encoded_data.columns.values.tolist()\n",
    "cols.remove('y')\n",
    "X_train = pd.DataFrame(X_train, columns=cols)\n",
    "X_test = pd.DataFrame(X_test, columns=cols)"
   ]
  },
  {
   "cell_type": "code",
   "execution_count": 118,
   "id": "fa98a39f-2843-46a4-910a-170dc26af21a",
   "metadata": {},
   "outputs": [
    {
     "data": {
      "text/plain": [
       "x0               0\n",
       "x1               0\n",
       "x2               0\n",
       "x3               0\n",
       "x4               0\n",
       "                ..\n",
       "x30_friday       0\n",
       "x30_monday       0\n",
       "x30_thurday      0\n",
       "x30_tuesday      0\n",
       "x30_wednesday    0\n",
       "Length: 67, dtype: int64"
      ]
     },
     "execution_count": 118,
     "metadata": {},
     "output_type": "execute_result"
    }
   ],
   "source": [
    "# Check if there are any missing values after imputation.\n",
    "X_train.isnull().sum()"
   ]
  },
  {
   "cell_type": "code",
   "execution_count": 119,
   "id": "45c3ac4f-985c-4b5e-89a2-267407179bbf",
   "metadata": {},
   "outputs": [],
   "source": [
    "# Function to calculate the cost benefit matrix\n",
    "def cost_benefit_matrix(confusion_matrix):\n",
    "    tn, fp, fn, tp = confusion_matrix.ravel()\n",
    "    cost_fp = fp * -100\n",
    "    cost_fn = fn * -25\n",
    "    Total_cost = cost_fp + cost_fn\n",
    "    Total_cost_per_pred = Total_cost/(tn +fp +fn +tp)\n",
    "    print(\"\\nCost Benefit Matrix:-\")\n",
    "    print(\"Cost of false positive : ${0}\".format(format(cost_fp, ',.2f')))\n",
    "    print(\"Cost of false negative : ${0}\".format(format(cost_fn, ',.2f')))\n",
    "    print(\"Total cost: ${0}\".format(format(Total_cost, ',.2f')))\n",
    "    print(\"Cost per prediction: ${0}\".format(format(Total_cost_per_pred, ',.2f')))\n"
   ]
  },
  {
   "cell_type": "markdown",
   "id": "eaa758ae-1c74-4589-a539-cffd8bc5b73a",
   "metadata": {},
   "source": [
    "### Model Preparations Summary\n",
    "* One of two strongly correlated variable in x2 & x6 and x41 & x38 are dropped.\n",
    "* Categorical variables are one hot encodeded.\n",
    "* Dataset is split 70:30 as train and test.\n",
    "* We have features with wide range of values and hence the data is scaled.\n",
    "* The few missing values which are missing at random are imputed with most frequent strategy.\n",
    "* Built a function to calculate the cost benefit matrix. Every false +ve cost \\\\$100 and false -ve cost \\\\$25."
   ]
  },
  {
   "cell_type": "markdown",
   "id": "60a7e4ca-df02-480a-9394-a85a6772c8c5",
   "metadata": {},
   "source": [
    "### Model Building\n",
    "* Since this is a classification problem, the approach we are taking here is to start of with Random Forest model which is a collection of decision trees. This is know to be less prone to overfitting and more robutst.\n",
    "* Next we will build some simple models based on parametric model like Logistic regression, and move to non-parametric models like KNN.\n",
    "* Then end with building some advanced models like XGBoost and Neural Network Models.\n",
    "* Hyper parameter tuning and Grid search will be performed for models where ever possible while building models.\n",
    "* The key metric for model evaluation will be the cost benfit matrix along with Recall & Precision since there is a cost for false postive and false negative.\n",
    "* Once the model building is done, best 3 models is chosen and an ensemble of models will be built to get the last performance boost.\n",
    "\n",
    "#### RandomForest Models"
   ]
  },
  {
   "cell_type": "code",
   "execution_count": 120,
   "id": "54964e23-0f2c-48ba-a059-484179933d64",
   "metadata": {},
   "outputs": [
    {
     "data": {
      "text/plain": [
       "RandomForestClassifier(random_state=0)"
      ]
     },
     "execution_count": 120,
     "metadata": {},
     "output_type": "execute_result"
    }
   ],
   "source": [
    "model1_rf = RandomForestClassifier(random_state = 0)\n",
    "model1_rf.fit(X_train, y_train)"
   ]
  },
  {
   "cell_type": "code",
   "execution_count": 121,
   "id": "1f272060-bac8-46d5-8d34-a917b5480962",
   "metadata": {},
   "outputs": [
    {
     "name": "stdout",
     "output_type": "stream",
     "text": [
      "Confusion Matrix \n",
      " [[66976     0]\n",
      " [    1 45023]]\n",
      "\n",
      "Cost Benefit Matrix:-\n",
      "Cost of false positive : $0.00\n",
      "Cost of false negative : $-25.00\n",
      "Total cost: $-25.00\n",
      "Cost per prediction: $-0.00\n",
      "\n",
      " Classification Report \n",
      "               precision    recall  f1-score   support\n",
      "\n",
      "           0   0.999985  1.000000  0.999993     66976\n",
      "           1   1.000000  0.999978  0.999989     45024\n",
      "\n",
      "    accuracy                       0.999991    112000\n",
      "   macro avg   0.999993  0.999989  0.999991    112000\n",
      "weighted avg   0.999991  0.999991  0.999991    112000\n",
      "\n"
     ]
    }
   ],
   "source": [
    "y_train1_rf = model1_rf.predict(X_train)\n",
    "print(\"Confusion Matrix \\n\",confusion_matrix(y_train, y_train1_rf))\n",
    "cost_benefit_matrix(confusion_matrix(y_train, y_train1_rf))\n",
    "print(\"\\n Classification Report \\n\",classification_report(y_train, y_train1_rf, digits=6))"
   ]
  },
  {
   "cell_type": "code",
   "execution_count": 122,
   "id": "73746ff3-5c92-4f71-8298-167d51eeafb5",
   "metadata": {},
   "outputs": [
    {
     "name": "stdout",
     "output_type": "stream",
     "text": [
      "Confusion Matrix \n",
      " [[27547  1280]\n",
      " [ 2585 16588]]\n",
      "\n",
      "Cost Benefit Matrix:-\n",
      "Cost of false positive : $-128,000.00\n",
      "Cost of false negative : $-64,625.00\n",
      "Total cost: $-192,625.00\n",
      "Cost per prediction: $-4.01\n",
      "\n",
      " Classification Report \n",
      "               precision    recall  f1-score   support\n",
      "\n",
      "           0   0.914211  0.955597  0.934446     28827\n",
      "           1   0.928364  0.865175  0.895656     19173\n",
      "\n",
      "    accuracy                       0.919479     48000\n",
      "   macro avg   0.921287  0.910386  0.915051     48000\n",
      "weighted avg   0.919864  0.919479  0.918952     48000\n",
      "\n"
     ]
    }
   ],
   "source": [
    "y_test1_rf = model1_rf.predict(X_test)\n",
    "print(\"Confusion Matrix \\n\",confusion_matrix(y_test, y_test1_rf))\n",
    "cost_benefit_matrix(confusion_matrix(y_test, y_test1_rf))\n",
    "print(\"\\n Classification Report \\n\",classification_report(y_test, y_test1_rf, digits=6))"
   ]
  },
  {
   "cell_type": "code",
   "execution_count": 123,
   "id": "9309b716-d9bf-4012-b416-6b616a334cfb",
   "metadata": {},
   "outputs": [
    {
     "name": "stdout",
     "output_type": "stream",
     "text": [
      "\n",
      "Cost Benefit Matrix:-\n",
      "Cost of false positive : $-128,000.00\n",
      "Cost of false negative : $-64,625.00\n",
      "Total cost: $-192,625.00\n",
      "Cost per prediction: $-4.01\n"
     ]
    }
   ],
   "source": [
    "cost_benefit_matrix(confusion_matrix(y_test, y_test1_rf))"
   ]
  },
  {
   "cell_type": "markdown",
   "id": "3a82379c-64b5-482b-8362-eab182c1298b",
   "metadata": {},
   "source": [
    "#### Feature Importance"
   ]
  },
  {
   "cell_type": "code",
   "execution_count": 124,
   "id": "bd39e6e2-b359-49b2-b89b-b67ef7abe56b",
   "metadata": {},
   "outputs": [
    {
     "data": {
      "image/png": "[encoded data removed]",
      "text/plain": [
       "<Figure size 1440x288 with 1 Axes>"
      ]
     },
     "metadata": {
      "needs_background": "light"
     },
     "output_type": "display_data"
    }
   ],
   "source": [
    "feature_importances = model1_rf.feature_importances_\n",
    "sorted_indices = np.argsort(feature_importances)[::-1]\n",
    "plt.figure(figsize=(20,4))\n",
    "plt.title('Feature Importance')\n",
    "plt.bar(range(X_train.shape[1]), feature_importances[sorted_indices], align='center')\n",
    "plt.xticks(range(X_train.shape[1]), X_train.columns[sorted_indices], rotation=90)\n",
    "plt.tight_layout()\n",
    "plt.show()"
   ]
  },
  {
   "cell_type": "markdown",
   "id": "c60bbb4e-36c6-4018-b3ea-97a886719d6a",
   "metadata": {},
   "source": [
    "#### Top important features based on threshold"
   ]
  },
  {
   "cell_type": "code",
   "execution_count": 125,
   "id": "8d47a772-7d93-447d-a830-0459689fe167",
   "metadata": {},
   "outputs": [
    {
     "name": "stdout",
     "output_type": "stream",
     "text": [
      "x2\n",
      "x6\n",
      "x7\n",
      "x12\n",
      "x20\n",
      "x23\n",
      "x27\n",
      "x28\n",
      "x32\n",
      "x37\n",
      "x38\n",
      "x40\n",
      "x41\n",
      "x42\n",
      "x46\n",
      "x48\n",
      "x49\n"
     ]
    }
   ],
   "source": [
    "sfm = SelectFromModel(model1_rf, threshold=0.01)\n",
    "\n",
    "# Train the selector\n",
    "imp_features = []\n",
    "sfm.fit(X_train, y_train)\n",
    "for feature_list_index in sfm.get_support(indices=True):\n",
    "    print(cols[feature_list_index])\n",
    "    imp_features.append(cols[feature_list_index])"
   ]
  },
  {
   "cell_type": "code",
   "execution_count": 126,
   "id": "b96835fe-02b9-47e7-8f69-9826fb3400a0",
   "metadata": {},
   "outputs": [],
   "source": [
    "X_train = X_train[imp_features]\n",
    "X_test = X_test[imp_features]"
   ]
  },
  {
   "cell_type": "code",
   "execution_count": 127,
   "id": "c98203d9-0e9d-4d0a-928e-0f684d30a35f",
   "metadata": {},
   "outputs": [
    {
     "name": "stdout",
     "output_type": "stream",
     "text": [
      "Confusion Matrix \n",
      " [[63547  3429]\n",
      " [ 8408 36616]]\n",
      "\n",
      "Cost Benefit Matrix:-\n",
      "Cost of false positive : $-342,900.00\n",
      "Cost of false negative : $-210,200.00\n",
      "Total cost: $-553,100.00\n",
      "Cost per prediction: $-4.94\n",
      "\n",
      " Classification Report \n",
      "               precision    recall  f1-score   support\n",
      "\n",
      "           0   0.883149  0.948803  0.914799     66976\n",
      "           1   0.914371  0.813255  0.860854     45024\n",
      "\n",
      "    accuracy                       0.894313    112000\n",
      "   macro avg   0.898760  0.881029  0.887827    112000\n",
      "weighted avg   0.895700  0.894312  0.893113    112000\n",
      "\n"
     ]
    }
   ],
   "source": [
    "model2_rf = RandomForestClassifier(n_estimators = 50, max_depth = 10, min_samples_split = 100, random_state = 2)\n",
    "model2_rf.fit(X_train, y_train)\n",
    "y_train2_rf = model2_rf.predict(X_train)\n",
    "print(\"Confusion Matrix \\n\",confusion_matrix(y_train, y_train2_rf))\n",
    "cost_benefit_matrix(confusion_matrix(y_train, y_train2_rf))\n",
    "print(\"\\n Classification Report \\n\",classification_report(y_train, y_train2_rf, digits=6))"
   ]
  },
  {
   "cell_type": "code",
   "execution_count": 128,
   "id": "992273bb-c844-49a5-b10f-766781331278",
   "metadata": {},
   "outputs": [
    {
     "name": "stdout",
     "output_type": "stream",
     "text": [
      "Confusion Matrix \n",
      " [[27116  1711]\n",
      " [ 3937 15236]]\n",
      "\n",
      "Cost Benefit Matrix:-\n",
      "Cost of false positive : $-171,100.00\n",
      "Cost of false negative : $-98,425.00\n",
      "Total cost: $-269,525.00\n",
      "Cost per prediction: $-5.62\n",
      "\n",
      " Classification Report \n",
      "               precision    recall  f1-score   support\n",
      "\n",
      "           0   0.873217  0.940646  0.905678     28827\n",
      "           1   0.899038  0.794659  0.843632     19173\n",
      "\n",
      "    accuracy                       0.882333     48000\n",
      "   macro avg   0.886127  0.867653  0.874655     48000\n",
      "weighted avg   0.883531  0.882333  0.880895     48000\n",
      "\n"
     ]
    }
   ],
   "source": [
    "y_test2_rf = model2_rf.predict(X_test)\n",
    "print(\"Confusion Matrix \\n\",confusion_matrix(y_test, y_test2_rf))\n",
    "cost_benefit_matrix(confusion_matrix(y_test, y_test2_rf))\n",
    "print(\"\\n Classification Report \\n\",classification_report(y_test, y_test2_rf, digits=6))"
   ]
  },
  {
   "cell_type": "code",
   "execution_count": 129,
   "id": "7f8c1525-c84c-40df-ad22-20d0f139e8c1",
   "metadata": {},
   "outputs": [
    {
     "name": "stdout",
     "output_type": "stream",
     "text": [
      "Fitting 2 folds for each of 16 candidates, totalling 32 fits\n",
      "CPU times: user 8min 58s, sys: 2.78 s, total: 9min 1s\n",
      "Wall time: 9min 4s\n"
     ]
    },
    {
     "data": {
      "text/plain": [
       "GridSearchCV(cv=2, estimator=RandomForestClassifier(random_state=42),\n",
       "             param_grid={'criterion': ['gini', 'entropy'],\n",
       "                         'max_depth': [10, 20],\n",
       "                         'max_features': ['auto', 'sqrt'],\n",
       "                         'n_estimators': [50, 100]},\n",
       "             verbose=1)"
      ]
     },
     "execution_count": 129,
     "metadata": {},
     "output_type": "execute_result"
    }
   ],
   "source": [
    "%%time\n",
    "model3_rf = RandomForestClassifier(random_state=42)\n",
    "param_grid = { \n",
    "    'n_estimators': [50,100],\n",
    "    'max_features': ['auto', 'sqrt'],\n",
    "    'max_depth' : [10,20],\n",
    "    'criterion' :['gini', 'entropy']\n",
    "}\n",
    "CV_rfc = GridSearchCV(estimator=model3_rf, param_grid=param_grid, cv= 2,verbose=1)\n",
    "CV_rfc.fit(X_train, y_train)"
   ]
  },
  {
   "cell_type": "code",
   "execution_count": 130,
   "id": "912daa66-50ed-47a6-a406-1f306bbfe65a",
   "metadata": {},
   "outputs": [
    {
     "data": {
      "text/plain": [
       "{'criterion': 'entropy',\n",
       " 'max_depth': 20,\n",
       " 'max_features': 'auto',\n",
       " 'n_estimators': 100}"
      ]
     },
     "execution_count": 130,
     "metadata": {},
     "output_type": "execute_result"
    }
   ],
   "source": [
    "CV_rfc.best_params_"
   ]
  },
  {
   "cell_type": "code",
   "execution_count": 131,
   "id": "05356b21-bb8b-4605-8427-bdbd30445940",
   "metadata": {},
   "outputs": [
    {
     "name": "stdout",
     "output_type": "stream",
     "text": [
      "Confusion Matrix \n",
      " [[66946    30]\n",
      " [  141 44883]]\n",
      "\n",
      "Cost Benefit Matrix:-\n",
      "Cost of false positive : $-3,000.00\n",
      "Cost of false negative : $-3,525.00\n",
      "Total cost: $-6,525.00\n",
      "Cost per prediction: $-0.06\n",
      "\n",
      " Classification Report \n",
      "               precision    recall  f1-score   support\n",
      "\n",
      "           0   0.997898  0.999552  0.998724     66976\n",
      "           1   0.999332  0.996868  0.998099     45024\n",
      "\n",
      "    accuracy                       0.998473    112000\n",
      "   macro avg   0.998615  0.998210  0.998412    112000\n",
      "weighted avg   0.998475  0.998473  0.998473    112000\n",
      "\n"
     ]
    }
   ],
   "source": [
    "model4_rf=RandomForestClassifier(random_state=42, max_features='auto', n_estimators= 100, max_depth=20, criterion='entropy')\n",
    "model4_rf.fit(X_train, y_train)\n",
    "y_train4_rf = model4_rf.predict(X_train)\n",
    "print(\"Confusion Matrix \\n\",confusion_matrix(y_train, y_train4_rf))\n",
    "cost_benefit_matrix(confusion_matrix(y_train, y_train4_rf))\n",
    "print(\"\\n Classification Report \\n\",classification_report(y_train, y_train4_rf, digits=6))"
   ]
  },
  {
   "cell_type": "code",
   "execution_count": 132,
   "id": "6099159c-ed80-418f-9388-ed440c4de9be",
   "metadata": {},
   "outputs": [
    {
     "name": "stdout",
     "output_type": "stream",
     "text": [
      "Confusion Matrix \n",
      " [[27685  1142]\n",
      " [ 1827 17346]]\n",
      "\n",
      "Cost Benefit Matrix:-\n",
      "Cost of false positive : $-114,200.00\n",
      "Cost of false negative : $-45,675.00\n",
      "Total cost: $-159,875.00\n",
      "Cost per prediction: $-3.33\n",
      "\n",
      " Classification Report \n",
      "               precision    recall  f1-score   support\n",
      "\n",
      "           0   0.938093  0.960384  0.949108     28827\n",
      "           1   0.938230  0.904710  0.921165     19173\n",
      "\n",
      "    accuracy                       0.938146     48000\n",
      "   macro avg   0.938162  0.932547  0.935136     48000\n",
      "weighted avg   0.938148  0.938146  0.937946     48000\n",
      "\n"
     ]
    }
   ],
   "source": [
    "y_test4_rf = model4_rf.predict(X_test)\n",
    "print(\"Confusion Matrix \\n\",confusion_matrix(y_test, y_test4_rf))\n",
    "cost_benefit_matrix(confusion_matrix(y_test, y_test4_rf))\n",
    "print(\"\\n Classification Report \\n\",classification_report(y_test, y_test4_rf, digits=6))"
   ]
  },
  {
   "cell_type": "markdown",
   "id": "148deede-e965-4fbc-9973-ae7bd1fdea2a",
   "metadata": {},
   "source": [
    "#### Logistic Regression"
   ]
  },
  {
   "cell_type": "code",
   "execution_count": 133,
   "id": "8d0a3525-82fb-4a2f-963c-b0141a8972bc",
   "metadata": {},
   "outputs": [
    {
     "data": {
      "text/plain": [
       "LogisticRegression(max_iter=1000)"
      ]
     },
     "execution_count": 133,
     "metadata": {},
     "output_type": "execute_result"
    }
   ],
   "source": [
    "model1_logr = LogisticRegression(solver='lbfgs', max_iter=1000)\n",
    "model1_logr.fit(X_train, y_train)"
   ]
  },
  {
   "cell_type": "code",
   "execution_count": 134,
   "id": "3a5e7482-5a3b-45a6-972b-1c257accfec9",
   "metadata": {},
   "outputs": [
    {
     "name": "stdout",
     "output_type": "stream",
     "text": [
      "Confusion Matrix \n",
      " [[55319 11657]\n",
      " [21716 23308]]\n",
      "\n",
      "Cost Benefit Matrix:-\n",
      "Cost of false positive : $-1,165,700.00\n",
      "Cost of false negative : $-542,900.00\n",
      "Total cost: $-1,708,600.00\n",
      "Cost per prediction: $-15.26\n",
      "\n",
      " Classification Report \n",
      "               precision    recall  f1-score   support\n",
      "\n",
      "           0   0.718102  0.825953  0.768261     66976\n",
      "           1   0.666609  0.517679  0.582780     45024\n",
      "\n",
      "    accuracy                       0.702027    112000\n",
      "   macro avg   0.692356  0.671816  0.675520    112000\n",
      "weighted avg   0.697402  0.702027  0.693698    112000\n",
      "\n"
     ]
    }
   ],
   "source": [
    "y_train1_logr = model1_logr.predict(X_train)\n",
    "print(\"Confusion Matrix \\n\",confusion_matrix(y_train, y_train1_logr))\n",
    "cost_benefit_matrix(confusion_matrix(y_train, y_train1_logr))\n",
    "print(\"\\n Classification Report \\n\",classification_report(y_train, y_train1_logr, digits=6))"
   ]
  },
  {
   "cell_type": "code",
   "execution_count": 135,
   "id": "93c6532f-9c04-4c6f-ba1a-0bd16dccc6f7",
   "metadata": {},
   "outputs": [
    {
     "name": "stdout",
     "output_type": "stream",
     "text": [
      "Confusion Matrix \n",
      " [[23860  4967]\n",
      " [ 9235  9938]]\n",
      "\n",
      "Cost Benefit Matrix:-\n",
      "Cost of false positive : $-496,700.00\n",
      "Cost of false negative : $-230,875.00\n",
      "Total cost: $-727,575.00\n",
      "Cost per prediction: $-15.16\n",
      "\n",
      " Classification Report \n",
      "               precision    recall  f1-score   support\n",
      "\n",
      "           0   0.720955  0.827696  0.770647     28827\n",
      "           1   0.666756  0.518333  0.583250     19173\n",
      "\n",
      "    accuracy                       0.704125     48000\n",
      "   macro avg   0.693855  0.673015  0.676949     48000\n",
      "weighted avg   0.699306  0.704125  0.695794     48000\n",
      "\n"
     ]
    }
   ],
   "source": [
    "y_test1_logr = model1_logr.predict(X_test)\n",
    "print(\"Confusion Matrix \\n\",confusion_matrix(y_test, y_test1_logr))\n",
    "cost_benefit_matrix(confusion_matrix(y_test, y_test1_logr))\n",
    "print(\"\\n Classification Report \\n\",classification_report(y_test, y_test1_logr, digits=6))"
   ]
  },
  {
   "cell_type": "markdown",
   "id": "5377b260-123d-4ee6-8fc2-eb85c970cd82",
   "metadata": {},
   "source": [
    "#### KNN"
   ]
  },
  {
   "cell_type": "code",
   "execution_count": 136,
   "id": "9b3cd4ba-bd4f-4dd1-8fb3-2c7811dbb5fd",
   "metadata": {},
   "outputs": [
    {
     "name": "stdout",
     "output_type": "stream",
     "text": [
      "Confusion Matrix \n",
      " [[65245  1731]\n",
      " [ 1955 43069]]\n",
      "\n",
      "Cost Benefit Matrix:-\n",
      "Cost of false positive : $-173,100.00\n",
      "Cost of false negative : $-48,875.00\n",
      "Total cost: $-221,975.00\n",
      "Cost per prediction: $-1.98\n",
      "\n",
      " Classification Report \n",
      "               precision    recall  f1-score   support\n",
      "\n",
      "           0   0.970908  0.974155  0.972529     66976\n",
      "           1   0.961362  0.956579  0.958964     45024\n",
      "\n",
      "    accuracy                       0.967089    112000\n",
      "   macro avg   0.966135  0.965367  0.965746    112000\n",
      "weighted avg   0.967070  0.967089  0.967076    112000\n",
      "\n"
     ]
    }
   ],
   "source": [
    "model1_knn = KNeighborsClassifier(n_neighbors=5)\n",
    "model1_knn.fit(X_train, y_train)\n",
    "y_train1_knn = model1_knn.predict(X_train)\n",
    "print(\"Confusion Matrix \\n\",confusion_matrix(y_train, y_train1_knn))\n",
    "cost_benefit_matrix(confusion_matrix(y_train, y_train1_knn))\n",
    "print(\"\\n Classification Report \\n\",classification_report(y_train, y_train1_knn, digits=6))"
   ]
  },
  {
   "cell_type": "code",
   "execution_count": 137,
   "id": "4214d49e-62d3-475b-9b95-75769be8506b",
   "metadata": {},
   "outputs": [
    {
     "name": "stdout",
     "output_type": "stream",
     "text": [
      "Confusion Matrix \n",
      " [[27705  1122]\n",
      " [ 1218 17955]]\n",
      "\n",
      "Cost Benefit Matrix:-\n",
      "Cost of false positive : $-112,200.00\n",
      "Cost of false negative : $-30,450.00\n",
      "Total cost: $-142,650.00\n",
      "Cost per prediction: $-2.97\n",
      "\n",
      " Classification Report \n",
      "               precision    recall  f1-score   support\n",
      "\n",
      "           0   0.957888  0.961078  0.959481     28827\n",
      "           1   0.941186  0.936473  0.938824     19173\n",
      "\n",
      "    accuracy                       0.951250     48000\n",
      "   macro avg   0.949537  0.948776  0.949152     48000\n",
      "weighted avg   0.951217  0.951250  0.951229     48000\n",
      "\n"
     ]
    }
   ],
   "source": [
    "y_test1_knn = model1_knn.predict(X_test)\n",
    "print(\"Confusion Matrix \\n\",confusion_matrix(y_test, y_test1_knn))\n",
    "cost_benefit_matrix(confusion_matrix(y_test, y_test1_knn))\n",
    "print(\"\\n Classification Report \\n\",classification_report(y_test, y_test1_knn, digits=6))"
   ]
  },
  {
   "cell_type": "markdown",
   "id": "3cacd0b2-5e93-4cff-a99f-36b1505deb71",
   "metadata": {},
   "source": [
    "#### XGBoost"
   ]
  },
  {
   "cell_type": "code",
   "execution_count": 138,
   "id": "81349235-4eec-41d7-8d7b-2f00e113e3e0",
   "metadata": {},
   "outputs": [
    {
     "name": "stdout",
     "output_type": "stream",
     "text": [
      "Confusion Matrix \n",
      " [[58025  8951]\n",
      " [15330 29694]]\n",
      "\n",
      "Cost Benefit Matrix:-\n",
      "Cost of false positive : $-895,100.00\n",
      "Cost of false negative : $-383,250.00\n",
      "Total cost: $-1,278,350.00\n",
      "Cost per prediction: $-11.41\n",
      "\n",
      " Classification Report \n",
      "               precision    recall  f1-score   support\n",
      "\n",
      "           0   0.791016  0.866355  0.826973     66976\n",
      "           1   0.768379  0.659515  0.709797     45024\n",
      "\n",
      "    accuracy                       0.783205    112000\n",
      "   macro avg   0.779698  0.762935  0.768385    112000\n",
      "weighted avg   0.781916  0.783205  0.779868    112000\n",
      "\n"
     ]
    }
   ],
   "source": [
    "model1_xgb = GradientBoostingClassifier(n_estimators=20, learning_rate=0.5, max_depth=2, random_state=0).fit(X_train, y_train)\n",
    "y_train1_xgb = model1_xgb.predict(X_train)\n",
    "print(\"Confusion Matrix \\n\",confusion_matrix(y_train, y_train1_xgb))\n",
    "cost_benefit_matrix(confusion_matrix(y_train, y_train1_xgb))\n",
    "print(\"\\n Classification Report \\n\",classification_report(y_train, y_train1_xgb, digits=6))"
   ]
  },
  {
   "cell_type": "code",
   "execution_count": 139,
   "id": "3e638d7b-680a-4b82-9370-7b8c138ac014",
   "metadata": {},
   "outputs": [
    {
     "name": "stdout",
     "output_type": "stream",
     "text": [
      "Confusion Matrix \n",
      " [[25004  3823]\n",
      " [ 6644 12529]]\n",
      "\n",
      "Cost Benefit Matrix:-\n",
      "Cost of false positive : $-382,300.00\n",
      "Cost of false negative : $-166,100.00\n",
      "Total cost: $-548,400.00\n",
      "Cost per prediction: $-11.43\n",
      "\n",
      " Classification Report \n",
      "               precision    recall  f1-score   support\n",
      "\n",
      "           0   0.790066  0.867381  0.826920     28827\n",
      "           1   0.766206  0.653471  0.705362     19173\n",
      "\n",
      "    accuracy                       0.781937     48000\n",
      "   macro avg   0.778136  0.760426  0.766141     48000\n",
      "weighted avg   0.780535  0.781937  0.778365     48000\n",
      "\n"
     ]
    }
   ],
   "source": [
    "y_test1_xgb = model1_xgb.predict(X_test)\n",
    "print(\"Confusion Matrix \\n\",confusion_matrix(y_test, y_test1_xgb))\n",
    "cost_benefit_matrix(confusion_matrix(y_test, y_test1_xgb))\n",
    "print(\"\\n Classification Report \\n\",classification_report(y_test, y_test1_xgb, digits=6))"
   ]
  },
  {
   "cell_type": "code",
   "execution_count": 140,
   "id": "19bbf177-b99b-42f7-b120-cbdacb7e7c21",
   "metadata": {},
   "outputs": [
    {
     "data": {
      "text/plain": [
       "{'learning_rate': 0.7,\n",
       " 'max_depth': 10,\n",
       " 'min_samples_leaf': 0.1,\n",
       " 'n_estimators': 100}"
      ]
     },
     "execution_count": 140,
     "metadata": {},
     "output_type": "execute_result"
    }
   ],
   "source": [
    "parameters = {\n",
    "    \"learning_rate\": [0.2,0.5,0.7],\n",
    "    \"min_samples_leaf\": [0.1, 0.5],\n",
    "    \"max_depth\":[10,20],\n",
    "    \"n_estimators\":[50,100]\n",
    "    }\n",
    "\n",
    "xgb_clf = GridSearchCV(GradientBoostingClassifier(), parameters, cv=2, n_jobs=-1)\n",
    "xgb_clf.fit(X_train, y_train)\n",
    "xgb_clf.best_params_"
   ]
  },
  {
   "cell_type": "code",
   "execution_count": 141,
   "id": "54f932b3-c17d-4849-92ae-5f8aa5b24275",
   "metadata": {},
   "outputs": [
    {
     "name": "stdout",
     "output_type": "stream",
     "text": [
      "Confusion Matrix \n",
      " [[62099  4877]\n",
      " [ 5991 39033]]\n",
      "\n",
      "Cost Benefit Matrix:-\n",
      "Cost of false positive : $-487,700.00\n",
      "Cost of false negative : $-149,775.00\n",
      "Total cost: $-637,475.00\n",
      "Cost per prediction: $-5.69\n",
      "\n",
      " Classification Report \n",
      "               precision    recall  f1-score   support\n",
      "\n",
      "           0   0.912014  0.927183  0.919536     66976\n",
      "           1   0.888932  0.866938  0.877797     45024\n",
      "\n",
      "    accuracy                       0.902964    112000\n",
      "   macro avg   0.900473  0.897060  0.898666    112000\n",
      "weighted avg   0.902735  0.902964  0.902757    112000\n",
      "\n"
     ]
    }
   ],
   "source": [
    "model2_xgb = GradientBoostingClassifier(n_estimators=100, min_samples_leaf=0.1, learning_rate=0.7, max_depth=20, random_state=0).fit(X_train, y_train)\n",
    "y_train2_xgb = model2_xgb.predict(X_train)\n",
    "print(\"Confusion Matrix \\n\",confusion_matrix(y_train, y_train2_xgb))\n",
    "cost_benefit_matrix(confusion_matrix(y_train, y_train2_xgb))\n",
    "print(\"\\n Classification Report \\n\",classification_report(y_train, y_train2_xgb, digits=6))"
   ]
  },
  {
   "cell_type": "code",
   "execution_count": 142,
   "id": "7f3c086f-1f97-4b58-896b-04906484f609",
   "metadata": {},
   "outputs": [
    {
     "name": "stdout",
     "output_type": "stream",
     "text": [
      "Confusion Matrix \n",
      " [[26541  2286]\n",
      " [ 2649 16524]]\n",
      "\n",
      "Cost Benefit Matrix:-\n",
      "Cost of false positive : $-228,600.00\n",
      "Cost of false negative : $-66,225.00\n",
      "Total cost: $-294,825.00\n",
      "Cost per prediction: $-6.14\n",
      "\n",
      " Classification Report \n",
      "               precision    recall  f1-score   support\n",
      "\n",
      "           0   0.909250  0.920699  0.914939     28827\n",
      "           1   0.878469  0.861837  0.870073     19173\n",
      "\n",
      "    accuracy                       0.897188     48000\n",
      "   macro avg   0.893859  0.891268  0.892506     48000\n",
      "weighted avg   0.896955  0.897188  0.897018     48000\n",
      "\n"
     ]
    }
   ],
   "source": [
    "y_test2_xgb = model2_xgb.predict(X_test)\n",
    "print(\"Confusion Matrix \\n\",confusion_matrix(y_test, y_test2_xgb))\n",
    "cost_benefit_matrix(confusion_matrix(y_test, y_test2_xgb))\n",
    "print(\"\\n Classification Report \\n\",classification_report(y_test, y_test2_xgb, digits=6))"
   ]
  },
  {
   "cell_type": "markdown",
   "id": "5676bd65-2b07-4952-b306-d0ef4a12a87f",
   "metadata": {},
   "source": [
    "#### Neural Network Model"
   ]
  },
  {
   "cell_type": "code",
   "execution_count": 143,
   "id": "7999cd6c-e001-49b6-a02d-26edc03f9e4b",
   "metadata": {},
   "outputs": [
    {
     "name": "stdout",
     "output_type": "stream",
     "text": [
      "Epoch 1/80\n",
      "8960/8960 [==============================] - 7s 744us/step - loss: 0.5370 - accuracy: 0.7317 - val_loss: 0.4580 - val_accuracy: 0.7858\n",
      "Epoch 2/80\n",
      "8960/8960 [==============================] - 6s 683us/step - loss: 0.4508 - accuracy: 0.7883 - val_loss: 0.4342 - val_accuracy: 0.8012\n",
      "Epoch 3/80\n",
      "8960/8960 [==============================] - 6s 694us/step - loss: 0.4240 - accuracy: 0.8089 - val_loss: 0.4033 - val_accuracy: 0.8286\n",
      "Epoch 4/80\n",
      "8960/8960 [==============================] - 6s 712us/step - loss: 0.3954 - accuracy: 0.8295 - val_loss: 0.3817 - val_accuracy: 0.8375\n",
      "Epoch 5/80\n",
      "8960/8960 [==============================] - 7s 754us/step - loss: 0.3767 - accuracy: 0.8386 - val_loss: 0.3733 - val_accuracy: 0.8415\n",
      "Epoch 6/80\n",
      "8960/8960 [==============================] - 7s 729us/step - loss: 0.3674 - accuracy: 0.8426 - val_loss: 0.3703 - val_accuracy: 0.8411\n",
      "Epoch 7/80\n",
      "8960/8960 [==============================] - 6s 718us/step - loss: 0.3646 - accuracy: 0.8421 - val_loss: 0.3674 - val_accuracy: 0.8429\n",
      "Epoch 8/80\n",
      "8960/8960 [==============================] - 7s 791us/step - loss: 0.3634 - accuracy: 0.8435 - val_loss: 0.3653 - val_accuracy: 0.8427\n",
      "Epoch 9/80\n",
      "8960/8960 [==============================] - 6s 704us/step - loss: 0.3645 - accuracy: 0.8435 - val_loss: 0.3655 - val_accuracy: 0.8437\n",
      "Epoch 10/80\n",
      "8960/8960 [==============================] - 6s 716us/step - loss: 0.3613 - accuracy: 0.8443 - val_loss: 0.3647 - val_accuracy: 0.8434\n",
      "Epoch 11/80\n",
      "8960/8960 [==============================] - 6s 701us/step - loss: 0.3630 - accuracy: 0.8435 - val_loss: 0.3634 - val_accuracy: 0.8451\n",
      "Epoch 12/80\n",
      "8960/8960 [==============================] - 7s 734us/step - loss: 0.3613 - accuracy: 0.8449 - val_loss: 0.3640 - val_accuracy: 0.8430\n",
      "Epoch 13/80\n",
      "8960/8960 [==============================] - 7s 737us/step - loss: 0.3633 - accuracy: 0.8428 - val_loss: 0.3642 - val_accuracy: 0.8442\n",
      "Epoch 14/80\n",
      "8960/8960 [==============================] - 6s 707us/step - loss: 0.3633 - accuracy: 0.8438 - val_loss: 0.3631 - val_accuracy: 0.8435\n",
      "Epoch 15/80\n",
      "8960/8960 [==============================] - 6s 723us/step - loss: 0.3642 - accuracy: 0.8435 - val_loss: 0.3640 - val_accuracy: 0.8430\n",
      "Epoch 16/80\n",
      "8960/8960 [==============================] - 7s 768us/step - loss: 0.3646 - accuracy: 0.8417 - val_loss: 0.3636 - val_accuracy: 0.8430\n",
      "Epoch 17/80\n",
      "8960/8960 [==============================] - 6s 723us/step - loss: 0.3616 - accuracy: 0.8437 - val_loss: 0.3625 - val_accuracy: 0.8444\n",
      "Epoch 18/80\n",
      "8960/8960 [==============================] - 7s 738us/step - loss: 0.3628 - accuracy: 0.8445 - val_loss: 0.3640 - val_accuracy: 0.8435\n",
      "Epoch 19/80\n",
      "8960/8960 [==============================] - 7s 813us/step - loss: 0.3616 - accuracy: 0.8440 - val_loss: 0.3632 - val_accuracy: 0.8428\n",
      "Epoch 20/80\n",
      "8960/8960 [==============================] - 7s 761us/step - loss: 0.3653 - accuracy: 0.8424 - val_loss: 0.3644 - val_accuracy: 0.8429\n",
      "Epoch 21/80\n",
      "8960/8960 [==============================] - 7s 730us/step - loss: 0.3642 - accuracy: 0.8414 - val_loss: 0.3655 - val_accuracy: 0.8446\n"
     ]
    }
   ],
   "source": [
    "model1_cnn = Sequential()\n",
    "#First Hidden Layer\n",
    "model1_cnn.add(Dense(4, activation='relu', kernel_initializer='random_normal',input_dim=17))\n",
    "#Output Layer\n",
    "model1_cnn.add(Dense(1, activation='sigmoid', kernel_initializer='random_normal'))\n",
    "#Compiling the neural network\n",
    "model1_cnn.compile(optimizer ='adam',loss='binary_crossentropy', metrics =['accuracy'])\n",
    "#Fitting the data to the training dataset\n",
    "es = EarlyStopping(monitor='val_accuracy', mode='max', patience=10, restore_best_weights=True)\n",
    "history1 = model1_cnn.fit(X_train,y_train,callbacks=[es],epochs=80, batch_size=10, validation_split=0.2, shuffle=True, verbose=1)"
   ]
  },
  {
   "cell_type": "code",
   "execution_count": 144,
   "id": "b877115a-9e0c-47fa-8a6b-e89fe709e306",
   "metadata": {},
   "outputs": [
    {
     "name": "stdout",
     "output_type": "stream",
     "text": [
      "Confusion Matrix \n",
      " [[59467  7509]\n",
      " [ 9880 35144]]\n",
      "\n",
      "Cost Benefit Matrix:-\n",
      "Cost of false positive : $-750,900.00\n",
      "Cost of false negative : $-247,000.00\n",
      "Total cost: $-997,900.00\n",
      "Cost per prediction: $-8.91\n",
      "\n",
      " Classification Report \n",
      "               precision    recall  f1-score   support\n",
      "\n",
      "           0   0.857528  0.887885  0.872443     66976\n",
      "           1   0.823951  0.780561  0.801670     45024\n",
      "\n",
      "    accuracy                       0.844741    112000\n",
      "   macro avg   0.840740  0.834223  0.837056    112000\n",
      "weighted avg   0.844030  0.844741  0.843992    112000\n",
      "\n"
     ]
    }
   ],
   "source": [
    "y_train1_cnn = np.round(model1_cnn.predict(X_train),0)\n",
    "print(\"Confusion Matrix \\n\",confusion_matrix(y_train, y_train1_cnn))\n",
    "cost_benefit_matrix(confusion_matrix(y_train, y_train1_cnn))\n",
    "print(\"\\n Classification Report \\n\",classification_report(y_train, y_train1_cnn, digits=6))"
   ]
  },
  {
   "cell_type": "code",
   "execution_count": 145,
   "id": "ce0ba491-e1ed-4954-a38f-57b498b600f6",
   "metadata": {},
   "outputs": [
    {
     "name": "stdout",
     "output_type": "stream",
     "text": [
      "Confusion Matrix \n",
      " [[25630  3197]\n",
      " [ 4173 15000]]\n",
      "\n",
      "Cost Benefit Matrix:-\n",
      "Cost of false positive : $-319,700.00\n",
      "Cost of false negative : $-104,325.00\n",
      "Total cost: $-424,025.00\n",
      "Cost per prediction: $-8.83\n",
      "\n",
      " Classification Report \n",
      "               precision    recall  f1-score   support\n",
      "\n",
      "           0   0.859981  0.889097  0.874296     28827\n",
      "           1   0.824312  0.782350  0.802783     19173\n",
      "\n",
      "    accuracy                       0.846458     48000\n",
      "   macro avg   0.842146  0.835724  0.838540     48000\n",
      "weighted avg   0.845733  0.846458  0.845731     48000\n",
      "\n"
     ]
    }
   ],
   "source": [
    "y_test1_cnn = np.round(model1_cnn.predict(X_test),0)\n",
    "print(\"Confusion Matrix \\n\",confusion_matrix(y_test, y_test1_cnn))\n",
    "cost_benefit_matrix(confusion_matrix(y_test, y_test1_cnn))\n",
    "print(\"\\n Classification Report \\n\",classification_report(y_test, y_test1_cnn, digits=6))"
   ]
  },
  {
   "cell_type": "code",
   "execution_count": 146,
   "id": "b38d0a77-329b-486e-80a3-f112b84a5901",
   "metadata": {},
   "outputs": [
    {
     "name": "stdout",
     "output_type": "stream",
     "text": [
      "Epoch 1/80\n",
      "8960/8960 [==============================] - 7s 789us/step - loss: 0.5375 - accuracy: 0.7301 - val_loss: 0.3996 - val_accuracy: 0.8294\n",
      "Epoch 2/80\n",
      "8960/8960 [==============================] - 7s 747us/step - loss: 0.3913 - accuracy: 0.8351 - val_loss: 0.3848 - val_accuracy: 0.8357\n",
      "Epoch 3/80\n",
      "8960/8960 [==============================] - 7s 755us/step - loss: 0.3848 - accuracy: 0.8356 - val_loss: 0.3773 - val_accuracy: 0.8360\n",
      "Epoch 4/80\n",
      "8960/8960 [==============================] - 7s 742us/step - loss: 0.3777 - accuracy: 0.8373 - val_loss: 0.3751 - val_accuracy: 0.8408\n",
      "Epoch 5/80\n",
      "8960/8960 [==============================] - 7s 746us/step - loss: 0.3711 - accuracy: 0.8408 - val_loss: 0.3720 - val_accuracy: 0.8423\n",
      "Epoch 6/80\n",
      "8960/8960 [==============================] - 7s 819us/step - loss: 0.3721 - accuracy: 0.8398 - val_loss: 0.3705 - val_accuracy: 0.8425\n",
      "Epoch 7/80\n",
      "8960/8960 [==============================] - 7s 754us/step - loss: 0.3693 - accuracy: 0.8416 - val_loss: 0.3680 - val_accuracy: 0.8411\n",
      "Epoch 8/80\n",
      "8960/8960 [==============================] - 8s 841us/step - loss: 0.3669 - accuracy: 0.8432 - val_loss: 0.3654 - val_accuracy: 0.8407\n",
      "Epoch 9/80\n",
      "8960/8960 [==============================] - 6s 721us/step - loss: 0.3678 - accuracy: 0.8419 - val_loss: 0.3642 - val_accuracy: 0.8425\n",
      "Epoch 10/80\n",
      "8960/8960 [==============================] - 7s 733us/step - loss: 0.3659 - accuracy: 0.8404 - val_loss: 0.3661 - val_accuracy: 0.8431\n",
      "Epoch 11/80\n",
      "8960/8960 [==============================] - 6s 722us/step - loss: 0.3654 - accuracy: 0.8427 - val_loss: 0.3667 - val_accuracy: 0.8438\n",
      "Epoch 12/80\n",
      "8960/8960 [==============================] - 7s 738us/step - loss: 0.3654 - accuracy: 0.8433 - val_loss: 0.3665 - val_accuracy: 0.8444\n",
      "Epoch 13/80\n",
      "8960/8960 [==============================] - 7s 751us/step - loss: 0.3672 - accuracy: 0.8422 - val_loss: 0.3652 - val_accuracy: 0.8420\n",
      "Epoch 14/80\n",
      "8960/8960 [==============================] - 7s 748us/step - loss: 0.3632 - accuracy: 0.8441 - val_loss: 0.3668 - val_accuracy: 0.8404\n",
      "Epoch 15/80\n",
      "8960/8960 [==============================] - 7s 736us/step - loss: 0.3639 - accuracy: 0.8440 - val_loss: 0.3649 - val_accuracy: 0.8425\n",
      "Epoch 16/80\n",
      "8960/8960 [==============================] - 7s 730us/step - loss: 0.3640 - accuracy: 0.8436 - val_loss: 0.3634 - val_accuracy: 0.8435\n",
      "Epoch 17/80\n",
      "8960/8960 [==============================] - 7s 797us/step - loss: 0.3624 - accuracy: 0.8445 - val_loss: 0.3660 - val_accuracy: 0.8427\n",
      "Epoch 18/80\n",
      "8960/8960 [==============================] - 8s 873us/step - loss: 0.3625 - accuracy: 0.8441 - val_loss: 0.3659 - val_accuracy: 0.8414\n",
      "Epoch 19/80\n",
      "8960/8960 [==============================] - 7s 755us/step - loss: 0.3642 - accuracy: 0.8445 - val_loss: 0.3645 - val_accuracy: 0.8428\n",
      "Epoch 20/80\n",
      "8960/8960 [==============================] - 8s 853us/step - loss: 0.3613 - accuracy: 0.8462 - val_loss: 0.3639 - val_accuracy: 0.8432\n",
      "Epoch 21/80\n",
      "8960/8960 [==============================] - 9s 977us/step - loss: 0.3649 - accuracy: 0.8424 - val_loss: 0.3670 - val_accuracy: 0.8437\n",
      "Epoch 22/80\n",
      "8960/8960 [==============================] - 9s 966us/step - loss: 0.3638 - accuracy: 0.8427 - val_loss: 0.3636 - val_accuracy: 0.8444\n",
      "Epoch 23/80\n",
      "8960/8960 [==============================] - 9s 1ms/step - loss: 0.3622 - accuracy: 0.8429 - val_loss: 0.3631 - val_accuracy: 0.8446\n",
      "Epoch 24/80\n",
      "8960/8960 [==============================] - 8s 847us/step - loss: 0.3648 - accuracy: 0.8427 - val_loss: 0.3634 - val_accuracy: 0.8436\n",
      "Epoch 25/80\n",
      "8960/8960 [==============================] - 7s 781us/step - loss: 0.3655 - accuracy: 0.8422 - val_loss: 0.3629 - val_accuracy: 0.8425\n",
      "Epoch 26/80\n",
      "8960/8960 [==============================] - 7s 774us/step - loss: 0.3621 - accuracy: 0.8455 - val_loss: 0.3670 - val_accuracy: 0.8411\n",
      "Epoch 27/80\n",
      "8960/8960 [==============================] - 7s 766us/step - loss: 0.3600 - accuracy: 0.8459 - val_loss: 0.3647 - val_accuracy: 0.8418\n",
      "Epoch 28/80\n",
      "8960/8960 [==============================] - 7s 770us/step - loss: 0.3602 - accuracy: 0.8455 - val_loss: 0.3650 - val_accuracy: 0.8420\n",
      "Epoch 29/80\n",
      "8960/8960 [==============================] - 7s 771us/step - loss: 0.3616 - accuracy: 0.8452 - val_loss: 0.3652 - val_accuracy: 0.8427\n",
      "Epoch 30/80\n",
      "8960/8960 [==============================] - 7s 785us/step - loss: 0.3643 - accuracy: 0.8429 - val_loss: 0.3640 - val_accuracy: 0.8431\n",
      "Epoch 31/80\n",
      "8960/8960 [==============================] - 9s 982us/step - loss: 0.3628 - accuracy: 0.8444 - val_loss: 0.3654 - val_accuracy: 0.8419\n",
      "Epoch 32/80\n",
      "8960/8960 [==============================] - 8s 875us/step - loss: 0.3644 - accuracy: 0.8424 - val_loss: 0.3641 - val_accuracy: 0.8429\n",
      "Epoch 33/80\n",
      "8960/8960 [==============================] - 9s 955us/step - loss: 0.3611 - accuracy: 0.8449 - val_loss: 0.3633 - val_accuracy: 0.8432\n"
     ]
    }
   ],
   "source": [
    "model2_cnn = Sequential()\n",
    "#First Hidden Layer\n",
    "model2_cnn.add(Dense(4, activation='relu', kernel_initializer='random_normal',input_dim=17))\n",
    "#Second Hidden Layer\n",
    "model2_cnn.add(Dense(4, activation='relu', kernel_initializer='random_normal'))\n",
    "#Output Layer\n",
    "model2_cnn.add(Dense(1, activation='sigmoid', kernel_initializer='random_normal'))\n",
    "#Compiling the neural network\n",
    "model2_cnn.compile(optimizer ='adam',loss='binary_crossentropy', metrics =['accuracy'])\n",
    "history2 = model2_cnn.fit(X_train,y_train,callbacks=[es],epochs=80, batch_size=10, validation_split=0.2, shuffle=True, verbose=1)"
   ]
  },
  {
   "cell_type": "code",
   "execution_count": 147,
   "id": "d1a5dbc7-e099-40c8-8225-2427271e640d",
   "metadata": {},
   "outputs": [
    {
     "name": "stdout",
     "output_type": "stream",
     "text": [
      "Confusion Matrix \n",
      " [[58955  8021]\n",
      " [ 9415 35609]]\n",
      "\n",
      "Cost Benefit Matrix:-\n",
      "Cost of false positive : $-802,100.00\n",
      "Cost of false negative : $-235,375.00\n",
      "Total cost: $-1,037,475.00\n",
      "Cost per prediction: $-9.26\n",
      "\n",
      " Classification Report \n",
      "               precision    recall  f1-score   support\n",
      "\n",
      "           0   0.862293  0.880241  0.871175     66976\n",
      "           1   0.816159  0.790889  0.803325     45024\n",
      "\n",
      "    accuracy                       0.844321    112000\n",
      "   macro avg   0.839226  0.835565  0.837250    112000\n",
      "weighted avg   0.843747  0.844321  0.843899    112000\n",
      "\n"
     ]
    }
   ],
   "source": [
    "y_train2_cnn = np.round(model2_cnn.predict(X_train),0)\n",
    "print(\"Confusion Matrix \\n\",confusion_matrix(y_train, y_train2_cnn))\n",
    "cost_benefit_matrix(confusion_matrix(y_train, y_train2_cnn))\n",
    "print(\"\\n Classification Report \\n\",classification_report(y_train, y_train2_cnn, digits=6))"
   ]
  },
  {
   "cell_type": "code",
   "execution_count": 148,
   "id": "db6e7961-71e0-444a-9134-7a7312be0f98",
   "metadata": {},
   "outputs": [
    {
     "name": "stdout",
     "output_type": "stream",
     "text": [
      "Confusion Matrix \n",
      " [[25363  3464]\n",
      " [ 4015 15158]]\n",
      "\n",
      "Cost Benefit Matrix:-\n",
      "Cost of false positive : $-346,400.00\n",
      "Cost of false negative : $-100,375.00\n",
      "Total cost: $-446,775.00\n",
      "Cost per prediction: $-9.31\n",
      "\n",
      " Classification Report \n",
      "               precision    recall  f1-score   support\n",
      "\n",
      "           0   0.863333  0.879835  0.871506     28827\n",
      "           1   0.813983  0.790591  0.802117     19173\n",
      "\n",
      "    accuracy                       0.844187     48000\n",
      "   macro avg   0.838658  0.835213  0.836811     48000\n",
      "weighted avg   0.843621  0.844187  0.843789     48000\n",
      "\n"
     ]
    }
   ],
   "source": [
    "y_test2_cnn = np.round(model2_cnn.predict(X_test),0)\n",
    "print(\"Confusion Matrix \\n\",confusion_matrix(y_test, y_test2_cnn))\n",
    "cost_benefit_matrix(confusion_matrix(y_test, y_test2_cnn))\n",
    "print(\"\\n Classification Report \\n\",classification_report(y_test, y_test2_cnn, digits=6))"
   ]
  },
  {
   "cell_type": "markdown",
   "id": "95847e47-e8e3-4737-b9ab-235e2821d67c",
   "metadata": {},
   "source": [
    "#### Ensemble "
   ]
  },
  {
   "cell_type": "code",
   "execution_count": 149,
   "id": "c805a71c-c030-428a-aa64-787e9d261e22",
   "metadata": {},
   "outputs": [
    {
     "name": "stdout",
     "output_type": "stream",
     "text": [
      "soft ensemble: 0.9447708333333333\n"
     ]
    }
   ],
   "source": [
    "ensemble_soft_evc = EnsembleVoteClassifier(clfs=[model4_rf,model1_knn,model2_xgb], voting='soft', weights=[1,1,1])\n",
    "ensemble_soft_evc.fit(X_train, y_train)\n",
    "\n",
    "print('soft ensemble: {}'.format(ensemble_soft_evc.score(X_test, y_test)))"
   ]
  },
  {
   "cell_type": "code",
   "execution_count": 150,
   "id": "5cad508e-d9f4-4e02-bbe8-5737ee5fe627",
   "metadata": {},
   "outputs": [
    {
     "name": "stdout",
     "output_type": "stream",
     "text": [
      "Confusion Matrix \n",
      " [[65795  1181]\n",
      " [ 1651 43373]]\n",
      "\n",
      "Cost Benefit Matrix:-\n",
      "Cost of false positive : $-118,100.00\n",
      "Cost of false negative : $-41,275.00\n",
      "Total cost: $-159,375.00\n",
      "Cost per prediction: $-1.42\n",
      "\n",
      " Classification Report \n",
      "               precision    recall  f1-score   support\n",
      "\n",
      "           0   0.975521  0.982367  0.978932     66976\n",
      "           1   0.973493  0.963331  0.968385     45024\n",
      "\n",
      "    accuracy                       0.974714    112000\n",
      "   macro avg   0.974507  0.972849  0.973659    112000\n",
      "weighted avg   0.974706  0.974714  0.974692    112000\n",
      "\n"
     ]
    }
   ],
   "source": [
    "y_train_en_soft_evc= ensemble_soft_evc.predict(X_train)\n",
    "print(\"Confusion Matrix \\n\",confusion_matrix(y_train, y_train_en_soft_evc))\n",
    "cost_benefit_matrix(confusion_matrix(y_train, y_train_en_soft_evc))\n",
    "print(\"\\n Classification Report \\n\",classification_report(y_train, y_train_en_soft_evc, digits=6))"
   ]
  },
  {
   "cell_type": "code",
   "execution_count": 151,
   "id": "691e9229-e7ca-49ab-bcf4-5c235b34d602",
   "metadata": {},
   "outputs": [
    {
     "name": "stdout",
     "output_type": "stream",
     "text": [
      "Confusion Matrix \n",
      " [[27666  1161]\n",
      " [ 1490 17683]]\n",
      "\n",
      "Cost Benefit Matrix:-\n",
      "Cost of false positive : $-116,100.00\n",
      "Cost of false negative : $-37,250.00\n",
      "Total cost: $-153,350.00\n",
      "Cost per prediction: $-3.19\n",
      "\n",
      " Classification Report \n",
      "               precision    recall  f1-score   support\n",
      "\n",
      "           0   0.948896  0.959725  0.954280     28827\n",
      "           1   0.938389  0.922287  0.930268     19173\n",
      "\n",
      "    accuracy                       0.944771     48000\n",
      "   macro avg   0.943642  0.941006  0.942274     48000\n",
      "weighted avg   0.944699  0.944771  0.944689     48000\n",
      "\n"
     ]
    }
   ],
   "source": [
    "y_test_en_soft_evc= ensemble_soft_evc.predict(X_test)\n",
    "print(\"Confusion Matrix \\n\",confusion_matrix(y_test, y_test_en_soft_evc))\n",
    "cost_benefit_matrix(confusion_matrix(y_test, y_test_en_soft_evc))\n",
    "print(\"\\n Classification Report \\n\",classification_report(y_test, y_test_en_soft_evc, digits=6))"
   ]
  },
  {
   "cell_type": "code",
   "execution_count": 152,
   "id": "468f0ee9-d869-4ca0-b3c9-420fd4698c0e",
   "metadata": {},
   "outputs": [
    {
     "name": "stdout",
     "output_type": "stream",
     "text": [
      "Confusion Matrix \n",
      " [[65994   982]\n",
      " [ 1442 43582]]\n",
      "\n",
      "Cost Benefit Matrix:-\n",
      "Cost of false positive : $-98,200.00\n",
      "Cost of false negative : $-36,050.00\n",
      "Total cost: $-134,250.00\n",
      "Cost per prediction: $-1.20\n",
      "\n",
      " Classification Report \n",
      "               precision    recall  f1-score   support\n",
      "\n",
      "           0   0.978617  0.985338  0.981966     66976\n",
      "           1   0.977964  0.967973  0.972943     45024\n",
      "\n",
      "    accuracy                       0.978357    112000\n",
      "   macro avg   0.978291  0.976655  0.977454    112000\n",
      "weighted avg   0.978354  0.978357  0.978339    112000\n",
      "\n"
     ]
    }
   ],
   "source": [
    "ensemble_soft_wgt_evc = EnsembleVoteClassifier(clfs=[model4_rf,model1_knn,model2_xgb], voting='soft', weights=[.4,.3,.3])\n",
    "ensemble_soft_wgt_evc.fit(X_train, y_train)\n",
    "\n",
    "y_train_en_soft_wgt_evc= ensemble_soft_wgt_evc.predict(X_train)\n",
    "print(\"Confusion Matrix \\n\",confusion_matrix(y_train, y_train_en_soft_wgt_evc))\n",
    "cost_benefit_matrix(confusion_matrix(y_train, y_train_en_soft_wgt_evc))\n",
    "print(\"\\n Classification Report \\n\",classification_report(y_train, y_train_en_soft_wgt_evc, digits=6))"
   ]
  },
  {
   "cell_type": "code",
   "execution_count": 153,
   "id": "3262b746-232a-40b9-a761-f459ae5ae409",
   "metadata": {},
   "outputs": [
    {
     "name": "stdout",
     "output_type": "stream",
     "text": [
      "Confusion Matrix \n",
      " [[27689  1138]\n",
      " [ 1508 17665]]\n",
      "\n",
      "Cost Benefit Matrix:-\n",
      "Cost of false positive : $-113,800.00\n",
      "Cost of false negative : $-37,700.00\n",
      "Total cost: $-151,500.00\n",
      "Cost per prediction: $-3.16\n",
      "\n",
      " Classification Report \n",
      "               precision    recall  f1-score   support\n",
      "\n",
      "           0   0.948351  0.960523  0.954398     28827\n",
      "           1   0.939478  0.921348  0.930324     19173\n",
      "\n",
      "    accuracy                       0.944875     48000\n",
      "   macro avg   0.943914  0.940935  0.942361     48000\n",
      "weighted avg   0.944807  0.944875  0.944782     48000\n",
      "\n"
     ]
    }
   ],
   "source": [
    "y_test_en_soft_wgt_evc= ensemble_soft_wgt_evc.predict(X_test)\n",
    "print(\"Confusion Matrix \\n\",confusion_matrix(y_test, y_test_en_soft_wgt_evc))\n",
    "cost_benefit_matrix(confusion_matrix(y_test, y_test_en_soft_wgt_evc))\n",
    "print(\"\\n Classification Report \\n\",classification_report(y_test, y_test_en_soft_wgt_evc, digits=6))"
   ]
  },
  {
   "cell_type": "code",
   "execution_count": null,
   "id": "36ebf395-35d6-48b6-a6a1-0c8281183882",
   "metadata": {},
   "outputs": [
    {
     "name": "stdout",
     "output_type": "stream",
     "text": [
      "Confusion Matrix \n",
      " [[65859  1117]\n",
      " [ 1422 43602]]\n",
      "\n",
      "Cost Benefit Matrix:-\n",
      "Cost of false positive : $-111,700.00\n",
      "Cost of false negative : $-35,550.00\n",
      "Total cost: $-147,250.00\n",
      "Cost per prediction: $-1.31\n",
      "\n",
      " Classification Report \n",
      "               precision    recall  f1-score   support\n",
      "\n",
      "           0   0.978865  0.983322  0.981089     66976\n",
      "           1   0.975022  0.968417  0.971708     45024\n",
      "\n",
      "    accuracy                       0.977330    112000\n",
      "   macro avg   0.976943  0.975870  0.976398    112000\n",
      "weighted avg   0.977320  0.977330  0.977318    112000\n",
      "\n"
     ]
    }
   ],
   "source": [
    "ensemble_hard_evc = EnsembleVoteClassifier(clfs=[model4_rf,model1_knn,model2_xgb], voting='hard')\n",
    "ensemble_hard_evc.fit(X_train, y_train)\n",
    "\n",
    "y_train_en_hard_evc= ensemble_hard_evc.predict(X_train)\n",
    "print(\"Confusion Matrix \\n\",confusion_matrix(y_train, y_train_en_hard_evc))\n",
    "cost_benefit_matrix(confusion_matrix(y_train, y_train_en_hard_evc))\n",
    "print(\"\\n Classification Report \\n\",classification_report(y_train, y_train_en_hard_evc, digits=6))\n",
    "print('Hard ensemble: {}'.format(ensemble_hard_evc.score(X_test, y_test)))"
   ]
  },
  {
   "cell_type": "code",
   "execution_count": null,
   "id": "b35b1e94-67b6-4b5f-8ff9-770ce4ad5d82",
   "metadata": {},
   "outputs": [],
   "source": [
    "y_test_en_hard_evc= ensemble_hard_evc.predict(X_test)\n",
    "print(\"Confusion Matrix \\n\",confusion_matrix(y_test, y_test_en_hard_evc))\n",
    "cost_benefit_matrix(confusion_matrix(y_test, y_test_en_hard_evc))\n",
    "print(\"\\n Classification Report \\n\",classification_report(y_test, y_test_en_hard_evc, digits=6))"
   ]
  },
  {
   "cell_type": "markdown",
   "id": "c8bcf787-ed9c-4edf-ae40-7cfe7b3dee3c",
   "metadata": {},
   "source": [
    "### Model Building Summary\n",
    "* We have 51 features in total and the top 17 features(threshold of 0.01) for classification turned out to be x2,x6,x7,x12,x20,x23,x27,x28,x32,x37,x38,x40,x41,x42,x46,x48,x49. The other features are not used in the models.\n",
    "* Below are the best models after building mutliple models performing hyper parameters tuning and grid search for each algorithm."
   ]
  },
  {
   "cell_type": "raw",
   "id": "e8f97f14-2b34-47b7-80a0-de69577dc84a",
   "metadata": {},
   "source": [
    "| Sno | Model                                                                     | Train/Test | Accuracy | Precision | Recall | F-Score | Total Cost | Cost Per Pred |\n",
    "|-----|---------------------------------------------------------------------------|------------|----------|-----------|--------|---------|------------|---------------|\n",
    "| 1   | Random Forest                                                             | Train      | 0.99     | 0.99      | 0.99   | 0.99    |    ($6,102)|        ($0.05)|\n",
    "|     |                                                                           | Test       | 0.93     | 0.93      | 0.90   | 0.92    |  ($154,394)|        ($3.22)|\n",
    "| 2   | Logistic Regression                                                       | Train      | 0.70     | 0.66      | 0.51   | 0.58    |($1,643,452)|       ($14.67)|\n",
    "|     |                                                                           | Test       | 0.70     | 0.66      | 0.51   | 0.58    |  ($699,870)|       ($14.58)|\n",
    "| 3   | KNN                                                                       | Train      | 0.96     | 0.96      | 0.95   | 0.95    |  ($216,110)|        ($1.93)|\n",
    "|     |                                                                           | Test       | 0.95     | 0.94      | 0.93   | 0.93    |  ($138,996)|        ($2.90)|\n",
    "| 4   | XGBoost                                                                   | Train      | 0.90     | 0.87      | 0.86   | 0.87    |  ($619,502)|        ($5.58)|\n",
    "|     |                                                                           | Test       | 0.96     | 0.97      | 0.32   | 0.48    |  ($286,878)|        ($5.98)|\n",
    "| 5   | Neural Network CNN                                                        | Train      | 0.85     | 0.82      | 0.80   | 0.81    |  ($946,916)|        ($8.45)|\n",
    "|     |                                                                           | Test       | 0.85     | 0.82      | 0.80   | 0.81    |  ($408,072)|        ($8.50)|"
   ]
  },
  {
   "cell_type": "markdown",
   "id": "8b64882f-0e19-4659-8cf3-9d76bf424091",
   "metadata": {},
   "source": [
    "* From the above models based on cost benefit analysis Total cost, Precision and Recall, we have chosen KNN, Random Forest and XGBoost, the top 3 models that performed well for ensembling. They also generalized well with train and test dataset.\n",
    "* While ensembling different stragies such as soft, soft with weights giving more weight to Random forest since that is best model and hard were evaluated. All of them peformed well and we chose the one with soft voting with weighted average(rf:0.4, knn:0.3, xgb:0.3). Below is our final model for this case study."
   ]
  },
  {
   "cell_type": "raw",
   "id": "f03c01a9-4571-4008-bc36-fc4f8055e979",
   "metadata": {},
   "source": [
    "| Model                                                                     | Train/Test | Accuracy | Precision | Recall | F-Score | Total Cost | Cost Per Pred |\n",
    "|---------------------------------------------------------------------------|------------|----------|-----------|--------|---------|------------|---------------|\n",
    "| Ensemble(Random Forest,KNN,XGBoost) soft weight (0.4,0.3,0.3)             | Train      | 0.97     | 0.97      | 0.97   | 0.97    |   $129,924)|        ($1.16)|\n",
    "|                                                                           | Test       | 0.94     | 0.94      | 0.94   | 0.94    |  ($146,976)|        ($3.06)|"
   ]
  },
  {
   "cell_type": "markdown",
   "id": "804139d1-a6e2-4d16-987d-93d6f6cf1fe8",
   "metadata": {},
   "source": [
    "### Monetary Outcome\n",
    "* We know from the ask that predicting class 1 incorrectly costs the \\\\$100 and incorrectly predicting class 0 costs \\\\$25, but there is no monetary cost for correct predictions. We have built a model that could limit the cost of wrong predictions. The model we recommending above will bring down the overall avg cost of wrong prediction to 3.06 if it happens.\n"
   ]
  },
  {
   "cell_type": "markdown",
   "id": "984839fb-89a7-48ab-89cc-7162eb674ed7",
   "metadata": {},
   "source": [
    "### Conclusion\n",
    "* Overall, for this classification case study where the goal is to minimize the cost of wrong predictions, we explored data, did feature engineering and built close to 6 different models.\n",
    "* We then picked the best 3 models did an ensembling to get last performance boost.\n",
    "* The model that we presented above has a good cost benefit analysis where we limit the average cost of wrong prediction to around \\\\$3.00 per ocurrence."
   ]
  },
  {
   "cell_type": "code",
   "execution_count": null,
   "id": "8cac34fd-e628-4b1b-856f-b4ab5f29b7e3",
   "metadata": {},
   "outputs": [],
   "source": []
  }
 ],
 "metadata": {
  "kernelspec": {
   "display_name": "Python [conda env:root]",
   "language": "python",
   "name": "conda-root-py"
  },
  "language_info": {
   "codemirror_mode": {
    "name": "ipython",
    "version": 3
   },
   "file_extension": ".py",
   "mimetype": "text/x-python",
   "name": "python",
   "nbconvert_exporter": "python",
   "pygments_lexer": "ipython3",
   "version": "3.8.3"
  }
 },
 "nbformat": 4,
 "nbformat_minor": 5
}
