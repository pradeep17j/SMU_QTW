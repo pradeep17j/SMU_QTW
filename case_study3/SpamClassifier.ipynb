{
 "cells": [
  {
   "cell_type": "code",
   "execution_count": 42,
   "metadata": {},
   "outputs": [],
   "source": [
    "import os\n",
    "import sklearn\n",
    "import sys, copy\n",
    "import pandas as pd\n",
    "import numpy as np\n",
    "import matplotlib as plt\n",
    "sys.path.append('/Users/pradeepkumar/PycharmProjects/QTW/venv/lib/python3.7/site-packages/')\n",
    "sys.path.append('/Users/pradeepkumar/PycharmProjects/flask/venv/lib/python3.7/site-packages')\n",
    "\n",
    "from collections import Counter\n",
    "from sklearn.linear_model import LogisticRegression\n",
    "from sklearn.model_selection import train_test_split\n",
    "from imblearn.over_sampling import SMOTE\n",
    "from sklearn.model_selection import cross_val_score\n",
    "import sklearn\n",
    "import nltk\n",
    "import string\n",
    "import glob\n",
    "import re\n",
    "import json\n",
    "from nltk.tokenize import word_tokenize\n",
    "from nltk.tokenize import sent_tokenize\n",
    "from nltk.corpus import stopwords\n",
    "from nltk.stem import PorterStemmer\n"
   ]
  },
  {
   "cell_type": "code",
   "execution_count": 45,
   "metadata": {},
   "outputs": [],
   "source": [
    "# Remove all modified files\n",
    "mod_files=glob.glob('*.modified')\n",
    "for efile in mod_files:\n",
    "    #print(efile)\n",
    "    os.remove(efile)\n",
    "    "
   ]
  },
  {
   "cell_type": "code",
   "execution_count": 46,
   "metadata": {},
   "outputs": [
    {
     "data": {
      "text/plain": [
       "'/Users/pradeepkumar/PycharmProjects/flask/venv/SMU_QTW/case_study3/SpamAssassinMessages/spam'"
      ]
     },
     "execution_count": 46,
     "metadata": {},
     "output_type": "execute_result"
    }
   ],
   "source": [
    "os.getcwd()"
   ]
  },
  {
   "cell_type": "markdown",
   "metadata": {},
   "source": [
    "## Data PreProcessing"
   ]
  },
  {
   "cell_type": "markdown",
   "metadata": {},
   "source": [
    "#### The ham and spam mails are processed as follows <br> Emails have header and message body content. Each email is split into header and body. <br> All text above the subject line is considered as header and text below subject is considered as body. <br> Punctiations and stop words are removed <br> Stemming is done to extract the base words \n"
   ]
  },
  {
   "cell_type": "code",
   "execution_count": 47,
   "metadata": {},
   "outputs": [],
   "source": [
    "porter = PorterStemmer()\n",
    "\n",
    "def remove_punct(s1):\n",
    "    n = ''\n",
    "    for c in s1:\n",
    "        if c not in string.punctuation:\n",
    "            n += c\n",
    "        else:\n",
    "            n += ' '\n",
    "    return n\n",
    "\n",
    "def remove_stopwords(words):\n",
    "    stop_words = set(stopwords.words('english'))\n",
    "    \n",
    "    filtered_sentence = [w for w in words if not w.lower() in stop_words]\n",
    "    stemmed_sentence = [porter.stem(w) for w in words]\n",
    "    \n",
    "    return ' '.join(stemmed_sentence)\n",
    "    \n",
    "\n",
    "def split_header(msg):\n",
    "    msg_dict = dict()\n",
    "    \n",
    "    m1 = re.search('(.*)(subject\\s*:.*)', msg, re.I)\n",
    "    if m1:\n",
    "        header = m1.group(1).lower()\n",
    "        body = m1.group(2).lower()\n",
    "        \n",
    "        new_header = word_tokenize(remove_punct(header))\n",
    "        new_body = word_tokenize(remove_punct(body))\n",
    "        \n",
    "        new_header1 = remove_stopwords(new_header)\n",
    "        new_body1 = remove_stopwords(new_body)\n",
    "        \n",
    "        \n",
    "        msg_dict['header'] = new_header1.lower()\n",
    "        msg_dict['body'] = new_body1.lower()\n",
    "        \n",
    "    \n",
    "    return msg_dict\n",
    "        "
   ]
  },
  {
   "cell_type": "code",
   "execution_count": 48,
   "metadata": {},
   "outputs": [],
   "source": [
    "# Seperate the header and message\n",
    "pdir = ['/Users/pradeepkumar/PycharmProjects/flask/venv/SMU_QTW/case_study3/SpamAssassinMessages/easy_ham',\n",
    "        '/Users/pradeepkumar/PycharmProjects/flask/venv/SMU_QTW/case_study3/SpamAssassinMessages/spam']\n",
    "\n",
    "for dname in pdir:\n",
    "    os.chdir(dname)\n",
    "\n",
    "\n",
    "    all_files = os.listdir()\n",
    "\n",
    "    for efile in all_files:\n",
    "        fhw = open(efile+'.modified', mode='w')\n",
    "    \n",
    "        full_msg =''\n",
    "        with open(efile, mode='r', encoding='ascii', errors='ignore') as fh:\n",
    "            for line in fh:\n",
    "                full_msg += line.replace('\\n',' ')\n",
    "        \n",
    "            msg_dict = split_header(full_msg)\n",
    "            fhw.write(json.dumps(msg_dict))\n",
    "    \n",
    "        fhw.close()\n",
    "        fh.close()\n",
    "        \n",
    "            \n"
   ]
  },
  {
   "cell_type": "code",
   "execution_count": 49,
   "metadata": {},
   "outputs": [],
   "source": [
    "pdir = ['/Users/pradeepkumar/PycharmProjects/flask/venv/SMU_QTW/case_study3/SpamAssassinMessages/easy_ham',\n",
    "        '/Users/pradeepkumar/PycharmProjects/flask/venv/SMU_QTW/case_study3/SpamAssassinMessages/spam']\n",
    "\n",
    "ham_headers = list()\n",
    "spam_headers = list()\n",
    "ham_body = list()\n",
    "spam_body = list()\n",
    "\n",
    "data_dict = dict()\n",
    "ind=0\n",
    "for dname in pdir:\n",
    "    if 'spam' in dname:\n",
    "        header = spam_headers\n",
    "        body = spam_body\n",
    "        key = 'spam'\n",
    "    if 'easy_ham' in dname:\n",
    "        header = ham_headers\n",
    "        body = ham_body\n",
    "        key = 'ham'\n",
    "        \n",
    "    os.chdir(dname)\n",
    "    mod_files=glob.glob('*.modified')\n",
    "    \n",
    "    for efile in mod_files:\n",
    "        with open(efile) as fh:\n",
    "            txt = json.load(fh)\n",
    "            data_dict[key+str(ind)]=txt\n",
    "            ind += 1\n",
    "            \n",
    " \n",
    "df = pd.DataFrame.from_dict(data_dict)\n",
    "            "
   ]
  },
  {
   "cell_type": "markdown",
   "metadata": {},
   "source": [
    "#### Add a new target column with 1 for spam and 0 for ham "
   ]
  },
  {
   "cell_type": "code",
   "execution_count": 81,
   "metadata": {},
   "outputs": [
    {
     "name": "stdout",
     "output_type": "stream",
     "text": [
      "(7448, 3)\n",
      "7448\n"
     ]
    }
   ],
   "source": [
    "df1 = df.T\n",
    "target = df.T.index.tolist()\n",
    "new_target = list()\n",
    "for e in target:\n",
    "    if 'spam' in e:\n",
    "        new_target.append(1)\n",
    "    else:\n",
    "        new_target.append(0)\n",
    "\n",
    "new_target\n",
    "\n",
    "df1['target'] = new_target\n",
    "print(df1.shape)\n",
    "print(len(new_target))"
   ]
  },
  {
   "cell_type": "code",
   "execution_count": 82,
   "metadata": {},
   "outputs": [
    {
     "data": {
      "text/html": [
       "<div>\n",
       "<style scoped>\n",
       "    .dataframe tbody tr th:only-of-type {\n",
       "        vertical-align: middle;\n",
       "    }\n",
       "\n",
       "    .dataframe tbody tr th {\n",
       "        vertical-align: top;\n",
       "    }\n",
       "\n",
       "    .dataframe thead th {\n",
       "        text-align: right;\n",
       "    }\n",
       "</style>\n",
       "<table border=\"1\" class=\"dataframe\">\n",
       "  <thead>\n",
       "    <tr style=\"text-align: right;\">\n",
       "      <th></th>\n",
       "      <th>header</th>\n",
       "      <th>body</th>\n",
       "      <th>target</th>\n",
       "    </tr>\n",
       "  </thead>\n",
       "  <tbody>\n",
       "    <tr>\n",
       "      <th>ham0</th>\n",
       "      <td>from exmh user admin redhat com tue sep 10 11 ...</td>\n",
       "      <td>subject re sort in repli to 200209092111 g89lb...</td>\n",
       "      <td>0</td>\n",
       "    </tr>\n",
       "    <tr>\n",
       "      <th>ham1</th>\n",
       "      <td>from sentto 2242572 55912 1033991494 zzzz spam...</td>\n",
       "      <td>subject zzzzteana re megalithomania unpissup r...</td>\n",
       "      <td>0</td>\n",
       "    </tr>\n",
       "    <tr>\n",
       "      <th>ham2</th>\n",
       "      <td>from sentto 2242572 56001 1034049352 zzzz spam...</td>\n",
       "      <td>subject re zzzzteana good isp for mac repli to...</td>\n",
       "      <td>0</td>\n",
       "    </tr>\n",
       "    <tr>\n",
       "      <th>ham3</th>\n",
       "      <td>from spamassassin talk admin list sourceforg n...</td>\n",
       "      <td>subject satalk re custom action for high score...</td>\n",
       "      <td>0</td>\n",
       "    </tr>\n",
       "    <tr>\n",
       "      <th>ham4</th>\n",
       "      <td>from spamassassin talk admin list sourceforg n...</td>\n",
       "      <td>subject satalk run sa as a user app sender spa...</td>\n",
       "      <td>0</td>\n",
       "    </tr>\n",
       "    <tr>\n",
       "      <th>...</th>\n",
       "      <td>...</td>\n",
       "      <td>...</td>\n",
       "      <td>...</td>\n",
       "    </tr>\n",
       "    <tr>\n",
       "      <th>spam7443</th>\n",
       "      <td>from dlpost34 yahoo com wed aug 1 06 44 03 200...</td>\n",
       "      <td>subject home loan just got better date wed 01 ...</td>\n",
       "      <td>1</td>\n",
       "    </tr>\n",
       "    <tr>\n",
       "      <th>spam7444</th>\n",
       "      <td>from pdibeta gmx net fri sep 6 15 40 52 2002 r...</td>\n",
       "      <td>subject intern call for onli 33 cent per minut...</td>\n",
       "      <td>1</td>\n",
       "    </tr>\n",
       "    <tr>\n",
       "      <th>spam7445</th>\n",
       "      <td>from ilug admin linux ie sat sep 21 10 48 43 2...</td>\n",
       "      <td>subject ilug garden ornament mvcmv sender ilug...</td>\n",
       "      <td>1</td>\n",
       "    </tr>\n",
       "    <tr>\n",
       "      <th>spam7446</th>\n",
       "      <td>from tba insurancemail net mon jun 24 17 04 15...</td>\n",
       "      <td>subject 9 05 guarante annuiti 8 commiss to yyy...</td>\n",
       "      <td>1</td>\n",
       "    </tr>\n",
       "    <tr>\n",
       "      <th>spam7447</th>\n",
       "      <td>from iman s3 serveimag com wed aug 28 10 42 50...</td>\n",
       "      <td>subject guarante to lose 10 12 lb in 30 day wi...</td>\n",
       "      <td>1</td>\n",
       "    </tr>\n",
       "  </tbody>\n",
       "</table>\n",
       "<p>7448 rows × 3 columns</p>\n",
       "</div>"
      ],
      "text/plain": [
       "                                                     header  \\\n",
       "ham0      from exmh user admin redhat com tue sep 10 11 ...   \n",
       "ham1      from sentto 2242572 55912 1033991494 zzzz spam...   \n",
       "ham2      from sentto 2242572 56001 1034049352 zzzz spam...   \n",
       "ham3      from spamassassin talk admin list sourceforg n...   \n",
       "ham4      from spamassassin talk admin list sourceforg n...   \n",
       "...                                                     ...   \n",
       "spam7443  from dlpost34 yahoo com wed aug 1 06 44 03 200...   \n",
       "spam7444  from pdibeta gmx net fri sep 6 15 40 52 2002 r...   \n",
       "spam7445  from ilug admin linux ie sat sep 21 10 48 43 2...   \n",
       "spam7446  from tba insurancemail net mon jun 24 17 04 15...   \n",
       "spam7447  from iman s3 serveimag com wed aug 28 10 42 50...   \n",
       "\n",
       "                                                       body  target  \n",
       "ham0      subject re sort in repli to 200209092111 g89lb...       0  \n",
       "ham1      subject zzzzteana re megalithomania unpissup r...       0  \n",
       "ham2      subject re zzzzteana good isp for mac repli to...       0  \n",
       "ham3      subject satalk re custom action for high score...       0  \n",
       "ham4      subject satalk run sa as a user app sender spa...       0  \n",
       "...                                                     ...     ...  \n",
       "spam7443  subject home loan just got better date wed 01 ...       1  \n",
       "spam7444  subject intern call for onli 33 cent per minut...       1  \n",
       "spam7445  subject ilug garden ornament mvcmv sender ilug...       1  \n",
       "spam7446  subject 9 05 guarante annuiti 8 commiss to yyy...       1  \n",
       "spam7447  subject guarante to lose 10 12 lb in 30 day wi...       1  \n",
       "\n",
       "[7448 rows x 3 columns]"
      ]
     },
     "execution_count": 82,
     "metadata": {},
     "output_type": "execute_result"
    }
   ],
   "source": [
    "df1"
   ]
  },
  {
   "cell_type": "markdown",
   "metadata": {},
   "source": [
    "### Convert the header and body text to Tf-Idf scores. <br> The output of Tf-Idf vector is a large sparse matrix\n"
   ]
  },
  {
   "cell_type": "code",
   "execution_count": 83,
   "metadata": {},
   "outputs": [],
   "source": [
    "from sklearn.feature_extraction.text import TfidfVectorizer\n",
    "\n",
    "vectorizer = TfidfVectorizer(stop_words=None, use_idf=True, norm=None)\n",
    "tfidf_headers = vectorizer.fit_transform(df1.header)\n",
    "\n",
    "tfidf_body = vectorizer.fit_transform(df1.body)\n"
   ]
  },
  {
   "cell_type": "markdown",
   "metadata": {},
   "source": [
    "### Reduce the dimension of the sparse Tf-Idf matrix before training the model "
   ]
  },
  {
   "cell_type": "code",
   "execution_count": 84,
   "metadata": {},
   "outputs": [],
   "source": [
    "tfidf_headers.shape\n",
    "from sklearn.decomposition import PCA\n",
    "from sklearn.decomposition import TruncatedSVD\n",
    "\n",
    "svd = TruncatedSVD(n_components=200, n_iter=7, random_state=42)\n",
    "tfidf_headers_trans = svd.fit_transform(tfidf_headers)\n"
   ]
  },
  {
   "cell_type": "markdown",
   "metadata": {},
   "source": [
    "### After dimension reduction, With 15 components , we can explain up to 69% of variance."
   ]
  },
  {
   "cell_type": "code",
   "execution_count": 85,
   "metadata": {},
   "outputs": [
    {
     "name": "stdout",
     "output_type": "stream",
     "text": [
      "0.6939943139319408\n"
     ]
    }
   ],
   "source": [
    "svd1 = TruncatedSVD(n_components=15, n_iter=7, random_state=42)\n",
    "tfidf_body_trans = svd1.fit_transform(tfidf_body)\n",
    "print(svd1.explained_variance_ratio_.sum())"
   ]
  },
  {
   "cell_type": "markdown",
   "metadata": {},
   "source": [
    "### Check for clustering in data with Hierarchical Clustering Algorithm as below <br> Capping the level of tree at 4, we can see that there are 3 cluster identified based on distances between the Tf-Idf scores of each email body"
   ]
  },
  {
   "cell_type": "code",
   "execution_count": 86,
   "metadata": {},
   "outputs": [
    {
     "data": {
      "image/png": "[encoded data removed]",
      "text/plain": [
       "<Figure size 1296x1440 with 1 Axes>"
      ]
     },
     "metadata": {
      "needs_background": "light"
     },
     "output_type": "display_data"
    }
   ],
   "source": [
    "from scipy.cluster.hierarchy import dendrogram, linkage\n",
    "\n",
    "Z = linkage(tfidf_body_trans, 'ward')\n",
    "\n",
    "import matplotlib.pyplot as plt\n",
    "plt.figure(figsize=(18,20))\n",
    "plt.title('Hierarchical Clustering Dendogram')\n",
    "plt.xlabel('Data Point')\n",
    "plt.ylabel('Distance')\n",
    "dendrogram(Z, labels=df1.target, p=4, truncate_mode='level', orientation='top')\n",
    "plt.show()\n"
   ]
  },
  {
   "cell_type": "markdown",
   "metadata": {},
   "source": [
    "### With Kmeans clustring, by setting k=2, we can see 2 cluster by using the first 2 dimensions only. <br> There is no clear seperation of data in this cluster"
   ]
  },
  {
   "cell_type": "code",
   "execution_count": 87,
   "metadata": {
    "scrolled": true
   },
   "outputs": [
    {
     "data": {
      "text/plain": [
       "Text(0.5, 1.0, 'Spam and Ham email clusters')"
      ]
     },
     "execution_count": 87,
     "metadata": {},
     "output_type": "execute_result"
    },
    {
     "data": {
      "image/png": "[encoded data removed]",
      "text/plain": [
       "<Figure size 432x288 with 1 Axes>"
      ]
     },
     "metadata": {
      "needs_background": "light"
     },
     "output_type": "display_data"
    }
   ],
   "source": [
    "from sklearn.cluster import KMeans\n",
    "y_pred = KMeans(n_clusters=2, random_state=170).fit_predict(tfidf_body_trans)\n",
    "\n",
    "plt.scatter(tfidf_body_trans[:, 0], tfidf_body_trans[:, 1], c=y_pred)\n",
    "plt.title(\"Spam and Ham email clusters\")\n"
   ]
  },
  {
   "cell_type": "markdown",
   "metadata": {},
   "source": [
    "### Get the similarity Matrix using cosine similarity to check for similarity between features."
   ]
  },
  {
   "cell_type": "code",
   "execution_count": 88,
   "metadata": {},
   "outputs": [],
   "source": [
    "from sklearn.metrics.pairwise import cosine_similarity\n",
    "\n",
    "cosine_sim = cosine_similarity(tfidf_body_trans, tfidf_body_trans)"
   ]
  },
  {
   "cell_type": "code",
   "execution_count": 89,
   "metadata": {},
   "outputs": [
    {
     "name": "stdout",
     "output_type": "stream",
     "text": [
      "(7448, 7448)\n"
     ]
    },
    {
     "data": {
      "text/plain": [
       "(7448, 3)"
      ]
     },
     "execution_count": 89,
     "metadata": {},
     "output_type": "execute_result"
    }
   ],
   "source": [
    "print(cosine_sim.shape)\n",
    "df1.shape"
   ]
  },
  {
   "cell_type": "markdown",
   "metadata": {},
   "source": [
    "### Reduce the dimensionality and consider only 2 components. These 2 components can explain 89% of variance"
   ]
  },
  {
   "cell_type": "code",
   "execution_count": 90,
   "metadata": {},
   "outputs": [
    {
     "name": "stdout",
     "output_type": "stream",
     "text": [
      "[[61.76770702 14.41324527]\n",
      " [68.26448984 -7.99793959]\n",
      " [70.70466758 -4.18381606]\n",
      " ...\n",
      " [71.26353158 -0.87916701]\n",
      " [ 7.86757997 -6.40329405]\n",
      " [17.74294588 -9.46189409]]\n",
      "0.8924505501455123\n"
     ]
    }
   ],
   "source": [
    "from sklearn.decomposition import PCA\n",
    "from sklearn.decomposition import TruncatedSVD\n",
    "\n",
    "svd = TruncatedSVD(n_components=2, n_iter=7, random_state=42)\n",
    "cosine_sim_trans = svd.fit_transform(cosine_sim)\n",
    "print(cosine_sim_trans)\n",
    "print(svd.explained_variance_ratio_.sum())\n",
    "\n"
   ]
  },
  {
   "cell_type": "markdown",
   "metadata": {},
   "source": [
    "### Checking for cluster with these 2 components, it shows 2 clusters.<br> These 2 components which explain 90% variance are from 2 different clusters"
   ]
  },
  {
   "cell_type": "code",
   "execution_count": 91,
   "metadata": {},
   "outputs": [
    {
     "data": {
      "image/png": "[encoded data removed]",
      "text/plain": [
       "<Figure size 576x216 with 1 Axes>"
      ]
     },
     "metadata": {
      "needs_background": "light"
     },
     "output_type": "display_data"
    }
   ],
   "source": [
    "from scipy.cluster.hierarchy import dendrogram, linkage\n",
    "\n",
    "Z1 = linkage(cosine_sim_trans, 'ward')\n",
    "\n",
    "import matplotlib.pyplot as plt\n",
    "plt.figure(figsize=(8,3))\n",
    "plt.title('Hierarchical Clustering Dendogram')\n",
    "plt.xlabel('Data Point')\n",
    "plt.ylabel('Distance')\n",
    "dendrogram(Z1, labels=df1.target, p=4, truncate_mode='level', orientation='top')\n",
    "\n",
    "plt.show()\n"
   ]
  },
  {
   "cell_type": "markdown",
   "metadata": {},
   "source": [
    "### The same is seen in k means cluster also"
   ]
  },
  {
   "cell_type": "code",
   "execution_count": 92,
   "metadata": {},
   "outputs": [
    {
     "data": {
      "text/plain": [
       "Text(0.5, 1.0, 'Spam and Ham email clusters')"
      ]
     },
     "execution_count": 92,
     "metadata": {},
     "output_type": "execute_result"
    },
    {
     "data": {
      "image/png": "[encoded data removed]",
      "text/plain": [
       "<Figure size 432x288 with 1 Axes>"
      ]
     },
     "metadata": {
      "needs_background": "light"
     },
     "output_type": "display_data"
    }
   ],
   "source": [
    "from sklearn.cluster import KMeans\n",
    "y_pred = KMeans(n_clusters=2, random_state=170).fit_predict(cosine_sim_trans)\n",
    "\n",
    "plt.scatter(cosine_sim_trans[:, 0], cosine_sim_trans[:, 1], c=y_pred)\n",
    "plt.title(\"Spam and Ham email clusters\")\n"
   ]
  },
  {
   "cell_type": "code",
   "execution_count": 93,
   "metadata": {},
   "outputs": [
    {
     "name": "stdout",
     "output_type": "stream",
     "text": [
      "Number of mislabeled points out of a total 3724 points : 676\n"
     ]
    }
   ],
   "source": [
    "from sklearn.model_selection import train_test_split\n",
    "from sklearn.naive_bayes import GaussianNB\n",
    "X_train, X_test, y_train, y_test = train_test_split(tfidf_body_trans, df1.target, test_size=0.5, random_state=0)\n",
    "gnb = GaussianNB()\n",
    "y_pred = gnb.fit(X_train, y_train).predict(X_test)\n",
    "print(\"Number of mislabeled points out of a total %d points : %d\"% (X_test.shape[0], (y_test != y_pred).sum()))\n"
   ]
  },
  {
   "cell_type": "code",
   "execution_count": 134,
   "metadata": {},
   "outputs": [
    {
     "data": {
      "text/plain": [
       "(3724, 15)"
      ]
     },
     "execution_count": 134,
     "metadata": {},
     "output_type": "execute_result"
    }
   ],
   "source": [
    "X_test.shape"
   ]
  },
  {
   "cell_type": "code",
   "execution_count": 94,
   "metadata": {},
   "outputs": [
    {
     "name": "stdout",
     "output_type": "stream",
     "text": [
      "Accuracy: 0.8184747583243824\n"
     ]
    }
   ],
   "source": [
    "from sklearn import metrics\n",
    "print(\"Accuracy:\",metrics.accuracy_score(y_test, y_pred))"
   ]
  },
  {
   "cell_type": "code",
   "execution_count": 126,
   "metadata": {},
   "outputs": [],
   "source": [
    "# Prediction on a Spam Email \n",
    "efile = \"/Users/pradeepkumar/PycharmProjects/flask/venv/SMU_QTW/case_study3/SpamAssassinMessages/spam/0500.2e8762b67913d1b07bc8da293448d27f\"\n",
    "with open(efile, mode='r', encoding='ascii', errors='ignore') as fh:\n",
    "    for line in fh:\n",
    "        full_msg += line.replace('\\n',' ')\n",
    "        \n",
    "    msg_dict = split_header(full_msg)\n",
    "    \n",
    "spam_mail_body = msg_dict['body']\n",
    "\n",
    "# Make the sample spam mail part of the corpus of emails to get the Tf-Idf score\n",
    "df_sample = df1.body.values.tolist()\n",
    "#print(type(df_sample))\n",
    "df_sample.append(spam_mail_body)\n",
    "\n",
    "vectorizer = TfidfVectorizer(stop_words=None, use_idf=True, norm=None)\n",
    "tfidf_sample_spam = vectorizer.fit_transform(df_sample)\n",
    "\n",
    "#tfidf_sample_spam.shape\n",
    "svd2 = TruncatedSVD(n_components=15, n_iter=7, random_state=42)\n",
    "tfidf_sample_trans = svd2.fit_transform(tfidf_sample_spam)\n"
   ]
  },
  {
   "cell_type": "code",
   "execution_count": 136,
   "metadata": {},
   "outputs": [],
   "source": [
    "X_samp = tfidf_sample_trans[-1]"
   ]
  },
  {
   "cell_type": "code",
   "execution_count": 153,
   "metadata": {},
   "outputs": [
    {
     "data": {
      "text/plain": [
       "(7449, 15)"
      ]
     },
     "execution_count": 153,
     "metadata": {},
     "output_type": "execute_result"
    }
   ],
   "source": [
    "tfidf_sample_trans.shape"
   ]
  },
  {
   "cell_type": "code",
   "execution_count": 156,
   "metadata": {},
   "outputs": [
    {
     "data": {
      "text/plain": [
       "(1, 15)"
      ]
     },
     "execution_count": 156,
     "metadata": {},
     "output_type": "execute_result"
    }
   ],
   "source": [
    "X_samp = X_samp.T\n",
    "type(X_samp)\n",
    "B = np.reshape(X_samp, (-1, 1))\n",
    "\n",
    "\n",
    "X1 = np.ndarray.transpose(B)\n",
    "X1.shape\n",
    "#X_samp.shape\n",
    "#X_samp"
   ]
  },
  {
   "cell_type": "code",
   "execution_count": 157,
   "metadata": {},
   "outputs": [
    {
     "data": {
      "text/plain": [
       "array([0])"
      ]
     },
     "execution_count": 157,
     "metadata": {},
     "output_type": "execute_result"
    }
   ],
   "source": [
    "gnb.predict(X1)"
   ]
  },
  {
   "cell_type": "code",
   "execution_count": null,
   "metadata": {},
   "outputs": [],
   "source": []
  }
 ],
 "metadata": {
  "kernelspec": {
   "display_name": "Python 3",
   "language": "python",
   "name": "python3"
  },
  "language_info": {
   "codemirror_mode": {
    "name": "ipython",
    "version": 3
   },
   "file_extension": ".py",
   "mimetype": "text/x-python",
   "name": "python",
   "nbconvert_exporter": "python",
   "pygments_lexer": "ipython3",
   "version": "3.7.2"
  }
 },
 "nbformat": 4,
 "nbformat_minor": 4
}
