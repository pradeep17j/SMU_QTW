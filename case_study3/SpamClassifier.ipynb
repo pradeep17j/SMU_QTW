{
 "cells": [
  {
   "cell_type": "markdown",
   "metadata": {},
   "source": [
    "# Case Study 3: Spam Classification\n",
    "\n",
    "#### Team Members:\n",
    "\n",
    "- Benjamin Goodwin\n",
    "- Lijju Mathew\n",
    "- Pradeep Kumar\n",
    "- Sid Swarupananda"
   ]
  },
  {
   "cell_type": "markdown",
   "metadata": {},
   "source": [
    "# Business Understanding\n",
    "\n",
    "Problem Statement:\n",
    "A huge proportion of email sent globally per day is considered spam, the actual number is nearly 85% of all e-email messages!  (https://dataprot.net/)\n",
    "\n",
    "Due to this enormous issue, email providers need a consistent way to detect and classify spam and not spam (ham).\n",
    "A common solution is to use a Naive Bayes classifier to determine which email messages are spam and ham.  \n",
    "\n",
    "In this case study our goal is to parse email messages and determine which emails are ham and which emails are spam.\n",
    "\n",
    "Our team has access to a large database of pre-sorted email messages and we will create a custom dataset based on these messages and approach the problem of spam classifcation from a Bayesian perspective."
   ]
  },
  {
   "cell_type": "markdown",
   "metadata": {},
   "source": [
    "#### This section handles our imports and libraries"
   ]
  },
  {
   "cell_type": "code",
   "execution_count": 1,
   "metadata": {},
   "outputs": [],
   "source": [
    "import os\n",
    "import sklearn\n",
    "import sys, copy\n",
    "import pandas as pd\n",
    "import numpy as np\n",
    "import matplotlib as plt\n",
    "sys.path.append('/Users/pradeepkumar/PycharmProjects/QTW/venv/lib/python3.7/site-packages/')\n",
    "sys.path.append('/Users/pradeepkumar/PycharmProjects/flask/venv/lib/python3.7/site-packages')\n",
    "\n",
    "from collections import Counter\n",
    "from sklearn.linear_model import LogisticRegression\n",
    "from sklearn.model_selection import train_test_split\n",
    "from imblearn.over_sampling import SMOTE\n",
    "from sklearn.model_selection import cross_val_score\n",
    "import sklearn\n",
    "import nltk\n",
    "import string\n",
    "import glob\n",
    "import re\n",
    "import json\n",
    "from nltk.tokenize import word_tokenize\n",
    "from nltk.tokenize import sent_tokenize\n",
    "from nltk.corpus import stopwords\n",
    "from nltk.stem import PorterStemmer\n"
   ]
  },
  {
   "cell_type": "code",
   "execution_count": 3,
   "metadata": {},
   "outputs": [
    {
     "data": {
      "text/plain": [
       "'/Users/pradeepkumar/PycharmProjects/flask/venv/SMU_QTW/case_study3'"
      ]
     },
     "execution_count": 3,
     "metadata": {},
     "output_type": "execute_result"
    }
   ],
   "source": [
    "os.getcwd()"
   ]
  },
  {
   "cell_type": "markdown",
   "metadata": {},
   "source": [
    "# Modeling Preperations\n",
    "\n",
    "Our team was tasked with identifying spam or ham based on a collection of emails (pre-sorted as spam or ham).  Our first task is to add some structure to the data and we will approach this by defining a structure as follows:\n",
    "\n",
    "Emails have a header and content within the message body- each email is already split into this structure\n",
    "We will remove all punctuation and stop words as we feel these are not relevant to the classifcation problem at hand. We will continue by stemming to extract the base words.  The classifier will be trained on this newly prepared data and be tasked with generalizing what is to be considered spam and ham.  \n",
    "\n",
    "As stated above, we will use a Naive Bayes classifer to determine which messages in our test set are spam and ham.  Considering that most email is spam we could create a fairly accurate classifer that simply marks every email as spam, however this would defeat the purpose of email! \n",
    "\n",
    "Since this problem is a classication one, we have some options to choose from.  Accuracy is probably not a good metric as we previously stated, however we will need to measure what proportion of predicted Positives is truly Positive? In our case this equates to the percentage of emails flagged as spam (Precision), and commonly associated with precision is recall (Recall measures the percentage of actual spam emails that were correctly classified), thus we will need to observe both.  To consider our model highly successful, we would like both precision and recall to be above 0.7.  Additionally, to get a better overview of these two metrics we will also consider the F1 score, and draw conclusions about the classifer from there."
   ]
  },
  {
   "cell_type": "markdown",
   "metadata": {},
   "source": [
    "## Data PreProcessing"
   ]
  },
  {
   "cell_type": "markdown",
   "metadata": {},
   "source": [
    "#### The ham and spam mails are processed as follows <br> Emails have header and message body content. Each email is split into header and body. <br> All text above the subject line is considered as header and text below subject is considered as body. <br> Punctiations and stop words are removed <br> Stemming is done to extract the base words \n"
   ]
  },
  {
   "cell_type": "code",
   "execution_count": 4,
   "metadata": {},
   "outputs": [],
   "source": [
    "porter = PorterStemmer()\n",
    "\n",
    "def remove_punct(s1):\n",
    "    n = ''\n",
    "    for c in s1:\n",
    "        if c not in string.punctuation:\n",
    "            n += c\n",
    "        else:\n",
    "            n += ' '\n",
    "    return n\n",
    "\n",
    "def remove_stopwords(words):\n",
    "    stop_words = set(stopwords.words('english'))\n",
    "    \n",
    "    filtered_sentence = [w for w in words if not w.lower() in stop_words]\n",
    "    stemmed_sentence = [porter.stem(w) for w in words]\n",
    "    \n",
    "    return ' '.join(stemmed_sentence)\n",
    "    \n",
    "\n",
    "def split_header(msg):\n",
    "    msg_dict = dict()\n",
    "    \n",
    "    m1 = re.search('(.*)(subject\\s*:.*)', msg, re.I)\n",
    "    if m1:\n",
    "        header = m1.group(1).lower()\n",
    "        body = m1.group(2).lower()\n",
    "        \n",
    "        new_header = word_tokenize(remove_punct(header))\n",
    "        new_body = word_tokenize(remove_punct(body))\n",
    "        \n",
    "        new_header1 = remove_stopwords(new_header)\n",
    "        new_body1 = remove_stopwords(new_body)\n",
    "        \n",
    "        \n",
    "        msg_dict['header'] = new_header1.lower()\n",
    "        msg_dict['body'] = new_body1.lower()\n",
    "        \n",
    "    \n",
    "    return msg_dict\n",
    "        "
   ]
  },
  {
   "cell_type": "code",
   "execution_count": 5,
   "metadata": {},
   "outputs": [
    {
     "data": {
      "text/html": [
       "<div>\n",
       "<style scoped>\n",
       "    .dataframe tbody tr th:only-of-type {\n",
       "        vertical-align: middle;\n",
       "    }\n",
       "\n",
       "    .dataframe tbody tr th {\n",
       "        vertical-align: top;\n",
       "    }\n",
       "\n",
       "    .dataframe thead th {\n",
       "        text-align: right;\n",
       "    }\n",
       "</style>\n",
       "<table border=\"1\" class=\"dataframe\">\n",
       "  <thead>\n",
       "    <tr style=\"text-align: right;\">\n",
       "      <th></th>\n",
       "      <th>ham0</th>\n",
       "      <th>ham1</th>\n",
       "      <th>ham2</th>\n",
       "      <th>ham3</th>\n",
       "      <th>ham4</th>\n",
       "      <th>ham5</th>\n",
       "      <th>ham6</th>\n",
       "      <th>ham7</th>\n",
       "      <th>ham8</th>\n",
       "      <th>ham9</th>\n",
       "      <th>...</th>\n",
       "      <th>spam2386</th>\n",
       "      <th>spam2387</th>\n",
       "      <th>spam2388</th>\n",
       "      <th>spam2389</th>\n",
       "      <th>spam2390</th>\n",
       "      <th>spam2391</th>\n",
       "      <th>spam2392</th>\n",
       "      <th>spam2393</th>\n",
       "      <th>spam2394</th>\n",
       "      <th>spam2395</th>\n",
       "    </tr>\n",
       "  </thead>\n",
       "  <tbody>\n",
       "    <tr>\n",
       "      <th>header</th>\n",
       "      <td>from rssfeed jmason org mon sep 30 13 43 46 20...</td>\n",
       "      <td>from fork admin xent com tue sep 3 14 24 41 20...</td>\n",
       "      <td>from fork admin xent com tue sep 24 17 55 30 2...</td>\n",
       "      <td>from rpm list admin freshrpm net mon sep 9 18 ...</td>\n",
       "      <td>from secprog return 625 jm jmason org security...</td>\n",
       "      <td>from exmh user admin redhat com wed sep 11 13 ...</td>\n",
       "      <td>from fork admin xent com mon sep 2 16 22 12 20...</td>\n",
       "      <td>from rssfeed jmason org fri sep 27 10 40 59 20...</td>\n",
       "      <td>from fork admin xent com wed aug 28 17 15 53 2...</td>\n",
       "      <td>from fork admin xent com fri sep 6 11 41 26 20...</td>\n",
       "      <td>...</td>\n",
       "      <td>from 687ifsuy bol com br tue aug 6 12 56 57 20...</td>\n",
       "      <td>return path ler lerami lerctr org deliveri dat...</td>\n",
       "      <td>from vbj101521 caramail com tue aug 27 02 35 2...</td>\n",
       "      <td>from biz2biz2446 flashmail com mon oct 7 22 42...</td>\n",
       "      <td>from mraimecoilcipc msn com mon jul 22 18 39 2...</td>\n",
       "      <td>from safety33o l11 newnamedn com fri aug 23 11...</td>\n",
       "      <td>from fork admin xent com thu aug 8 14 37 34 20...</td>\n",
       "      <td>from niddeel hotmail com tue aug 6 10 54 56 20...</td>\n",
       "      <td>from aileen email2 qve net fri aug 23 11 03 13...</td>\n",
       "      <td>receiv from actioncouri com 207 225 37 163 by ...</td>\n",
       "    </tr>\n",
       "    <tr>\n",
       "      <th>body</th>\n",
       "      <td>subject priceless ruben work stolen in raid on...</td>\n",
       "      <td>subject make a mesh on the move messag id pine...</td>\n",
       "      <td>subject re liber defnit to fork spamassassin t...</td>\n",
       "      <td>subject problem with apt updat messag id 14220...</td>\n",
       "      <td>subject re are bad develop librari the problem...</td>\n",
       "      <td>subject re sort in repli to your messag of tue...</td>\n",
       "      <td>subject re java is for kiddi in repli to ncbbj...</td>\n",
       "      <td>subject skateboard drive through subway with h...</td>\n",
       "      <td>subject re canadian refer 3d6ca455 4010907 per...</td>\n",
       "      <td>subject re ouch bebergflam messag id 200209060...</td>\n",
       "      <td>...</td>\n",
       "      <td>subject best rate on mortgag in the countri da...</td>\n",
       "      <td>subject iso 2022 jp b gyrcjdckocrfjegkyirije4l...</td>\n",
       "      <td>subject custom websit for 399 complet 1709d 5 ...</td>\n",
       "      <td>subject see your compani sale sky rocket 4611 ...</td>\n",
       "      <td>subject fix your credit yourself onlin 12678 d...</td>\n",
       "      <td>subject adv lowest life insur rate avail mood ...</td>\n",
       "      <td>subject new internet servic provid mime versio...</td>\n",
       "      <td>subject bad credit breakthrough 6465 date fri ...</td>\n",
       "      <td>subject get the child support you deserv 11 18...</td>\n",
       "      <td>subject 67 of women say they are unhappi cpbxq...</td>\n",
       "    </tr>\n",
       "  </tbody>\n",
       "</table>\n",
       "<p>2 rows × 7446 columns</p>\n",
       "</div>"
      ],
      "text/plain": [
       "                                                     ham0  \\\n",
       "header  from rssfeed jmason org mon sep 30 13 43 46 20...   \n",
       "body    subject priceless ruben work stolen in raid on...   \n",
       "\n",
       "                                                     ham1  \\\n",
       "header  from fork admin xent com tue sep 3 14 24 41 20...   \n",
       "body    subject make a mesh on the move messag id pine...   \n",
       "\n",
       "                                                     ham2  \\\n",
       "header  from fork admin xent com tue sep 24 17 55 30 2...   \n",
       "body    subject re liber defnit to fork spamassassin t...   \n",
       "\n",
       "                                                     ham3  \\\n",
       "header  from rpm list admin freshrpm net mon sep 9 18 ...   \n",
       "body    subject problem with apt updat messag id 14220...   \n",
       "\n",
       "                                                     ham4  \\\n",
       "header  from secprog return 625 jm jmason org security...   \n",
       "body    subject re are bad develop librari the problem...   \n",
       "\n",
       "                                                     ham5  \\\n",
       "header  from exmh user admin redhat com wed sep 11 13 ...   \n",
       "body    subject re sort in repli to your messag of tue...   \n",
       "\n",
       "                                                     ham6  \\\n",
       "header  from fork admin xent com mon sep 2 16 22 12 20...   \n",
       "body    subject re java is for kiddi in repli to ncbbj...   \n",
       "\n",
       "                                                     ham7  \\\n",
       "header  from rssfeed jmason org fri sep 27 10 40 59 20...   \n",
       "body    subject skateboard drive through subway with h...   \n",
       "\n",
       "                                                     ham8  \\\n",
       "header  from fork admin xent com wed aug 28 17 15 53 2...   \n",
       "body    subject re canadian refer 3d6ca455 4010907 per...   \n",
       "\n",
       "                                                     ham9  ...  \\\n",
       "header  from fork admin xent com fri sep 6 11 41 26 20...  ...   \n",
       "body    subject re ouch bebergflam messag id 200209060...  ...   \n",
       "\n",
       "                                                 spam2386  \\\n",
       "header  from 687ifsuy bol com br tue aug 6 12 56 57 20...   \n",
       "body    subject best rate on mortgag in the countri da...   \n",
       "\n",
       "                                                 spam2387  \\\n",
       "header  return path ler lerami lerctr org deliveri dat...   \n",
       "body    subject iso 2022 jp b gyrcjdckocrfjegkyirije4l...   \n",
       "\n",
       "                                                 spam2388  \\\n",
       "header  from vbj101521 caramail com tue aug 27 02 35 2...   \n",
       "body    subject custom websit for 399 complet 1709d 5 ...   \n",
       "\n",
       "                                                 spam2389  \\\n",
       "header  from biz2biz2446 flashmail com mon oct 7 22 42...   \n",
       "body    subject see your compani sale sky rocket 4611 ...   \n",
       "\n",
       "                                                 spam2390  \\\n",
       "header  from mraimecoilcipc msn com mon jul 22 18 39 2...   \n",
       "body    subject fix your credit yourself onlin 12678 d...   \n",
       "\n",
       "                                                 spam2391  \\\n",
       "header  from safety33o l11 newnamedn com fri aug 23 11...   \n",
       "body    subject adv lowest life insur rate avail mood ...   \n",
       "\n",
       "                                                 spam2392  \\\n",
       "header  from fork admin xent com thu aug 8 14 37 34 20...   \n",
       "body    subject new internet servic provid mime versio...   \n",
       "\n",
       "                                                 spam2393  \\\n",
       "header  from niddeel hotmail com tue aug 6 10 54 56 20...   \n",
       "body    subject bad credit breakthrough 6465 date fri ...   \n",
       "\n",
       "                                                 spam2394  \\\n",
       "header  from aileen email2 qve net fri aug 23 11 03 13...   \n",
       "body    subject get the child support you deserv 11 18...   \n",
       "\n",
       "                                                 spam2395  \n",
       "header  receiv from actioncouri com 207 225 37 163 by ...  \n",
       "body    subject 67 of women say they are unhappi cpbxq...  \n",
       "\n",
       "[2 rows x 7446 columns]"
      ]
     },
     "execution_count": 5,
     "metadata": {},
     "output_type": "execute_result"
    }
   ],
   "source": [
    "# Seperate the header and message\n",
    "pdir = ['/Users/pradeepkumar/PycharmProjects/flask/venv/SMU_QTW/case_study3/SpamAssassinMessages/easy_ham',\n",
    "        '/Users/pradeepkumar/PycharmProjects/flask/venv/SMU_QTW/case_study3/SpamAssassinMessages/spam']\n",
    "\n",
    "data_dict = dict()\n",
    "for dname in pdir:\n",
    "    os.chdir(dname)\n",
    "\n",
    "    all_files = os.listdir()\n",
    "\n",
    "    ind=0\n",
    "    for efile in all_files:\n",
    "        if 'spam' in dname:\n",
    "            key = 'spam'\n",
    "        if 'easy_ham' in dname:\n",
    "            key = 'ham'\n",
    "    \n",
    "        full_msg =''\n",
    "        with open(efile, mode='r', encoding='ascii', errors='ignore') as fh:\n",
    "            for line in fh:\n",
    "                full_msg += line.replace('\\n',' ')\n",
    "        \n",
    "            data_dict[key+str(ind)] = split_header(full_msg)\n",
    "            ind += 1\n",
    "    \n",
    "df = pd.DataFrame.from_dict(data_dict)\n",
    "df      "
   ]
  },
  {
   "cell_type": "markdown",
   "metadata": {},
   "source": [
    "#### Add a new target column with 1 for spam and 0 for ham "
   ]
  },
  {
   "cell_type": "code",
   "execution_count": 6,
   "metadata": {},
   "outputs": [
    {
     "name": "stdout",
     "output_type": "stream",
     "text": [
      "(7446, 3)\n",
      "7446\n"
     ]
    }
   ],
   "source": [
    "df1 = df.T\n",
    "target = df.T.index.tolist()\n",
    "new_target = list()\n",
    "for e in target:\n",
    "    if 'spam' in e:\n",
    "        new_target.append(1)\n",
    "    else:\n",
    "        new_target.append(0)\n",
    "\n",
    "new_target\n",
    "\n",
    "df1['target'] = new_target\n",
    "print(df1.shape)\n",
    "print(len(new_target))"
   ]
  },
  {
   "cell_type": "code",
   "execution_count": 7,
   "metadata": {},
   "outputs": [
    {
     "data": {
      "text/html": [
       "<div>\n",
       "<style scoped>\n",
       "    .dataframe tbody tr th:only-of-type {\n",
       "        vertical-align: middle;\n",
       "    }\n",
       "\n",
       "    .dataframe tbody tr th {\n",
       "        vertical-align: top;\n",
       "    }\n",
       "\n",
       "    .dataframe thead th {\n",
       "        text-align: right;\n",
       "    }\n",
       "</style>\n",
       "<table border=\"1\" class=\"dataframe\">\n",
       "  <thead>\n",
       "    <tr style=\"text-align: right;\">\n",
       "      <th></th>\n",
       "      <th>header</th>\n",
       "      <th>body</th>\n",
       "    </tr>\n",
       "  </thead>\n",
       "  <tbody>\n",
       "    <tr>\n",
       "      <th>ham0</th>\n",
       "      <td>from rssfeed jmason org mon sep 30 13 43 46 20...</td>\n",
       "      <td>subject priceless ruben work stolen in raid on...</td>\n",
       "    </tr>\n",
       "    <tr>\n",
       "      <th>ham1</th>\n",
       "      <td>from fork admin xent com tue sep 3 14 24 41 20...</td>\n",
       "      <td>subject make a mesh on the move messag id pine...</td>\n",
       "    </tr>\n",
       "    <tr>\n",
       "      <th>ham2</th>\n",
       "      <td>from fork admin xent com tue sep 24 17 55 30 2...</td>\n",
       "      <td>subject re liber defnit to fork spamassassin t...</td>\n",
       "    </tr>\n",
       "    <tr>\n",
       "      <th>ham3</th>\n",
       "      <td>from rpm list admin freshrpm net mon sep 9 18 ...</td>\n",
       "      <td>subject problem with apt updat messag id 14220...</td>\n",
       "    </tr>\n",
       "    <tr>\n",
       "      <th>ham4</th>\n",
       "      <td>from secprog return 625 jm jmason org security...</td>\n",
       "      <td>subject re are bad develop librari the problem...</td>\n",
       "    </tr>\n",
       "    <tr>\n",
       "      <th>...</th>\n",
       "      <td>...</td>\n",
       "      <td>...</td>\n",
       "    </tr>\n",
       "    <tr>\n",
       "      <th>spam2391</th>\n",
       "      <td>from safety33o l11 newnamedn com fri aug 23 11...</td>\n",
       "      <td>subject adv lowest life insur rate avail mood ...</td>\n",
       "    </tr>\n",
       "    <tr>\n",
       "      <th>spam2392</th>\n",
       "      <td>from fork admin xent com thu aug 8 14 37 34 20...</td>\n",
       "      <td>subject new internet servic provid mime versio...</td>\n",
       "    </tr>\n",
       "    <tr>\n",
       "      <th>spam2393</th>\n",
       "      <td>from niddeel hotmail com tue aug 6 10 54 56 20...</td>\n",
       "      <td>subject bad credit breakthrough 6465 date fri ...</td>\n",
       "    </tr>\n",
       "    <tr>\n",
       "      <th>spam2394</th>\n",
       "      <td>from aileen email2 qve net fri aug 23 11 03 13...</td>\n",
       "      <td>subject get the child support you deserv 11 18...</td>\n",
       "    </tr>\n",
       "    <tr>\n",
       "      <th>spam2395</th>\n",
       "      <td>receiv from actioncouri com 207 225 37 163 by ...</td>\n",
       "      <td>subject 67 of women say they are unhappi cpbxq...</td>\n",
       "    </tr>\n",
       "  </tbody>\n",
       "</table>\n",
       "<p>7446 rows × 2 columns</p>\n",
       "</div>"
      ],
      "text/plain": [
       "                                                     header  \\\n",
       "ham0      from rssfeed jmason org mon sep 30 13 43 46 20...   \n",
       "ham1      from fork admin xent com tue sep 3 14 24 41 20...   \n",
       "ham2      from fork admin xent com tue sep 24 17 55 30 2...   \n",
       "ham3      from rpm list admin freshrpm net mon sep 9 18 ...   \n",
       "ham4      from secprog return 625 jm jmason org security...   \n",
       "...                                                     ...   \n",
       "spam2391  from safety33o l11 newnamedn com fri aug 23 11...   \n",
       "spam2392  from fork admin xent com thu aug 8 14 37 34 20...   \n",
       "spam2393  from niddeel hotmail com tue aug 6 10 54 56 20...   \n",
       "spam2394  from aileen email2 qve net fri aug 23 11 03 13...   \n",
       "spam2395  receiv from actioncouri com 207 225 37 163 by ...   \n",
       "\n",
       "                                                       body  \n",
       "ham0      subject priceless ruben work stolen in raid on...  \n",
       "ham1      subject make a mesh on the move messag id pine...  \n",
       "ham2      subject re liber defnit to fork spamassassin t...  \n",
       "ham3      subject problem with apt updat messag id 14220...  \n",
       "ham4      subject re are bad develop librari the problem...  \n",
       "...                                                     ...  \n",
       "spam2391  subject adv lowest life insur rate avail mood ...  \n",
       "spam2392  subject new internet servic provid mime versio...  \n",
       "spam2393  subject bad credit breakthrough 6465 date fri ...  \n",
       "spam2394  subject get the child support you deserv 11 18...  \n",
       "spam2395  subject 67 of women say they are unhappi cpbxq...  \n",
       "\n",
       "[7446 rows x 2 columns]"
      ]
     },
     "execution_count": 7,
     "metadata": {},
     "output_type": "execute_result"
    }
   ],
   "source": [
    "df1\n",
    "df2 = df1[['header','body']]\n",
    "df2"
   ]
  },
  {
   "cell_type": "code",
   "execution_count": 8,
   "metadata": {},
   "outputs": [],
   "source": [
    "X = df2.body\n",
    "y = new_target"
   ]
  },
  {
   "cell_type": "code",
   "execution_count": 10,
   "metadata": {},
   "outputs": [],
   "source": [
    "from sklearn.model_selection import train_test_split\n",
    "\n",
    "X_train, X_test, y_train, y_test = train_test_split(X, y, test_size=0.33, random_state=42)"
   ]
  },
  {
   "cell_type": "code",
   "execution_count": null,
   "metadata": {},
   "outputs": [],
   "source": []
  },
  {
   "cell_type": "code",
   "execution_count": 11,
   "metadata": {},
   "outputs": [
    {
     "data": {
      "text/plain": [
       "pandas.core.series.Series"
      ]
     },
     "execution_count": 11,
     "metadata": {},
     "output_type": "execute_result"
    }
   ],
   "source": [
    "type(df1.body)\n",
    "type(X_train)"
   ]
  },
  {
   "cell_type": "markdown",
   "metadata": {},
   "source": [
    "### Convert the  text to Tf-Idf scores. <br> The output of Tf-Idf vector is a large sparse matrix\n"
   ]
  },
  {
   "cell_type": "code",
   "execution_count": 12,
   "metadata": {},
   "outputs": [],
   "source": [
    "from sklearn.feature_extraction.text import TfidfVectorizer\n",
    "\n",
    "def get_tfidf(data):\n",
    "    vectorizer = TfidfVectorizer(stop_words=None, use_idf=True, norm=None)\n",
    "    tfidf_vec = vectorizer.fit_transform(data)\n",
    "    return tfidf_vec\n",
    "\n",
    "tfidf_body_train = get_tfidf(X_train)\n",
    "tfidf_body_test = get_tfidf(X_test)\n"
   ]
  },
  {
   "cell_type": "code",
   "execution_count": 13,
   "metadata": {},
   "outputs": [
    {
     "data": {
      "text/plain": [
       "<4988x76341 sparse matrix of type '<class 'numpy.float64'>'\n",
       "\twith 918891 stored elements in Compressed Sparse Row format>"
      ]
     },
     "execution_count": 13,
     "metadata": {},
     "output_type": "execute_result"
    }
   ],
   "source": [
    "tfidf_body_train"
   ]
  },
  {
   "cell_type": "markdown",
   "metadata": {},
   "source": [
    "### Reduce the dimension of the sparse Tf-Idf matrix before training the model "
   ]
  },
  {
   "cell_type": "code",
   "execution_count": 14,
   "metadata": {},
   "outputs": [
    {
     "name": "stdout",
     "output_type": "stream",
     "text": [
      "Train data , Explained variance 0.7286735688129028\n",
      "Test data , Explained variance 0.6897200815778456\n"
     ]
    }
   ],
   "source": [
    "from sklearn.decomposition import TruncatedSVD\n",
    "\n",
    "def reduce_dim(data):\n",
    "    svd = TruncatedSVD(n_components=15, n_iter=7, random_state=42)\n",
    "    transformed = svd.fit_transform(data)\n",
    "    print(svd.explained_variance_ratio_.sum())\n",
    "    return transformed\n",
    "\n",
    "print('Train data , Explained variance', end=' ')\n",
    "comp_train = reduce_dim(tfidf_body_train)\n",
    "print('Test data , Explained variance', end=' ')\n",
    "comp_test = reduce_dim(tfidf_body_test)\n"
   ]
  },
  {
   "cell_type": "markdown",
   "metadata": {},
   "source": [
    "# Model Building and Evaluation\n",
    "\n",
    "In this section we will: \n",
    "\n",
    "- Look at hierarchical and kmeans clustering\n",
    "- Train a Naive Bayes model for predicting whether an email observation is Spam or not-Spam (be sure to specify your sampling approach)\n",
    "- Analyze your model's performance - We will examine precision, recall, and F1 (including supplemental visuals and analysis where appropriate)"
   ]
  },
  {
   "cell_type": "markdown",
   "metadata": {},
   "source": [
    "### After dimension reduction, With 15 components , we can explain up to 71% of variance in train data"
   ]
  },
  {
   "cell_type": "markdown",
   "metadata": {},
   "source": [
    "### Check for clustering in data with Hierarchical Clustering Algorithm as below <br> Capping the level of tree at 4, we can see that there are 3 cluster identified based on distances between the Tf-Idf scores of each email body"
   ]
  },
  {
   "cell_type": "code",
   "execution_count": 15,
   "metadata": {},
   "outputs": [
    {
     "data": {
      "image/png": "[encoded data removed]",
      "text/plain": [
       "<Figure size 1296x1440 with 1 Axes>"
      ]
     },
     "metadata": {
      "needs_background": "light"
     },
     "output_type": "display_data"
    }
   ],
   "source": [
    "from scipy.cluster.hierarchy import dendrogram, linkage\n",
    "\n",
    "Z = linkage(comp_train, 'ward')\n",
    "\n",
    "import matplotlib.pyplot as plt\n",
    "plt.figure(figsize=(18,20))\n",
    "plt.title('Hierarchical Clustering Dendogram')\n",
    "plt.xlabel('Data Point')\n",
    "plt.ylabel('Distance')\n",
    "dendrogram(Z, labels=df1.target, p=4, truncate_mode='level', orientation='top')\n",
    "plt.show()\n"
   ]
  },
  {
   "cell_type": "markdown",
   "metadata": {},
   "source": [
    "### With Kmeans clustering, by setting k=2, we can see 2 cluster by using the first 2 dimensions only. <br> There is no clear seperation of data in this cluster"
   ]
  },
  {
   "cell_type": "code",
   "execution_count": 16,
   "metadata": {
    "scrolled": true
   },
   "outputs": [
    {
     "data": {
      "text/plain": [
       "Text(0.5, 1.0, 'Spam and Ham email clusters')"
      ]
     },
     "execution_count": 16,
     "metadata": {},
     "output_type": "execute_result"
    },
    {
     "data": {
      "image/png": "[encoded data removed]",
      "text/plain": [
       "<Figure size 432x288 with 1 Axes>"
      ]
     },
     "metadata": {
      "needs_background": "light"
     },
     "output_type": "display_data"
    }
   ],
   "source": [
    "from sklearn.cluster import KMeans\n",
    "y_pred = KMeans(n_clusters=2, random_state=170).fit_predict(comp_train)\n",
    "\n",
    "plt.scatter(comp_train[:, 0], comp_train[:, 1], c=y_pred)\n",
    "plt.title(\"Spam and Ham email clusters\")\n"
   ]
  },
  {
   "cell_type": "markdown",
   "metadata": {},
   "source": [
    "<b> Checking for correlation between features </b> <br> <i> From the heat map below , we can see that there is no correlation <br> between features </i>"
   ]
  },
  {
   "cell_type": "code",
   "execution_count": 17,
   "metadata": {},
   "outputs": [
    {
     "data": {
      "text/plain": [
       "<matplotlib.axes._subplots.AxesSubplot at 0x12a2ee8d0>"
      ]
     },
     "execution_count": 17,
     "metadata": {},
     "output_type": "execute_result"
    },
    {
     "data": {
      "image/png": "[encoded data removed]",
      "text/plain": [
       "<Figure size 432x288 with 2 Axes>"
      ]
     },
     "metadata": {
      "needs_background": "light"
     },
     "output_type": "display_data"
    }
   ],
   "source": [
    "import seaborn as sns\n",
    "from sklearn.metrics.pairwise import cosine_similarity\n",
    "corr = np.corrcoef(comp_train, rowvar=False)\n",
    "corr.shape\n",
    "sns.heatmap(corr)"
   ]
  },
  {
   "cell_type": "markdown",
   "metadata": {},
   "source": [
    "<b> Build a Naive Bayes Classifier </b> <br>\n",
    "<i> Naive Bayes assumes that features are independent which is proved in the heat map above.  30% of data is used for test purpose </i>\n"
   ]
  },
  {
   "cell_type": "code",
   "execution_count": 18,
   "metadata": {},
   "outputs": [
    {
     "name": "stdout",
     "output_type": "stream",
     "text": [
      "Number of mislabeled points out of a total 2458 points : 750\n"
     ]
    }
   ],
   "source": [
    "from sklearn.model_selection import train_test_split\n",
    "from sklearn.naive_bayes import GaussianNB\n",
    "gnb = GaussianNB()\n",
    "y_pred = gnb.fit(comp_train, y_train).predict(comp_test)\n",
    "print(\"Number of mislabeled points out of a total %d points : %d\"% (X_test.shape[0], (y_test != y_pred).sum()))\n"
   ]
  },
  {
   "cell_type": "code",
   "execution_count": 19,
   "metadata": {},
   "outputs": [
    {
     "data": {
      "text/plain": [
       "(2458,)"
      ]
     },
     "execution_count": 19,
     "metadata": {},
     "output_type": "execute_result"
    }
   ],
   "source": [
    "X_test.shape"
   ]
  },
  {
   "cell_type": "code",
   "execution_count": 20,
   "metadata": {},
   "outputs": [
    {
     "name": "stdout",
     "output_type": "stream",
     "text": [
      "Accuracy: 0.6948738812042311\n"
     ]
    }
   ],
   "source": [
    "from sklearn import metrics\n",
    "print(\"Accuracy:\",metrics.accuracy_score(y_test, y_pred))"
   ]
  },
  {
   "cell_type": "code",
   "execution_count": 27,
   "metadata": {},
   "outputs": [
    {
     "name": "stdout",
     "output_type": "stream",
     "text": [
      "0.6939942987550731\n"
     ]
    }
   ],
   "source": [
    "# Prediction on a Spam Email \n",
    "efile0 = \"/Users/pradeepkumar/PycharmProjects/flask/venv/SMU_QTW/case_study3/SpamAssassinMessages/test_mails/test_ham\"\n",
    "efile1 = \"/Users/pradeepkumar/PycharmProjects/flask/venv/SMU_QTW/case_study3/SpamAssassinMessages/test_mails/test_spam\"\n",
    "#efile1 = \"/Users/pradeepkumar/PycharmProjects/flask/venv/SMU_QTW/case_study3/SpamAssassinMessages/spam/01002.406c1c709e49cb740f0ce36ebf2d5c78\"\n",
    "\n",
    "\n",
    "def open_convert(efile):\n",
    "    full_msg = ''\n",
    "    with open(efile, mode='r', encoding='ascii', errors='ignore') as fh:\n",
    "        for line in fh:\n",
    "            full_msg += line.replace('\\n',' ')\n",
    "        return split_header(full_msg)\n",
    "\n",
    "    \n",
    "df_sample = df1.body.values.tolist()\n",
    "\n",
    "msg_dict =  open_convert(efile1)      \n",
    "spam_mail_body = msg_dict['body']\n",
    "# Make the sample spam mail part of the corpus of emails to get the Tf-Idf score\n",
    "df_sample.append(spam_mail_body)\n",
    "\n",
    "msg_dict =  open_convert(efile0)      \n",
    "ham_mail_body = msg_dict['body']\n",
    "# Make the sample ham mail part of the corpus of emails to get the Tf-Idf score\n",
    "df_sample.append(ham_mail_body)\n",
    "\n",
    "tfidf_sample_trans = reduce_dim(get_tfidf(df_sample))\n",
    "\n"
   ]
  },
  {
   "cell_type": "code",
   "execution_count": 31,
   "metadata": {},
   "outputs": [
    {
     "data": {
      "text/plain": [
       "array([1])"
      ]
     },
     "execution_count": 31,
     "metadata": {},
     "output_type": "execute_result"
    }
   ],
   "source": [
    "# Predict on spam email\n",
    "\n",
    "X_samp = tfidf_sample_trans[-1]\n",
    "tfidf_sample_trans.shape\n",
    "X_samp = X_samp.T\n",
    "B = np.reshape(X_samp, (-1, 1))\n",
    "X1 = np.ndarray.transpose(B)\n",
    "X1.shape\n",
    "gnb.predict(X1)"
   ]
  },
  {
   "cell_type": "code",
   "execution_count": 29,
   "metadata": {},
   "outputs": [
    {
     "data": {
      "text/plain": [
       "array([0])"
      ]
     },
     "execution_count": 29,
     "metadata": {},
     "output_type": "execute_result"
    }
   ],
   "source": [
    "# Predict on ham email\n",
    "\n",
    "X_samp = tfidf_sample_trans[-2]\n",
    "X_samp = X_samp.T\n",
    "type(X_samp)\n",
    "B = np.reshape(X_samp, (-1, 1))\n",
    "X1 = np.ndarray.transpose(B)\n",
    "X1.shape\n",
    "gnb.predict(X1)"
   ]
  },
  {
   "cell_type": "markdown",
   "metadata": {},
   "source": [
    "<b> Conclusion </b>: After all of our technical analysis and modeling, we are proposing that using a Naive Bayes classifier as a means of spam classification is a feasible task.  Furthermore, moving forward we recommend using our Naive Bayes spam classification system for your business as the metrics we established were met.  Spam classification is  a problem almost as old as the internet itself with the great majority of emails sent daily globally are spam and not ham.  We believe that due to its simplicity and ease of use and history with spam detection, this is the best choice for the issue at hand.  However, there are other more modern approaches to spam classification such as Deep learning, Neural networks, and Support vector machines to name a few, each have their own benefits and costs to consider as alternate approaches to Naive Bayes classification.   All things told, our model performs the task with minimal inputs and classifies emails as spam and not spam!"
   ]
  },
  {
   "cell_type": "code",
   "execution_count": null,
   "metadata": {},
   "outputs": [],
   "source": []
  }
 ],
 "metadata": {
  "kernelspec": {
   "display_name": "Python 3",
   "language": "python",
   "name": "python3"
  },
  "language_info": {
   "codemirror_mode": {
    "name": "ipython",
    "version": 3
   },
   "file_extension": ".py",
   "mimetype": "text/x-python",
   "name": "python",
   "nbconvert_exporter": "python",
   "pygments_lexer": "ipython3",
   "version": "3.7.2"
  }
 },
 "nbformat": 4,
 "nbformat_minor": 4
}
